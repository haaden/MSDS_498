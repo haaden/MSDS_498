{
  "nbformat": 4,
  "nbformat_minor": 0,
  "metadata": {
    "colab": {
      "provenance": [],
      "authorship_tag": "ABX9TyOGJdhXEyAtK7c8AwGIFQKd",
      "include_colab_link": true
    },
    "kernelspec": {
      "name": "python3",
      "display_name": "Python 3"
    },
    "language_info": {
      "name": "python"
    },
    "widgets": {
      "application/vnd.jupyter.widget-state+json": {
        "afbc31f8fbd148f9a8fc39b8f0bb1d14": {
          "model_module": "@jupyter-widgets/controls",
          "model_name": "HBoxModel",
          "model_module_version": "1.5.0",
          "state": {
            "_dom_classes": [],
            "_model_module": "@jupyter-widgets/controls",
            "_model_module_version": "1.5.0",
            "_model_name": "HBoxModel",
            "_view_count": null,
            "_view_module": "@jupyter-widgets/controls",
            "_view_module_version": "1.5.0",
            "_view_name": "HBoxView",
            "box_style": "",
            "children": [
              "IPY_MODEL_4974bb0363c94d3caae2dcb28e60d7cb",
              "IPY_MODEL_57ad892a2e2b4c0cb70e35312acbe3aa",
              "IPY_MODEL_43ff63727c1d4555912ba849010c3021"
            ],
            "layout": "IPY_MODEL_f5aba4d9a3784d4893a862af26a90574"
          }
        },
        "4974bb0363c94d3caae2dcb28e60d7cb": {
          "model_module": "@jupyter-widgets/controls",
          "model_name": "HTMLModel",
          "model_module_version": "1.5.0",
          "state": {
            "_dom_classes": [],
            "_model_module": "@jupyter-widgets/controls",
            "_model_module_version": "1.5.0",
            "_model_name": "HTMLModel",
            "_view_count": null,
            "_view_module": "@jupyter-widgets/controls",
            "_view_module_version": "1.5.0",
            "_view_name": "HTMLView",
            "description": "",
            "description_tooltip": null,
            "layout": "IPY_MODEL_2e528860986b404989a5aaf538a9ef89",
            "placeholder": "​",
            "style": "IPY_MODEL_1ade42b93db54f278259cd1d0efc96d4",
            "value": "Downloading (…)lve/main/config.json: 100%"
          }
        },
        "57ad892a2e2b4c0cb70e35312acbe3aa": {
          "model_module": "@jupyter-widgets/controls",
          "model_name": "FloatProgressModel",
          "model_module_version": "1.5.0",
          "state": {
            "_dom_classes": [],
            "_model_module": "@jupyter-widgets/controls",
            "_model_module_version": "1.5.0",
            "_model_name": "FloatProgressModel",
            "_view_count": null,
            "_view_module": "@jupyter-widgets/controls",
            "_view_module_version": "1.5.0",
            "_view_name": "ProgressView",
            "bar_style": "success",
            "description": "",
            "description_tooltip": null,
            "layout": "IPY_MODEL_4960e8f88c714ea5b6467bfa5e2d8744",
            "max": 781,
            "min": 0,
            "orientation": "horizontal",
            "style": "IPY_MODEL_6e89b12af48d447192b1b93c04274c1b",
            "value": 781
          }
        },
        "43ff63727c1d4555912ba849010c3021": {
          "model_module": "@jupyter-widgets/controls",
          "model_name": "HTMLModel",
          "model_module_version": "1.5.0",
          "state": {
            "_dom_classes": [],
            "_model_module": "@jupyter-widgets/controls",
            "_model_module_version": "1.5.0",
            "_model_name": "HTMLModel",
            "_view_count": null,
            "_view_module": "@jupyter-widgets/controls",
            "_view_module_version": "1.5.0",
            "_view_name": "HTMLView",
            "description": "",
            "description_tooltip": null,
            "layout": "IPY_MODEL_502df554db0f4f349cc5426ab27e285e",
            "placeholder": "​",
            "style": "IPY_MODEL_30d505b5f3e2476886336ab05416bb69",
            "value": " 781/781 [00:00&lt;00:00, 10.0kB/s]"
          }
        },
        "f5aba4d9a3784d4893a862af26a90574": {
          "model_module": "@jupyter-widgets/base",
          "model_name": "LayoutModel",
          "model_module_version": "1.2.0",
          "state": {
            "_model_module": "@jupyter-widgets/base",
            "_model_module_version": "1.2.0",
            "_model_name": "LayoutModel",
            "_view_count": null,
            "_view_module": "@jupyter-widgets/base",
            "_view_module_version": "1.2.0",
            "_view_name": "LayoutView",
            "align_content": null,
            "align_items": null,
            "align_self": null,
            "border": null,
            "bottom": null,
            "display": null,
            "flex": null,
            "flex_flow": null,
            "grid_area": null,
            "grid_auto_columns": null,
            "grid_auto_flow": null,
            "grid_auto_rows": null,
            "grid_column": null,
            "grid_gap": null,
            "grid_row": null,
            "grid_template_areas": null,
            "grid_template_columns": null,
            "grid_template_rows": null,
            "height": null,
            "justify_content": null,
            "justify_items": null,
            "left": null,
            "margin": null,
            "max_height": null,
            "max_width": null,
            "min_height": null,
            "min_width": null,
            "object_fit": null,
            "object_position": null,
            "order": null,
            "overflow": null,
            "overflow_x": null,
            "overflow_y": null,
            "padding": null,
            "right": null,
            "top": null,
            "visibility": null,
            "width": null
          }
        },
        "2e528860986b404989a5aaf538a9ef89": {
          "model_module": "@jupyter-widgets/base",
          "model_name": "LayoutModel",
          "model_module_version": "1.2.0",
          "state": {
            "_model_module": "@jupyter-widgets/base",
            "_model_module_version": "1.2.0",
            "_model_name": "LayoutModel",
            "_view_count": null,
            "_view_module": "@jupyter-widgets/base",
            "_view_module_version": "1.2.0",
            "_view_name": "LayoutView",
            "align_content": null,
            "align_items": null,
            "align_self": null,
            "border": null,
            "bottom": null,
            "display": null,
            "flex": null,
            "flex_flow": null,
            "grid_area": null,
            "grid_auto_columns": null,
            "grid_auto_flow": null,
            "grid_auto_rows": null,
            "grid_column": null,
            "grid_gap": null,
            "grid_row": null,
            "grid_template_areas": null,
            "grid_template_columns": null,
            "grid_template_rows": null,
            "height": null,
            "justify_content": null,
            "justify_items": null,
            "left": null,
            "margin": null,
            "max_height": null,
            "max_width": null,
            "min_height": null,
            "min_width": null,
            "object_fit": null,
            "object_position": null,
            "order": null,
            "overflow": null,
            "overflow_x": null,
            "overflow_y": null,
            "padding": null,
            "right": null,
            "top": null,
            "visibility": null,
            "width": null
          }
        },
        "1ade42b93db54f278259cd1d0efc96d4": {
          "model_module": "@jupyter-widgets/controls",
          "model_name": "DescriptionStyleModel",
          "model_module_version": "1.5.0",
          "state": {
            "_model_module": "@jupyter-widgets/controls",
            "_model_module_version": "1.5.0",
            "_model_name": "DescriptionStyleModel",
            "_view_count": null,
            "_view_module": "@jupyter-widgets/base",
            "_view_module_version": "1.2.0",
            "_view_name": "StyleView",
            "description_width": ""
          }
        },
        "4960e8f88c714ea5b6467bfa5e2d8744": {
          "model_module": "@jupyter-widgets/base",
          "model_name": "LayoutModel",
          "model_module_version": "1.2.0",
          "state": {
            "_model_module": "@jupyter-widgets/base",
            "_model_module_version": "1.2.0",
            "_model_name": "LayoutModel",
            "_view_count": null,
            "_view_module": "@jupyter-widgets/base",
            "_view_module_version": "1.2.0",
            "_view_name": "LayoutView",
            "align_content": null,
            "align_items": null,
            "align_self": null,
            "border": null,
            "bottom": null,
            "display": null,
            "flex": null,
            "flex_flow": null,
            "grid_area": null,
            "grid_auto_columns": null,
            "grid_auto_flow": null,
            "grid_auto_rows": null,
            "grid_column": null,
            "grid_gap": null,
            "grid_row": null,
            "grid_template_areas": null,
            "grid_template_columns": null,
            "grid_template_rows": null,
            "height": null,
            "justify_content": null,
            "justify_items": null,
            "left": null,
            "margin": null,
            "max_height": null,
            "max_width": null,
            "min_height": null,
            "min_width": null,
            "object_fit": null,
            "object_position": null,
            "order": null,
            "overflow": null,
            "overflow_x": null,
            "overflow_y": null,
            "padding": null,
            "right": null,
            "top": null,
            "visibility": null,
            "width": null
          }
        },
        "6e89b12af48d447192b1b93c04274c1b": {
          "model_module": "@jupyter-widgets/controls",
          "model_name": "ProgressStyleModel",
          "model_module_version": "1.5.0",
          "state": {
            "_model_module": "@jupyter-widgets/controls",
            "_model_module_version": "1.5.0",
            "_model_name": "ProgressStyleModel",
            "_view_count": null,
            "_view_module": "@jupyter-widgets/base",
            "_view_module_version": "1.2.0",
            "_view_name": "StyleView",
            "bar_color": null,
            "description_width": ""
          }
        },
        "502df554db0f4f349cc5426ab27e285e": {
          "model_module": "@jupyter-widgets/base",
          "model_name": "LayoutModel",
          "model_module_version": "1.2.0",
          "state": {
            "_model_module": "@jupyter-widgets/base",
            "_model_module_version": "1.2.0",
            "_model_name": "LayoutModel",
            "_view_count": null,
            "_view_module": "@jupyter-widgets/base",
            "_view_module_version": "1.2.0",
            "_view_name": "LayoutView",
            "align_content": null,
            "align_items": null,
            "align_self": null,
            "border": null,
            "bottom": null,
            "display": null,
            "flex": null,
            "flex_flow": null,
            "grid_area": null,
            "grid_auto_columns": null,
            "grid_auto_flow": null,
            "grid_auto_rows": null,
            "grid_column": null,
            "grid_gap": null,
            "grid_row": null,
            "grid_template_areas": null,
            "grid_template_columns": null,
            "grid_template_rows": null,
            "height": null,
            "justify_content": null,
            "justify_items": null,
            "left": null,
            "margin": null,
            "max_height": null,
            "max_width": null,
            "min_height": null,
            "min_width": null,
            "object_fit": null,
            "object_position": null,
            "order": null,
            "overflow": null,
            "overflow_x": null,
            "overflow_y": null,
            "padding": null,
            "right": null,
            "top": null,
            "visibility": null,
            "width": null
          }
        },
        "30d505b5f3e2476886336ab05416bb69": {
          "model_module": "@jupyter-widgets/controls",
          "model_name": "DescriptionStyleModel",
          "model_module_version": "1.5.0",
          "state": {
            "_model_module": "@jupyter-widgets/controls",
            "_model_module_version": "1.5.0",
            "_model_name": "DescriptionStyleModel",
            "_view_count": null,
            "_view_module": "@jupyter-widgets/base",
            "_view_module_version": "1.2.0",
            "_view_name": "StyleView",
            "description_width": ""
          }
        },
        "40745bf19d79430798c0efb9c648abea": {
          "model_module": "@jupyter-widgets/controls",
          "model_name": "HBoxModel",
          "model_module_version": "1.5.0",
          "state": {
            "_dom_classes": [],
            "_model_module": "@jupyter-widgets/controls",
            "_model_module_version": "1.5.0",
            "_model_name": "HBoxModel",
            "_view_count": null,
            "_view_module": "@jupyter-widgets/controls",
            "_view_module_version": "1.5.0",
            "_view_name": "HBoxView",
            "box_style": "",
            "children": [
              "IPY_MODEL_06ee7b44e511481c8eb8b1f88f8567f2",
              "IPY_MODEL_37a8f646b6814e03a2d706ae56fdc479",
              "IPY_MODEL_a2080aec46814c8aa545de9f89f4986b"
            ],
            "layout": "IPY_MODEL_8e067213d076419bbdbf21c794be3caa"
          }
        },
        "06ee7b44e511481c8eb8b1f88f8567f2": {
          "model_module": "@jupyter-widgets/controls",
          "model_name": "HTMLModel",
          "model_module_version": "1.5.0",
          "state": {
            "_dom_classes": [],
            "_model_module": "@jupyter-widgets/controls",
            "_model_module_version": "1.5.0",
            "_model_name": "HTMLModel",
            "_view_count": null,
            "_view_module": "@jupyter-widgets/controls",
            "_view_module_version": "1.5.0",
            "_view_name": "HTMLView",
            "description": "",
            "description_tooltip": null,
            "layout": "IPY_MODEL_f9575834003b4361bd4c30ba135cef35",
            "placeholder": "​",
            "style": "IPY_MODEL_c34e5a85646b4564810afd55a406a988",
            "value": "Downloading pytorch_model.bin: 100%"
          }
        },
        "37a8f646b6814e03a2d706ae56fdc479": {
          "model_module": "@jupyter-widgets/controls",
          "model_name": "FloatProgressModel",
          "model_module_version": "1.5.0",
          "state": {
            "_dom_classes": [],
            "_model_module": "@jupyter-widgets/controls",
            "_model_module_version": "1.5.0",
            "_model_name": "FloatProgressModel",
            "_view_count": null,
            "_view_module": "@jupyter-widgets/controls",
            "_view_module_version": "1.5.0",
            "_view_name": "ProgressView",
            "bar_style": "success",
            "description": "",
            "description_tooltip": null,
            "layout": "IPY_MODEL_390ac0e2c7a047c38d3b93c3a6c7c871",
            "max": 439107090,
            "min": 0,
            "orientation": "horizontal",
            "style": "IPY_MODEL_81ad763e43b84c558b2479fc20058ac6",
            "value": 439107090
          }
        },
        "a2080aec46814c8aa545de9f89f4986b": {
          "model_module": "@jupyter-widgets/controls",
          "model_name": "HTMLModel",
          "model_module_version": "1.5.0",
          "state": {
            "_dom_classes": [],
            "_model_module": "@jupyter-widgets/controls",
            "_model_module_version": "1.5.0",
            "_model_name": "HTMLModel",
            "_view_count": null,
            "_view_module": "@jupyter-widgets/controls",
            "_view_module_version": "1.5.0",
            "_view_name": "HTMLView",
            "description": "",
            "description_tooltip": null,
            "layout": "IPY_MODEL_affbc5691d074a788e1553fc6484ef06",
            "placeholder": "​",
            "style": "IPY_MODEL_48e60191b8574ba6bf57262fe87b3317",
            "value": " 439M/439M [00:06&lt;00:00, 61.7MB/s]"
          }
        },
        "8e067213d076419bbdbf21c794be3caa": {
          "model_module": "@jupyter-widgets/base",
          "model_name": "LayoutModel",
          "model_module_version": "1.2.0",
          "state": {
            "_model_module": "@jupyter-widgets/base",
            "_model_module_version": "1.2.0",
            "_model_name": "LayoutModel",
            "_view_count": null,
            "_view_module": "@jupyter-widgets/base",
            "_view_module_version": "1.2.0",
            "_view_name": "LayoutView",
            "align_content": null,
            "align_items": null,
            "align_self": null,
            "border": null,
            "bottom": null,
            "display": null,
            "flex": null,
            "flex_flow": null,
            "grid_area": null,
            "grid_auto_columns": null,
            "grid_auto_flow": null,
            "grid_auto_rows": null,
            "grid_column": null,
            "grid_gap": null,
            "grid_row": null,
            "grid_template_areas": null,
            "grid_template_columns": null,
            "grid_template_rows": null,
            "height": null,
            "justify_content": null,
            "justify_items": null,
            "left": null,
            "margin": null,
            "max_height": null,
            "max_width": null,
            "min_height": null,
            "min_width": null,
            "object_fit": null,
            "object_position": null,
            "order": null,
            "overflow": null,
            "overflow_x": null,
            "overflow_y": null,
            "padding": null,
            "right": null,
            "top": null,
            "visibility": null,
            "width": null
          }
        },
        "f9575834003b4361bd4c30ba135cef35": {
          "model_module": "@jupyter-widgets/base",
          "model_name": "LayoutModel",
          "model_module_version": "1.2.0",
          "state": {
            "_model_module": "@jupyter-widgets/base",
            "_model_module_version": "1.2.0",
            "_model_name": "LayoutModel",
            "_view_count": null,
            "_view_module": "@jupyter-widgets/base",
            "_view_module_version": "1.2.0",
            "_view_name": "LayoutView",
            "align_content": null,
            "align_items": null,
            "align_self": null,
            "border": null,
            "bottom": null,
            "display": null,
            "flex": null,
            "flex_flow": null,
            "grid_area": null,
            "grid_auto_columns": null,
            "grid_auto_flow": null,
            "grid_auto_rows": null,
            "grid_column": null,
            "grid_gap": null,
            "grid_row": null,
            "grid_template_areas": null,
            "grid_template_columns": null,
            "grid_template_rows": null,
            "height": null,
            "justify_content": null,
            "justify_items": null,
            "left": null,
            "margin": null,
            "max_height": null,
            "max_width": null,
            "min_height": null,
            "min_width": null,
            "object_fit": null,
            "object_position": null,
            "order": null,
            "overflow": null,
            "overflow_x": null,
            "overflow_y": null,
            "padding": null,
            "right": null,
            "top": null,
            "visibility": null,
            "width": null
          }
        },
        "c34e5a85646b4564810afd55a406a988": {
          "model_module": "@jupyter-widgets/controls",
          "model_name": "DescriptionStyleModel",
          "model_module_version": "1.5.0",
          "state": {
            "_model_module": "@jupyter-widgets/controls",
            "_model_module_version": "1.5.0",
            "_model_name": "DescriptionStyleModel",
            "_view_count": null,
            "_view_module": "@jupyter-widgets/base",
            "_view_module_version": "1.2.0",
            "_view_name": "StyleView",
            "description_width": ""
          }
        },
        "390ac0e2c7a047c38d3b93c3a6c7c871": {
          "model_module": "@jupyter-widgets/base",
          "model_name": "LayoutModel",
          "model_module_version": "1.2.0",
          "state": {
            "_model_module": "@jupyter-widgets/base",
            "_model_module_version": "1.2.0",
            "_model_name": "LayoutModel",
            "_view_count": null,
            "_view_module": "@jupyter-widgets/base",
            "_view_module_version": "1.2.0",
            "_view_name": "LayoutView",
            "align_content": null,
            "align_items": null,
            "align_self": null,
            "border": null,
            "bottom": null,
            "display": null,
            "flex": null,
            "flex_flow": null,
            "grid_area": null,
            "grid_auto_columns": null,
            "grid_auto_flow": null,
            "grid_auto_rows": null,
            "grid_column": null,
            "grid_gap": null,
            "grid_row": null,
            "grid_template_areas": null,
            "grid_template_columns": null,
            "grid_template_rows": null,
            "height": null,
            "justify_content": null,
            "justify_items": null,
            "left": null,
            "margin": null,
            "max_height": null,
            "max_width": null,
            "min_height": null,
            "min_width": null,
            "object_fit": null,
            "object_position": null,
            "order": null,
            "overflow": null,
            "overflow_x": null,
            "overflow_y": null,
            "padding": null,
            "right": null,
            "top": null,
            "visibility": null,
            "width": null
          }
        },
        "81ad763e43b84c558b2479fc20058ac6": {
          "model_module": "@jupyter-widgets/controls",
          "model_name": "ProgressStyleModel",
          "model_module_version": "1.5.0",
          "state": {
            "_model_module": "@jupyter-widgets/controls",
            "_model_module_version": "1.5.0",
            "_model_name": "ProgressStyleModel",
            "_view_count": null,
            "_view_module": "@jupyter-widgets/base",
            "_view_module_version": "1.2.0",
            "_view_name": "StyleView",
            "bar_color": null,
            "description_width": ""
          }
        },
        "affbc5691d074a788e1553fc6484ef06": {
          "model_module": "@jupyter-widgets/base",
          "model_name": "LayoutModel",
          "model_module_version": "1.2.0",
          "state": {
            "_model_module": "@jupyter-widgets/base",
            "_model_module_version": "1.2.0",
            "_model_name": "LayoutModel",
            "_view_count": null,
            "_view_module": "@jupyter-widgets/base",
            "_view_module_version": "1.2.0",
            "_view_name": "LayoutView",
            "align_content": null,
            "align_items": null,
            "align_self": null,
            "border": null,
            "bottom": null,
            "display": null,
            "flex": null,
            "flex_flow": null,
            "grid_area": null,
            "grid_auto_columns": null,
            "grid_auto_flow": null,
            "grid_auto_rows": null,
            "grid_column": null,
            "grid_gap": null,
            "grid_row": null,
            "grid_template_areas": null,
            "grid_template_columns": null,
            "grid_template_rows": null,
            "height": null,
            "justify_content": null,
            "justify_items": null,
            "left": null,
            "margin": null,
            "max_height": null,
            "max_width": null,
            "min_height": null,
            "min_width": null,
            "object_fit": null,
            "object_position": null,
            "order": null,
            "overflow": null,
            "overflow_x": null,
            "overflow_y": null,
            "padding": null,
            "right": null,
            "top": null,
            "visibility": null,
            "width": null
          }
        },
        "48e60191b8574ba6bf57262fe87b3317": {
          "model_module": "@jupyter-widgets/controls",
          "model_name": "DescriptionStyleModel",
          "model_module_version": "1.5.0",
          "state": {
            "_model_module": "@jupyter-widgets/controls",
            "_model_module_version": "1.5.0",
            "_model_name": "DescriptionStyleModel",
            "_view_count": null,
            "_view_module": "@jupyter-widgets/base",
            "_view_module_version": "1.2.0",
            "_view_name": "StyleView",
            "description_width": ""
          }
        },
        "a3a88a82f2ab4665b428948b75b6ad15": {
          "model_module": "@jupyter-widgets/controls",
          "model_name": "HBoxModel",
          "model_module_version": "1.5.0",
          "state": {
            "_dom_classes": [],
            "_model_module": "@jupyter-widgets/controls",
            "_model_module_version": "1.5.0",
            "_model_name": "HBoxModel",
            "_view_count": null,
            "_view_module": "@jupyter-widgets/controls",
            "_view_module_version": "1.5.0",
            "_view_name": "HBoxView",
            "box_style": "",
            "children": [
              "IPY_MODEL_07790645846a4e118a494277f9bca2e2",
              "IPY_MODEL_107aa0485b814b329b6717da98f80fd0",
              "IPY_MODEL_825912f675b0460983153c5a186beebc"
            ],
            "layout": "IPY_MODEL_f7859631cdad4c7091f9207771dfc3d7"
          }
        },
        "07790645846a4e118a494277f9bca2e2": {
          "model_module": "@jupyter-widgets/controls",
          "model_name": "HTMLModel",
          "model_module_version": "1.5.0",
          "state": {
            "_dom_classes": [],
            "_model_module": "@jupyter-widgets/controls",
            "_model_module_version": "1.5.0",
            "_model_name": "HTMLModel",
            "_view_count": null,
            "_view_module": "@jupyter-widgets/controls",
            "_view_module_version": "1.5.0",
            "_view_name": "HTMLView",
            "description": "",
            "description_tooltip": null,
            "layout": "IPY_MODEL_d26727d1f98d4f8db5790ddfb3951a05",
            "placeholder": "​",
            "style": "IPY_MODEL_62eb38fd419c49fe8106a28b191541b4",
            "value": "Downloading (…)solve/main/vocab.txt: 100%"
          }
        },
        "107aa0485b814b329b6717da98f80fd0": {
          "model_module": "@jupyter-widgets/controls",
          "model_name": "FloatProgressModel",
          "model_module_version": "1.5.0",
          "state": {
            "_dom_classes": [],
            "_model_module": "@jupyter-widgets/controls",
            "_model_module_version": "1.5.0",
            "_model_name": "FloatProgressModel",
            "_view_count": null,
            "_view_module": "@jupyter-widgets/controls",
            "_view_module_version": "1.5.0",
            "_view_name": "ProgressView",
            "bar_style": "success",
            "description": "",
            "description_tooltip": null,
            "layout": "IPY_MODEL_7f7fa313dcd846698c0c57b8f3fc698f",
            "max": 226122,
            "min": 0,
            "orientation": "horizontal",
            "style": "IPY_MODEL_8e4c865fdf564dfd8719777a83d8e36b",
            "value": 226122
          }
        },
        "825912f675b0460983153c5a186beebc": {
          "model_module": "@jupyter-widgets/controls",
          "model_name": "HTMLModel",
          "model_module_version": "1.5.0",
          "state": {
            "_dom_classes": [],
            "_model_module": "@jupyter-widgets/controls",
            "_model_module_version": "1.5.0",
            "_model_name": "HTMLModel",
            "_view_count": null,
            "_view_module": "@jupyter-widgets/controls",
            "_view_module_version": "1.5.0",
            "_view_name": "HTMLView",
            "description": "",
            "description_tooltip": null,
            "layout": "IPY_MODEL_e029545b172c453b8b3353d4334cf410",
            "placeholder": "​",
            "style": "IPY_MODEL_b5e49f0c84034b7f92a95a544cbc6547",
            "value": " 226k/226k [00:00&lt;00:00, 3.13MB/s]"
          }
        },
        "f7859631cdad4c7091f9207771dfc3d7": {
          "model_module": "@jupyter-widgets/base",
          "model_name": "LayoutModel",
          "model_module_version": "1.2.0",
          "state": {
            "_model_module": "@jupyter-widgets/base",
            "_model_module_version": "1.2.0",
            "_model_name": "LayoutModel",
            "_view_count": null,
            "_view_module": "@jupyter-widgets/base",
            "_view_module_version": "1.2.0",
            "_view_name": "LayoutView",
            "align_content": null,
            "align_items": null,
            "align_self": null,
            "border": null,
            "bottom": null,
            "display": null,
            "flex": null,
            "flex_flow": null,
            "grid_area": null,
            "grid_auto_columns": null,
            "grid_auto_flow": null,
            "grid_auto_rows": null,
            "grid_column": null,
            "grid_gap": null,
            "grid_row": null,
            "grid_template_areas": null,
            "grid_template_columns": null,
            "grid_template_rows": null,
            "height": null,
            "justify_content": null,
            "justify_items": null,
            "left": null,
            "margin": null,
            "max_height": null,
            "max_width": null,
            "min_height": null,
            "min_width": null,
            "object_fit": null,
            "object_position": null,
            "order": null,
            "overflow": null,
            "overflow_x": null,
            "overflow_y": null,
            "padding": null,
            "right": null,
            "top": null,
            "visibility": null,
            "width": null
          }
        },
        "d26727d1f98d4f8db5790ddfb3951a05": {
          "model_module": "@jupyter-widgets/base",
          "model_name": "LayoutModel",
          "model_module_version": "1.2.0",
          "state": {
            "_model_module": "@jupyter-widgets/base",
            "_model_module_version": "1.2.0",
            "_model_name": "LayoutModel",
            "_view_count": null,
            "_view_module": "@jupyter-widgets/base",
            "_view_module_version": "1.2.0",
            "_view_name": "LayoutView",
            "align_content": null,
            "align_items": null,
            "align_self": null,
            "border": null,
            "bottom": null,
            "display": null,
            "flex": null,
            "flex_flow": null,
            "grid_area": null,
            "grid_auto_columns": null,
            "grid_auto_flow": null,
            "grid_auto_rows": null,
            "grid_column": null,
            "grid_gap": null,
            "grid_row": null,
            "grid_template_areas": null,
            "grid_template_columns": null,
            "grid_template_rows": null,
            "height": null,
            "justify_content": null,
            "justify_items": null,
            "left": null,
            "margin": null,
            "max_height": null,
            "max_width": null,
            "min_height": null,
            "min_width": null,
            "object_fit": null,
            "object_position": null,
            "order": null,
            "overflow": null,
            "overflow_x": null,
            "overflow_y": null,
            "padding": null,
            "right": null,
            "top": null,
            "visibility": null,
            "width": null
          }
        },
        "62eb38fd419c49fe8106a28b191541b4": {
          "model_module": "@jupyter-widgets/controls",
          "model_name": "DescriptionStyleModel",
          "model_module_version": "1.5.0",
          "state": {
            "_model_module": "@jupyter-widgets/controls",
            "_model_module_version": "1.5.0",
            "_model_name": "DescriptionStyleModel",
            "_view_count": null,
            "_view_module": "@jupyter-widgets/base",
            "_view_module_version": "1.2.0",
            "_view_name": "StyleView",
            "description_width": ""
          }
        },
        "7f7fa313dcd846698c0c57b8f3fc698f": {
          "model_module": "@jupyter-widgets/base",
          "model_name": "LayoutModel",
          "model_module_version": "1.2.0",
          "state": {
            "_model_module": "@jupyter-widgets/base",
            "_model_module_version": "1.2.0",
            "_model_name": "LayoutModel",
            "_view_count": null,
            "_view_module": "@jupyter-widgets/base",
            "_view_module_version": "1.2.0",
            "_view_name": "LayoutView",
            "align_content": null,
            "align_items": null,
            "align_self": null,
            "border": null,
            "bottom": null,
            "display": null,
            "flex": null,
            "flex_flow": null,
            "grid_area": null,
            "grid_auto_columns": null,
            "grid_auto_flow": null,
            "grid_auto_rows": null,
            "grid_column": null,
            "grid_gap": null,
            "grid_row": null,
            "grid_template_areas": null,
            "grid_template_columns": null,
            "grid_template_rows": null,
            "height": null,
            "justify_content": null,
            "justify_items": null,
            "left": null,
            "margin": null,
            "max_height": null,
            "max_width": null,
            "min_height": null,
            "min_width": null,
            "object_fit": null,
            "object_position": null,
            "order": null,
            "overflow": null,
            "overflow_x": null,
            "overflow_y": null,
            "padding": null,
            "right": null,
            "top": null,
            "visibility": null,
            "width": null
          }
        },
        "8e4c865fdf564dfd8719777a83d8e36b": {
          "model_module": "@jupyter-widgets/controls",
          "model_name": "ProgressStyleModel",
          "model_module_version": "1.5.0",
          "state": {
            "_model_module": "@jupyter-widgets/controls",
            "_model_module_version": "1.5.0",
            "_model_name": "ProgressStyleModel",
            "_view_count": null,
            "_view_module": "@jupyter-widgets/base",
            "_view_module_version": "1.2.0",
            "_view_name": "StyleView",
            "bar_color": null,
            "description_width": ""
          }
        },
        "e029545b172c453b8b3353d4334cf410": {
          "model_module": "@jupyter-widgets/base",
          "model_name": "LayoutModel",
          "model_module_version": "1.2.0",
          "state": {
            "_model_module": "@jupyter-widgets/base",
            "_model_module_version": "1.2.0",
            "_model_name": "LayoutModel",
            "_view_count": null,
            "_view_module": "@jupyter-widgets/base",
            "_view_module_version": "1.2.0",
            "_view_name": "LayoutView",
            "align_content": null,
            "align_items": null,
            "align_self": null,
            "border": null,
            "bottom": null,
            "display": null,
            "flex": null,
            "flex_flow": null,
            "grid_area": null,
            "grid_auto_columns": null,
            "grid_auto_flow": null,
            "grid_auto_rows": null,
            "grid_column": null,
            "grid_gap": null,
            "grid_row": null,
            "grid_template_areas": null,
            "grid_template_columns": null,
            "grid_template_rows": null,
            "height": null,
            "justify_content": null,
            "justify_items": null,
            "left": null,
            "margin": null,
            "max_height": null,
            "max_width": null,
            "min_height": null,
            "min_width": null,
            "object_fit": null,
            "object_position": null,
            "order": null,
            "overflow": null,
            "overflow_x": null,
            "overflow_y": null,
            "padding": null,
            "right": null,
            "top": null,
            "visibility": null,
            "width": null
          }
        },
        "b5e49f0c84034b7f92a95a544cbc6547": {
          "model_module": "@jupyter-widgets/controls",
          "model_name": "DescriptionStyleModel",
          "model_module_version": "1.5.0",
          "state": {
            "_model_module": "@jupyter-widgets/controls",
            "_model_module_version": "1.5.0",
            "_model_name": "DescriptionStyleModel",
            "_view_count": null,
            "_view_module": "@jupyter-widgets/base",
            "_view_module_version": "1.2.0",
            "_view_name": "StyleView",
            "description_width": ""
          }
        },
        "5c2226faaffa42fe9ea3694bfc8bdd3b": {
          "model_module": "@jupyter-widgets/controls",
          "model_name": "HBoxModel",
          "model_module_version": "1.5.0",
          "state": {
            "_dom_classes": [],
            "_model_module": "@jupyter-widgets/controls",
            "_model_module_version": "1.5.0",
            "_model_name": "HBoxModel",
            "_view_count": null,
            "_view_module": "@jupyter-widgets/controls",
            "_view_module_version": "1.5.0",
            "_view_name": "HBoxView",
            "box_style": "",
            "children": [
              "IPY_MODEL_94e6ca9f50a34ebebdf7e41e6ff8ac0e",
              "IPY_MODEL_c149fda09a754ffa9a9b63f5e4fda444",
              "IPY_MODEL_36af841ed2e84d5c88095352cfc88994"
            ],
            "layout": "IPY_MODEL_281d3079202a4d1ebb6363399cf890bd"
          }
        },
        "94e6ca9f50a34ebebdf7e41e6ff8ac0e": {
          "model_module": "@jupyter-widgets/controls",
          "model_name": "HTMLModel",
          "model_module_version": "1.5.0",
          "state": {
            "_dom_classes": [],
            "_model_module": "@jupyter-widgets/controls",
            "_model_module_version": "1.5.0",
            "_model_name": "HTMLModel",
            "_view_count": null,
            "_view_module": "@jupyter-widgets/controls",
            "_view_module_version": "1.5.0",
            "_view_name": "HTMLView",
            "description": "",
            "description_tooltip": null,
            "layout": "IPY_MODEL_43e3427e5adb4ce4abe614a5d9f85d39",
            "placeholder": "​",
            "style": "IPY_MODEL_68746a747a71486d822ec422cd96edc2",
            "value": "Pandas Apply: 100%"
          }
        },
        "c149fda09a754ffa9a9b63f5e4fda444": {
          "model_module": "@jupyter-widgets/controls",
          "model_name": "FloatProgressModel",
          "model_module_version": "1.5.0",
          "state": {
            "_dom_classes": [],
            "_model_module": "@jupyter-widgets/controls",
            "_model_module_version": "1.5.0",
            "_model_name": "FloatProgressModel",
            "_view_count": null,
            "_view_module": "@jupyter-widgets/controls",
            "_view_module_version": "1.5.0",
            "_view_name": "ProgressView",
            "bar_style": "success",
            "description": "",
            "description_tooltip": null,
            "layout": "IPY_MODEL_4549bd2553e745d587c0c39fab520d1d",
            "max": 17000,
            "min": 0,
            "orientation": "horizontal",
            "style": "IPY_MODEL_95cef9be52de4c46826fc5bbae93a17b",
            "value": 17000
          }
        },
        "36af841ed2e84d5c88095352cfc88994": {
          "model_module": "@jupyter-widgets/controls",
          "model_name": "HTMLModel",
          "model_module_version": "1.5.0",
          "state": {
            "_dom_classes": [],
            "_model_module": "@jupyter-widgets/controls",
            "_model_module_version": "1.5.0",
            "_model_name": "HTMLModel",
            "_view_count": null,
            "_view_module": "@jupyter-widgets/controls",
            "_view_module_version": "1.5.0",
            "_view_name": "HTMLView",
            "description": "",
            "description_tooltip": null,
            "layout": "IPY_MODEL_d83fd52e2b3f41b0a52607696eaf772e",
            "placeholder": "​",
            "style": "IPY_MODEL_a6c80591e73e40c28a54b7bf014a3b10",
            "value": " 17000/17000 [38:00&lt;00:00, 10.44it/s]"
          }
        },
        "281d3079202a4d1ebb6363399cf890bd": {
          "model_module": "@jupyter-widgets/base",
          "model_name": "LayoutModel",
          "model_module_version": "1.2.0",
          "state": {
            "_model_module": "@jupyter-widgets/base",
            "_model_module_version": "1.2.0",
            "_model_name": "LayoutModel",
            "_view_count": null,
            "_view_module": "@jupyter-widgets/base",
            "_view_module_version": "1.2.0",
            "_view_name": "LayoutView",
            "align_content": null,
            "align_items": null,
            "align_self": null,
            "border": null,
            "bottom": null,
            "display": null,
            "flex": null,
            "flex_flow": null,
            "grid_area": null,
            "grid_auto_columns": null,
            "grid_auto_flow": null,
            "grid_auto_rows": null,
            "grid_column": null,
            "grid_gap": null,
            "grid_row": null,
            "grid_template_areas": null,
            "grid_template_columns": null,
            "grid_template_rows": null,
            "height": null,
            "justify_content": null,
            "justify_items": null,
            "left": null,
            "margin": null,
            "max_height": null,
            "max_width": null,
            "min_height": null,
            "min_width": null,
            "object_fit": null,
            "object_position": null,
            "order": null,
            "overflow": null,
            "overflow_x": null,
            "overflow_y": null,
            "padding": null,
            "right": null,
            "top": null,
            "visibility": null,
            "width": null
          }
        },
        "43e3427e5adb4ce4abe614a5d9f85d39": {
          "model_module": "@jupyter-widgets/base",
          "model_name": "LayoutModel",
          "model_module_version": "1.2.0",
          "state": {
            "_model_module": "@jupyter-widgets/base",
            "_model_module_version": "1.2.0",
            "_model_name": "LayoutModel",
            "_view_count": null,
            "_view_module": "@jupyter-widgets/base",
            "_view_module_version": "1.2.0",
            "_view_name": "LayoutView",
            "align_content": null,
            "align_items": null,
            "align_self": null,
            "border": null,
            "bottom": null,
            "display": null,
            "flex": null,
            "flex_flow": null,
            "grid_area": null,
            "grid_auto_columns": null,
            "grid_auto_flow": null,
            "grid_auto_rows": null,
            "grid_column": null,
            "grid_gap": null,
            "grid_row": null,
            "grid_template_areas": null,
            "grid_template_columns": null,
            "grid_template_rows": null,
            "height": null,
            "justify_content": null,
            "justify_items": null,
            "left": null,
            "margin": null,
            "max_height": null,
            "max_width": null,
            "min_height": null,
            "min_width": null,
            "object_fit": null,
            "object_position": null,
            "order": null,
            "overflow": null,
            "overflow_x": null,
            "overflow_y": null,
            "padding": null,
            "right": null,
            "top": null,
            "visibility": null,
            "width": null
          }
        },
        "68746a747a71486d822ec422cd96edc2": {
          "model_module": "@jupyter-widgets/controls",
          "model_name": "DescriptionStyleModel",
          "model_module_version": "1.5.0",
          "state": {
            "_model_module": "@jupyter-widgets/controls",
            "_model_module_version": "1.5.0",
            "_model_name": "DescriptionStyleModel",
            "_view_count": null,
            "_view_module": "@jupyter-widgets/base",
            "_view_module_version": "1.2.0",
            "_view_name": "StyleView",
            "description_width": ""
          }
        },
        "4549bd2553e745d587c0c39fab520d1d": {
          "model_module": "@jupyter-widgets/base",
          "model_name": "LayoutModel",
          "model_module_version": "1.2.0",
          "state": {
            "_model_module": "@jupyter-widgets/base",
            "_model_module_version": "1.2.0",
            "_model_name": "LayoutModel",
            "_view_count": null,
            "_view_module": "@jupyter-widgets/base",
            "_view_module_version": "1.2.0",
            "_view_name": "LayoutView",
            "align_content": null,
            "align_items": null,
            "align_self": null,
            "border": null,
            "bottom": null,
            "display": null,
            "flex": null,
            "flex_flow": null,
            "grid_area": null,
            "grid_auto_columns": null,
            "grid_auto_flow": null,
            "grid_auto_rows": null,
            "grid_column": null,
            "grid_gap": null,
            "grid_row": null,
            "grid_template_areas": null,
            "grid_template_columns": null,
            "grid_template_rows": null,
            "height": null,
            "justify_content": null,
            "justify_items": null,
            "left": null,
            "margin": null,
            "max_height": null,
            "max_width": null,
            "min_height": null,
            "min_width": null,
            "object_fit": null,
            "object_position": null,
            "order": null,
            "overflow": null,
            "overflow_x": null,
            "overflow_y": null,
            "padding": null,
            "right": null,
            "top": null,
            "visibility": null,
            "width": null
          }
        },
        "95cef9be52de4c46826fc5bbae93a17b": {
          "model_module": "@jupyter-widgets/controls",
          "model_name": "ProgressStyleModel",
          "model_module_version": "1.5.0",
          "state": {
            "_model_module": "@jupyter-widgets/controls",
            "_model_module_version": "1.5.0",
            "_model_name": "ProgressStyleModel",
            "_view_count": null,
            "_view_module": "@jupyter-widgets/base",
            "_view_module_version": "1.2.0",
            "_view_name": "StyleView",
            "bar_color": null,
            "description_width": ""
          }
        },
        "d83fd52e2b3f41b0a52607696eaf772e": {
          "model_module": "@jupyter-widgets/base",
          "model_name": "LayoutModel",
          "model_module_version": "1.2.0",
          "state": {
            "_model_module": "@jupyter-widgets/base",
            "_model_module_version": "1.2.0",
            "_model_name": "LayoutModel",
            "_view_count": null,
            "_view_module": "@jupyter-widgets/base",
            "_view_module_version": "1.2.0",
            "_view_name": "LayoutView",
            "align_content": null,
            "align_items": null,
            "align_self": null,
            "border": null,
            "bottom": null,
            "display": null,
            "flex": null,
            "flex_flow": null,
            "grid_area": null,
            "grid_auto_columns": null,
            "grid_auto_flow": null,
            "grid_auto_rows": null,
            "grid_column": null,
            "grid_gap": null,
            "grid_row": null,
            "grid_template_areas": null,
            "grid_template_columns": null,
            "grid_template_rows": null,
            "height": null,
            "justify_content": null,
            "justify_items": null,
            "left": null,
            "margin": null,
            "max_height": null,
            "max_width": null,
            "min_height": null,
            "min_width": null,
            "object_fit": null,
            "object_position": null,
            "order": null,
            "overflow": null,
            "overflow_x": null,
            "overflow_y": null,
            "padding": null,
            "right": null,
            "top": null,
            "visibility": null,
            "width": null
          }
        },
        "a6c80591e73e40c28a54b7bf014a3b10": {
          "model_module": "@jupyter-widgets/controls",
          "model_name": "DescriptionStyleModel",
          "model_module_version": "1.5.0",
          "state": {
            "_model_module": "@jupyter-widgets/controls",
            "_model_module_version": "1.5.0",
            "_model_name": "DescriptionStyleModel",
            "_view_count": null,
            "_view_module": "@jupyter-widgets/base",
            "_view_module_version": "1.2.0",
            "_view_name": "StyleView",
            "description_width": ""
          }
        },
        "1db535d2e9bd486e8e59f700a49eef54": {
          "model_module": "@jupyter-widgets/controls",
          "model_name": "HBoxModel",
          "model_module_version": "1.5.0",
          "state": {
            "_dom_classes": [],
            "_model_module": "@jupyter-widgets/controls",
            "_model_module_version": "1.5.0",
            "_model_name": "HBoxModel",
            "_view_count": null,
            "_view_module": "@jupyter-widgets/controls",
            "_view_module_version": "1.5.0",
            "_view_name": "HBoxView",
            "box_style": "",
            "children": [
              "IPY_MODEL_135c28e710214bf18972880d3bce78ef",
              "IPY_MODEL_9063c7a2e90849ae8c30f4ae33999b8d",
              "IPY_MODEL_608affbd79454bef82325c7914088fed"
            ],
            "layout": "IPY_MODEL_4b9f2fb1558446eb8223e1e922942106"
          }
        },
        "135c28e710214bf18972880d3bce78ef": {
          "model_module": "@jupyter-widgets/controls",
          "model_name": "HTMLModel",
          "model_module_version": "1.5.0",
          "state": {
            "_dom_classes": [],
            "_model_module": "@jupyter-widgets/controls",
            "_model_module_version": "1.5.0",
            "_model_name": "HTMLModel",
            "_view_count": null,
            "_view_module": "@jupyter-widgets/controls",
            "_view_module_version": "1.5.0",
            "_view_name": "HTMLView",
            "description": "",
            "description_tooltip": null,
            "layout": "IPY_MODEL_bba76fc67a914c59b2a6440cd43f312a",
            "placeholder": "​",
            "style": "IPY_MODEL_d78d09b576994c95b66273efedbabbbe",
            "value": "Pandas Apply: 100%"
          }
        },
        "9063c7a2e90849ae8c30f4ae33999b8d": {
          "model_module": "@jupyter-widgets/controls",
          "model_name": "FloatProgressModel",
          "model_module_version": "1.5.0",
          "state": {
            "_dom_classes": [],
            "_model_module": "@jupyter-widgets/controls",
            "_model_module_version": "1.5.0",
            "_model_name": "FloatProgressModel",
            "_view_count": null,
            "_view_module": "@jupyter-widgets/controls",
            "_view_module_version": "1.5.0",
            "_view_name": "ProgressView",
            "bar_style": "success",
            "description": "",
            "description_tooltip": null,
            "layout": "IPY_MODEL_f8e063ac43a14f35b9036f07120f5011",
            "max": 17000,
            "min": 0,
            "orientation": "horizontal",
            "style": "IPY_MODEL_e0e79240b3b34baebf5aa3174f84568b",
            "value": 17000
          }
        },
        "608affbd79454bef82325c7914088fed": {
          "model_module": "@jupyter-widgets/controls",
          "model_name": "HTMLModel",
          "model_module_version": "1.5.0",
          "state": {
            "_dom_classes": [],
            "_model_module": "@jupyter-widgets/controls",
            "_model_module_version": "1.5.0",
            "_model_name": "HTMLModel",
            "_view_count": null,
            "_view_module": "@jupyter-widgets/controls",
            "_view_module_version": "1.5.0",
            "_view_name": "HTMLView",
            "description": "",
            "description_tooltip": null,
            "layout": "IPY_MODEL_4bde22eb7b1a445ab395af84170f96ce",
            "placeholder": "​",
            "style": "IPY_MODEL_b34511bf172045a98c2c818494654477",
            "value": " 17000/17000 [26:42&lt;00:00, 13.09it/s]"
          }
        },
        "4b9f2fb1558446eb8223e1e922942106": {
          "model_module": "@jupyter-widgets/base",
          "model_name": "LayoutModel",
          "model_module_version": "1.2.0",
          "state": {
            "_model_module": "@jupyter-widgets/base",
            "_model_module_version": "1.2.0",
            "_model_name": "LayoutModel",
            "_view_count": null,
            "_view_module": "@jupyter-widgets/base",
            "_view_module_version": "1.2.0",
            "_view_name": "LayoutView",
            "align_content": null,
            "align_items": null,
            "align_self": null,
            "border": null,
            "bottom": null,
            "display": null,
            "flex": null,
            "flex_flow": null,
            "grid_area": null,
            "grid_auto_columns": null,
            "grid_auto_flow": null,
            "grid_auto_rows": null,
            "grid_column": null,
            "grid_gap": null,
            "grid_row": null,
            "grid_template_areas": null,
            "grid_template_columns": null,
            "grid_template_rows": null,
            "height": null,
            "justify_content": null,
            "justify_items": null,
            "left": null,
            "margin": null,
            "max_height": null,
            "max_width": null,
            "min_height": null,
            "min_width": null,
            "object_fit": null,
            "object_position": null,
            "order": null,
            "overflow": null,
            "overflow_x": null,
            "overflow_y": null,
            "padding": null,
            "right": null,
            "top": null,
            "visibility": null,
            "width": null
          }
        },
        "bba76fc67a914c59b2a6440cd43f312a": {
          "model_module": "@jupyter-widgets/base",
          "model_name": "LayoutModel",
          "model_module_version": "1.2.0",
          "state": {
            "_model_module": "@jupyter-widgets/base",
            "_model_module_version": "1.2.0",
            "_model_name": "LayoutModel",
            "_view_count": null,
            "_view_module": "@jupyter-widgets/base",
            "_view_module_version": "1.2.0",
            "_view_name": "LayoutView",
            "align_content": null,
            "align_items": null,
            "align_self": null,
            "border": null,
            "bottom": null,
            "display": null,
            "flex": null,
            "flex_flow": null,
            "grid_area": null,
            "grid_auto_columns": null,
            "grid_auto_flow": null,
            "grid_auto_rows": null,
            "grid_column": null,
            "grid_gap": null,
            "grid_row": null,
            "grid_template_areas": null,
            "grid_template_columns": null,
            "grid_template_rows": null,
            "height": null,
            "justify_content": null,
            "justify_items": null,
            "left": null,
            "margin": null,
            "max_height": null,
            "max_width": null,
            "min_height": null,
            "min_width": null,
            "object_fit": null,
            "object_position": null,
            "order": null,
            "overflow": null,
            "overflow_x": null,
            "overflow_y": null,
            "padding": null,
            "right": null,
            "top": null,
            "visibility": null,
            "width": null
          }
        },
        "d78d09b576994c95b66273efedbabbbe": {
          "model_module": "@jupyter-widgets/controls",
          "model_name": "DescriptionStyleModel",
          "model_module_version": "1.5.0",
          "state": {
            "_model_module": "@jupyter-widgets/controls",
            "_model_module_version": "1.5.0",
            "_model_name": "DescriptionStyleModel",
            "_view_count": null,
            "_view_module": "@jupyter-widgets/base",
            "_view_module_version": "1.2.0",
            "_view_name": "StyleView",
            "description_width": ""
          }
        },
        "f8e063ac43a14f35b9036f07120f5011": {
          "model_module": "@jupyter-widgets/base",
          "model_name": "LayoutModel",
          "model_module_version": "1.2.0",
          "state": {
            "_model_module": "@jupyter-widgets/base",
            "_model_module_version": "1.2.0",
            "_model_name": "LayoutModel",
            "_view_count": null,
            "_view_module": "@jupyter-widgets/base",
            "_view_module_version": "1.2.0",
            "_view_name": "LayoutView",
            "align_content": null,
            "align_items": null,
            "align_self": null,
            "border": null,
            "bottom": null,
            "display": null,
            "flex": null,
            "flex_flow": null,
            "grid_area": null,
            "grid_auto_columns": null,
            "grid_auto_flow": null,
            "grid_auto_rows": null,
            "grid_column": null,
            "grid_gap": null,
            "grid_row": null,
            "grid_template_areas": null,
            "grid_template_columns": null,
            "grid_template_rows": null,
            "height": null,
            "justify_content": null,
            "justify_items": null,
            "left": null,
            "margin": null,
            "max_height": null,
            "max_width": null,
            "min_height": null,
            "min_width": null,
            "object_fit": null,
            "object_position": null,
            "order": null,
            "overflow": null,
            "overflow_x": null,
            "overflow_y": null,
            "padding": null,
            "right": null,
            "top": null,
            "visibility": null,
            "width": null
          }
        },
        "e0e79240b3b34baebf5aa3174f84568b": {
          "model_module": "@jupyter-widgets/controls",
          "model_name": "ProgressStyleModel",
          "model_module_version": "1.5.0",
          "state": {
            "_model_module": "@jupyter-widgets/controls",
            "_model_module_version": "1.5.0",
            "_model_name": "ProgressStyleModel",
            "_view_count": null,
            "_view_module": "@jupyter-widgets/base",
            "_view_module_version": "1.2.0",
            "_view_name": "StyleView",
            "bar_color": null,
            "description_width": ""
          }
        },
        "4bde22eb7b1a445ab395af84170f96ce": {
          "model_module": "@jupyter-widgets/base",
          "model_name": "LayoutModel",
          "model_module_version": "1.2.0",
          "state": {
            "_model_module": "@jupyter-widgets/base",
            "_model_module_version": "1.2.0",
            "_model_name": "LayoutModel",
            "_view_count": null,
            "_view_module": "@jupyter-widgets/base",
            "_view_module_version": "1.2.0",
            "_view_name": "LayoutView",
            "align_content": null,
            "align_items": null,
            "align_self": null,
            "border": null,
            "bottom": null,
            "display": null,
            "flex": null,
            "flex_flow": null,
            "grid_area": null,
            "grid_auto_columns": null,
            "grid_auto_flow": null,
            "grid_auto_rows": null,
            "grid_column": null,
            "grid_gap": null,
            "grid_row": null,
            "grid_template_areas": null,
            "grid_template_columns": null,
            "grid_template_rows": null,
            "height": null,
            "justify_content": null,
            "justify_items": null,
            "left": null,
            "margin": null,
            "max_height": null,
            "max_width": null,
            "min_height": null,
            "min_width": null,
            "object_fit": null,
            "object_position": null,
            "order": null,
            "overflow": null,
            "overflow_x": null,
            "overflow_y": null,
            "padding": null,
            "right": null,
            "top": null,
            "visibility": null,
            "width": null
          }
        },
        "b34511bf172045a98c2c818494654477": {
          "model_module": "@jupyter-widgets/controls",
          "model_name": "DescriptionStyleModel",
          "model_module_version": "1.5.0",
          "state": {
            "_model_module": "@jupyter-widgets/controls",
            "_model_module_version": "1.5.0",
            "_model_name": "DescriptionStyleModel",
            "_view_count": null,
            "_view_module": "@jupyter-widgets/base",
            "_view_module_version": "1.2.0",
            "_view_name": "StyleView",
            "description_width": ""
          }
        }
      }
    }
  },
  "cells": [
    {
      "cell_type": "markdown",
      "metadata": {
        "id": "view-in-github",
        "colab_type": "text"
      },
      "source": [
        "<a href=\"https://colab.research.google.com/github/haaden/MSDS_498/blob/main/MSDS498_FINBERT_ML_Evaluate_berttopic%26top2vec.ipynb\" target=\"_parent\"><img src=\"https://colab.research.google.com/assets/colab-badge.svg\" alt=\"Open In Colab\"/></a>"
      ]
    },
    {
      "cell_type": "code",
      "execution_count": null,
      "metadata": {
        "id": "tFOJpStxezMB"
      },
      "outputs": [],
      "source": [
        "import numpy as np\n",
        "\n",
        "import pandas as pd"
      ]
    },
    {
      "cell_type": "code",
      "source": [
        "import os\n",
        "import random\n",
        "\n",
        "import pickle \n",
        "import re,string\n",
        "\n",
        "import nltk\n",
        "from nltk.corpus import stopwords\n",
        "from nltk.stem import PorterStemmer\n",
        "\n",
        "from sklearn.feature_extraction.text import TfidfVectorizer\n",
        "from sklearn.cluster import KMeans, AgglomerativeClustering\n",
        "from sklearn.metrics.pairwise import cosine_similarity\n",
        "from sklearn.decomposition import TruncatedSVD, LatentDirichletAllocation\n",
        "from sklearn.svm import SVC\n",
        "from sklearn.preprocessing import LabelEncoder, OneHotEncoder\n",
        "from sklearn.ensemble import RandomForestClassifier\n",
        "from sklearn.metrics import roc_auc_score, accuracy_score, confusion_matrix\n",
        "from sklearn.model_selection import cross_val_score, StratifiedKFold\n",
        "from sklearn.tree import DecisionTreeClassifier\n",
        "from sklearn.naive_bayes import MultinomialNB\n",
        "from sklearn.linear_model import LogisticRegression\n",
        "from sklearn.ensemble import RandomForestClassifier\n",
        "from sklearn.metrics import accuracy_score\n",
        "from sklearn.model_selection import train_test_split, KFold\n",
        "from sklearn.manifold import MDS\n",
        "from sklearn.metrics.pairwise import cosine_similarity\n",
        "\n",
        "import seaborn as sns\n",
        "import matplotlib.pyplot as plt\n",
        "\n",
        "import gensim\n",
        "from gensim.models import Word2Vec,LdaMulticore, TfidfModel, CoherenceModel\n",
        "from gensim import corpora\n",
        "from gensim import similarities\n",
        "from gensim.models.doc2vec import Doc2Vec, TaggedDocument\n",
        "from gensim import corpora\n",
        "from gensim.models import LsiModel,LdaModel"
      ],
      "metadata": {
        "id": "b4qFpzOff_SF"
      },
      "execution_count": null,
      "outputs": []
    },
    {
      "cell_type": "code",
      "source": [
        "nltk.download('stopwords')"
      ],
      "metadata": {
        "colab": {
          "base_uri": "https://localhost:8080/"
        },
        "id": "KpG2xKbJf_U_",
        "outputId": "00a1a590-03c2-40b3-ab7f-c18619768fba"
      },
      "execution_count": null,
      "outputs": [
        {
          "output_type": "stream",
          "name": "stderr",
          "text": [
            "[nltk_data] Downloading package stopwords to /root/nltk_data...\n",
            "[nltk_data]   Unzipping corpora/stopwords.zip.\n"
          ]
        },
        {
          "output_type": "execute_result",
          "data": {
            "text/plain": [
              "True"
            ]
          },
          "metadata": {},
          "execution_count": 175
        }
      ]
    },
    {
      "cell_type": "code",
      "source": [
        "def clean_doc(doc): \n",
        "    #split document into individual words\n",
        "    tokens=doc.split()\n",
        "    re_punc = re.compile('[%s]' % re.escape(string.punctuation))\n",
        "    # remove punctuation from each word\n",
        "    tokens = [re_punc.sub('', w) for w in tokens]\n",
        "    # remove remaining tokens that are not alphabetic\n",
        "    tokens = [word for word in tokens if word.isalpha()]\n",
        "    # filter out short tokens\n",
        "    tokens = [word for word in tokens if len(word) > 4]\n",
        "    #lowercase all words\n",
        "    tokens = [word.lower() for word in tokens]\n",
        "    # filter out stop words\n",
        "    stop_words = set(stopwords.words('english'))\n",
        "    tokens = [w for w in tokens if not w in stop_words]         \n",
        "    # word stemming    \n",
        "    # ps=PorterStemmer()\n",
        "    # tokens=[ps.stem(word) for word in tokens]\n",
        "    return tokens\n",
        "\n",
        "def final_processed_text(doc):\n",
        "    #this is a function to join the processed text back\n",
        "    doc= ' '.join(doc)\n",
        "    return doc"
      ],
      "metadata": {
        "id": "ZXjA4WdZf_c-"
      },
      "execution_count": null,
      "outputs": []
    },
    {
      "cell_type": "code",
      "source": [],
      "metadata": {
        "id": "X1lgUMq8f_f5"
      },
      "execution_count": null,
      "outputs": []
    },
    {
      "cell_type": "code",
      "source": [
        "\n",
        "      "
      ],
      "metadata": {
        "id": "37m3v8VUhAAp"
      },
      "execution_count": null,
      "outputs": []
    },
    {
      "cell_type": "code",
      "source": [
        "pip install xformers"
      ],
      "metadata": {
        "id": "TF_PQ6u2f_pZ",
        "colab": {
          "base_uri": "https://localhost:8080/"
        },
        "outputId": "79cd7f93-6d4e-4377-dac4-2eb06b3b6777"
      },
      "execution_count": null,
      "outputs": [
        {
          "output_type": "stream",
          "name": "stdout",
          "text": [
            "Looking in indexes: https://pypi.org/simple, https://us-python.pkg.dev/colab-wheels/public/simple/\n",
            "Collecting xformers\n",
            "  Downloading xformers-0.0.20-cp310-cp310-manylinux2014_x86_64.whl (109.1 MB)\n",
            "\u001b[2K     \u001b[90m━━━━━━━━━━━━━━━━━━━━━━━━━━━━━━━━━━━━━━━\u001b[0m \u001b[32m109.1/109.1 MB\u001b[0m \u001b[31m8.6 MB/s\u001b[0m eta \u001b[36m0:00:00\u001b[0m\n",
            "\u001b[?25hRequirement already satisfied: numpy in /usr/local/lib/python3.10/dist-packages (from xformers) (1.22.4)\n",
            "Collecting pyre-extensions==0.0.29 (from xformers)\n",
            "  Downloading pyre_extensions-0.0.29-py3-none-any.whl (12 kB)\n",
            "Requirement already satisfied: torch==2.0.1 in /usr/local/lib/python3.10/dist-packages (from xformers) (2.0.1+cu118)\n",
            "Collecting typing-inspect (from pyre-extensions==0.0.29->xformers)\n",
            "  Downloading typing_inspect-0.9.0-py3-none-any.whl (8.8 kB)\n",
            "Requirement already satisfied: typing-extensions in /usr/local/lib/python3.10/dist-packages (from pyre-extensions==0.0.29->xformers) (4.5.0)\n",
            "Requirement already satisfied: filelock in /usr/local/lib/python3.10/dist-packages (from torch==2.0.1->xformers) (3.12.0)\n",
            "Requirement already satisfied: sympy in /usr/local/lib/python3.10/dist-packages (from torch==2.0.1->xformers) (1.11.1)\n",
            "Requirement already satisfied: networkx in /usr/local/lib/python3.10/dist-packages (from torch==2.0.1->xformers) (3.1)\n",
            "Requirement already satisfied: jinja2 in /usr/local/lib/python3.10/dist-packages (from torch==2.0.1->xformers) (3.1.2)\n",
            "Requirement already satisfied: triton==2.0.0 in /usr/local/lib/python3.10/dist-packages (from torch==2.0.1->xformers) (2.0.0)\n",
            "Requirement already satisfied: cmake in /usr/local/lib/python3.10/dist-packages (from triton==2.0.0->torch==2.0.1->xformers) (3.25.2)\n",
            "Requirement already satisfied: lit in /usr/local/lib/python3.10/dist-packages (from triton==2.0.0->torch==2.0.1->xformers) (16.0.5)\n",
            "Requirement already satisfied: MarkupSafe>=2.0 in /usr/local/lib/python3.10/dist-packages (from jinja2->torch==2.0.1->xformers) (2.1.2)\n",
            "Requirement already satisfied: mpmath>=0.19 in /usr/local/lib/python3.10/dist-packages (from sympy->torch==2.0.1->xformers) (1.3.0)\n",
            "Collecting mypy-extensions>=0.3.0 (from typing-inspect->pyre-extensions==0.0.29->xformers)\n",
            "  Downloading mypy_extensions-1.0.0-py3-none-any.whl (4.7 kB)\n",
            "Installing collected packages: mypy-extensions, typing-inspect, pyre-extensions, xformers\n",
            "Successfully installed mypy-extensions-1.0.0 pyre-extensions-0.0.29 typing-inspect-0.9.0 xformers-0.0.20\n"
          ]
        }
      ]
    },
    {
      "cell_type": "code",
      "source": [
        "!pip install transformers"
      ],
      "metadata": {
        "id": "Zt3eeBO7fNfI",
        "colab": {
          "base_uri": "https://localhost:8080/"
        },
        "outputId": "33335f4f-b202-4cd6-96fd-ab6207cf2795"
      },
      "execution_count": null,
      "outputs": [
        {
          "output_type": "stream",
          "name": "stdout",
          "text": [
            "Looking in indexes: https://pypi.org/simple, https://us-python.pkg.dev/colab-wheels/public/simple/\n",
            "Collecting transformers\n",
            "  Downloading transformers-4.29.2-py3-none-any.whl (7.1 MB)\n",
            "\u001b[2K     \u001b[90m━━━━━━━━━━━━━━━━━━━━━━━━━━━━━━━━━━━━━━━━\u001b[0m \u001b[32m7.1/7.1 MB\u001b[0m \u001b[31m100.4 MB/s\u001b[0m eta \u001b[36m0:00:00\u001b[0m\n",
            "\u001b[?25hRequirement already satisfied: filelock in /usr/local/lib/python3.10/dist-packages (from transformers) (3.12.0)\n",
            "Collecting huggingface-hub<1.0,>=0.14.1 (from transformers)\n",
            "  Downloading huggingface_hub-0.14.1-py3-none-any.whl (224 kB)\n",
            "\u001b[2K     \u001b[90m━━━━━━━━━━━━━━━━━━━━━━━━━━━━━━━━━━━━━━\u001b[0m \u001b[32m224.5/224.5 kB\u001b[0m \u001b[31m23.4 MB/s\u001b[0m eta \u001b[36m0:00:00\u001b[0m\n",
            "\u001b[?25hRequirement already satisfied: numpy>=1.17 in /usr/local/lib/python3.10/dist-packages (from transformers) (1.22.4)\n",
            "Requirement already satisfied: packaging>=20.0 in /usr/local/lib/python3.10/dist-packages (from transformers) (23.1)\n",
            "Requirement already satisfied: pyyaml>=5.1 in /usr/local/lib/python3.10/dist-packages (from transformers) (6.0)\n",
            "Requirement already satisfied: regex!=2019.12.17 in /usr/local/lib/python3.10/dist-packages (from transformers) (2022.10.31)\n",
            "Requirement already satisfied: requests in /usr/local/lib/python3.10/dist-packages (from transformers) (2.27.1)\n",
            "Collecting tokenizers!=0.11.3,<0.14,>=0.11.1 (from transformers)\n",
            "  Downloading tokenizers-0.13.3-cp310-cp310-manylinux_2_17_x86_64.manylinux2014_x86_64.whl (7.8 MB)\n",
            "\u001b[2K     \u001b[90m━━━━━━━━━━━━━━━━━━━━━━━━━━━━━━━━━━━━━━━━\u001b[0m \u001b[32m7.8/7.8 MB\u001b[0m \u001b[31m50.1 MB/s\u001b[0m eta \u001b[36m0:00:00\u001b[0m\n",
            "\u001b[?25hRequirement already satisfied: tqdm>=4.27 in /usr/local/lib/python3.10/dist-packages (from transformers) (4.65.0)\n",
            "Requirement already satisfied: fsspec in /usr/local/lib/python3.10/dist-packages (from huggingface-hub<1.0,>=0.14.1->transformers) (2023.4.0)\n",
            "Requirement already satisfied: typing-extensions>=3.7.4.3 in /usr/local/lib/python3.10/dist-packages (from huggingface-hub<1.0,>=0.14.1->transformers) (4.5.0)\n",
            "Requirement already satisfied: urllib3<1.27,>=1.21.1 in /usr/local/lib/python3.10/dist-packages (from requests->transformers) (1.26.15)\n",
            "Requirement already satisfied: certifi>=2017.4.17 in /usr/local/lib/python3.10/dist-packages (from requests->transformers) (2022.12.7)\n",
            "Requirement already satisfied: charset-normalizer~=2.0.0 in /usr/local/lib/python3.10/dist-packages (from requests->transformers) (2.0.12)\n",
            "Requirement already satisfied: idna<4,>=2.5 in /usr/local/lib/python3.10/dist-packages (from requests->transformers) (3.4)\n",
            "Installing collected packages: tokenizers, huggingface-hub, transformers\n",
            "Successfully installed huggingface-hub-0.14.1 tokenizers-0.13.3 transformers-4.29.2\n"
          ]
        }
      ]
    },
    {
      "cell_type": "code",
      "source": [
        "from transformers import BertTokenizer, BertForSequenceClassification, pipeline"
      ],
      "metadata": {
        "id": "I-nfZ-F3e6w2"
      },
      "execution_count": null,
      "outputs": []
    },
    {
      "cell_type": "code",
      "source": [
        "# tested in transformers==4.18.0 \n",
        "import transformers\n",
        "transformers.__version__"
      ],
      "metadata": {
        "colab": {
          "base_uri": "https://localhost:8080/",
          "height": 35
        },
        "id": "rFN0RMcYe9hV",
        "outputId": "1665a066-1497-4280-ee5a-0909ecfde9b2"
      },
      "execution_count": null,
      "outputs": [
        {
          "output_type": "execute_result",
          "data": {
            "text/plain": [
              "'4.29.2'"
            ],
            "application/vnd.google.colaboratory.intrinsic+json": {
              "type": "string"
            }
          },
          "metadata": {},
          "execution_count": 73
        }
      ]
    },
    {
      "cell_type": "code",
      "source": [
        "finbert = BertForSequenceClassification.from_pretrained('yiyanghkust/finbert-esg',num_labels=4)\n",
        "tokenizer = BertTokenizer.from_pretrained('yiyanghkust/finbert-esg',truncation=True, max_length=512)"
      ],
      "metadata": {
        "id": "gt5oYq4UjGYh",
        "colab": {
          "base_uri": "https://localhost:8080/",
          "height": 113,
          "referenced_widgets": [
            "afbc31f8fbd148f9a8fc39b8f0bb1d14",
            "4974bb0363c94d3caae2dcb28e60d7cb",
            "57ad892a2e2b4c0cb70e35312acbe3aa",
            "43ff63727c1d4555912ba849010c3021",
            "f5aba4d9a3784d4893a862af26a90574",
            "2e528860986b404989a5aaf538a9ef89",
            "1ade42b93db54f278259cd1d0efc96d4",
            "4960e8f88c714ea5b6467bfa5e2d8744",
            "6e89b12af48d447192b1b93c04274c1b",
            "502df554db0f4f349cc5426ab27e285e",
            "30d505b5f3e2476886336ab05416bb69",
            "40745bf19d79430798c0efb9c648abea",
            "06ee7b44e511481c8eb8b1f88f8567f2",
            "37a8f646b6814e03a2d706ae56fdc479",
            "a2080aec46814c8aa545de9f89f4986b",
            "8e067213d076419bbdbf21c794be3caa",
            "f9575834003b4361bd4c30ba135cef35",
            "c34e5a85646b4564810afd55a406a988",
            "390ac0e2c7a047c38d3b93c3a6c7c871",
            "81ad763e43b84c558b2479fc20058ac6",
            "affbc5691d074a788e1553fc6484ef06",
            "48e60191b8574ba6bf57262fe87b3317",
            "a3a88a82f2ab4665b428948b75b6ad15",
            "07790645846a4e118a494277f9bca2e2",
            "107aa0485b814b329b6717da98f80fd0",
            "825912f675b0460983153c5a186beebc",
            "f7859631cdad4c7091f9207771dfc3d7",
            "d26727d1f98d4f8db5790ddfb3951a05",
            "62eb38fd419c49fe8106a28b191541b4",
            "7f7fa313dcd846698c0c57b8f3fc698f",
            "8e4c865fdf564dfd8719777a83d8e36b",
            "e029545b172c453b8b3353d4334cf410",
            "b5e49f0c84034b7f92a95a544cbc6547"
          ]
        },
        "outputId": "b41581c6-d6c7-4e0c-b083-7f9ae11b5e11"
      },
      "execution_count": null,
      "outputs": [
        {
          "output_type": "display_data",
          "data": {
            "text/plain": [
              "Downloading (…)lve/main/config.json:   0%|          | 0.00/781 [00:00<?, ?B/s]"
            ],
            "application/vnd.jupyter.widget-view+json": {
              "version_major": 2,
              "version_minor": 0,
              "model_id": "afbc31f8fbd148f9a8fc39b8f0bb1d14"
            }
          },
          "metadata": {}
        },
        {
          "output_type": "display_data",
          "data": {
            "text/plain": [
              "Downloading pytorch_model.bin:   0%|          | 0.00/439M [00:00<?, ?B/s]"
            ],
            "application/vnd.jupyter.widget-view+json": {
              "version_major": 2,
              "version_minor": 0,
              "model_id": "40745bf19d79430798c0efb9c648abea"
            }
          },
          "metadata": {}
        },
        {
          "output_type": "display_data",
          "data": {
            "text/plain": [
              "Downloading (…)solve/main/vocab.txt:   0%|          | 0.00/226k [00:00<?, ?B/s]"
            ],
            "application/vnd.jupyter.widget-view+json": {
              "version_major": 2,
              "version_minor": 0,
              "model_id": "a3a88a82f2ab4665b428948b75b6ad15"
            }
          },
          "metadata": {}
        }
      ]
    },
    {
      "cell_type": "code",
      "source": [
        "nlp = pipeline(\"text-classification\", model=finbert, tokenizer=tokenizer, truncation=True, max_length=512)"
      ],
      "metadata": {
        "id": "r0wDOSgTjKAz"
      },
      "execution_count": null,
      "outputs": []
    },
    {
      "cell_type": "code",
      "source": [
        "nlp(\"hello how are you doing\")"
      ],
      "metadata": {
        "id": "59g8CsTUjSXw",
        "colab": {
          "base_uri": "https://localhost:8080/"
        },
        "outputId": "ee65a0bd-08aa-4ad0-cfc5-d9dfa4b10238"
      },
      "execution_count": null,
      "outputs": [
        {
          "output_type": "execute_result",
          "data": {
            "text/plain": [
              "[{'label': 'None', 'score': 0.7497324347496033}]"
            ]
          },
          "metadata": {},
          "execution_count": 8
        }
      ]
    },
    {
      "cell_type": "code",
      "source": [
        "traindata= pd.read_pickle('traindata.pkl')"
      ],
      "metadata": {
        "id": "Rt5jiEWeV5vS"
      },
      "execution_count": null,
      "outputs": []
    },
    {
      "cell_type": "code",
      "source": [
        "traindata['predict']= [nlp(i) for i in traindata['Document']]"
      ],
      "metadata": {
        "id": "25fa73rTWJ_-"
      },
      "execution_count": null,
      "outputs": []
    },
    {
      "cell_type": "code",
      "source": [
        "ls = traindata['predict'].apply(lambda x: x[0]).apply(pd.Series)"
      ],
      "metadata": {
        "id": "24wYL69EgFri"
      },
      "execution_count": null,
      "outputs": []
    },
    {
      "cell_type": "code",
      "source": [
        "traindata = pd.concat((traindata,ls), axis =1)"
      ],
      "metadata": {
        "id": "Tea7ZkfDhLiH"
      },
      "execution_count": null,
      "outputs": []
    },
    {
      "cell_type": "code",
      "source": [
        "traindata[(traindata['CustomName']!=traindata['label']) & (traindata['Probability']>0.80) ] #& (traindata['score']>0.80)]#[\"Name\"].unique()"
      ],
      "metadata": {
        "id": "XGa6k9rLhKwd"
      },
      "execution_count": null,
      "outputs": []
    },
    {
      "cell_type": "code",
      "source": [
        "testdf = traindata[(traindata['CustomName']!=traindata['label'])]# & (traindata['Probability']>0.80) ]"
      ],
      "metadata": {
        "id": "EqvWYaNujvao"
      },
      "execution_count": null,
      "outputs": []
    },
    {
      "cell_type": "code",
      "source": [
        "testdf.groupby(['Name','Topic']).count()"
      ],
      "metadata": {
        "colab": {
          "base_uri": "https://localhost:8080/",
          "height": 761
        },
        "id": "xz1iw_LbiJYR",
        "outputId": "dc43a360-5d14-4cea-989a-4802fab9e5c3"
      },
      "execution_count": null,
      "outputs": [
        {
          "output_type": "execute_result",
          "data": {
            "text/plain": [
              "                                                          Document  \\\n",
              "Name                                               Topic             \n",
              "0_our environmental_environmental impact_the en... 0           516   \n",
              "10_our dei_inclusion dei_dei strategy_diversity... 10           62   \n",
              "11_more races_hispanic or_black or_or latino       11           39   \n",
              "1_climate change_of climate_physical risks_extr... 1           197   \n",
              "2_our esg_esg strategy_esg goals_esg issues        2           932   \n",
              "3_personal information_our privacy_data protect... 3           798   \n",
              "4_and inclusion_diversity equity_an inclusive_e... 4           106   \n",
              "5_our safety_safety is_of safety_safety culture    5            24   \n",
              "6_the pandemic_covid19 pandemic_the covid19_pan... 6            51   \n",
              "7_employee engagement_engagement survey_the sur... 7            21   \n",
              "8_the code_code of_our code_business conduct       8            90   \n",
              "9_to report_ethics hotline_report concerns_the ... 9           183   \n",
              "\n",
              "                                                          CustomName  \\\n",
              "Name                                               Topic               \n",
              "0_our environmental_environmental impact_the en... 0             516   \n",
              "10_our dei_inclusion dei_dei strategy_diversity... 10             62   \n",
              "11_more races_hispanic or_black or_or latino       11             39   \n",
              "1_climate change_of climate_physical risks_extr... 1             197   \n",
              "2_our esg_esg strategy_esg goals_esg issues        2             932   \n",
              "3_personal information_our privacy_data protect... 3             798   \n",
              "4_and inclusion_diversity equity_an inclusive_e... 4             106   \n",
              "5_our safety_safety is_of safety_safety culture    5              24   \n",
              "6_the pandemic_covid19 pandemic_the covid19_pan... 6              51   \n",
              "7_employee engagement_engagement survey_the sur... 7              21   \n",
              "8_the code_code of_our code_business conduct       8              90   \n",
              "9_to report_ethics hotline_report concerns_the ... 9             183   \n",
              "\n",
              "                                                          Top_n_words  \\\n",
              "Name                                               Topic                \n",
              "0_our environmental_environmental impact_the en... 0              516   \n",
              "10_our dei_inclusion dei_dei strategy_diversity... 10              62   \n",
              "11_more races_hispanic or_black or_or latino       11              39   \n",
              "1_climate change_of climate_physical risks_extr... 1              197   \n",
              "2_our esg_esg strategy_esg goals_esg issues        2              932   \n",
              "3_personal information_our privacy_data protect... 3              798   \n",
              "4_and inclusion_diversity equity_an inclusive_e... 4              106   \n",
              "5_our safety_safety is_of safety_safety culture    5               24   \n",
              "6_the pandemic_covid19 pandemic_the covid19_pan... 6               51   \n",
              "7_employee engagement_engagement survey_the sur... 7               21   \n",
              "8_the code_code of_our code_business conduct       8               90   \n",
              "9_to report_ethics hotline_report concerns_the ... 9              183   \n",
              "\n",
              "                                                          Probability  \\\n",
              "Name                                               Topic                \n",
              "0_our environmental_environmental impact_the en... 0              516   \n",
              "10_our dei_inclusion dei_dei strategy_diversity... 10              62   \n",
              "11_more races_hispanic or_black or_or latino       11              39   \n",
              "1_climate change_of climate_physical risks_extr... 1              197   \n",
              "2_our esg_esg strategy_esg goals_esg issues        2              932   \n",
              "3_personal information_our privacy_data protect... 3              798   \n",
              "4_and inclusion_diversity equity_an inclusive_e... 4              106   \n",
              "5_our safety_safety is_of safety_safety culture    5               24   \n",
              "6_the pandemic_covid19 pandemic_the covid19_pan... 6               51   \n",
              "7_employee engagement_engagement survey_the sur... 7               21   \n",
              "8_the code_code of_our code_business conduct       8               90   \n",
              "9_to report_ethics hotline_report concerns_the ... 9              183   \n",
              "\n",
              "                                                          Representative_document  \\\n",
              "Name                                               Topic                            \n",
              "0_our environmental_environmental impact_the en... 0                          516   \n",
              "10_our dei_inclusion dei_dei strategy_diversity... 10                          62   \n",
              "11_more races_hispanic or_black or_or latino       11                          39   \n",
              "1_climate change_of climate_physical risks_extr... 1                          197   \n",
              "2_our esg_esg strategy_esg goals_esg issues        2                          932   \n",
              "3_personal information_our privacy_data protect... 3                          798   \n",
              "4_and inclusion_diversity equity_an inclusive_e... 4                          106   \n",
              "5_our safety_safety is_of safety_safety culture    5                           24   \n",
              "6_the pandemic_covid19 pandemic_the covid19_pan... 6                           51   \n",
              "7_employee engagement_engagement survey_the sur... 7                           21   \n",
              "8_the code_code of_our code_business conduct       8                           90   \n",
              "9_to report_ethics hotline_report concerns_the ... 9                          183   \n",
              "\n",
              "                                                          predict  label  \\\n",
              "Name                                               Topic                   \n",
              "0_our environmental_environmental impact_the en... 0          516    516   \n",
              "10_our dei_inclusion dei_dei strategy_diversity... 10          62     62   \n",
              "11_more races_hispanic or_black or_or latino       11          39     39   \n",
              "1_climate change_of climate_physical risks_extr... 1          197    197   \n",
              "2_our esg_esg strategy_esg goals_esg issues        2          932    932   \n",
              "3_personal information_our privacy_data protect... 3          798    798   \n",
              "4_and inclusion_diversity equity_an inclusive_e... 4          106    106   \n",
              "5_our safety_safety is_of safety_safety culture    5           24     24   \n",
              "6_the pandemic_covid19 pandemic_the covid19_pan... 6           51     51   \n",
              "7_employee engagement_engagement survey_the sur... 7           21     21   \n",
              "8_the code_code of_our code_business conduct       8           90     90   \n",
              "9_to report_ethics hotline_report concerns_the ... 9          183    183   \n",
              "\n",
              "                                                          score  \n",
              "Name                                               Topic         \n",
              "0_our environmental_environmental impact_the en... 0        516  \n",
              "10_our dei_inclusion dei_dei strategy_diversity... 10        62  \n",
              "11_more races_hispanic or_black or_or latino       11        39  \n",
              "1_climate change_of climate_physical risks_extr... 1        197  \n",
              "2_our esg_esg strategy_esg goals_esg issues        2        932  \n",
              "3_personal information_our privacy_data protect... 3        798  \n",
              "4_and inclusion_diversity equity_an inclusive_e... 4        106  \n",
              "5_our safety_safety is_of safety_safety culture    5         24  \n",
              "6_the pandemic_covid19 pandemic_the covid19_pan... 6         51  \n",
              "7_employee engagement_engagement survey_the sur... 7         21  \n",
              "8_the code_code of_our code_business conduct       8         90  \n",
              "9_to report_ethics hotline_report concerns_the ... 9        183  "
            ],
            "text/html": [
              "\n",
              "  <div id=\"df-ed0c659b-099a-4806-8e27-e66709f19616\">\n",
              "    <div class=\"colab-df-container\">\n",
              "      <div>\n",
              "<style scoped>\n",
              "    .dataframe tbody tr th:only-of-type {\n",
              "        vertical-align: middle;\n",
              "    }\n",
              "\n",
              "    .dataframe tbody tr th {\n",
              "        vertical-align: top;\n",
              "    }\n",
              "\n",
              "    .dataframe thead th {\n",
              "        text-align: right;\n",
              "    }\n",
              "</style>\n",
              "<table border=\"1\" class=\"dataframe\">\n",
              "  <thead>\n",
              "    <tr style=\"text-align: right;\">\n",
              "      <th></th>\n",
              "      <th></th>\n",
              "      <th>Document</th>\n",
              "      <th>CustomName</th>\n",
              "      <th>Top_n_words</th>\n",
              "      <th>Probability</th>\n",
              "      <th>Representative_document</th>\n",
              "      <th>predict</th>\n",
              "      <th>label</th>\n",
              "      <th>score</th>\n",
              "    </tr>\n",
              "    <tr>\n",
              "      <th>Name</th>\n",
              "      <th>Topic</th>\n",
              "      <th></th>\n",
              "      <th></th>\n",
              "      <th></th>\n",
              "      <th></th>\n",
              "      <th></th>\n",
              "      <th></th>\n",
              "      <th></th>\n",
              "      <th></th>\n",
              "    </tr>\n",
              "  </thead>\n",
              "  <tbody>\n",
              "    <tr>\n",
              "      <th>0_our environmental_environmental impact_the environment_our sustainability</th>\n",
              "      <th>0</th>\n",
              "      <td>516</td>\n",
              "      <td>516</td>\n",
              "      <td>516</td>\n",
              "      <td>516</td>\n",
              "      <td>516</td>\n",
              "      <td>516</td>\n",
              "      <td>516</td>\n",
              "      <td>516</td>\n",
              "    </tr>\n",
              "    <tr>\n",
              "      <th>10_our dei_inclusion dei_dei strategy_diversity equity</th>\n",
              "      <th>10</th>\n",
              "      <td>62</td>\n",
              "      <td>62</td>\n",
              "      <td>62</td>\n",
              "      <td>62</td>\n",
              "      <td>62</td>\n",
              "      <td>62</td>\n",
              "      <td>62</td>\n",
              "      <td>62</td>\n",
              "    </tr>\n",
              "    <tr>\n",
              "      <th>11_more races_hispanic or_black or_or latino</th>\n",
              "      <th>11</th>\n",
              "      <td>39</td>\n",
              "      <td>39</td>\n",
              "      <td>39</td>\n",
              "      <td>39</td>\n",
              "      <td>39</td>\n",
              "      <td>39</td>\n",
              "      <td>39</td>\n",
              "      <td>39</td>\n",
              "    </tr>\n",
              "    <tr>\n",
              "      <th>1_climate change_of climate_physical risks_extreme weather</th>\n",
              "      <th>1</th>\n",
              "      <td>197</td>\n",
              "      <td>197</td>\n",
              "      <td>197</td>\n",
              "      <td>197</td>\n",
              "      <td>197</td>\n",
              "      <td>197</td>\n",
              "      <td>197</td>\n",
              "      <td>197</td>\n",
              "    </tr>\n",
              "    <tr>\n",
              "      <th>2_our esg_esg strategy_esg goals_esg issues</th>\n",
              "      <th>2</th>\n",
              "      <td>932</td>\n",
              "      <td>932</td>\n",
              "      <td>932</td>\n",
              "      <td>932</td>\n",
              "      <td>932</td>\n",
              "      <td>932</td>\n",
              "      <td>932</td>\n",
              "      <td>932</td>\n",
              "    </tr>\n",
              "    <tr>\n",
              "      <th>3_personal information_our privacy_data protection_data privacy</th>\n",
              "      <th>3</th>\n",
              "      <td>798</td>\n",
              "      <td>798</td>\n",
              "      <td>798</td>\n",
              "      <td>798</td>\n",
              "      <td>798</td>\n",
              "      <td>798</td>\n",
              "      <td>798</td>\n",
              "      <td>798</td>\n",
              "    </tr>\n",
              "    <tr>\n",
              "      <th>4_and inclusion_diversity equity_an inclusive_equity and</th>\n",
              "      <th>4</th>\n",
              "      <td>106</td>\n",
              "      <td>106</td>\n",
              "      <td>106</td>\n",
              "      <td>106</td>\n",
              "      <td>106</td>\n",
              "      <td>106</td>\n",
              "      <td>106</td>\n",
              "      <td>106</td>\n",
              "    </tr>\n",
              "    <tr>\n",
              "      <th>5_our safety_safety is_of safety_safety culture</th>\n",
              "      <th>5</th>\n",
              "      <td>24</td>\n",
              "      <td>24</td>\n",
              "      <td>24</td>\n",
              "      <td>24</td>\n",
              "      <td>24</td>\n",
              "      <td>24</td>\n",
              "      <td>24</td>\n",
              "      <td>24</td>\n",
              "    </tr>\n",
              "    <tr>\n",
              "      <th>6_the pandemic_covid19 pandemic_the covid19_pandemic we</th>\n",
              "      <th>6</th>\n",
              "      <td>51</td>\n",
              "      <td>51</td>\n",
              "      <td>51</td>\n",
              "      <td>51</td>\n",
              "      <td>51</td>\n",
              "      <td>51</td>\n",
              "      <td>51</td>\n",
              "      <td>51</td>\n",
              "    </tr>\n",
              "    <tr>\n",
              "      <th>7_employee engagement_engagement survey_the survey_surveys to</th>\n",
              "      <th>7</th>\n",
              "      <td>21</td>\n",
              "      <td>21</td>\n",
              "      <td>21</td>\n",
              "      <td>21</td>\n",
              "      <td>21</td>\n",
              "      <td>21</td>\n",
              "      <td>21</td>\n",
              "      <td>21</td>\n",
              "    </tr>\n",
              "    <tr>\n",
              "      <th>8_the code_code of_our code_business conduct</th>\n",
              "      <th>8</th>\n",
              "      <td>90</td>\n",
              "      <td>90</td>\n",
              "      <td>90</td>\n",
              "      <td>90</td>\n",
              "      <td>90</td>\n",
              "      <td>90</td>\n",
              "      <td>90</td>\n",
              "      <td>90</td>\n",
              "    </tr>\n",
              "    <tr>\n",
              "      <th>9_to report_ethics hotline_report concerns_the hotline</th>\n",
              "      <th>9</th>\n",
              "      <td>183</td>\n",
              "      <td>183</td>\n",
              "      <td>183</td>\n",
              "      <td>183</td>\n",
              "      <td>183</td>\n",
              "      <td>183</td>\n",
              "      <td>183</td>\n",
              "      <td>183</td>\n",
              "    </tr>\n",
              "  </tbody>\n",
              "</table>\n",
              "</div>\n",
              "      <button class=\"colab-df-convert\" onclick=\"convertToInteractive('df-ed0c659b-099a-4806-8e27-e66709f19616')\"\n",
              "              title=\"Convert this dataframe to an interactive table.\"\n",
              "              style=\"display:none;\">\n",
              "        \n",
              "  <svg xmlns=\"http://www.w3.org/2000/svg\" height=\"24px\"viewBox=\"0 0 24 24\"\n",
              "       width=\"24px\">\n",
              "    <path d=\"M0 0h24v24H0V0z\" fill=\"none\"/>\n",
              "    <path d=\"M18.56 5.44l.94 2.06.94-2.06 2.06-.94-2.06-.94-.94-2.06-.94 2.06-2.06.94zm-11 1L8.5 8.5l.94-2.06 2.06-.94-2.06-.94L8.5 2.5l-.94 2.06-2.06.94zm10 10l.94 2.06.94-2.06 2.06-.94-2.06-.94-.94-2.06-.94 2.06-2.06.94z\"/><path d=\"M17.41 7.96l-1.37-1.37c-.4-.4-.92-.59-1.43-.59-.52 0-1.04.2-1.43.59L10.3 9.45l-7.72 7.72c-.78.78-.78 2.05 0 2.83L4 21.41c.39.39.9.59 1.41.59.51 0 1.02-.2 1.41-.59l7.78-7.78 2.81-2.81c.8-.78.8-2.07 0-2.86zM5.41 20L4 18.59l7.72-7.72 1.47 1.35L5.41 20z\"/>\n",
              "  </svg>\n",
              "      </button>\n",
              "      \n",
              "  <style>\n",
              "    .colab-df-container {\n",
              "      display:flex;\n",
              "      flex-wrap:wrap;\n",
              "      gap: 12px;\n",
              "    }\n",
              "\n",
              "    .colab-df-convert {\n",
              "      background-color: #E8F0FE;\n",
              "      border: none;\n",
              "      border-radius: 50%;\n",
              "      cursor: pointer;\n",
              "      display: none;\n",
              "      fill: #1967D2;\n",
              "      height: 32px;\n",
              "      padding: 0 0 0 0;\n",
              "      width: 32px;\n",
              "    }\n",
              "\n",
              "    .colab-df-convert:hover {\n",
              "      background-color: #E2EBFA;\n",
              "      box-shadow: 0px 1px 2px rgba(60, 64, 67, 0.3), 0px 1px 3px 1px rgba(60, 64, 67, 0.15);\n",
              "      fill: #174EA6;\n",
              "    }\n",
              "\n",
              "    [theme=dark] .colab-df-convert {\n",
              "      background-color: #3B4455;\n",
              "      fill: #D2E3FC;\n",
              "    }\n",
              "\n",
              "    [theme=dark] .colab-df-convert:hover {\n",
              "      background-color: #434B5C;\n",
              "      box-shadow: 0px 1px 3px 1px rgba(0, 0, 0, 0.15);\n",
              "      filter: drop-shadow(0px 1px 2px rgba(0, 0, 0, 0.3));\n",
              "      fill: #FFFFFF;\n",
              "    }\n",
              "  </style>\n",
              "\n",
              "      <script>\n",
              "        const buttonEl =\n",
              "          document.querySelector('#df-ed0c659b-099a-4806-8e27-e66709f19616 button.colab-df-convert');\n",
              "        buttonEl.style.display =\n",
              "          google.colab.kernel.accessAllowed ? 'block' : 'none';\n",
              "\n",
              "        async function convertToInteractive(key) {\n",
              "          const element = document.querySelector('#df-ed0c659b-099a-4806-8e27-e66709f19616');\n",
              "          const dataTable =\n",
              "            await google.colab.kernel.invokeFunction('convertToInteractive',\n",
              "                                                     [key], {});\n",
              "          if (!dataTable) return;\n",
              "\n",
              "          const docLinkHtml = 'Like what you see? Visit the ' +\n",
              "            '<a target=\"_blank\" href=https://colab.research.google.com/notebooks/data_table.ipynb>data table notebook</a>'\n",
              "            + ' to learn more about interactive tables.';\n",
              "          element.innerHTML = '';\n",
              "          dataTable['output_type'] = 'display_data';\n",
              "          await google.colab.output.renderOutput(dataTable, element);\n",
              "          const docLink = document.createElement('div');\n",
              "          docLink.innerHTML = docLinkHtml;\n",
              "          element.appendChild(docLink);\n",
              "        }\n",
              "      </script>\n",
              "    </div>\n",
              "  </div>\n",
              "  "
            ]
          },
          "metadata": {},
          "execution_count": 75
        }
      ]
    },
    {
      "cell_type": "code",
      "source": [
        "traindf= traindata[~traindata['Topic'].isin([0,2,3,9])]"
      ],
      "metadata": {
        "id": "t8qtVExRk894"
      },
      "execution_count": null,
      "outputs": []
    },
    {
      "cell_type": "code",
      "source": [
        "traindf[(traindata['CustomName']!=traindata['label'])]# & (traindf['Probability']>.90)]"
      ],
      "metadata": {
        "colab": {
          "base_uri": "https://localhost:8080/",
          "height": 1000
        },
        "id": "wzN72jUcm3Ba",
        "outputId": "ab3e1b96-2faf-4a78-ecee-654d8d322260"
      },
      "execution_count": null,
      "outputs": [
        {
          "output_type": "stream",
          "name": "stderr",
          "text": [
            "<ipython-input-72-800560401b00>:1: UserWarning: Boolean Series key will be reindexed to match DataFrame index.\n",
            "  traindf[(traindata['CustomName']!=traindata['label'])]# & (traindf['Probability']>.90)]\n"
          ]
        },
        {
          "output_type": "execute_result",
          "data": {
            "text/plain": [
              "                                                 Document  Topic  \\\n",
              "300     climate impacts of business mix amount of back...      1   \n",
              "346     our employees take part in annual code of cond...      8   \n",
              "464     as shown in table 3, at right, aig made meanin...     11   \n",
              "544     in 2020, the covid-19 pandemic and two hurrica...      6   \n",
              "553     in august 2020, our headquarters in deridder, ...      1   \n",
              "...                                                   ...    ...   \n",
              "108063  at xperi we prioritize diversity and seek to c...      4   \n",
              "108596  as part of our employee onboarding program, we...      8   \n",
              "108804  factors that could cause these differences inc...      1   \n",
              "108929  our commitment to dei starts at the top with t...     10   \n",
              "109115  emissions energy chapter 5 50% reduction in bu...      6   \n",
              "\n",
              "                                                     Name     CustomName  \\\n",
              "300     1_climate change_of climate_physical risks_ext...  Environmental   \n",
              "346          8_the code_code of_our code_business conduct     Governance   \n",
              "464          11_more races_hispanic or_black or_or latino         Social   \n",
              "544     6_the pandemic_covid19 pandemic_the covid19_pa...         Social   \n",
              "553     1_climate change_of climate_physical risks_ext...  Environmental   \n",
              "...                                                   ...            ...   \n",
              "108063  4_and inclusion_diversity equity_an inclusive_...         Social   \n",
              "108596       8_the code_code of_our code_business conduct     Governance   \n",
              "108804  1_climate change_of climate_physical risks_ext...  Environmental   \n",
              "108929  10_our dei_inclusion dei_dei strategy_diversit...         Social   \n",
              "109115  6_the pandemic_covid19 pandemic_the covid19_pa...         Social   \n",
              "\n",
              "                                              Top_n_words  Probability  \\\n",
              "300     climate change - of climate - physical risks -...     1.000000   \n",
              "346     the code - code of - our code - business condu...     1.000000   \n",
              "464     more races - hispanic or - black or - or latin...     0.601126   \n",
              "544     the pandemic - covid19 pandemic - the covid19 ...     0.970958   \n",
              "553     climate change - of climate - physical risks -...     1.000000   \n",
              "...                                                   ...          ...   \n",
              "108063  and inclusion - diversity equity - an inclusiv...     1.000000   \n",
              "108596  the code - code of - our code - business condu...     1.000000   \n",
              "108804  climate change - of climate - physical risks -...     0.922750   \n",
              "108929  our dei - inclusion dei - dei strategy - diver...     0.467838   \n",
              "109115  the pandemic - covid19 pandemic - the covid19 ...     0.725438   \n",
              "\n",
              "        Representative_document  \\\n",
              "300                       False   \n",
              "346                       False   \n",
              "464                       False   \n",
              "544                       False   \n",
              "553                       False   \n",
              "...                         ...   \n",
              "108063                    False   \n",
              "108596                    False   \n",
              "108804                    False   \n",
              "108929                    False   \n",
              "109115                    False   \n",
              "\n",
              "                                                  predict          label  \\\n",
              "300      [{'label': 'None', 'score': 0.9940038323402405}]           None   \n",
              "346     [{'label': 'Social', 'score': 0.94343233108520...         Social   \n",
              "464      [{'label': 'None', 'score': 0.8156286478042603}]           None   \n",
              "544     [{'label': 'Environmental', 'score': 0.9899946...  Environmental   \n",
              "553     [{'label': 'Social', 'score': 0.52152460813522...         Social   \n",
              "...                                                   ...            ...   \n",
              "108063  [{'label': 'Environmental', 'score': 0.9230031...  Environmental   \n",
              "108596  [{'label': 'Social', 'score': 0.88486850261688...         Social   \n",
              "108804   [{'label': 'None', 'score': 0.9698266983032227}]           None   \n",
              "108929  [{'label': 'Environmental', 'score': 0.7796066...  Environmental   \n",
              "109115  [{'label': 'Environmental', 'score': 0.9891558...  Environmental   \n",
              "\n",
              "           score  \n",
              "300     0.994004  \n",
              "346     0.943432  \n",
              "464     0.815629  \n",
              "544     0.989995  \n",
              "553     0.521525  \n",
              "...          ...  \n",
              "108063  0.923003  \n",
              "108596  0.884869  \n",
              "108804  0.969827  \n",
              "108929  0.779607  \n",
              "109115  0.989156  \n",
              "\n",
              "[590 rows x 10 columns]"
            ],
            "text/html": [
              "\n",
              "  <div id=\"df-8acd2759-13f2-410a-958d-38053a7e5cef\">\n",
              "    <div class=\"colab-df-container\">\n",
              "      <div>\n",
              "<style scoped>\n",
              "    .dataframe tbody tr th:only-of-type {\n",
              "        vertical-align: middle;\n",
              "    }\n",
              "\n",
              "    .dataframe tbody tr th {\n",
              "        vertical-align: top;\n",
              "    }\n",
              "\n",
              "    .dataframe thead th {\n",
              "        text-align: right;\n",
              "    }\n",
              "</style>\n",
              "<table border=\"1\" class=\"dataframe\">\n",
              "  <thead>\n",
              "    <tr style=\"text-align: right;\">\n",
              "      <th></th>\n",
              "      <th>Document</th>\n",
              "      <th>Topic</th>\n",
              "      <th>Name</th>\n",
              "      <th>CustomName</th>\n",
              "      <th>Top_n_words</th>\n",
              "      <th>Probability</th>\n",
              "      <th>Representative_document</th>\n",
              "      <th>predict</th>\n",
              "      <th>label</th>\n",
              "      <th>score</th>\n",
              "    </tr>\n",
              "  </thead>\n",
              "  <tbody>\n",
              "    <tr>\n",
              "      <th>300</th>\n",
              "      <td>climate impacts of business mix amount of back...</td>\n",
              "      <td>1</td>\n",
              "      <td>1_climate change_of climate_physical risks_ext...</td>\n",
              "      <td>Environmental</td>\n",
              "      <td>climate change - of climate - physical risks -...</td>\n",
              "      <td>1.000000</td>\n",
              "      <td>False</td>\n",
              "      <td>[{'label': 'None', 'score': 0.9940038323402405}]</td>\n",
              "      <td>None</td>\n",
              "      <td>0.994004</td>\n",
              "    </tr>\n",
              "    <tr>\n",
              "      <th>346</th>\n",
              "      <td>our employees take part in annual code of cond...</td>\n",
              "      <td>8</td>\n",
              "      <td>8_the code_code of_our code_business conduct</td>\n",
              "      <td>Governance</td>\n",
              "      <td>the code - code of - our code - business condu...</td>\n",
              "      <td>1.000000</td>\n",
              "      <td>False</td>\n",
              "      <td>[{'label': 'Social', 'score': 0.94343233108520...</td>\n",
              "      <td>Social</td>\n",
              "      <td>0.943432</td>\n",
              "    </tr>\n",
              "    <tr>\n",
              "      <th>464</th>\n",
              "      <td>as shown in table 3, at right, aig made meanin...</td>\n",
              "      <td>11</td>\n",
              "      <td>11_more races_hispanic or_black or_or latino</td>\n",
              "      <td>Social</td>\n",
              "      <td>more races - hispanic or - black or - or latin...</td>\n",
              "      <td>0.601126</td>\n",
              "      <td>False</td>\n",
              "      <td>[{'label': 'None', 'score': 0.8156286478042603}]</td>\n",
              "      <td>None</td>\n",
              "      <td>0.815629</td>\n",
              "    </tr>\n",
              "    <tr>\n",
              "      <th>544</th>\n",
              "      <td>in 2020, the covid-19 pandemic and two hurrica...</td>\n",
              "      <td>6</td>\n",
              "      <td>6_the pandemic_covid19 pandemic_the covid19_pa...</td>\n",
              "      <td>Social</td>\n",
              "      <td>the pandemic - covid19 pandemic - the covid19 ...</td>\n",
              "      <td>0.970958</td>\n",
              "      <td>False</td>\n",
              "      <td>[{'label': 'Environmental', 'score': 0.9899946...</td>\n",
              "      <td>Environmental</td>\n",
              "      <td>0.989995</td>\n",
              "    </tr>\n",
              "    <tr>\n",
              "      <th>553</th>\n",
              "      <td>in august 2020, our headquarters in deridder, ...</td>\n",
              "      <td>1</td>\n",
              "      <td>1_climate change_of climate_physical risks_ext...</td>\n",
              "      <td>Environmental</td>\n",
              "      <td>climate change - of climate - physical risks -...</td>\n",
              "      <td>1.000000</td>\n",
              "      <td>False</td>\n",
              "      <td>[{'label': 'Social', 'score': 0.52152460813522...</td>\n",
              "      <td>Social</td>\n",
              "      <td>0.521525</td>\n",
              "    </tr>\n",
              "    <tr>\n",
              "      <th>...</th>\n",
              "      <td>...</td>\n",
              "      <td>...</td>\n",
              "      <td>...</td>\n",
              "      <td>...</td>\n",
              "      <td>...</td>\n",
              "      <td>...</td>\n",
              "      <td>...</td>\n",
              "      <td>...</td>\n",
              "      <td>...</td>\n",
              "      <td>...</td>\n",
              "    </tr>\n",
              "    <tr>\n",
              "      <th>108063</th>\n",
              "      <td>at xperi we prioritize diversity and seek to c...</td>\n",
              "      <td>4</td>\n",
              "      <td>4_and inclusion_diversity equity_an inclusive_...</td>\n",
              "      <td>Social</td>\n",
              "      <td>and inclusion - diversity equity - an inclusiv...</td>\n",
              "      <td>1.000000</td>\n",
              "      <td>False</td>\n",
              "      <td>[{'label': 'Environmental', 'score': 0.9230031...</td>\n",
              "      <td>Environmental</td>\n",
              "      <td>0.923003</td>\n",
              "    </tr>\n",
              "    <tr>\n",
              "      <th>108596</th>\n",
              "      <td>as part of our employee onboarding program, we...</td>\n",
              "      <td>8</td>\n",
              "      <td>8_the code_code of_our code_business conduct</td>\n",
              "      <td>Governance</td>\n",
              "      <td>the code - code of - our code - business condu...</td>\n",
              "      <td>1.000000</td>\n",
              "      <td>False</td>\n",
              "      <td>[{'label': 'Social', 'score': 0.88486850261688...</td>\n",
              "      <td>Social</td>\n",
              "      <td>0.884869</td>\n",
              "    </tr>\n",
              "    <tr>\n",
              "      <th>108804</th>\n",
              "      <td>factors that could cause these differences inc...</td>\n",
              "      <td>1</td>\n",
              "      <td>1_climate change_of climate_physical risks_ext...</td>\n",
              "      <td>Environmental</td>\n",
              "      <td>climate change - of climate - physical risks -...</td>\n",
              "      <td>0.922750</td>\n",
              "      <td>False</td>\n",
              "      <td>[{'label': 'None', 'score': 0.9698266983032227}]</td>\n",
              "      <td>None</td>\n",
              "      <td>0.969827</td>\n",
              "    </tr>\n",
              "    <tr>\n",
              "      <th>108929</th>\n",
              "      <td>our commitment to dei starts at the top with t...</td>\n",
              "      <td>10</td>\n",
              "      <td>10_our dei_inclusion dei_dei strategy_diversit...</td>\n",
              "      <td>Social</td>\n",
              "      <td>our dei - inclusion dei - dei strategy - diver...</td>\n",
              "      <td>0.467838</td>\n",
              "      <td>False</td>\n",
              "      <td>[{'label': 'Environmental', 'score': 0.7796066...</td>\n",
              "      <td>Environmental</td>\n",
              "      <td>0.779607</td>\n",
              "    </tr>\n",
              "    <tr>\n",
              "      <th>109115</th>\n",
              "      <td>emissions energy chapter 5 50% reduction in bu...</td>\n",
              "      <td>6</td>\n",
              "      <td>6_the pandemic_covid19 pandemic_the covid19_pa...</td>\n",
              "      <td>Social</td>\n",
              "      <td>the pandemic - covid19 pandemic - the covid19 ...</td>\n",
              "      <td>0.725438</td>\n",
              "      <td>False</td>\n",
              "      <td>[{'label': 'Environmental', 'score': 0.9891558...</td>\n",
              "      <td>Environmental</td>\n",
              "      <td>0.989156</td>\n",
              "    </tr>\n",
              "  </tbody>\n",
              "</table>\n",
              "<p>590 rows × 10 columns</p>\n",
              "</div>\n",
              "      <button class=\"colab-df-convert\" onclick=\"convertToInteractive('df-8acd2759-13f2-410a-958d-38053a7e5cef')\"\n",
              "              title=\"Convert this dataframe to an interactive table.\"\n",
              "              style=\"display:none;\">\n",
              "        \n",
              "  <svg xmlns=\"http://www.w3.org/2000/svg\" height=\"24px\"viewBox=\"0 0 24 24\"\n",
              "       width=\"24px\">\n",
              "    <path d=\"M0 0h24v24H0V0z\" fill=\"none\"/>\n",
              "    <path d=\"M18.56 5.44l.94 2.06.94-2.06 2.06-.94-2.06-.94-.94-2.06-.94 2.06-2.06.94zm-11 1L8.5 8.5l.94-2.06 2.06-.94-2.06-.94L8.5 2.5l-.94 2.06-2.06.94zm10 10l.94 2.06.94-2.06 2.06-.94-2.06-.94-.94-2.06-.94 2.06-2.06.94z\"/><path d=\"M17.41 7.96l-1.37-1.37c-.4-.4-.92-.59-1.43-.59-.52 0-1.04.2-1.43.59L10.3 9.45l-7.72 7.72c-.78.78-.78 2.05 0 2.83L4 21.41c.39.39.9.59 1.41.59.51 0 1.02-.2 1.41-.59l7.78-7.78 2.81-2.81c.8-.78.8-2.07 0-2.86zM5.41 20L4 18.59l7.72-7.72 1.47 1.35L5.41 20z\"/>\n",
              "  </svg>\n",
              "      </button>\n",
              "      \n",
              "  <style>\n",
              "    .colab-df-container {\n",
              "      display:flex;\n",
              "      flex-wrap:wrap;\n",
              "      gap: 12px;\n",
              "    }\n",
              "\n",
              "    .colab-df-convert {\n",
              "      background-color: #E8F0FE;\n",
              "      border: none;\n",
              "      border-radius: 50%;\n",
              "      cursor: pointer;\n",
              "      display: none;\n",
              "      fill: #1967D2;\n",
              "      height: 32px;\n",
              "      padding: 0 0 0 0;\n",
              "      width: 32px;\n",
              "    }\n",
              "\n",
              "    .colab-df-convert:hover {\n",
              "      background-color: #E2EBFA;\n",
              "      box-shadow: 0px 1px 2px rgba(60, 64, 67, 0.3), 0px 1px 3px 1px rgba(60, 64, 67, 0.15);\n",
              "      fill: #174EA6;\n",
              "    }\n",
              "\n",
              "    [theme=dark] .colab-df-convert {\n",
              "      background-color: #3B4455;\n",
              "      fill: #D2E3FC;\n",
              "    }\n",
              "\n",
              "    [theme=dark] .colab-df-convert:hover {\n",
              "      background-color: #434B5C;\n",
              "      box-shadow: 0px 1px 3px 1px rgba(0, 0, 0, 0.15);\n",
              "      filter: drop-shadow(0px 1px 2px rgba(0, 0, 0, 0.3));\n",
              "      fill: #FFFFFF;\n",
              "    }\n",
              "  </style>\n",
              "\n",
              "      <script>\n",
              "        const buttonEl =\n",
              "          document.querySelector('#df-8acd2759-13f2-410a-958d-38053a7e5cef button.colab-df-convert');\n",
              "        buttonEl.style.display =\n",
              "          google.colab.kernel.accessAllowed ? 'block' : 'none';\n",
              "\n",
              "        async function convertToInteractive(key) {\n",
              "          const element = document.querySelector('#df-8acd2759-13f2-410a-958d-38053a7e5cef');\n",
              "          const dataTable =\n",
              "            await google.colab.kernel.invokeFunction('convertToInteractive',\n",
              "                                                     [key], {});\n",
              "          if (!dataTable) return;\n",
              "\n",
              "          const docLinkHtml = 'Like what you see? Visit the ' +\n",
              "            '<a target=\"_blank\" href=https://colab.research.google.com/notebooks/data_table.ipynb>data table notebook</a>'\n",
              "            + ' to learn more about interactive tables.';\n",
              "          element.innerHTML = '';\n",
              "          dataTable['output_type'] = 'display_data';\n",
              "          await google.colab.output.renderOutput(dataTable, element);\n",
              "          const docLink = document.createElement('div');\n",
              "          docLink.innerHTML = docLinkHtml;\n",
              "          element.appendChild(docLink);\n",
              "        }\n",
              "      </script>\n",
              "    </div>\n",
              "  </div>\n",
              "  "
            ]
          },
          "metadata": {},
          "execution_count": 72
        }
      ]
    },
    {
      "cell_type": "code",
      "source": [
        "590/5196"
      ],
      "metadata": {
        "colab": {
          "base_uri": "https://localhost:8080/"
        },
        "id": "tkwrU1Egm2f2",
        "outputId": "80bc5be6-ed8e-434a-8beb-5d7924adab90"
      },
      "execution_count": null,
      "outputs": [
        {
          "output_type": "execute_result",
          "data": {
            "text/plain": [
              "0.11354888375673595"
            ]
          },
          "metadata": {},
          "execution_count": 85
        }
      ]
    },
    {
      "cell_type": "code",
      "source": [
        "#traindf.to_pickle('traineddf.pkl')\n",
        "traindf= pd.read_pickle('traineddf.pkl')"
      ],
      "metadata": {
        "id": "ScNc8EpDnxtC"
      },
      "execution_count": null,
      "outputs": []
    },
    {
      "cell_type": "code",
      "source": [
        "testlist= clean_doc(\"total e-waste processed 804,687 970,526 1,003,069 total e-waste recovered 798,006 965,931 997,539 recycling 736,061 897,337 964,608 resale 51,909 54,958 32,931 return to service 10,036 13,636 total e-waste sent to landfill 6,681 4,595 5,530 landfill diversion rate for e-waste <1% <1% <1% footnotes 1 includes electricity only\")"
      ],
      "metadata": {
        "id": "g9P1oJRI4OmI"
      },
      "execution_count": null,
      "outputs": []
    },
    {
      "cell_type": "code",
      "source": [
        "nlp(final_processed_text(testlist))"
      ],
      "metadata": {
        "id": "c_PGO2LQk9lU"
      },
      "execution_count": null,
      "outputs": []
    },
    {
      "cell_type": "code",
      "source": [
        "traindf.columns"
      ],
      "metadata": {
        "colab": {
          "base_uri": "https://localhost:8080/"
        },
        "id": "K2czdEQhUwEV",
        "outputId": "447662ae-a868-46f2-c648-e758b8b09f7d"
      },
      "execution_count": null,
      "outputs": [
        {
          "output_type": "execute_result",
          "data": {
            "text/plain": [
              "Index(['Document', 'Topic', 'Name', 'CustomName', 'Top_n_words', 'Probability',\n",
              "       'Representative_document', 'predict', 'label', 'score'],\n",
              "      dtype='object')"
            ]
          },
          "metadata": {},
          "execution_count": 10
        }
      ]
    },
    {
      "cell_type": "code",
      "source": [
        "traindf.columns"
      ],
      "metadata": {
        "colab": {
          "base_uri": "https://localhost:8080/"
        },
        "id": "4_2i0-bt5dfP",
        "outputId": "d98a7b28-4e42-4085-fc4a-37415c69c1b1"
      },
      "execution_count": null,
      "outputs": [
        {
          "output_type": "execute_result",
          "data": {
            "text/plain": [
              "Index(['Document', 'Topic', 'Name', 'CustomName', 'Top_n_words', 'Probability',\n",
              "       'Representative_document', 'predict', 'label', 'score'],\n",
              "      dtype='object')"
            ]
          },
          "metadata": {},
          "execution_count": 86
        }
      ]
    },
    {
      "cell_type": "code",
      "source": [
        "dfdata= traindf[['Document', 'Topic', 'Name', 'CustomName', 'Top_n_words', 'Probability']].copy()"
      ],
      "metadata": {
        "id": "oeYTHT5J5Oms"
      },
      "execution_count": null,
      "outputs": []
    },
    {
      "cell_type": "code",
      "source": [
        "col         = 'CustomName'\n",
        "conditions  = [ dfdata[col] == 'Environmental', (dfdata[col] =='Social') & (dfdata[col]== 'Governance')]\n",
        "choices     = [ 0, 1, 2 ]\n",
        "    \n",
        "dfdata[\"label\"] = np.where(dfdata[col] == 'Environmental', 0,(np.where(dfdata[col]=='Social',1,2)))\n"
      ],
      "metadata": {
        "id": "G2Vqhxo3EaU7"
      },
      "execution_count": null,
      "outputs": []
    },
    {
      "cell_type": "code",
      "source": [
        "#msk = np.random.rand(len(dfdata)) < 0.8\n",
        "\n",
        "#train = dfdata[msk]\n",
        "\n",
        "#test = dfdata[~msk]"
      ],
      "metadata": {
        "id": "E4Ys9a6q5ss4"
      },
      "execution_count": null,
      "outputs": []
    },
    {
      "cell_type": "code",
      "source": [],
      "metadata": {
        "id": "CivbcuFkU4TA"
      },
      "execution_count": null,
      "outputs": []
    },
    {
      "cell_type": "code",
      "source": [
        "test_df= pd.read_pickle('testdftopic2vec_v1.pkl')"
      ],
      "metadata": {
        "id": "5JdteY2R1Evo"
      },
      "execution_count": null,
      "outputs": []
    },
    {
      "cell_type": "code",
      "source": [
        "test_df.columns"
      ],
      "metadata": {
        "id": "r-bCB7F_2pPf",
        "colab": {
          "base_uri": "https://localhost:8080/"
        },
        "outputId": "439d38cc-a4c4-465a-92d7-c6e65e8c48f4"
      },
      "execution_count": null,
      "outputs": [
        {
          "output_type": "execute_result",
          "data": {
            "text/plain": [
              "Index(['doc', 'score', 'id', 'label'], dtype='object')"
            ]
          },
          "metadata": {},
          "execution_count": 119
        }
      ]
    },
    {
      "cell_type": "code",
      "source": [],
      "metadata": {
        "id": "ggIjNBso5ejL"
      },
      "execution_count": null,
      "outputs": []
    },
    {
      "cell_type": "code",
      "source": [
        "pip install swifter"
      ],
      "metadata": {
        "id": "GKpDQdxO48HS"
      },
      "execution_count": null,
      "outputs": []
    },
    {
      "cell_type": "code",
      "source": [
        "import swifter"
      ],
      "metadata": {
        "id": "0KczX_8C45lA"
      },
      "execution_count": null,
      "outputs": []
    },
    {
      "cell_type": "code",
      "source": [
        "test_df[\"Y_label\"] = np.where(test_df[col] == 'E', 0,(np.where(test_df[col]=='S',1,2)))"
      ],
      "metadata": {
        "id": "NQssPl3u2bA5"
      },
      "execution_count": null,
      "outputs": []
    },
    {
      "cell_type": "code",
      "source": [
        "test_df.columns"
      ],
      "metadata": {
        "id": "LFxGWGWkIeBH"
      },
      "execution_count": null,
      "outputs": []
    },
    {
      "cell_type": "code",
      "source": [
        "test_df['clean_doc']= test_df['doc'].apply(lambda x: final_processed_text(clean_doc(x)))"
      ],
      "metadata": {
        "id": "DCHhOVGFmTUK"
      },
      "execution_count": null,
      "outputs": []
    },
    {
      "cell_type": "code",
      "source": [],
      "metadata": {
        "colab": {
          "base_uri": "https://localhost:8080/",
          "height": 337
        },
        "id": "w3FkkohHmzD1",
        "outputId": "5c8fda35-27c9-467f-e211-18856fbb42e3"
      },
      "execution_count": null,
      "outputs": [
        {
          "output_type": "execute_result",
          "data": {
            "text/plain": [
              "                                                 doc     score      id label  \\\n",
              "0  we divert as much e-waste as possible from lan...  0.825526   99981     E   \n",
              "1  one of our most successful environmental initi...  0.801161   13240     E   \n",
              "2  we estimate that about 48% of our waste is div...  0.799703   96919     E   \n",
              "3  we are working to lessen our environmental imp...  0.797259   31693     E   \n",
              "4  wba continues to prioritize waste management a...  0.795229  105887     E   \n",
              "\n",
              "   Y_label                                            predict    customlabel  \\\n",
              "0        0  [{'label': 'Environmental', 'score': 0.9904370...  Environmental   \n",
              "1        0  [{'label': 'Environmental', 'score': 0.9921378...  Environmental   \n",
              "2        0  [{'label': 'Environmental', 'score': 0.9913393...  Environmental   \n",
              "3        0  [{'label': 'Environmental', 'score': 0.9923053...  Environmental   \n",
              "4        0  [{'label': 'Environmental', 'score': 0.9899513...  Environmental   \n",
              "\n",
              "                                           clean_doc  \n",
              "0  divert ewaste possible landfills reusing respo...  \n",
              "1  successful environmental initiatives waste div...  \n",
              "2  estimate waste diverted recycling stores distr...  \n",
              "3  working lessen environmental impact initiative...  \n",
              "4  continues prioritize waste management works bu...  "
            ],
            "text/html": [
              "\n",
              "  <div id=\"df-6fbf7a80-2ec8-4e9d-b0f3-f2b82e7547ee\">\n",
              "    <div class=\"colab-df-container\">\n",
              "      <div>\n",
              "<style scoped>\n",
              "    .dataframe tbody tr th:only-of-type {\n",
              "        vertical-align: middle;\n",
              "    }\n",
              "\n",
              "    .dataframe tbody tr th {\n",
              "        vertical-align: top;\n",
              "    }\n",
              "\n",
              "    .dataframe thead th {\n",
              "        text-align: right;\n",
              "    }\n",
              "</style>\n",
              "<table border=\"1\" class=\"dataframe\">\n",
              "  <thead>\n",
              "    <tr style=\"text-align: right;\">\n",
              "      <th></th>\n",
              "      <th>doc</th>\n",
              "      <th>score</th>\n",
              "      <th>id</th>\n",
              "      <th>label</th>\n",
              "      <th>Y_label</th>\n",
              "      <th>predict</th>\n",
              "      <th>customlabel</th>\n",
              "      <th>clean_doc</th>\n",
              "    </tr>\n",
              "  </thead>\n",
              "  <tbody>\n",
              "    <tr>\n",
              "      <th>0</th>\n",
              "      <td>we divert as much e-waste as possible from lan...</td>\n",
              "      <td>0.825526</td>\n",
              "      <td>99981</td>\n",
              "      <td>E</td>\n",
              "      <td>0</td>\n",
              "      <td>[{'label': 'Environmental', 'score': 0.9904370...</td>\n",
              "      <td>Environmental</td>\n",
              "      <td>divert ewaste possible landfills reusing respo...</td>\n",
              "    </tr>\n",
              "    <tr>\n",
              "      <th>1</th>\n",
              "      <td>one of our most successful environmental initi...</td>\n",
              "      <td>0.801161</td>\n",
              "      <td>13240</td>\n",
              "      <td>E</td>\n",
              "      <td>0</td>\n",
              "      <td>[{'label': 'Environmental', 'score': 0.9921378...</td>\n",
              "      <td>Environmental</td>\n",
              "      <td>successful environmental initiatives waste div...</td>\n",
              "    </tr>\n",
              "    <tr>\n",
              "      <th>2</th>\n",
              "      <td>we estimate that about 48% of our waste is div...</td>\n",
              "      <td>0.799703</td>\n",
              "      <td>96919</td>\n",
              "      <td>E</td>\n",
              "      <td>0</td>\n",
              "      <td>[{'label': 'Environmental', 'score': 0.9913393...</td>\n",
              "      <td>Environmental</td>\n",
              "      <td>estimate waste diverted recycling stores distr...</td>\n",
              "    </tr>\n",
              "    <tr>\n",
              "      <th>3</th>\n",
              "      <td>we are working to lessen our environmental imp...</td>\n",
              "      <td>0.797259</td>\n",
              "      <td>31693</td>\n",
              "      <td>E</td>\n",
              "      <td>0</td>\n",
              "      <td>[{'label': 'Environmental', 'score': 0.9923053...</td>\n",
              "      <td>Environmental</td>\n",
              "      <td>working lessen environmental impact initiative...</td>\n",
              "    </tr>\n",
              "    <tr>\n",
              "      <th>4</th>\n",
              "      <td>wba continues to prioritize waste management a...</td>\n",
              "      <td>0.795229</td>\n",
              "      <td>105887</td>\n",
              "      <td>E</td>\n",
              "      <td>0</td>\n",
              "      <td>[{'label': 'Environmental', 'score': 0.9899513...</td>\n",
              "      <td>Environmental</td>\n",
              "      <td>continues prioritize waste management works bu...</td>\n",
              "    </tr>\n",
              "  </tbody>\n",
              "</table>\n",
              "</div>\n",
              "      <button class=\"colab-df-convert\" onclick=\"convertToInteractive('df-6fbf7a80-2ec8-4e9d-b0f3-f2b82e7547ee')\"\n",
              "              title=\"Convert this dataframe to an interactive table.\"\n",
              "              style=\"display:none;\">\n",
              "        \n",
              "  <svg xmlns=\"http://www.w3.org/2000/svg\" height=\"24px\"viewBox=\"0 0 24 24\"\n",
              "       width=\"24px\">\n",
              "    <path d=\"M0 0h24v24H0V0z\" fill=\"none\"/>\n",
              "    <path d=\"M18.56 5.44l.94 2.06.94-2.06 2.06-.94-2.06-.94-.94-2.06-.94 2.06-2.06.94zm-11 1L8.5 8.5l.94-2.06 2.06-.94-2.06-.94L8.5 2.5l-.94 2.06-2.06.94zm10 10l.94 2.06.94-2.06 2.06-.94-2.06-.94-.94-2.06-.94 2.06-2.06.94z\"/><path d=\"M17.41 7.96l-1.37-1.37c-.4-.4-.92-.59-1.43-.59-.52 0-1.04.2-1.43.59L10.3 9.45l-7.72 7.72c-.78.78-.78 2.05 0 2.83L4 21.41c.39.39.9.59 1.41.59.51 0 1.02-.2 1.41-.59l7.78-7.78 2.81-2.81c.8-.78.8-2.07 0-2.86zM5.41 20L4 18.59l7.72-7.72 1.47 1.35L5.41 20z\"/>\n",
              "  </svg>\n",
              "      </button>\n",
              "      \n",
              "  <style>\n",
              "    .colab-df-container {\n",
              "      display:flex;\n",
              "      flex-wrap:wrap;\n",
              "      gap: 12px;\n",
              "    }\n",
              "\n",
              "    .colab-df-convert {\n",
              "      background-color: #E8F0FE;\n",
              "      border: none;\n",
              "      border-radius: 50%;\n",
              "      cursor: pointer;\n",
              "      display: none;\n",
              "      fill: #1967D2;\n",
              "      height: 32px;\n",
              "      padding: 0 0 0 0;\n",
              "      width: 32px;\n",
              "    }\n",
              "\n",
              "    .colab-df-convert:hover {\n",
              "      background-color: #E2EBFA;\n",
              "      box-shadow: 0px 1px 2px rgba(60, 64, 67, 0.3), 0px 1px 3px 1px rgba(60, 64, 67, 0.15);\n",
              "      fill: #174EA6;\n",
              "    }\n",
              "\n",
              "    [theme=dark] .colab-df-convert {\n",
              "      background-color: #3B4455;\n",
              "      fill: #D2E3FC;\n",
              "    }\n",
              "\n",
              "    [theme=dark] .colab-df-convert:hover {\n",
              "      background-color: #434B5C;\n",
              "      box-shadow: 0px 1px 3px 1px rgba(0, 0, 0, 0.15);\n",
              "      filter: drop-shadow(0px 1px 2px rgba(0, 0, 0, 0.3));\n",
              "      fill: #FFFFFF;\n",
              "    }\n",
              "  </style>\n",
              "\n",
              "      <script>\n",
              "        const buttonEl =\n",
              "          document.querySelector('#df-6fbf7a80-2ec8-4e9d-b0f3-f2b82e7547ee button.colab-df-convert');\n",
              "        buttonEl.style.display =\n",
              "          google.colab.kernel.accessAllowed ? 'block' : 'none';\n",
              "\n",
              "        async function convertToInteractive(key) {\n",
              "          const element = document.querySelector('#df-6fbf7a80-2ec8-4e9d-b0f3-f2b82e7547ee');\n",
              "          const dataTable =\n",
              "            await google.colab.kernel.invokeFunction('convertToInteractive',\n",
              "                                                     [key], {});\n",
              "          if (!dataTable) return;\n",
              "\n",
              "          const docLinkHtml = 'Like what you see? Visit the ' +\n",
              "            '<a target=\"_blank\" href=https://colab.research.google.com/notebooks/data_table.ipynb>data table notebook</a>'\n",
              "            + ' to learn more about interactive tables.';\n",
              "          element.innerHTML = '';\n",
              "          dataTable['output_type'] = 'display_data';\n",
              "          await google.colab.output.renderOutput(dataTable, element);\n",
              "          const docLink = document.createElement('div');\n",
              "          docLink.innerHTML = docLinkHtml;\n",
              "          element.appendChild(docLink);\n",
              "        }\n",
              "      </script>\n",
              "    </div>\n",
              "  </div>\n",
              "  "
            ]
          },
          "metadata": {},
          "execution_count": 188
        }
      ]
    },
    {
      "cell_type": "code",
      "source": [
        "test_df['predict']= test_df['doc'].swifter.apply(nlp)"
      ],
      "metadata": {
        "colab": {
          "base_uri": "https://localhost:8080/",
          "height": 49,
          "referenced_widgets": [
            "5c2226faaffa42fe9ea3694bfc8bdd3b",
            "94e6ca9f50a34ebebdf7e41e6ff8ac0e",
            "c149fda09a754ffa9a9b63f5e4fda444",
            "36af841ed2e84d5c88095352cfc88994",
            "281d3079202a4d1ebb6363399cf890bd",
            "43e3427e5adb4ce4abe614a5d9f85d39",
            "68746a747a71486d822ec422cd96edc2",
            "4549bd2553e745d587c0c39fab520d1d",
            "95cef9be52de4c46826fc5bbae93a17b",
            "d83fd52e2b3f41b0a52607696eaf772e",
            "a6c80591e73e40c28a54b7bf014a3b10"
          ]
        },
        "id": "8Z7Zct0g4SG5",
        "outputId": "3add4d84-75d3-453b-adc3-239dcfe29612"
      },
      "execution_count": null,
      "outputs": [
        {
          "output_type": "display_data",
          "data": {
            "text/plain": [
              "Pandas Apply:   0%|          | 0/17000 [00:00<?, ?it/s]"
            ],
            "application/vnd.jupyter.widget-view+json": {
              "version_major": 2,
              "version_minor": 0,
              "model_id": "5c2226faaffa42fe9ea3694bfc8bdd3b"
            }
          },
          "metadata": {}
        }
      ]
    },
    {
      "cell_type": "code",
      "source": [
        "test_df= test_df.reset_index()"
      ],
      "metadata": {
        "id": "7G_blFQcnFCG"
      },
      "execution_count": null,
      "outputs": []
    },
    {
      "cell_type": "code",
      "source": [
        "test_df['predict_cleandoc']= test_df['clean_doc'].swifter.apply(nlp)"
      ],
      "metadata": {
        "colab": {
          "base_uri": "https://localhost:8080/",
          "height": 49,
          "referenced_widgets": [
            "1db535d2e9bd486e8e59f700a49eef54",
            "135c28e710214bf18972880d3bce78ef",
            "9063c7a2e90849ae8c30f4ae33999b8d",
            "608affbd79454bef82325c7914088fed",
            "4b9f2fb1558446eb8223e1e922942106",
            "bba76fc67a914c59b2a6440cd43f312a",
            "d78d09b576994c95b66273efedbabbbe",
            "f8e063ac43a14f35b9036f07120f5011",
            "e0e79240b3b34baebf5aa3174f84568b",
            "4bde22eb7b1a445ab395af84170f96ce",
            "b34511bf172045a98c2c818494654477"
          ]
        },
        "id": "Lk-xkFtOm6Rk",
        "outputId": "d7b0e036-39ab-4d17-f871-dcb73f11e688"
      },
      "execution_count": null,
      "outputs": [
        {
          "output_type": "display_data",
          "data": {
            "text/plain": [
              "Pandas Apply:   0%|          | 0/17000 [00:00<?, ?it/s]"
            ],
            "application/vnd.jupyter.widget-view+json": {
              "version_major": 2,
              "version_minor": 0,
              "model_id": "1db535d2e9bd486e8e59f700a49eef54"
            }
          },
          "metadata": {}
        }
      ]
    },
    {
      "cell_type": "code",
      "source": [
        "test_df.columns"
      ],
      "metadata": {
        "colab": {
          "base_uri": "https://localhost:8080/"
        },
        "id": "X7v6-GJ7vw29",
        "outputId": "e2a9c453-e825-4377-dbae-eaed2f21322c"
      },
      "execution_count": null,
      "outputs": [
        {
          "output_type": "execute_result",
          "data": {
            "text/plain": [
              "Index(['index', 'doc', 'score', 'id', 'label', 'Y_label', 'predict',\n",
              "       'customlabel', 'clean_doc', 'predict_cleandoc'],\n",
              "      dtype='object')"
            ]
          },
          "metadata": {},
          "execution_count": 206
        }
      ]
    },
    {
      "cell_type": "code",
      "source": [
        "test_df.to_pickle(\"testdata_clean_nlp.pkl\")"
      ],
      "metadata": {
        "id": "KdS9JyysqabF"
      },
      "execution_count": null,
      "outputs": []
    },
    {
      "cell_type": "code",
      "source": [
        "from google.colab import files\n",
        "files.download('testdata_clean_nlp.pkl') "
      ],
      "metadata": {
        "colab": {
          "base_uri": "https://localhost:8080/",
          "height": 17
        },
        "id": "sisetTuOqm31",
        "outputId": "cf99c48c-a712-4e03-bcd1-c07a1c2dde55"
      },
      "execution_count": null,
      "outputs": [
        {
          "output_type": "display_data",
          "data": {
            "text/plain": [
              "<IPython.core.display.Javascript object>"
            ],
            "application/javascript": [
              "\n",
              "    async function download(id, filename, size) {\n",
              "      if (!google.colab.kernel.accessAllowed) {\n",
              "        return;\n",
              "      }\n",
              "      const div = document.createElement('div');\n",
              "      const label = document.createElement('label');\n",
              "      label.textContent = `Downloading \"${filename}\": `;\n",
              "      div.appendChild(label);\n",
              "      const progress = document.createElement('progress');\n",
              "      progress.max = size;\n",
              "      div.appendChild(progress);\n",
              "      document.body.appendChild(div);\n",
              "\n",
              "      const buffers = [];\n",
              "      let downloaded = 0;\n",
              "\n",
              "      const channel = await google.colab.kernel.comms.open(id);\n",
              "      // Send a message to notify the kernel that we're ready.\n",
              "      channel.send({})\n",
              "\n",
              "      for await (const message of channel.messages) {\n",
              "        // Send a message to notify the kernel that we're ready.\n",
              "        channel.send({})\n",
              "        if (message.buffers) {\n",
              "          for (const buffer of message.buffers) {\n",
              "            buffers.push(buffer);\n",
              "            downloaded += buffer.byteLength;\n",
              "            progress.value = downloaded;\n",
              "          }\n",
              "        }\n",
              "      }\n",
              "      const blob = new Blob(buffers, {type: 'application/binary'});\n",
              "      const a = document.createElement('a');\n",
              "      a.href = window.URL.createObjectURL(blob);\n",
              "      a.download = filename;\n",
              "      div.appendChild(a);\n",
              "      a.click();\n",
              "      div.remove();\n",
              "    }\n",
              "  "
            ]
          },
          "metadata": {}
        },
        {
          "output_type": "display_data",
          "data": {
            "text/plain": [
              "<IPython.core.display.Javascript object>"
            ],
            "application/javascript": [
              "download(\"download_b8379c8d-97a1-496d-8488-11bfdeb38d6b\", \"testdata_clean_nlp.pkl\", 7711169)"
            ]
          },
          "metadata": {}
        }
      ]
    },
    {
      "cell_type": "code",
      "source": [
        "tls = test_df['predict_cleandoc'].apply(lambda x: x[0]).apply(pd.Series)"
      ],
      "metadata": {
        "id": "-AL9d61o_Wo0"
      },
      "execution_count": null,
      "outputs": []
    },
    {
      "cell_type": "code",
      "source": [
        "tls.head()"
      ],
      "metadata": {
        "colab": {
          "base_uri": "https://localhost:8080/",
          "height": 206
        },
        "id": "u1xShePY__Dx",
        "outputId": "9846b141-be66-4d55-8532-2b072e48b325"
      },
      "execution_count": null,
      "outputs": [
        {
          "output_type": "execute_result",
          "data": {
            "text/plain": [
              "           label     score\n",
              "0  Environmental  0.988906\n",
              "1  Environmental  0.990335\n",
              "2  Environmental  0.990742\n",
              "3  Environmental  0.991671\n",
              "4  Environmental  0.987630"
            ],
            "text/html": [
              "\n",
              "  <div id=\"df-df66607f-5370-4a85-88a3-33c061cd9472\">\n",
              "    <div class=\"colab-df-container\">\n",
              "      <div>\n",
              "<style scoped>\n",
              "    .dataframe tbody tr th:only-of-type {\n",
              "        vertical-align: middle;\n",
              "    }\n",
              "\n",
              "    .dataframe tbody tr th {\n",
              "        vertical-align: top;\n",
              "    }\n",
              "\n",
              "    .dataframe thead th {\n",
              "        text-align: right;\n",
              "    }\n",
              "</style>\n",
              "<table border=\"1\" class=\"dataframe\">\n",
              "  <thead>\n",
              "    <tr style=\"text-align: right;\">\n",
              "      <th></th>\n",
              "      <th>label</th>\n",
              "      <th>score</th>\n",
              "    </tr>\n",
              "  </thead>\n",
              "  <tbody>\n",
              "    <tr>\n",
              "      <th>0</th>\n",
              "      <td>Environmental</td>\n",
              "      <td>0.988906</td>\n",
              "    </tr>\n",
              "    <tr>\n",
              "      <th>1</th>\n",
              "      <td>Environmental</td>\n",
              "      <td>0.990335</td>\n",
              "    </tr>\n",
              "    <tr>\n",
              "      <th>2</th>\n",
              "      <td>Environmental</td>\n",
              "      <td>0.990742</td>\n",
              "    </tr>\n",
              "    <tr>\n",
              "      <th>3</th>\n",
              "      <td>Environmental</td>\n",
              "      <td>0.991671</td>\n",
              "    </tr>\n",
              "    <tr>\n",
              "      <th>4</th>\n",
              "      <td>Environmental</td>\n",
              "      <td>0.987630</td>\n",
              "    </tr>\n",
              "  </tbody>\n",
              "</table>\n",
              "</div>\n",
              "      <button class=\"colab-df-convert\" onclick=\"convertToInteractive('df-df66607f-5370-4a85-88a3-33c061cd9472')\"\n",
              "              title=\"Convert this dataframe to an interactive table.\"\n",
              "              style=\"display:none;\">\n",
              "        \n",
              "  <svg xmlns=\"http://www.w3.org/2000/svg\" height=\"24px\"viewBox=\"0 0 24 24\"\n",
              "       width=\"24px\">\n",
              "    <path d=\"M0 0h24v24H0V0z\" fill=\"none\"/>\n",
              "    <path d=\"M18.56 5.44l.94 2.06.94-2.06 2.06-.94-2.06-.94-.94-2.06-.94 2.06-2.06.94zm-11 1L8.5 8.5l.94-2.06 2.06-.94-2.06-.94L8.5 2.5l-.94 2.06-2.06.94zm10 10l.94 2.06.94-2.06 2.06-.94-2.06-.94-.94-2.06-.94 2.06-2.06.94z\"/><path d=\"M17.41 7.96l-1.37-1.37c-.4-.4-.92-.59-1.43-.59-.52 0-1.04.2-1.43.59L10.3 9.45l-7.72 7.72c-.78.78-.78 2.05 0 2.83L4 21.41c.39.39.9.59 1.41.59.51 0 1.02-.2 1.41-.59l7.78-7.78 2.81-2.81c.8-.78.8-2.07 0-2.86zM5.41 20L4 18.59l7.72-7.72 1.47 1.35L5.41 20z\"/>\n",
              "  </svg>\n",
              "      </button>\n",
              "      \n",
              "  <style>\n",
              "    .colab-df-container {\n",
              "      display:flex;\n",
              "      flex-wrap:wrap;\n",
              "      gap: 12px;\n",
              "    }\n",
              "\n",
              "    .colab-df-convert {\n",
              "      background-color: #E8F0FE;\n",
              "      border: none;\n",
              "      border-radius: 50%;\n",
              "      cursor: pointer;\n",
              "      display: none;\n",
              "      fill: #1967D2;\n",
              "      height: 32px;\n",
              "      padding: 0 0 0 0;\n",
              "      width: 32px;\n",
              "    }\n",
              "\n",
              "    .colab-df-convert:hover {\n",
              "      background-color: #E2EBFA;\n",
              "      box-shadow: 0px 1px 2px rgba(60, 64, 67, 0.3), 0px 1px 3px 1px rgba(60, 64, 67, 0.15);\n",
              "      fill: #174EA6;\n",
              "    }\n",
              "\n",
              "    [theme=dark] .colab-df-convert {\n",
              "      background-color: #3B4455;\n",
              "      fill: #D2E3FC;\n",
              "    }\n",
              "\n",
              "    [theme=dark] .colab-df-convert:hover {\n",
              "      background-color: #434B5C;\n",
              "      box-shadow: 0px 1px 3px 1px rgba(0, 0, 0, 0.15);\n",
              "      filter: drop-shadow(0px 1px 2px rgba(0, 0, 0, 0.3));\n",
              "      fill: #FFFFFF;\n",
              "    }\n",
              "  </style>\n",
              "\n",
              "      <script>\n",
              "        const buttonEl =\n",
              "          document.querySelector('#df-df66607f-5370-4a85-88a3-33c061cd9472 button.colab-df-convert');\n",
              "        buttonEl.style.display =\n",
              "          google.colab.kernel.accessAllowed ? 'block' : 'none';\n",
              "\n",
              "        async function convertToInteractive(key) {\n",
              "          const element = document.querySelector('#df-df66607f-5370-4a85-88a3-33c061cd9472');\n",
              "          const dataTable =\n",
              "            await google.colab.kernel.invokeFunction('convertToInteractive',\n",
              "                                                     [key], {});\n",
              "          if (!dataTable) return;\n",
              "\n",
              "          const docLinkHtml = 'Like what you see? Visit the ' +\n",
              "            '<a target=\"_blank\" href=https://colab.research.google.com/notebooks/data_table.ipynb>data table notebook</a>'\n",
              "            + ' to learn more about interactive tables.';\n",
              "          element.innerHTML = '';\n",
              "          dataTable['output_type'] = 'display_data';\n",
              "          await google.colab.output.renderOutput(dataTable, element);\n",
              "          const docLink = document.createElement('div');\n",
              "          docLink.innerHTML = docLinkHtml;\n",
              "          element.appendChild(docLink);\n",
              "        }\n",
              "      </script>\n",
              "    </div>\n",
              "  </div>\n",
              "  "
            ]
          },
          "metadata": {},
          "execution_count": 208
        }
      ]
    },
    {
      "cell_type": "code",
      "source": [
        "tls.coloums=['label_p','score']"
      ],
      "metadata": {
        "colab": {
          "base_uri": "https://localhost:8080/"
        },
        "id": "crBhSkFwBChX",
        "outputId": "34bff529-11fc-4fe9-b191-94e9cb6fc181"
      },
      "execution_count": null,
      "outputs": [
        {
          "output_type": "stream",
          "name": "stderr",
          "text": [
            "<ipython-input-209-ab2694dbb9fa>:1: UserWarning: Pandas doesn't allow columns to be created via a new attribute name - see https://pandas.pydata.org/pandas-docs/stable/indexing.html#attribute-access\n",
            "  tls.coloums=['label_p','score']\n"
          ]
        }
      ]
    },
    {
      "cell_type": "code",
      "source": [
        "tls.coloums"
      ],
      "metadata": {
        "colab": {
          "base_uri": "https://localhost:8080/"
        },
        "id": "HOtCzpWOEr4B",
        "outputId": "9b1200d6-0a14-4a8c-c4d3-56ed7d95ce1f"
      },
      "execution_count": null,
      "outputs": [
        {
          "output_type": "execute_result",
          "data": {
            "text/plain": [
              "['label_p', 'score']"
            ]
          },
          "metadata": {},
          "execution_count": 210
        }
      ]
    },
    {
      "cell_type": "code",
      "source": [
        "test_df['label'].unique()"
      ],
      "metadata": {
        "colab": {
          "base_uri": "https://localhost:8080/"
        },
        "id": "6UD9avYuFhxI",
        "outputId": "df8f97b8-e6af-4ab6-adbb-06d50404a657"
      },
      "execution_count": null,
      "outputs": [
        {
          "output_type": "execute_result",
          "data": {
            "text/plain": [
              "array(['E', 'S', 'G'], dtype=object)"
            ]
          },
          "metadata": {},
          "execution_count": 202
        }
      ]
    },
    {
      "cell_type": "code",
      "source": [
        "col='label'\n",
        "test_df[\"customlabel\"] = np.where(test_df[col] == 'E', 'Environmental',(np.where(test_df[col]=='S','Social','Governance')))"
      ],
      "metadata": {
        "id": "MEibiub1Acts"
      },
      "execution_count": null,
      "outputs": []
    },
    {
      "cell_type": "code",
      "source": [
        "testdata = pd.concat((test_df,tls), axis =1)"
      ],
      "metadata": {
        "id": "ivbZoFf2_b1c"
      },
      "execution_count": null,
      "outputs": []
    },
    {
      "cell_type": "code",
      "source": [
        "testdata.columns"
      ],
      "metadata": {
        "colab": {
          "base_uri": "https://localhost:8080/"
        },
        "id": "uzxmo7Alvj1E",
        "outputId": "1a0eb0a5-4eab-426a-9efa-d1a885315c16"
      },
      "execution_count": null,
      "outputs": [
        {
          "output_type": "execute_result",
          "data": {
            "text/plain": [
              "Index(['index', 'doc', 'score', 'id', 'label', 'Y_label', 'predict',\n",
              "       'customlabel', 'clean_doc', 'predict_cleandoc', 'label', 'score'],\n",
              "      dtype='object')"
            ]
          },
          "metadata": {},
          "execution_count": 215
        }
      ]
    },
    {
      "cell_type": "code",
      "source": [
        "testdata.columns= ['index','doc', 'score', 'id', 'label', 'Y_label', 'predict', 'customlabel','clean_doc', 'predict_cleandoc',\n",
        "       'label_p', 'score_p']"
      ],
      "metadata": {
        "id": "vTYazSoo_rZ1"
      },
      "execution_count": null,
      "outputs": []
    },
    {
      "cell_type": "code",
      "source": [
        "test_df[test_df['score']>0.7].shape"
      ],
      "metadata": {
        "colab": {
          "base_uri": "https://localhost:8080/"
        },
        "id": "F-vxvJBtF-S3",
        "outputId": "a5d6952a-e136-48c9-f004-3038de5441e8"
      },
      "execution_count": null,
      "outputs": [
        {
          "output_type": "execute_result",
          "data": {
            "text/plain": [
              "(1599, 7)"
            ]
          },
          "metadata": {},
          "execution_count": 146
        }
      ]
    },
    {
      "cell_type": "code",
      "source": [
        "cleantest_df.iloc[351]['doc']"
      ],
      "metadata": {
        "colab": {
          "base_uri": "https://localhost:8080/",
          "height": 70
        },
        "id": "KfXq1VmRjY_k",
        "outputId": "e2076ed1-219f-4da1-ceda-206b6e885396"
      },
      "execution_count": null,
      "outputs": [
        {
          "output_type": "execute_result",
          "data": {
            "text/plain": [
              "'total e-waste processed 804,687 970,526 1,003,069 total e-waste recovered 798,006 965,931 997,539 recycling 736,061 897,337 964,608 resale 51,909 54,958 32,931 return to service 10,036 13,636 total e-waste sent to landfill 6,681 4,595 5,530 landfill diversion rate for e-waste <1% <1% <1% footnotes 1 includes electricity only.'"
            ],
            "application/vnd.google.colaboratory.intrinsic+json": {
              "type": "string"
            }
          },
          "metadata": {},
          "execution_count": 171
        }
      ]
    },
    {
      "cell_type": "code",
      "source": [
        "tokenizer(\"total e-waste processed 804,687 970,526 1,003,069 total e-waste recovered 798,006 965,931 997,539 recycling 736,061 897,337 964,608 resale 51,909 54,958 32,931 return to service 10,036 13,636 total e-waste sent to landfill 6,681 4,595 5,530 landfill diversion rate for e-waste <1% <1% <1% footnotes 1 includes electricity only\")"
      ],
      "metadata": {
        "colab": {
          "base_uri": "https://localhost:8080/"
        },
        "id": "_MjmDW-GjsoW",
        "outputId": "b4671d56-a104-40a3-c013-f56694223616"
      },
      "execution_count": null,
      "outputs": [
        {
          "output_type": "execute_result",
          "data": {
            "text/plain": [
              "{'input_ids': [3, 87, 2178, 85, 2520, 5234, 2165, 712, 585, 4007, 767, 5706, 487, 585, 2906, 727, 428, 585, 15942, 585, 10373, 702, 87, 2178, 85, 2520, 4526, 4484, 711, 585, 18035, 727, 5101, 651, 585, 5018, 584, 5192, 767, 585, 3278, 702, 6979, 4992, 727, 585, 10373, 584, 4789, 767, 585, 20676, 5101, 712, 585, 1594, 711, 5770, 3559, 585, 1731, 702, 3639, 585, 4689, 711, 2909, 585, 5018, 584, 296, 9, 205, 685, 585, 16354, 727, 1412, 585, 4182, 727, 87, 2178, 85, 2520, 6433, 9, 9253, 1146, 585, 4007, 584, 973, 585, 3812, 651, 898, 585, 17141, 9253, 6043, 102, 14, 2178, 85, 2520, 30838, 428, 739, 30838, 428, 739, 30838, 428, 739, 13495, 428, 377, 2800, 220, 4], 'token_type_ids': [0, 0, 0, 0, 0, 0, 0, 0, 0, 0, 0, 0, 0, 0, 0, 0, 0, 0, 0, 0, 0, 0, 0, 0, 0, 0, 0, 0, 0, 0, 0, 0, 0, 0, 0, 0, 0, 0, 0, 0, 0, 0, 0, 0, 0, 0, 0, 0, 0, 0, 0, 0, 0, 0, 0, 0, 0, 0, 0, 0, 0, 0, 0, 0, 0, 0, 0, 0, 0, 0, 0, 0, 0, 0, 0, 0, 0, 0, 0, 0, 0, 0, 0, 0, 0, 0, 0, 0, 0, 0, 0, 0, 0, 0, 0, 0, 0, 0, 0, 0, 0, 0, 0, 0, 0, 0, 0, 0, 0, 0, 0, 0, 0, 0, 0, 0, 0, 0, 0, 0, 0], 'attention_mask': [1, 1, 1, 1, 1, 1, 1, 1, 1, 1, 1, 1, 1, 1, 1, 1, 1, 1, 1, 1, 1, 1, 1, 1, 1, 1, 1, 1, 1, 1, 1, 1, 1, 1, 1, 1, 1, 1, 1, 1, 1, 1, 1, 1, 1, 1, 1, 1, 1, 1, 1, 1, 1, 1, 1, 1, 1, 1, 1, 1, 1, 1, 1, 1, 1, 1, 1, 1, 1, 1, 1, 1, 1, 1, 1, 1, 1, 1, 1, 1, 1, 1, 1, 1, 1, 1, 1, 1, 1, 1, 1, 1, 1, 1, 1, 1, 1, 1, 1, 1, 1, 1, 1, 1, 1, 1, 1, 1, 1, 1, 1, 1, 1, 1, 1, 1, 1, 1, 1, 1, 1]}"
            ]
          },
          "metadata": {},
          "execution_count": 172
        }
      ]
    },
    {
      "cell_type": "code",
      "source": [
        "testdata[(testdata['customlabel']!= testdata['label_p'])& (testdata['score_p']>0.7)]"
      ],
      "metadata": {
        "id": "XiollQkbFInR"
      },
      "execution_count": null,
      "outputs": []
    },
    {
      "cell_type": "code",
      "source": [],
      "metadata": {
        "id": "jddQ5Dg5wveq"
      },
      "execution_count": null,
      "outputs": []
    },
    {
      "cell_type": "code",
      "source": [
        "testdata.to_pickle('testdata_nlpbert.pkl')"
      ],
      "metadata": {
        "id": "OYtjwjWFTsjM"
      },
      "execution_count": null,
      "outputs": []
    },
    {
      "cell_type": "code",
      "source": [
        "from sklearn.naive_bayes import MultinomialNB\n",
        "from sklearn.linear_model import LogisticRegression\n",
        "from sklearn.ensemble import RandomForestClassifier"
      ],
      "metadata": {
        "id": "WgDA7CH86Wfy"
      },
      "execution_count": null,
      "outputs": []
    },
    {
      "cell_type": "code",
      "source": [
        "from sklearn.model_selection import train_test_split"
      ],
      "metadata": {
        "id": "SnZuvV9-78nh"
      },
      "execution_count": null,
      "outputs": []
    },
    {
      "cell_type": "code",
      "source": [
        "X = dfdata[\"Document\"].tolist()\n",
        "y = dfdata[\"label\"].tolist()"
      ],
      "metadata": {
        "id": "hGvMg5yT8HXr"
      },
      "execution_count": null,
      "outputs": []
    },
    {
      "cell_type": "code",
      "source": [],
      "metadata": {
        "id": "gxtzyG7oDxVO"
      },
      "execution_count": null,
      "outputs": []
    },
    {
      "cell_type": "code",
      "source": [
        "X_train, X_test, y_train, y_test = train_test_split(X, y,test_size=0.5,random_state=101)"
      ],
      "metadata": {
        "id": "TlSKuXjd8X6S"
      },
      "execution_count": null,
      "outputs": []
    },
    {
      "cell_type": "code",
      "source": [
        "X_test= test_df['doc'].tolist()\n",
        "Y_test= test_df['Y_label'].tolist()"
      ],
      "metadata": {
        "id": "9zx6E7ko27cv"
      },
      "execution_count": null,
      "outputs": []
    },
    {
      "cell_type": "code",
      "source": [
        "from sklearn.feature_extraction.text import CountVectorizer, TfidfVectorizer\n",
        "cv = CountVectorizer()"
      ],
      "metadata": {
        "id": "Pp9IMn8z8aMb"
      },
      "execution_count": null,
      "outputs": []
    },
    {
      "cell_type": "code",
      "source": [
        "tv= TfidfVectorizer()"
      ],
      "metadata": {
        "id": "O_3qwZRJ-9PT"
      },
      "execution_count": null,
      "outputs": []
    },
    {
      "cell_type": "code",
      "source": [
        "x_train = cv.fit_transform(X_train)\n",
        "x_test = cv.transform(X_test)"
      ],
      "metadata": {
        "id": "LrSdV-Wm8xQI"
      },
      "execution_count": null,
      "outputs": []
    },
    {
      "cell_type": "code",
      "source": [],
      "metadata": {
        "id": "5-80Mqp63kMh"
      },
      "execution_count": null,
      "outputs": []
    },
    {
      "cell_type": "code",
      "source": [
        "xtrain= tv.fit_transform(X_train)\n",
        "xtest = tv.fit(X_test)"
      ],
      "metadata": {
        "id": "e4UB0SzC80V8"
      },
      "execution_count": null,
      "outputs": []
    },
    {
      "cell_type": "code",
      "source": [
        "xtrain.toarray()[0]"
      ],
      "metadata": {
        "colab": {
          "base_uri": "https://localhost:8080/"
        },
        "id": "dRPzwUWU_hEv",
        "outputId": "65136f3a-7db2-4164-f648-8ff32e8ed32b"
      },
      "execution_count": null,
      "outputs": [
        {
          "output_type": "execute_result",
          "data": {
            "text/plain": [
              "array([0., 0., 0., ..., 0., 0., 0.])"
            ]
          },
          "metadata": {},
          "execution_count": 131
        }
      ]
    },
    {
      "cell_type": "code",
      "source": [
        "def classifiers(x, y, model_type, cv = 3):\n",
        "    \n",
        "    #this function is to fit 3 different model scenarios.  Support vector machines, logistic regressions, naive bayes.\n",
        "    #svm = Support vector machin\n",
        "    #logistic = Logistic regression\n",
        "    #naive_bayes = Naive Bayes Multinomial\n",
        "    \n",
        "    #can define cv value for cross validation.\n",
        "    \n",
        "    #function returns the train test split scores of each model.\n",
        "    \n",
        "    if model_type == 'svm':\n",
        "        print(\"svm\")\n",
        "        model = SVC()\n",
        "\n",
        "    elif model_type == 'logistic':\n",
        "        print(\"logistic\")\n",
        "        model = LogisticRegression()\n",
        "\n",
        "    elif model_type == 'naive_bayes':\n",
        "        print(\"naive_bayes\")\n",
        "        model = MultinomialNB()\n",
        "    \n",
        "    elif model_type == 'randomforest':\n",
        "        print(\"randomforest\")\n",
        "        model = RandomForestClassifier()\n",
        "    \n",
        "    model.fit(x,y)\n",
        "\n",
        "    \n",
        "   \n",
        "\n",
        "    \n",
        "    predictions = model.predict(x)\n",
        "    accy = accuracy_score(y, predictions)\n",
        "    \n",
        "    return model , accy"
      ],
      "metadata": {
        "id": "oGjThC12AXbo"
      },
      "execution_count": null,
      "outputs": []
    },
    {
      "cell_type": "code",
      "source": [
        "sv, acc = classifiers(x_train,y_train,  'svm')"
      ],
      "metadata": {
        "colab": {
          "base_uri": "https://localhost:8080/"
        },
        "id": "8oMy3YpYBczX",
        "outputId": "c56ff390-5b57-44e2-a338-f1fe079129bd"
      },
      "execution_count": null,
      "outputs": [
        {
          "output_type": "stream",
          "name": "stdout",
          "text": [
            "svm\n"
          ]
        }
      ]
    },
    {
      "cell_type": "code",
      "source": [
        "acc"
      ],
      "metadata": {
        "colab": {
          "base_uri": "https://localhost:8080/"
        },
        "id": "oKSS09WJEGmx",
        "outputId": "f285501d-d3e5-46f2-b5af-6c39c9b95a69"
      },
      "execution_count": null,
      "outputs": [
        {
          "output_type": "execute_result",
          "data": {
            "text/plain": [
              "0.9903772132409546"
            ]
          },
          "metadata": {},
          "execution_count": 151
        }
      ]
    },
    {
      "cell_type": "code",
      "source": [
        "y_pred = sv.predict(x_test)"
      ],
      "metadata": {
        "id": "Khh3wuoJDZRa"
      },
      "execution_count": null,
      "outputs": []
    },
    {
      "cell_type": "code",
      "source": [],
      "metadata": {
        "id": "t-_b8cEFDZVC"
      },
      "execution_count": null,
      "outputs": []
    },
    {
      "cell_type": "code",
      "source": [
        "from sklearn.metrics import accuracy_score,confusion_matrix,classification_report"
      ],
      "metadata": {
        "id": "ePXse7oGCSiv"
      },
      "execution_count": null,
      "outputs": []
    },
    {
      "cell_type": "code",
      "source": [
        "print(\"Accuracy : \", round(accuracy_score(Y_test, y_pred)*100, 2), \"%\")"
      ],
      "metadata": {
        "colab": {
          "base_uri": "https://localhost:8080/"
        },
        "id": "eeJtiDR9DJvh",
        "outputId": "f26f8760-6ced-489c-acba-a1231f13718c"
      },
      "execution_count": null,
      "outputs": [
        {
          "output_type": "stream",
          "name": "stdout",
          "text": [
            "Accuracy :  52.09 %\n"
          ]
        }
      ]
    },
    {
      "cell_type": "code",
      "source": [
        "print(\"Confusion Matrix\")\n",
        "print('\\n')\n",
        "print(confusion_matrix(y_test, y_pred))\n",
        "print('\\n')\n",
        "print(\"Classification Report\")\n",
        "print('\\n')\n",
        "print(classification_report(y_test, y_pred))"
      ],
      "metadata": {
        "colab": {
          "base_uri": "https://localhost:8080/"
        },
        "id": "aEJYKgF5DKdH",
        "outputId": "e9686648-537b-4ea1-e500-3b14e2b1a707"
      },
      "execution_count": null,
      "outputs": [
        {
          "output_type": "stream",
          "name": "stdout",
          "text": [
            "Confusion Matrix\n",
            "\n",
            "\n",
            "[[ 364   65    0]\n",
            " [   3 1447    1]\n",
            " [   0   15  184]]\n",
            "\n",
            "\n",
            "Classification Report\n",
            "\n",
            "\n",
            "              precision    recall  f1-score   support\n",
            "\n",
            "           0       0.99      0.85      0.91       429\n",
            "           1       0.95      1.00      0.97      1451\n",
            "           2       0.99      0.92      0.96       199\n",
            "\n",
            "    accuracy                           0.96      2079\n",
            "   macro avg       0.98      0.92      0.95      2079\n",
            "weighted avg       0.96      0.96      0.96      2079\n",
            "\n"
          ]
        }
      ]
    },
    {
      "cell_type": "code",
      "source": [
        "test  = cv.transform([\"ncome. Income, or how much money we have, can determine where we live, food\"])"
      ],
      "metadata": {
        "id": "X9xXKrXiGfL2"
      },
      "execution_count": null,
      "outputs": []
    },
    {
      "cell_type": "code",
      "source": [
        "sv.predict(test)"
      ],
      "metadata": {
        "colab": {
          "base_uri": "https://localhost:8080/"
        },
        "id": "vtAneeVnHyEm",
        "outputId": "a5b79147-0eaa-467a-8ad6-e8c14d256d33"
      },
      "execution_count": null,
      "outputs": [
        {
          "output_type": "execute_result",
          "data": {
            "text/plain": [
              "array([1])"
            ]
          },
          "metadata": {},
          "execution_count": 162
        }
      ]
    },
    {
      "cell_type": "markdown",
      "source": [
        "Naivebayes"
      ],
      "metadata": {
        "id": "151tBJpKnexN"
      }
    },
    {
      "cell_type": "code",
      "source": [
        "nv, nv_acc= classifiers(x_train,y_train,  'naive_bayes')"
      ],
      "metadata": {
        "colab": {
          "base_uri": "https://localhost:8080/"
        },
        "id": "UF95Xbcfndur",
        "outputId": "34f57c27-8033-4ad4-dee9-b90f25b3d795"
      },
      "execution_count": null,
      "outputs": [
        {
          "output_type": "stream",
          "name": "stdout",
          "text": [
            "naive_bayes\n"
          ]
        }
      ]
    },
    {
      "cell_type": "code",
      "source": [
        "nv_acc"
      ],
      "metadata": {
        "colab": {
          "base_uri": "https://localhost:8080/"
        },
        "id": "xWwuJ1KlnpVa",
        "outputId": "d24b712a-4081-47c7-df66-35e06801bd2e"
      },
      "execution_count": null,
      "outputs": [
        {
          "output_type": "execute_result",
          "data": {
            "text/plain": [
              "0.993841416474211"
            ]
          },
          "metadata": {},
          "execution_count": 37
        }
      ]
    },
    {
      "cell_type": "code",
      "source": [
        "y_pred = nv.predict(x_test)"
      ],
      "metadata": {
        "id": "GdX1GVVbnxXo"
      },
      "execution_count": null,
      "outputs": []
    },
    {
      "cell_type": "code",
      "source": [
        "from sklearn.metrics import accuracy_score,confusion_matrix,classification_report"
      ],
      "metadata": {
        "id": "m_V-PgtdnxXp"
      },
      "execution_count": null,
      "outputs": []
    },
    {
      "cell_type": "code",
      "source": [
        "print(\"Accuracy : \", round(accuracy_score(Y_test, y_pred)*100, 2), \"%\")"
      ],
      "metadata": {
        "colab": {
          "base_uri": "https://localhost:8080/"
        },
        "outputId": "1293fc9b-cd60-480c-a9df-4854b28a82ae",
        "id": "ZCYxZbKGnxXp"
      },
      "execution_count": null,
      "outputs": [
        {
          "output_type": "stream",
          "name": "stdout",
          "text": [
            "Accuracy :  64.25 %\n"
          ]
        }
      ]
    },
    {
      "cell_type": "code",
      "source": [
        "print(\"Confusion Matrix\")\n",
        "print('\\n')\n",
        "print(confusion_matrix(y_test, y_pred))\n",
        "print('\\n')\n",
        "print(\"Classification Report\")\n",
        "print('\\n')\n",
        "print(classification_report(y_test, y_pred))"
      ],
      "metadata": {
        "colab": {
          "base_uri": "https://localhost:8080/"
        },
        "outputId": "6ebbb2bf-50ce-4344-b3e7-e3dd2fea80d5",
        "id": "bQUmfSmVnxXp"
      },
      "execution_count": null,
      "outputs": [
        {
          "output_type": "stream",
          "name": "stdout",
          "text": [
            "Confusion Matrix\n",
            "\n",
            "\n",
            "[[ 513   19    0]\n",
            " [   9 1799    3]\n",
            " [   0   11  244]]\n",
            "\n",
            "\n",
            "Classification Report\n",
            "\n",
            "\n",
            "              precision    recall  f1-score   support\n",
            "\n",
            "           0       0.98      0.96      0.97       532\n",
            "           1       0.98      0.99      0.99      1811\n",
            "           2       0.99      0.96      0.97       255\n",
            "\n",
            "    accuracy                           0.98      2598\n",
            "   macro avg       0.98      0.97      0.98      2598\n",
            "weighted avg       0.98      0.98      0.98      2598\n",
            "\n"
          ]
        }
      ]
    },
    {
      "cell_type": "code",
      "source": [
        "rf,rfacc= classifiers(x_train,y_train,  'randomforest')"
      ],
      "metadata": {
        "colab": {
          "base_uri": "https://localhost:8080/"
        },
        "id": "WMgnCxmLn5-s",
        "outputId": "e86f4256-a937-430e-a018-ab522a9c147a"
      },
      "execution_count": null,
      "outputs": [
        {
          "output_type": "stream",
          "name": "stdout",
          "text": [
            "randomforest\n"
          ]
        }
      ]
    },
    {
      "cell_type": "code",
      "source": [
        "y_pred = rf.predict(x_test)"
      ],
      "metadata": {
        "id": "bc1x6B_doKma"
      },
      "execution_count": null,
      "outputs": []
    },
    {
      "cell_type": "code",
      "source": [
        "print(\"Accuracy : \", round(accuracy_score(Y_test, y_pred)*100, 2), \"%\")"
      ],
      "metadata": {
        "colab": {
          "base_uri": "https://localhost:8080/"
        },
        "id": "FQffTFKwoRFP",
        "outputId": "8857fc62-e844-4d57-85a8-a06b9dce98fd"
      },
      "execution_count": null,
      "outputs": [
        {
          "output_type": "stream",
          "name": "stdout",
          "text": [
            "Accuracy :  51.74 %\n"
          ]
        }
      ]
    },
    {
      "cell_type": "code",
      "source": [
        "print(\"Confusion Matrix\")\n",
        "print('\\n')\n",
        "print(confusion_matrix(y_test, y_pred))\n",
        "print('\\n')\n",
        "print(\"Classification Report\")\n",
        "print('\\n')\n",
        "print(classification_report(y_test, y_pred))"
      ],
      "metadata": {
        "colab": {
          "base_uri": "https://localhost:8080/"
        },
        "id": "kEhgt4LWoVDZ",
        "outputId": "cb459eb2-3384-4278-ebf2-81256f32b58d"
      },
      "execution_count": null,
      "outputs": [
        {
          "output_type": "stream",
          "name": "stdout",
          "text": [
            "Confusion Matrix\n",
            "\n",
            "\n",
            "[[ 497   35    0]\n",
            " [   6 1804    1]\n",
            " [   1   14  240]]\n",
            "\n",
            "\n",
            "Classification Report\n",
            "\n",
            "\n",
            "              precision    recall  f1-score   support\n",
            "\n",
            "           0       0.99      0.93      0.96       532\n",
            "           1       0.97      1.00      0.98      1811\n",
            "           2       1.00      0.94      0.97       255\n",
            "\n",
            "    accuracy                           0.98      2598\n",
            "   macro avg       0.99      0.96      0.97      2598\n",
            "weighted avg       0.98      0.98      0.98      2598\n",
            "\n"
          ]
        }
      ]
    },
    {
      "cell_type": "code",
      "source": [
        "rf.predict(cv.transform([\"Achieve carbon neutrality no later than 2050, U.S. corporate average fuel economy, combined car and truck fleet, miles per gallon\"]))"
      ],
      "metadata": {
        "colab": {
          "base_uri": "https://localhost:8080/"
        },
        "id": "PK9WLvHgofKy",
        "outputId": "5595f50d-cd2a-4083-9809-c3e0612ff0a6"
      },
      "execution_count": null,
      "outputs": [
        {
          "output_type": "execute_result",
          "data": {
            "text/plain": [
              "array([1])"
            ]
          },
          "metadata": {},
          "execution_count": 52
        }
      ]
    }
  ]
}