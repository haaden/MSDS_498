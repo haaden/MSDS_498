{
  "nbformat": 4,
  "nbformat_minor": 0,
  "metadata": {
    "colab": {
      "provenance": [],
      "authorship_tag": "ABX9TyOGfbBu2idoIhmw8zwI+jJj",
      "include_colab_link": true
    },
    "kernelspec": {
      "name": "python3",
      "display_name": "Python 3"
    },
    "language_info": {
      "name": "python"
    },
    "widgets": {
      "application/vnd.jupyter.widget-state+json": {
        "1aba3230a930427c90ba1c708b15e6d2": {
          "model_module": "@jupyter-widgets/controls",
          "model_name": "HBoxModel",
          "model_module_version": "1.5.0",
          "state": {
            "_dom_classes": [],
            "_model_module": "@jupyter-widgets/controls",
            "_model_module_version": "1.5.0",
            "_model_name": "HBoxModel",
            "_view_count": null,
            "_view_module": "@jupyter-widgets/controls",
            "_view_module_version": "1.5.0",
            "_view_name": "HBoxView",
            "box_style": "",
            "children": [
              "IPY_MODEL_b633458940494df6a9eab9593479e89a",
              "IPY_MODEL_587bee37326540f6819cda29816c23e8",
              "IPY_MODEL_fc73ea1efaec400bbae578876c992e23"
            ],
            "layout": "IPY_MODEL_0985b474c00c4aa2a7887fe557e03ed5"
          }
        },
        "b633458940494df6a9eab9593479e89a": {
          "model_module": "@jupyter-widgets/controls",
          "model_name": "HTMLModel",
          "model_module_version": "1.5.0",
          "state": {
            "_dom_classes": [],
            "_model_module": "@jupyter-widgets/controls",
            "_model_module_version": "1.5.0",
            "_model_name": "HTMLModel",
            "_view_count": null,
            "_view_module": "@jupyter-widgets/controls",
            "_view_module_version": "1.5.0",
            "_view_name": "HTMLView",
            "description": "",
            "description_tooltip": null,
            "layout": "IPY_MODEL_9f849de9db22477cbad6fb6c3da5a6e8",
            "placeholder": "​",
            "style": "IPY_MODEL_181933c8fd714b259d306d9ea9eef2b9",
            "value": "Downloading (…)lve/main/config.json: 100%"
          }
        },
        "587bee37326540f6819cda29816c23e8": {
          "model_module": "@jupyter-widgets/controls",
          "model_name": "FloatProgressModel",
          "model_module_version": "1.5.0",
          "state": {
            "_dom_classes": [],
            "_model_module": "@jupyter-widgets/controls",
            "_model_module_version": "1.5.0",
            "_model_name": "FloatProgressModel",
            "_view_count": null,
            "_view_module": "@jupyter-widgets/controls",
            "_view_module_version": "1.5.0",
            "_view_name": "ProgressView",
            "bar_style": "success",
            "description": "",
            "description_tooltip": null,
            "layout": "IPY_MODEL_4d9360d7bd86456ca07c2398f8a247d6",
            "max": 533,
            "min": 0,
            "orientation": "horizontal",
            "style": "IPY_MODEL_2405abfe470b412d821774bfd229ef35",
            "value": 533
          }
        },
        "fc73ea1efaec400bbae578876c992e23": {
          "model_module": "@jupyter-widgets/controls",
          "model_name": "HTMLModel",
          "model_module_version": "1.5.0",
          "state": {
            "_dom_classes": [],
            "_model_module": "@jupyter-widgets/controls",
            "_model_module_version": "1.5.0",
            "_model_name": "HTMLModel",
            "_view_count": null,
            "_view_module": "@jupyter-widgets/controls",
            "_view_module_version": "1.5.0",
            "_view_name": "HTMLView",
            "description": "",
            "description_tooltip": null,
            "layout": "IPY_MODEL_aca315f4951c41dd9806064c68250dbe",
            "placeholder": "​",
            "style": "IPY_MODEL_e0302318df3a458cad615e140e99ad6b",
            "value": " 533/533 [00:00&lt;00:00, 22.3kB/s]"
          }
        },
        "0985b474c00c4aa2a7887fe557e03ed5": {
          "model_module": "@jupyter-widgets/base",
          "model_name": "LayoutModel",
          "model_module_version": "1.2.0",
          "state": {
            "_model_module": "@jupyter-widgets/base",
            "_model_module_version": "1.2.0",
            "_model_name": "LayoutModel",
            "_view_count": null,
            "_view_module": "@jupyter-widgets/base",
            "_view_module_version": "1.2.0",
            "_view_name": "LayoutView",
            "align_content": null,
            "align_items": null,
            "align_self": null,
            "border": null,
            "bottom": null,
            "display": null,
            "flex": null,
            "flex_flow": null,
            "grid_area": null,
            "grid_auto_columns": null,
            "grid_auto_flow": null,
            "grid_auto_rows": null,
            "grid_column": null,
            "grid_gap": null,
            "grid_row": null,
            "grid_template_areas": null,
            "grid_template_columns": null,
            "grid_template_rows": null,
            "height": null,
            "justify_content": null,
            "justify_items": null,
            "left": null,
            "margin": null,
            "max_height": null,
            "max_width": null,
            "min_height": null,
            "min_width": null,
            "object_fit": null,
            "object_position": null,
            "order": null,
            "overflow": null,
            "overflow_x": null,
            "overflow_y": null,
            "padding": null,
            "right": null,
            "top": null,
            "visibility": null,
            "width": null
          }
        },
        "9f849de9db22477cbad6fb6c3da5a6e8": {
          "model_module": "@jupyter-widgets/base",
          "model_name": "LayoutModel",
          "model_module_version": "1.2.0",
          "state": {
            "_model_module": "@jupyter-widgets/base",
            "_model_module_version": "1.2.0",
            "_model_name": "LayoutModel",
            "_view_count": null,
            "_view_module": "@jupyter-widgets/base",
            "_view_module_version": "1.2.0",
            "_view_name": "LayoutView",
            "align_content": null,
            "align_items": null,
            "align_self": null,
            "border": null,
            "bottom": null,
            "display": null,
            "flex": null,
            "flex_flow": null,
            "grid_area": null,
            "grid_auto_columns": null,
            "grid_auto_flow": null,
            "grid_auto_rows": null,
            "grid_column": null,
            "grid_gap": null,
            "grid_row": null,
            "grid_template_areas": null,
            "grid_template_columns": null,
            "grid_template_rows": null,
            "height": null,
            "justify_content": null,
            "justify_items": null,
            "left": null,
            "margin": null,
            "max_height": null,
            "max_width": null,
            "min_height": null,
            "min_width": null,
            "object_fit": null,
            "object_position": null,
            "order": null,
            "overflow": null,
            "overflow_x": null,
            "overflow_y": null,
            "padding": null,
            "right": null,
            "top": null,
            "visibility": null,
            "width": null
          }
        },
        "181933c8fd714b259d306d9ea9eef2b9": {
          "model_module": "@jupyter-widgets/controls",
          "model_name": "DescriptionStyleModel",
          "model_module_version": "1.5.0",
          "state": {
            "_model_module": "@jupyter-widgets/controls",
            "_model_module_version": "1.5.0",
            "_model_name": "DescriptionStyleModel",
            "_view_count": null,
            "_view_module": "@jupyter-widgets/base",
            "_view_module_version": "1.2.0",
            "_view_name": "StyleView",
            "description_width": ""
          }
        },
        "4d9360d7bd86456ca07c2398f8a247d6": {
          "model_module": "@jupyter-widgets/base",
          "model_name": "LayoutModel",
          "model_module_version": "1.2.0",
          "state": {
            "_model_module": "@jupyter-widgets/base",
            "_model_module_version": "1.2.0",
            "_model_name": "LayoutModel",
            "_view_count": null,
            "_view_module": "@jupyter-widgets/base",
            "_view_module_version": "1.2.0",
            "_view_name": "LayoutView",
            "align_content": null,
            "align_items": null,
            "align_self": null,
            "border": null,
            "bottom": null,
            "display": null,
            "flex": null,
            "flex_flow": null,
            "grid_area": null,
            "grid_auto_columns": null,
            "grid_auto_flow": null,
            "grid_auto_rows": null,
            "grid_column": null,
            "grid_gap": null,
            "grid_row": null,
            "grid_template_areas": null,
            "grid_template_columns": null,
            "grid_template_rows": null,
            "height": null,
            "justify_content": null,
            "justify_items": null,
            "left": null,
            "margin": null,
            "max_height": null,
            "max_width": null,
            "min_height": null,
            "min_width": null,
            "object_fit": null,
            "object_position": null,
            "order": null,
            "overflow": null,
            "overflow_x": null,
            "overflow_y": null,
            "padding": null,
            "right": null,
            "top": null,
            "visibility": null,
            "width": null
          }
        },
        "2405abfe470b412d821774bfd229ef35": {
          "model_module": "@jupyter-widgets/controls",
          "model_name": "ProgressStyleModel",
          "model_module_version": "1.5.0",
          "state": {
            "_model_module": "@jupyter-widgets/controls",
            "_model_module_version": "1.5.0",
            "_model_name": "ProgressStyleModel",
            "_view_count": null,
            "_view_module": "@jupyter-widgets/base",
            "_view_module_version": "1.2.0",
            "_view_name": "StyleView",
            "bar_color": null,
            "description_width": ""
          }
        },
        "aca315f4951c41dd9806064c68250dbe": {
          "model_module": "@jupyter-widgets/base",
          "model_name": "LayoutModel",
          "model_module_version": "1.2.0",
          "state": {
            "_model_module": "@jupyter-widgets/base",
            "_model_module_version": "1.2.0",
            "_model_name": "LayoutModel",
            "_view_count": null,
            "_view_module": "@jupyter-widgets/base",
            "_view_module_version": "1.2.0",
            "_view_name": "LayoutView",
            "align_content": null,
            "align_items": null,
            "align_self": null,
            "border": null,
            "bottom": null,
            "display": null,
            "flex": null,
            "flex_flow": null,
            "grid_area": null,
            "grid_auto_columns": null,
            "grid_auto_flow": null,
            "grid_auto_rows": null,
            "grid_column": null,
            "grid_gap": null,
            "grid_row": null,
            "grid_template_areas": null,
            "grid_template_columns": null,
            "grid_template_rows": null,
            "height": null,
            "justify_content": null,
            "justify_items": null,
            "left": null,
            "margin": null,
            "max_height": null,
            "max_width": null,
            "min_height": null,
            "min_width": null,
            "object_fit": null,
            "object_position": null,
            "order": null,
            "overflow": null,
            "overflow_x": null,
            "overflow_y": null,
            "padding": null,
            "right": null,
            "top": null,
            "visibility": null,
            "width": null
          }
        },
        "e0302318df3a458cad615e140e99ad6b": {
          "model_module": "@jupyter-widgets/controls",
          "model_name": "DescriptionStyleModel",
          "model_module_version": "1.5.0",
          "state": {
            "_model_module": "@jupyter-widgets/controls",
            "_model_module_version": "1.5.0",
            "_model_name": "DescriptionStyleModel",
            "_view_count": null,
            "_view_module": "@jupyter-widgets/base",
            "_view_module_version": "1.2.0",
            "_view_name": "StyleView",
            "description_width": ""
          }
        },
        "e981014c3582419399bea6100576b885": {
          "model_module": "@jupyter-widgets/controls",
          "model_name": "HBoxModel",
          "model_module_version": "1.5.0",
          "state": {
            "_dom_classes": [],
            "_model_module": "@jupyter-widgets/controls",
            "_model_module_version": "1.5.0",
            "_model_name": "HBoxModel",
            "_view_count": null,
            "_view_module": "@jupyter-widgets/controls",
            "_view_module_version": "1.5.0",
            "_view_name": "HBoxView",
            "box_style": "",
            "children": [
              "IPY_MODEL_91f590ad3f9049fdb139606b460898ff",
              "IPY_MODEL_c22623ab0237423aa94ad0068da3fb5f",
              "IPY_MODEL_346965be61a64625a703cf12bbeb16dc"
            ],
            "layout": "IPY_MODEL_c42cfd09ed3f41d8ad4e3a7b91f3b776"
          }
        },
        "91f590ad3f9049fdb139606b460898ff": {
          "model_module": "@jupyter-widgets/controls",
          "model_name": "HTMLModel",
          "model_module_version": "1.5.0",
          "state": {
            "_dom_classes": [],
            "_model_module": "@jupyter-widgets/controls",
            "_model_module_version": "1.5.0",
            "_model_name": "HTMLModel",
            "_view_count": null,
            "_view_module": "@jupyter-widgets/controls",
            "_view_module_version": "1.5.0",
            "_view_name": "HTMLView",
            "description": "",
            "description_tooltip": null,
            "layout": "IPY_MODEL_8a961c18a60b437ab84fbae565578c26",
            "placeholder": "​",
            "style": "IPY_MODEL_5a5da692298f4130902089476401e98e",
            "value": "Downloading pytorch_model.bin: 100%"
          }
        },
        "c22623ab0237423aa94ad0068da3fb5f": {
          "model_module": "@jupyter-widgets/controls",
          "model_name": "FloatProgressModel",
          "model_module_version": "1.5.0",
          "state": {
            "_dom_classes": [],
            "_model_module": "@jupyter-widgets/controls",
            "_model_module_version": "1.5.0",
            "_model_name": "FloatProgressModel",
            "_view_count": null,
            "_view_module": "@jupyter-widgets/controls",
            "_view_module_version": "1.5.0",
            "_view_name": "ProgressView",
            "bar_style": "success",
            "description": "",
            "description_tooltip": null,
            "layout": "IPY_MODEL_292fdad66fd34764aadc02baaeab3810",
            "max": 439101405,
            "min": 0,
            "orientation": "horizontal",
            "style": "IPY_MODEL_ef714e79518241da868446fe829a2ddf",
            "value": 439101405
          }
        },
        "346965be61a64625a703cf12bbeb16dc": {
          "model_module": "@jupyter-widgets/controls",
          "model_name": "HTMLModel",
          "model_module_version": "1.5.0",
          "state": {
            "_dom_classes": [],
            "_model_module": "@jupyter-widgets/controls",
            "_model_module_version": "1.5.0",
            "_model_name": "HTMLModel",
            "_view_count": null,
            "_view_module": "@jupyter-widgets/controls",
            "_view_module_version": "1.5.0",
            "_view_name": "HTMLView",
            "description": "",
            "description_tooltip": null,
            "layout": "IPY_MODEL_44a9a12bed8c43338b28d2c90d784952",
            "placeholder": "​",
            "style": "IPY_MODEL_8b58df3cbc124e73b49369310fe50d4b",
            "value": " 439M/439M [00:06&lt;00:00, 111MB/s]"
          }
        },
        "c42cfd09ed3f41d8ad4e3a7b91f3b776": {
          "model_module": "@jupyter-widgets/base",
          "model_name": "LayoutModel",
          "model_module_version": "1.2.0",
          "state": {
            "_model_module": "@jupyter-widgets/base",
            "_model_module_version": "1.2.0",
            "_model_name": "LayoutModel",
            "_view_count": null,
            "_view_module": "@jupyter-widgets/base",
            "_view_module_version": "1.2.0",
            "_view_name": "LayoutView",
            "align_content": null,
            "align_items": null,
            "align_self": null,
            "border": null,
            "bottom": null,
            "display": null,
            "flex": null,
            "flex_flow": null,
            "grid_area": null,
            "grid_auto_columns": null,
            "grid_auto_flow": null,
            "grid_auto_rows": null,
            "grid_column": null,
            "grid_gap": null,
            "grid_row": null,
            "grid_template_areas": null,
            "grid_template_columns": null,
            "grid_template_rows": null,
            "height": null,
            "justify_content": null,
            "justify_items": null,
            "left": null,
            "margin": null,
            "max_height": null,
            "max_width": null,
            "min_height": null,
            "min_width": null,
            "object_fit": null,
            "object_position": null,
            "order": null,
            "overflow": null,
            "overflow_x": null,
            "overflow_y": null,
            "padding": null,
            "right": null,
            "top": null,
            "visibility": null,
            "width": null
          }
        },
        "8a961c18a60b437ab84fbae565578c26": {
          "model_module": "@jupyter-widgets/base",
          "model_name": "LayoutModel",
          "model_module_version": "1.2.0",
          "state": {
            "_model_module": "@jupyter-widgets/base",
            "_model_module_version": "1.2.0",
            "_model_name": "LayoutModel",
            "_view_count": null,
            "_view_module": "@jupyter-widgets/base",
            "_view_module_version": "1.2.0",
            "_view_name": "LayoutView",
            "align_content": null,
            "align_items": null,
            "align_self": null,
            "border": null,
            "bottom": null,
            "display": null,
            "flex": null,
            "flex_flow": null,
            "grid_area": null,
            "grid_auto_columns": null,
            "grid_auto_flow": null,
            "grid_auto_rows": null,
            "grid_column": null,
            "grid_gap": null,
            "grid_row": null,
            "grid_template_areas": null,
            "grid_template_columns": null,
            "grid_template_rows": null,
            "height": null,
            "justify_content": null,
            "justify_items": null,
            "left": null,
            "margin": null,
            "max_height": null,
            "max_width": null,
            "min_height": null,
            "min_width": null,
            "object_fit": null,
            "object_position": null,
            "order": null,
            "overflow": null,
            "overflow_x": null,
            "overflow_y": null,
            "padding": null,
            "right": null,
            "top": null,
            "visibility": null,
            "width": null
          }
        },
        "5a5da692298f4130902089476401e98e": {
          "model_module": "@jupyter-widgets/controls",
          "model_name": "DescriptionStyleModel",
          "model_module_version": "1.5.0",
          "state": {
            "_model_module": "@jupyter-widgets/controls",
            "_model_module_version": "1.5.0",
            "_model_name": "DescriptionStyleModel",
            "_view_count": null,
            "_view_module": "@jupyter-widgets/base",
            "_view_module_version": "1.2.0",
            "_view_name": "StyleView",
            "description_width": ""
          }
        },
        "292fdad66fd34764aadc02baaeab3810": {
          "model_module": "@jupyter-widgets/base",
          "model_name": "LayoutModel",
          "model_module_version": "1.2.0",
          "state": {
            "_model_module": "@jupyter-widgets/base",
            "_model_module_version": "1.2.0",
            "_model_name": "LayoutModel",
            "_view_count": null,
            "_view_module": "@jupyter-widgets/base",
            "_view_module_version": "1.2.0",
            "_view_name": "LayoutView",
            "align_content": null,
            "align_items": null,
            "align_self": null,
            "border": null,
            "bottom": null,
            "display": null,
            "flex": null,
            "flex_flow": null,
            "grid_area": null,
            "grid_auto_columns": null,
            "grid_auto_flow": null,
            "grid_auto_rows": null,
            "grid_column": null,
            "grid_gap": null,
            "grid_row": null,
            "grid_template_areas": null,
            "grid_template_columns": null,
            "grid_template_rows": null,
            "height": null,
            "justify_content": null,
            "justify_items": null,
            "left": null,
            "margin": null,
            "max_height": null,
            "max_width": null,
            "min_height": null,
            "min_width": null,
            "object_fit": null,
            "object_position": null,
            "order": null,
            "overflow": null,
            "overflow_x": null,
            "overflow_y": null,
            "padding": null,
            "right": null,
            "top": null,
            "visibility": null,
            "width": null
          }
        },
        "ef714e79518241da868446fe829a2ddf": {
          "model_module": "@jupyter-widgets/controls",
          "model_name": "ProgressStyleModel",
          "model_module_version": "1.5.0",
          "state": {
            "_model_module": "@jupyter-widgets/controls",
            "_model_module_version": "1.5.0",
            "_model_name": "ProgressStyleModel",
            "_view_count": null,
            "_view_module": "@jupyter-widgets/base",
            "_view_module_version": "1.2.0",
            "_view_name": "StyleView",
            "bar_color": null,
            "description_width": ""
          }
        },
        "44a9a12bed8c43338b28d2c90d784952": {
          "model_module": "@jupyter-widgets/base",
          "model_name": "LayoutModel",
          "model_module_version": "1.2.0",
          "state": {
            "_model_module": "@jupyter-widgets/base",
            "_model_module_version": "1.2.0",
            "_model_name": "LayoutModel",
            "_view_count": null,
            "_view_module": "@jupyter-widgets/base",
            "_view_module_version": "1.2.0",
            "_view_name": "LayoutView",
            "align_content": null,
            "align_items": null,
            "align_self": null,
            "border": null,
            "bottom": null,
            "display": null,
            "flex": null,
            "flex_flow": null,
            "grid_area": null,
            "grid_auto_columns": null,
            "grid_auto_flow": null,
            "grid_auto_rows": null,
            "grid_column": null,
            "grid_gap": null,
            "grid_row": null,
            "grid_template_areas": null,
            "grid_template_columns": null,
            "grid_template_rows": null,
            "height": null,
            "justify_content": null,
            "justify_items": null,
            "left": null,
            "margin": null,
            "max_height": null,
            "max_width": null,
            "min_height": null,
            "min_width": null,
            "object_fit": null,
            "object_position": null,
            "order": null,
            "overflow": null,
            "overflow_x": null,
            "overflow_y": null,
            "padding": null,
            "right": null,
            "top": null,
            "visibility": null,
            "width": null
          }
        },
        "8b58df3cbc124e73b49369310fe50d4b": {
          "model_module": "@jupyter-widgets/controls",
          "model_name": "DescriptionStyleModel",
          "model_module_version": "1.5.0",
          "state": {
            "_model_module": "@jupyter-widgets/controls",
            "_model_module_version": "1.5.0",
            "_model_name": "DescriptionStyleModel",
            "_view_count": null,
            "_view_module": "@jupyter-widgets/base",
            "_view_module_version": "1.2.0",
            "_view_name": "StyleView",
            "description_width": ""
          }
        },
        "6a2b79b26d6c436a9540ddf92b4dde91": {
          "model_module": "@jupyter-widgets/controls",
          "model_name": "HBoxModel",
          "model_module_version": "1.5.0",
          "state": {
            "_dom_classes": [],
            "_model_module": "@jupyter-widgets/controls",
            "_model_module_version": "1.5.0",
            "_model_name": "HBoxModel",
            "_view_count": null,
            "_view_module": "@jupyter-widgets/controls",
            "_view_module_version": "1.5.0",
            "_view_name": "HBoxView",
            "box_style": "",
            "children": [
              "IPY_MODEL_22e09dfd804c4258ba9d7dbf4a53886e",
              "IPY_MODEL_d94cffd7c70b44de87f287668bf90332",
              "IPY_MODEL_252374200100484fbd28c0e3f513bfcf"
            ],
            "layout": "IPY_MODEL_4908440a34b24f5ab69994eefa97b5f0"
          }
        },
        "22e09dfd804c4258ba9d7dbf4a53886e": {
          "model_module": "@jupyter-widgets/controls",
          "model_name": "HTMLModel",
          "model_module_version": "1.5.0",
          "state": {
            "_dom_classes": [],
            "_model_module": "@jupyter-widgets/controls",
            "_model_module_version": "1.5.0",
            "_model_name": "HTMLModel",
            "_view_count": null,
            "_view_module": "@jupyter-widgets/controls",
            "_view_module_version": "1.5.0",
            "_view_name": "HTMLView",
            "description": "",
            "description_tooltip": null,
            "layout": "IPY_MODEL_0a9824bd539046e48eeca52e72b33109",
            "placeholder": "​",
            "style": "IPY_MODEL_35dfcaf348d34fdd879ac3cac0c732d2",
            "value": "Downloading (…)solve/main/vocab.txt: 100%"
          }
        },
        "d94cffd7c70b44de87f287668bf90332": {
          "model_module": "@jupyter-widgets/controls",
          "model_name": "FloatProgressModel",
          "model_module_version": "1.5.0",
          "state": {
            "_dom_classes": [],
            "_model_module": "@jupyter-widgets/controls",
            "_model_module_version": "1.5.0",
            "_model_name": "FloatProgressModel",
            "_view_count": null,
            "_view_module": "@jupyter-widgets/controls",
            "_view_module_version": "1.5.0",
            "_view_name": "ProgressView",
            "bar_style": "success",
            "description": "",
            "description_tooltip": null,
            "layout": "IPY_MODEL_b49e742d67cd469284fae5056be5f5d6",
            "max": 226122,
            "min": 0,
            "orientation": "horizontal",
            "style": "IPY_MODEL_85055b1fadb74c17b2b645fb4eadeb43",
            "value": 226122
          }
        },
        "252374200100484fbd28c0e3f513bfcf": {
          "model_module": "@jupyter-widgets/controls",
          "model_name": "HTMLModel",
          "model_module_version": "1.5.0",
          "state": {
            "_dom_classes": [],
            "_model_module": "@jupyter-widgets/controls",
            "_model_module_version": "1.5.0",
            "_model_name": "HTMLModel",
            "_view_count": null,
            "_view_module": "@jupyter-widgets/controls",
            "_view_module_version": "1.5.0",
            "_view_name": "HTMLView",
            "description": "",
            "description_tooltip": null,
            "layout": "IPY_MODEL_199ae9f1f47b4e26b7b5f671d08d44f0",
            "placeholder": "​",
            "style": "IPY_MODEL_7d836b7cf8c346fb85b804f01635dfaf",
            "value": " 226k/226k [00:00&lt;00:00, 7.31MB/s]"
          }
        },
        "4908440a34b24f5ab69994eefa97b5f0": {
          "model_module": "@jupyter-widgets/base",
          "model_name": "LayoutModel",
          "model_module_version": "1.2.0",
          "state": {
            "_model_module": "@jupyter-widgets/base",
            "_model_module_version": "1.2.0",
            "_model_name": "LayoutModel",
            "_view_count": null,
            "_view_module": "@jupyter-widgets/base",
            "_view_module_version": "1.2.0",
            "_view_name": "LayoutView",
            "align_content": null,
            "align_items": null,
            "align_self": null,
            "border": null,
            "bottom": null,
            "display": null,
            "flex": null,
            "flex_flow": null,
            "grid_area": null,
            "grid_auto_columns": null,
            "grid_auto_flow": null,
            "grid_auto_rows": null,
            "grid_column": null,
            "grid_gap": null,
            "grid_row": null,
            "grid_template_areas": null,
            "grid_template_columns": null,
            "grid_template_rows": null,
            "height": null,
            "justify_content": null,
            "justify_items": null,
            "left": null,
            "margin": null,
            "max_height": null,
            "max_width": null,
            "min_height": null,
            "min_width": null,
            "object_fit": null,
            "object_position": null,
            "order": null,
            "overflow": null,
            "overflow_x": null,
            "overflow_y": null,
            "padding": null,
            "right": null,
            "top": null,
            "visibility": null,
            "width": null
          }
        },
        "0a9824bd539046e48eeca52e72b33109": {
          "model_module": "@jupyter-widgets/base",
          "model_name": "LayoutModel",
          "model_module_version": "1.2.0",
          "state": {
            "_model_module": "@jupyter-widgets/base",
            "_model_module_version": "1.2.0",
            "_model_name": "LayoutModel",
            "_view_count": null,
            "_view_module": "@jupyter-widgets/base",
            "_view_module_version": "1.2.0",
            "_view_name": "LayoutView",
            "align_content": null,
            "align_items": null,
            "align_self": null,
            "border": null,
            "bottom": null,
            "display": null,
            "flex": null,
            "flex_flow": null,
            "grid_area": null,
            "grid_auto_columns": null,
            "grid_auto_flow": null,
            "grid_auto_rows": null,
            "grid_column": null,
            "grid_gap": null,
            "grid_row": null,
            "grid_template_areas": null,
            "grid_template_columns": null,
            "grid_template_rows": null,
            "height": null,
            "justify_content": null,
            "justify_items": null,
            "left": null,
            "margin": null,
            "max_height": null,
            "max_width": null,
            "min_height": null,
            "min_width": null,
            "object_fit": null,
            "object_position": null,
            "order": null,
            "overflow": null,
            "overflow_x": null,
            "overflow_y": null,
            "padding": null,
            "right": null,
            "top": null,
            "visibility": null,
            "width": null
          }
        },
        "35dfcaf348d34fdd879ac3cac0c732d2": {
          "model_module": "@jupyter-widgets/controls",
          "model_name": "DescriptionStyleModel",
          "model_module_version": "1.5.0",
          "state": {
            "_model_module": "@jupyter-widgets/controls",
            "_model_module_version": "1.5.0",
            "_model_name": "DescriptionStyleModel",
            "_view_count": null,
            "_view_module": "@jupyter-widgets/base",
            "_view_module_version": "1.2.0",
            "_view_name": "StyleView",
            "description_width": ""
          }
        },
        "b49e742d67cd469284fae5056be5f5d6": {
          "model_module": "@jupyter-widgets/base",
          "model_name": "LayoutModel",
          "model_module_version": "1.2.0",
          "state": {
            "_model_module": "@jupyter-widgets/base",
            "_model_module_version": "1.2.0",
            "_model_name": "LayoutModel",
            "_view_count": null,
            "_view_module": "@jupyter-widgets/base",
            "_view_module_version": "1.2.0",
            "_view_name": "LayoutView",
            "align_content": null,
            "align_items": null,
            "align_self": null,
            "border": null,
            "bottom": null,
            "display": null,
            "flex": null,
            "flex_flow": null,
            "grid_area": null,
            "grid_auto_columns": null,
            "grid_auto_flow": null,
            "grid_auto_rows": null,
            "grid_column": null,
            "grid_gap": null,
            "grid_row": null,
            "grid_template_areas": null,
            "grid_template_columns": null,
            "grid_template_rows": null,
            "height": null,
            "justify_content": null,
            "justify_items": null,
            "left": null,
            "margin": null,
            "max_height": null,
            "max_width": null,
            "min_height": null,
            "min_width": null,
            "object_fit": null,
            "object_position": null,
            "order": null,
            "overflow": null,
            "overflow_x": null,
            "overflow_y": null,
            "padding": null,
            "right": null,
            "top": null,
            "visibility": null,
            "width": null
          }
        },
        "85055b1fadb74c17b2b645fb4eadeb43": {
          "model_module": "@jupyter-widgets/controls",
          "model_name": "ProgressStyleModel",
          "model_module_version": "1.5.0",
          "state": {
            "_model_module": "@jupyter-widgets/controls",
            "_model_module_version": "1.5.0",
            "_model_name": "ProgressStyleModel",
            "_view_count": null,
            "_view_module": "@jupyter-widgets/base",
            "_view_module_version": "1.2.0",
            "_view_name": "StyleView",
            "bar_color": null,
            "description_width": ""
          }
        },
        "199ae9f1f47b4e26b7b5f671d08d44f0": {
          "model_module": "@jupyter-widgets/base",
          "model_name": "LayoutModel",
          "model_module_version": "1.2.0",
          "state": {
            "_model_module": "@jupyter-widgets/base",
            "_model_module_version": "1.2.0",
            "_model_name": "LayoutModel",
            "_view_count": null,
            "_view_module": "@jupyter-widgets/base",
            "_view_module_version": "1.2.0",
            "_view_name": "LayoutView",
            "align_content": null,
            "align_items": null,
            "align_self": null,
            "border": null,
            "bottom": null,
            "display": null,
            "flex": null,
            "flex_flow": null,
            "grid_area": null,
            "grid_auto_columns": null,
            "grid_auto_flow": null,
            "grid_auto_rows": null,
            "grid_column": null,
            "grid_gap": null,
            "grid_row": null,
            "grid_template_areas": null,
            "grid_template_columns": null,
            "grid_template_rows": null,
            "height": null,
            "justify_content": null,
            "justify_items": null,
            "left": null,
            "margin": null,
            "max_height": null,
            "max_width": null,
            "min_height": null,
            "min_width": null,
            "object_fit": null,
            "object_position": null,
            "order": null,
            "overflow": null,
            "overflow_x": null,
            "overflow_y": null,
            "padding": null,
            "right": null,
            "top": null,
            "visibility": null,
            "width": null
          }
        },
        "7d836b7cf8c346fb85b804f01635dfaf": {
          "model_module": "@jupyter-widgets/controls",
          "model_name": "DescriptionStyleModel",
          "model_module_version": "1.5.0",
          "state": {
            "_model_module": "@jupyter-widgets/controls",
            "_model_module_version": "1.5.0",
            "_model_name": "DescriptionStyleModel",
            "_view_count": null,
            "_view_module": "@jupyter-widgets/base",
            "_view_module_version": "1.2.0",
            "_view_name": "StyleView",
            "description_width": ""
          }
        }
      }
    }
  },
  "cells": [
    {
      "cell_type": "markdown",
      "metadata": {
        "id": "view-in-github",
        "colab_type": "text"
      },
      "source": [
        "<a href=\"https://colab.research.google.com/github/haaden/MSDS_498/blob/main/MSDS498_FINBERT.ipynb\" target=\"_parent\"><img src=\"https://colab.research.google.com/assets/colab-badge.svg\" alt=\"Open In Colab\"/></a>"
      ]
    },
    {
      "cell_type": "code",
      "execution_count": null,
      "metadata": {
        "id": "tFOJpStxezMB"
      },
      "outputs": [],
      "source": [
        "import numpy as np\n",
        "\n",
        "import pandas as pd"
      ]
    },
    {
      "cell_type": "code",
      "source": [
        "import os\n",
        "import random\n",
        "\n",
        "import pickle \n",
        "import re,string\n",
        "\n",
        "import nltk\n",
        "from nltk.corpus import stopwords\n",
        "from nltk.stem import PorterStemmer\n",
        "\n",
        "from sklearn.feature_extraction.text import TfidfVectorizer\n",
        "from sklearn.cluster import KMeans, AgglomerativeClustering\n",
        "from sklearn.metrics.pairwise import cosine_similarity\n",
        "from sklearn.decomposition import TruncatedSVD, LatentDirichletAllocation\n",
        "from sklearn.svm import SVC\n",
        "from sklearn.preprocessing import LabelEncoder, OneHotEncoder\n",
        "from sklearn.ensemble import RandomForestClassifier\n",
        "from sklearn.metrics import roc_auc_score, accuracy_score, confusion_matrix\n",
        "from sklearn.model_selection import cross_val_score, StratifiedKFold\n",
        "from sklearn.tree import DecisionTreeClassifier\n",
        "from sklearn.naive_bayes import MultinomialNB\n",
        "from sklearn.linear_model import LogisticRegression\n",
        "from sklearn.ensemble import RandomForestClassifier\n",
        "from sklearn.metrics import accuracy_score\n",
        "from sklearn.model_selection import train_test_split, KFold\n",
        "from sklearn.manifold import MDS\n",
        "from sklearn.metrics.pairwise import cosine_similarity\n",
        "\n",
        "import seaborn as sns\n",
        "import matplotlib.pyplot as plt\n",
        "\n",
        "import gensim\n",
        "from gensim.models import Word2Vec,LdaMulticore, TfidfModel, CoherenceModel\n",
        "from gensim import corpora\n",
        "from gensim import similarities\n",
        "from gensim.models.doc2vec import Doc2Vec, TaggedDocument\n",
        "from gensim import corpora\n",
        "from gensim.models import LsiModel,LdaModel"
      ],
      "metadata": {
        "id": "b4qFpzOff_SF"
      },
      "execution_count": null,
      "outputs": []
    },
    {
      "cell_type": "code",
      "source": [
        "nltk.download('stopwords')"
      ],
      "metadata": {
        "colab": {
          "base_uri": "https://localhost:8080/"
        },
        "id": "KpG2xKbJf_U_",
        "outputId": "b1b22053-089a-44b3-848a-5275c17a4c9b"
      },
      "execution_count": null,
      "outputs": [
        {
          "output_type": "stream",
          "name": "stderr",
          "text": [
            "[nltk_data] Downloading package stopwords to /root/nltk_data...\n",
            "[nltk_data]   Unzipping corpora/stopwords.zip.\n"
          ]
        },
        {
          "output_type": "execute_result",
          "data": {
            "text/plain": [
              "True"
            ]
          },
          "metadata": {},
          "execution_count": 3
        }
      ]
    },
    {
      "cell_type": "code",
      "source": [
        "def clean_doc(doc): \n",
        "    #split document into individual words\n",
        "    tokens=doc.split()\n",
        "    re_punc = re.compile('[%s]' % re.escape(string.punctuation))\n",
        "    # remove punctuation from each word\n",
        "    tokens = [re_punc.sub('', w) for w in tokens]\n",
        "    # remove remaining tokens that are not alphabetic\n",
        "    tokens = [word for word in tokens if word.isalpha()]\n",
        "    # filter out short tokens\n",
        "    tokens = [word for word in tokens if len(word) > 4]\n",
        "    #lowercase all words\n",
        "    tokens = [word.lower() for word in tokens]\n",
        "    # filter out stop words\n",
        "    stop_words = set(stopwords.words('english'))\n",
        "    tokens = [w for w in tokens if not w in stop_words]         \n",
        "    # word stemming    \n",
        "    # ps=PorterStemmer()\n",
        "    # tokens=[ps.stem(word) for word in tokens]\n",
        "    return tokens\n",
        "\n",
        "def final_processed_text(doc):\n",
        "    #this is a function to join the processed text back\n",
        "    ' '.join(doc)\n",
        "    return doc"
      ],
      "metadata": {
        "id": "ZXjA4WdZf_c-"
      },
      "execution_count": null,
      "outputs": []
    },
    {
      "cell_type": "code",
      "source": [],
      "metadata": {
        "id": "X1lgUMq8f_f5"
      },
      "execution_count": null,
      "outputs": []
    },
    {
      "cell_type": "code",
      "source": [
        "nw = pd.read_pickle('newsdf.pkl')"
      ],
      "metadata": {
        "id": "tkrboiW9f_lE"
      },
      "execution_count": null,
      "outputs": []
    },
    {
      "cell_type": "code",
      "source": [
        "nw.columns"
      ],
      "metadata": {
        "colab": {
          "base_uri": "https://localhost:8080/"
        },
        "id": "92q-SXpBiUh7",
        "outputId": "b01f12d4-f76d-4081-81eb-62f817e0f9bc"
      },
      "execution_count": null,
      "outputs": [
        {
          "output_type": "execute_result",
          "data": {
            "text/plain": [
              "Index(['symbol', 'publishedDate', 'title', 'image', 'site', 'text', 'url'], dtype='object')"
            ]
          },
          "metadata": {},
          "execution_count": 140
        }
      ]
    },
    {
      "cell_type": "code",
      "source": [
        "nw = nw.drop(['image','url'], axis=1)"
      ],
      "metadata": {
        "id": "Thl9qIFHg_tj"
      },
      "execution_count": null,
      "outputs": []
    },
    {
      "cell_type": "code",
      "source": [
        "pressdf= pd.read_pickle('pressdf.pkl')"
      ],
      "metadata": {
        "id": "a4t4-JnVhb-6"
      },
      "execution_count": null,
      "outputs": []
    },
    {
      "cell_type": "code",
      "source": [
        "pressdf.columns"
      ],
      "metadata": {
        "colab": {
          "base_uri": "https://localhost:8080/"
        },
        "id": "zTw1CdboiWOc",
        "outputId": "cd902273-2f0f-48fc-8651-4af7b57802ee"
      },
      "execution_count": null,
      "outputs": [
        {
          "output_type": "execute_result",
          "data": {
            "text/plain": [
              "Index(['symbol', 'date', 'title', 'text'], dtype='object')"
            ]
          },
          "metadata": {},
          "execution_count": 18
        }
      ]
    },
    {
      "cell_type": "code",
      "source": [
        "transdf = pd.read_pickle('transcriptdf.pkl')"
      ],
      "metadata": {
        "id": "p527dij6g_zC"
      },
      "execution_count": null,
      "outputs": []
    },
    {
      "cell_type": "code",
      "source": [
        "transdf.columns"
      ],
      "metadata": {
        "colab": {
          "base_uri": "https://localhost:8080/"
        },
        "id": "R5RSXHoUiYi7",
        "outputId": "b3605013-e8df-4dd0-b7dc-de5af1520a69"
      },
      "execution_count": null,
      "outputs": [
        {
          "output_type": "execute_result",
          "data": {
            "text/plain": [
              "Index(['symbol', 'quarter', 'year', 'date', 'content'], dtype='object')"
            ]
          },
          "metadata": {},
          "execution_count": 6
        }
      ]
    },
    {
      "cell_type": "code",
      "source": [
        "#data= data[data[\"Movie Title\"]==\"Frozen_2\"]\n",
        "#adding two columns to the dataframe to store the processed text and tokenized text\n",
        "nw['processed_text'] = nw['text'].apply(lambda x: clean_doc(x))\n",
        "\n",
        "#creating final processed text variables for matrix creation\n",
        "nw['final_processed_text'] = [' '.join(x) for x in nw['processed_text']]"
      ],
      "metadata": {
        "id": "JL5msc-Wh58T"
      },
      "execution_count": null,
      "outputs": []
    },
    {
      "cell_type": "code",
      "source": [
        "len(pressdf['text'].tolist())"
      ],
      "metadata": {
        "colab": {
          "base_uri": "https://localhost:8080/"
        },
        "id": "tMbTNFH0g_4y",
        "outputId": "4d984113-672b-441e-ddf2-77e97c9d2209"
      },
      "execution_count": null,
      "outputs": [
        {
          "output_type": "execute_result",
          "data": {
            "text/plain": [
              "1926"
            ]
          },
          "metadata": {},
          "execution_count": 160
        }
      ]
    },
    {
      "cell_type": "code",
      "source": [
        "#data= data[data[\"Movie Title\"]==\"Frozen_2\"]\n",
        "#adding two columns to the dataframe to store the processed text and tokenized text\n",
        "pressdf['processed_text'] = pressdf['text'].apply(lambda x: clean_doc(x))\n",
        "\n",
        "#creating final processed text variables for matrix creation\n",
        "pressdf['final_processed_text'] = [' '.join(x) for x in pressdf['processed_text']]"
      ],
      "metadata": {
        "id": "EXnDQoelg_72"
      },
      "execution_count": null,
      "outputs": []
    },
    {
      "cell_type": "code",
      "source": [
        "# cleaning transcripts"
      ],
      "metadata": {
        "id": "ty5D9jPA_LDE"
      },
      "execution_count": null,
      "outputs": []
    },
    {
      "cell_type": "code",
      "source": [
        "translist = transdf.content.str.split(\"\\n\").tolist()"
      ],
      "metadata": {
        "id": "FrWwi9Wdg_-D"
      },
      "execution_count": null,
      "outputs": []
    },
    {
      "cell_type": "code",
      "source": [],
      "metadata": {
        "id": "Uwrvtyl28WQG"
      },
      "execution_count": null,
      "outputs": []
    },
    {
      "cell_type": "code",
      "source": [],
      "metadata": {
        "id": "DJmWxQuu_50a"
      },
      "execution_count": null,
      "outputs": []
    },
    {
      "cell_type": "code",
      "source": [
        "#transdf['final_processed_text']= [' '.join(x) for x in transdf['text_clean']]"
      ],
      "metadata": {
        "id": "evmu9NKsAqnZ"
      },
      "execution_count": null,
      "outputs": []
    },
    {
      "cell_type": "code",
      "source": [
        "#transdf= transdf.drop('final_processed_text',axis=1)"
      ],
      "metadata": {
        "id": "7FBy_X-eAqvW"
      },
      "execution_count": null,
      "outputs": []
    },
    {
      "cell_type": "code",
      "source": [
        "transdf['text_clean'].apply(lambda x: [''.join(a) for a in x]).tolist()"
      ],
      "metadata": {
        "id": "iIn3LszH8bHt"
      },
      "execution_count": null,
      "outputs": []
    },
    {
      "cell_type": "code",
      "source": [
        "clean_text= []\n",
        "for i in translist:\n",
        "  txt= []\n",
        "  for a in i:\n",
        "    doc= clean_doc(a)\n",
        "    if len(doc)>512:\n",
        "      docsplit = a.split(\".\")\n",
        "      print(docsplit)\n",
        "      for c in docsplit:\n",
        "        print(c)\n",
        "        if len(c)>512:\n",
        "           doc_split= c.split(\",\")\n",
        "           for d in doc_split:\n",
        "              doc = clean_doc(d)\n",
        "              txt.append(doc)\n",
        "        else:    \n",
        "            doc= clean_doc(c)\n",
        "            txt.append(doc)\n",
        "    else:\n",
        "      txt.append(doc)\n",
        "    \n",
        "  clean_text.append(txt)"
      ],
      "metadata": {
        "id": "m93kq7x_DYCC"
      },
      "execution_count": null,
      "outputs": []
    },
    {
      "cell_type": "code",
      "source": [],
      "metadata": {
        "id": "H43937ITUU-j"
      },
      "execution_count": null,
      "outputs": []
    },
    {
      "cell_type": "code",
      "source": [
        "final_text=[]\n",
        "for i in range(len(clean_text)):\n",
        "  txt=[]\n",
        "  for a in range(len(clean_text[i])):\n",
        "    print(clean_text[i])\n",
        "    txt.append([' '.join(clean_text[i][a])])  #(x) for x in clean_text[i]])\n",
        "  final_text.append(txt)"
      ],
      "metadata": {
        "id": "XlNdzJIWKk12"
      },
      "execution_count": null,
      "outputs": []
    },
    {
      "cell_type": "code",
      "source": [
        "len(final_text)"
      ],
      "metadata": {
        "colab": {
          "base_uri": "https://localhost:8080/"
        },
        "id": "s20VMS_eGOiy",
        "outputId": "9ac919fc-f3a3-434d-ea7c-9f17150f6b42"
      },
      "execution_count": null,
      "outputs": [
        {
          "output_type": "execute_result",
          "data": {
            "text/plain": [
              "23"
            ]
          },
          "metadata": {},
          "execution_count": 175
        }
      ]
    },
    {
      "cell_type": "code",
      "source": [
        "for i in translist[22]:\n",
        "  print(len(i))\n",
        "  if len(i)>512:\n",
        "    print(i.split(\".\"))"
      ],
      "metadata": {
        "id": "EaFOyg4r82si"
      },
      "execution_count": null,
      "outputs": []
    },
    {
      "cell_type": "code",
      "source": [
        "\n",
        "      "
      ],
      "metadata": {
        "id": "37m3v8VUhAAp"
      },
      "execution_count": null,
      "outputs": []
    },
    {
      "cell_type": "code",
      "source": [],
      "metadata": {
        "id": "TF_PQ6u2f_pZ"
      },
      "execution_count": null,
      "outputs": []
    },
    {
      "cell_type": "code",
      "source": [
        "!pip install transformers"
      ],
      "metadata": {
        "id": "Zt3eeBO7fNfI",
        "colab": {
          "base_uri": "https://localhost:8080/"
        },
        "outputId": "fe062145-1b9b-482f-8497-9789287d13ea"
      },
      "execution_count": null,
      "outputs": [
        {
          "output_type": "stream",
          "name": "stdout",
          "text": [
            "Successfully installed huggingface-hub-0.14.1 tokenizers-0.13.3 transformers-4.29.2\n"
          ]
        }
      ]
    },
    {
      "cell_type": "code",
      "source": [
        "from transformers import BertTokenizer, BertForSequenceClassification, pipeline"
      ],
      "metadata": {
        "id": "I-nfZ-F3e6w2"
      },
      "execution_count": null,
      "outputs": []
    },
    {
      "cell_type": "code",
      "source": [
        "# tested in transformers==4.18.0 \n",
        "import transformers\n",
        "transformers.__version__"
      ],
      "metadata": {
        "colab": {
          "base_uri": "https://localhost:8080/",
          "height": 36
        },
        "id": "rFN0RMcYe9hV",
        "outputId": "f9ca0404-0c8c-477f-97e6-8f4fbef8717e"
      },
      "execution_count": null,
      "outputs": [
        {
          "output_type": "execute_result",
          "data": {
            "text/plain": [
              "'4.29.2'"
            ],
            "application/vnd.google.colaboratory.intrinsic+json": {
              "type": "string"
            }
          },
          "metadata": {},
          "execution_count": 33
        }
      ]
    },
    {
      "cell_type": "code",
      "source": [
        "finbert = BertForSequenceClassification.from_pretrained('yiyanghkust/finbert-esg',num_labels=4)\n",
        "tokenizer = BertTokenizer.from_pretrained('yiyanghkust/finbert-esg',truncation=True, max_length=512)"
      ],
      "metadata": {
        "id": "gt5oYq4UjGYh"
      },
      "execution_count": null,
      "outputs": []
    },
    {
      "cell_type": "code",
      "source": [
        "nlp = pipeline(\"text-classification\", model=finbert, tokenizer=tokenizer, truncation=True, max_length=512)"
      ],
      "metadata": {
        "id": "r0wDOSgTjKAz"
      },
      "execution_count": null,
      "outputs": []
    },
    {
      "cell_type": "code",
      "source": [
        "pip install xformers"
      ],
      "metadata": {
        "id": "59g8CsTUjSXw"
      },
      "execution_count": null,
      "outputs": []
    },
    {
      "cell_type": "code",
      "source": [
        "# only Q1 news\n",
        "nw= nw[nw['publishedDate']>'2022-12-31'].copy()"
      ],
      "metadata": {
        "id": "oJWSDbWou_ha"
      },
      "execution_count": null,
      "outputs": []
    },
    {
      "cell_type": "code",
      "source": [
        "nw.shape"
      ],
      "metadata": {
        "colab": {
          "base_uri": "https://localhost:8080/"
        },
        "id": "PvNxMszp0rJ2",
        "outputId": "d5fe059a-e833-41e9-a119-02a7cdaf76e3"
      },
      "execution_count": null,
      "outputs": [
        {
          "output_type": "execute_result",
          "data": {
            "text/plain": [
              "(1048, 7)"
            ]
          },
          "metadata": {},
          "execution_count": 149
        }
      ]
    },
    {
      "cell_type": "code",
      "source": [
        "nw[\"ESG\"]= nw['final_processed_text'].apply(nlp)"
      ],
      "metadata": {
        "id": "iYd6Eb0ajdeV"
      },
      "execution_count": null,
      "outputs": []
    },
    {
      "cell_type": "code",
      "source": [
        "ls= nw['ESG'].apply(lambda x: x[0]).apply(pd.Series)"
      ],
      "metadata": {
        "id": "PmZNWYldp3YW"
      },
      "execution_count": null,
      "outputs": []
    },
    {
      "cell_type": "code",
      "source": [
        "ls"
      ],
      "metadata": {
        "id": "atvI5FeLzyor"
      },
      "execution_count": null,
      "outputs": []
    },
    {
      "cell_type": "code",
      "source": [
        "nw = pd.concat((nw,ls ), axis=1 )"
      ],
      "metadata": {
        "id": "EtX8ljqZsaru"
      },
      "execution_count": null,
      "outputs": []
    },
    {
      "cell_type": "code",
      "source": [
        "nw.to_pickle(\"nw_ESG.pkl\")"
      ],
      "metadata": {
        "id": "vMrKAFu70MCL"
      },
      "execution_count": null,
      "outputs": []
    },
    {
      "cell_type": "code",
      "source": [
        "#pressdf"
      ],
      "metadata": {
        "colab": {
          "base_uri": "https://localhost:8080/"
        },
        "id": "VDJmHv8hswcU",
        "outputId": "e1d81192-dba3-4e6c-876f-a409d29f80b1"
      },
      "execution_count": null,
      "outputs": [
        {
          "output_type": "execute_result",
          "data": {
            "text/plain": [
              "Index(['symbol', 'date', 'title', 'text'], dtype='object')"
            ]
          },
          "metadata": {},
          "execution_count": 136
        }
      ]
    },
    {
      "cell_type": "code",
      "source": [
        "pressdf[\"ESG\"]= pressdf['final_processed_text'].apply(nlp)"
      ],
      "metadata": {
        "id": "k2svN6-_23nJ"
      },
      "execution_count": null,
      "outputs": []
    },
    {
      "cell_type": "code",
      "source": [
        "pls= pressdf['ESG'].apply(lambda x: x[0]).apply(pd.Series)"
      ],
      "metadata": {
        "id": "GWxtLzKj4pED"
      },
      "execution_count": null,
      "outputs": []
    },
    {
      "cell_type": "code",
      "source": [
        "pressdf= pd.concat((pressdf,pls ), axis=1 )"
      ],
      "metadata": {
        "id": "NVE6sjG04yEh"
      },
      "execution_count": null,
      "outputs": []
    },
    {
      "cell_type": "code",
      "source": [
        "pressdf.to_pickle('pressESG.pkl')"
      ],
      "metadata": {
        "id": "nAHzvTM24-1f"
      },
      "execution_count": null,
      "outputs": []
    },
    {
      "cell_type": "code",
      "source": [
        "final_text[22][3]"
      ],
      "metadata": {
        "id": "D8Kcklvp_d7D"
      },
      "execution_count": null,
      "outputs": []
    },
    {
      "cell_type": "code",
      "source": [
        "ESG=[]\n",
        "\n",
        "for i in range(len(clean_text)):\n",
        "  esg=[]\n",
        "  for a in clean_text[i]:\n",
        "    print(len(a))\n",
        "    if len(a)<=512:\n",
        "      doc = ' '.join(a)\n",
        "      esg.append(nlp(doc))\n",
        "    else:\n",
        "      a= a[0:512]\n",
        "      doc = ' '.join(a)\n",
        "      esg.append(nlp(doc))\n",
        "  ESG.append(esg)\n"
      ],
      "metadata": {
        "id": "7Kj4H8ob6jsH"
      },
      "execution_count": null,
      "outputs": []
    },
    {
      "cell_type": "code",
      "source": [
        "pd.DataFrame(ESG).T.to_pickle(\"TransESG.pkl\")"
      ],
      "metadata": {
        "id": "ZuQsOOpt7vwH"
      },
      "execution_count": null,
      "outputs": []
    },
    {
      "cell_type": "code",
      "source": [
        "pd.DataFrame(final_text).T.to_pickle(\"final_text.pkl\")"
      ],
      "metadata": {
        "id": "9pMW4RcQiQcV"
      },
      "execution_count": null,
      "outputs": []
    },
    {
      "cell_type": "code",
      "source": [
        "pd.DataFrame"
      ],
      "metadata": {
        "id": "iZ-QEEyejlZq"
      },
      "execution_count": null,
      "outputs": []
    },
    {
      "cell_type": "code",
      "source": [
        "for i in clean_text:\n",
        "  for a in i:\n",
        "    if len(a)==488:\n",
        "      doc= ' '.join(a)\n",
        "      print(doc)\n",
        "      #nlp(doc)"
      ],
      "metadata": {
        "colab": {
          "base_uri": "https://localhost:8080/"
        },
        "id": "2cxc-kC7-gFy",
        "outputId": "023e3025-d103-4c21-bf6c-fe4d21535ed1"
      },
      "execution_count": null,
      "outputs": [
        {
          "output_type": "stream",
          "name": "stdout",
          "text": [
            "thank morning welcome first quarter conference today discuss continued progress executing strategy cover operations rielly review financial results believe offers unique value proposition investors strategy deliver highreturn resource growth supply industryleading growth maintain industry leadership environmental social governance performance disclosure terms resource growth multiple phases guyana developments coming online robust inventory highreturn drilling locations bakken deliver highly profitable production growth annually stabroek block guyana currently sight floating production storage floating vessels fpsos gross production capacity million barrels terms supply resource continues expand steadily curve forecast costs decline approximately portfolio achieve breakeven brent price approximately barrel sanctioned developments stabroek block breakeven brent price approximately barrel terms growth industryleading change story industryleading duration story providing highly differentiated value proposition based brent price barrel barrel forecast increase approximately annually twice topline growth balance sheet continue strengthen recent debttoebitdax ratio approximately onetime successful execution strategy uniquely positioned company deliver significant value shareholders years growing intrinsic value growing returns financial priorities allocate capital highreturn lowcost investment opportunities maintain strong balance sheet position ensure worldclass investment opportunities guyana bakken allocated capital budget return annual shareholders dividend increases share repurchases return capital framework march increased annual dividend share looking ahead continue increasing regular dividend level attractive income oriented investors sustainable price environment generation steadily increases future years share repurchases expected represent growing proportion return capital manage price volatility hedged barrels barrels barrel options barrels barrel brent options positions shareholders protected downside fully benefiting upside strategy guyana industrys largest province discovered decade interest exxonmobil operator since discoveries block including since start fangtooth underpinning gross discovered recoverable resource estimate billion barrels equivalent multibillion barrels exploration potential remaining potential fpsos develop discovered resources block phase phase developments produced average approximately gross barrels first quarter third sanctioned development payara arrived stabroek block earlier month ahead schedule targeted start early fourth quarter gross production capacity approximately fourth sanction development yellowtail expected online gross production capacity approximately barrels government regulatory approvals expected hopefully fifth development gross production capacity approximately barrels development sixth development whiptail expected submitted government regulatory government approvals later turning bakken continue operating fourrig program enable production approximately barrels equivalent lower fully optimize infrastructure generate significant levels continue outstanding applying manufacturing principles build culture innovation improve efficiency mitigate inflationary pressures execute company strategy continue guided longstanding commitment sustainability proud industry leader earlier month announced million donation years institute harnessing plants initiative potential changer tackling global challenge climate change developing plants crops wetlands natural ability capture store potentially billions carbon atmosphere proud received rating latest environmental social governance rating assessment mscis highest rating designates company leader managing industryspecific risks relative peers received first rating earning ratings consecutive years february earned place bloomberg gender equality index fourth consecutive summary continue successfully execute strategy offers unique value proposition industry growing intrinsic value returns multiple phases lowcost developments coming online guyana robust inventory highreturn drilling locations bakken portfolio positioned become increasingly positive continue prioritize return capital shareholders dividend increases share repurchases operational update\n"
          ]
        }
      ]
    },
    {
      "cell_type": "code",
      "source": [
        "t= 'thank morning welcome first quarter conference today discuss continued progress executing strategy cover operations rielly review financial results believe offers unique value proposition investors strategy deliver highreturn resource growth supply industryleading growth maintain industry leadership environmental social governance performance disclosure terms resource growth multiple phases guyana developments coming online robust inventory highreturn drilling locations bakken deliver highly profitable production growth annually stabroek block guyana currently sight floating production storage floating vessels fpsos gross production capacity million barrels terms supply resource continues expand steadily curve forecast costs decline approximately portfolio achieve breakeven brent price approximately barrel sanctioned developments stabroek block breakeven brent price approximately barrel terms growth industryleading change story industryleading duration story providing highly differentiated value proposition based brent price barrel barrel forecast increase approximately annually twice topline growth balance sheet continue strengthen recent debttoebitdax ratio approximately onetime successful execution strategy uniquely positioned company deliver significant value shareholders years growing intrinsic value growing returns financial priorities allocate capital highreturn lowcost investment opportunities maintain strong balance sheet position ensure worldclass investment opportunities guyana bakken allocated capital budget return annual shareholders dividend increases share repurchases return capital framework march increased annual dividend share looking ahead continue increasing regular dividend level attractive income oriented investors sustainable price environment generation steadily increases future years share repurchases expected represent growing proportion return capital manage price volatility hedged barrels barrels barrel options barrels barrel brent options positions shareholders protected downside fully benefiting upside strategy guyana industrys largest province discovered decade interest exxonmobil operator since discoveries block including since start fangtooth underpinning gross discovered recoverable resource estimate billion barrels equivalent multibillion barrels exploration potential remaining potential fpsos develop discovered resources block phase phase developments produced average approximately gross barrels first quarter third sanctioned development payara arrived stabroek block earlier month ahead schedule targeted start early fourth quarter gross production capacity approximately fourth sanction development yellowtail expected online gross production capacity approximately barrels government regulatory approvals expected hopefully fifth development gross production capacity approximately barrels development sixth development whiptail expected submitted government regulatory government approvals later turning bakken continue operating fourrig program enable production approximately barrels equivalent lower fully optimize infrastructure generate significant levels continue outstanding applying manufacturing principles build culture innovation improve efficiency mitigate inflationary pressures execute company strategy continue guided longstanding commitment sustainability proud industry leader earlier month announced million donation years institute harnessing plants initiative potential changer tackling global challenge climate change developing plants crops wetlands natural ability capture store potentially billions carbon atmosphere proud received rating latest environmental social governance rating assessment mscis highest rating designates company leader managing industryspecific risks relative peers received first rating earning ratings consecutive years february earned place bloomberg gender equality index fourth consecutive summary continue successfully execute strategy offers unique value proposition industry growing intrinsic value returns multiple phases lowcost developments coming online guyana robust inventory highreturn drilling locations bakken portfolio positioned become increasingly positive continue prioritize return capital shareholders dividend increases share repurchases operational update'"
      ],
      "metadata": {
        "id": "0nbdCFJIbiel"
      },
      "execution_count": null,
      "outputs": []
    },
    {
      "cell_type": "code",
      "source": [
        "transdf"
      ],
      "metadata": {
        "id": "q_eDQWGJbmoQ"
      },
      "execution_count": null,
      "outputs": []
    },
    {
      "cell_type": "code",
      "source": [
        "tESG= pd.DataFrame(ESG).T#.columns= transdf['symbol'].tolist()"
      ],
      "metadata": {
        "id": "bTV7-Jl-j5rM"
      },
      "execution_count": null,
      "outputs": []
    },
    {
      "cell_type": "code",
      "source": [
        "tESG.columns=transdf['symbol'].tolist()"
      ],
      "metadata": {
        "id": "xS91pRObk96o"
      },
      "execution_count": null,
      "outputs": []
    },
    {
      "cell_type": "code",
      "source": [
        "tESG=tESG.T.reset_index(names='symbol')"
      ],
      "metadata": {
        "id": "op0-O4zHpjvA"
      },
      "execution_count": null,
      "outputs": []
    },
    {
      "cell_type": "code",
      "source": [
        "#tESG= tESG.stack()#.reset_index()#.drop('level_0', axis=1)"
      ],
      "metadata": {
        "id": "go9xQHV6lM14"
      },
      "execution_count": null,
      "outputs": []
    },
    {
      "cell_type": "code",
      "source": [],
      "metadata": {
        "id": "4hn8WmSFqr_K"
      },
      "execution_count": null,
      "outputs": []
    },
    {
      "cell_type": "code",
      "source": [
        "tESG= pd.melt(tESG, id_vars=[\"symbol\"], \n",
        "                   value_name=\"Value\")"
      ],
      "metadata": {
        "id": "QTV1N_t6oLot"
      },
      "execution_count": null,
      "outputs": []
    },
    {
      "cell_type": "code",
      "source": [
        "tESG = tESG.dropna()"
      ],
      "metadata": {
        "id": "xJSO5GiurUNv"
      },
      "execution_count": null,
      "outputs": []
    },
    {
      "cell_type": "code",
      "source": [
        "tls= tESG['ESG'].apply(lambda x: x[0]).apply(pd.Series)"
      ],
      "metadata": {
        "id": "fGlukW6joCDp"
      },
      "execution_count": null,
      "outputs": []
    },
    {
      "cell_type": "code",
      "source": [
        "tESGdf= pd.concat((tESG,tls),axis=1) "
      ],
      "metadata": {
        "id": "dHB8nKwrtsKy"
      },
      "execution_count": null,
      "outputs": []
    },
    {
      "cell_type": "code",
      "source": [],
      "metadata": {
        "id": "YdJTG_DZuWoQ"
      },
      "execution_count": null,
      "outputs": []
    },
    {
      "cell_type": "code",
      "source": [],
      "metadata": {
        "id": "taRM8lPQtUpk"
      },
      "execution_count": null,
      "outputs": []
    },
    {
      "cell_type": "code",
      "source": [],
      "metadata": {
        "id": "K2GgO1bplsoW"
      },
      "execution_count": null,
      "outputs": []
    },
    {
      "cell_type": "markdown",
      "source": [],
      "metadata": {
        "id": "I1PT9OrLk8Ob"
      }
    },
    {
      "cell_type": "code",
      "source": [
        "ftxt= pd.DataFrame(final_text).T"
      ],
      "metadata": {
        "id": "FxENr1BPkdnI"
      },
      "execution_count": null,
      "outputs": []
    },
    {
      "cell_type": "code",
      "source": [
        "ftxt.columns=transdf['symbol'].tolist()"
      ],
      "metadata": {
        "id": "25gY1MdHlexq"
      },
      "execution_count": null,
      "outputs": []
    },
    {
      "cell_type": "code",
      "source": [
        "ftxt= ftxt.T.reset_index(names='symbol')"
      ],
      "metadata": {
        "id": "juxRo8viljfV"
      },
      "execution_count": null,
      "outputs": []
    },
    {
      "cell_type": "code",
      "source": [
        "ftxt= pd.melt(ftxt, id_vars=[\"symbol\"], \n",
        "                   value_name=\"Value\")"
      ],
      "metadata": {
        "id": "FzaqQAmWlpwI"
      },
      "execution_count": null,
      "outputs": []
    },
    {
      "cell_type": "code",
      "source": [
        "ftxt.columns= ['symbol',\"number\",\"final_text\"]"
      ],
      "metadata": {
        "id": "3AF5W1dPr6Sa"
      },
      "execution_count": null,
      "outputs": []
    },
    {
      "cell_type": "code",
      "source": [
        "ftxt= ftxt.dropna()"
      ],
      "metadata": {
        "id": "thCupCIAr_YG"
      },
      "execution_count": null,
      "outputs": []
    },
    {
      "cell_type": "code",
      "source": [
        "ftxt.shape"
      ],
      "metadata": {
        "colab": {
          "base_uri": "https://localhost:8080/"
        },
        "id": "J1CC9YgDuxbm",
        "outputId": "7a6370df-0359-4831-9e4a-d02216a70a9b"
      },
      "execution_count": null,
      "outputs": [
        {
          "output_type": "execute_result",
          "data": {
            "text/plain": [
              "(3411, 3)"
            ]
          },
          "metadata": {},
          "execution_count": 361
        }
      ]
    },
    {
      "cell_type": "code",
      "source": [
        "tESGdf.shape"
      ],
      "metadata": {
        "colab": {
          "base_uri": "https://localhost:8080/"
        },
        "id": "nZ1SQnGQu0Q6",
        "outputId": "76e00e1a-b1dd-422a-a558-16d6263f6ad1"
      },
      "execution_count": null,
      "outputs": [
        {
          "output_type": "execute_result",
          "data": {
            "text/plain": [
              "(3411, 5)"
            ]
          },
          "metadata": {},
          "execution_count": 362
        }
      ]
    },
    {
      "cell_type": "code",
      "source": [
        "transtxtESG= ftxt.merge(tESGdf, on=['symbol','number'])"
      ],
      "metadata": {
        "id": "-aQ3mbtPugWE"
      },
      "execution_count": null,
      "outputs": []
    },
    {
      "cell_type": "code",
      "source": [
        "transESGdf= transdf.merge(transtxtESG, on='symbol')"
      ],
      "metadata": {
        "id": "ags5fiCGvBiT"
      },
      "execution_count": null,
      "outputs": []
    },
    {
      "cell_type": "code",
      "source": [
        "transESGdf.to_pickle(\"transESGdf.pkl\")"
      ],
      "metadata": {
        "id": "msb95OJmvglk"
      },
      "execution_count": null,
      "outputs": []
    },
    {
      "cell_type": "code",
      "source": [
        "transESGdf"
      ],
      "metadata": {
        "id": "IYDhmNVUzled"
      },
      "execution_count": null,
      "outputs": []
    },
    {
      "cell_type": "code",
      "source": [
        "TransESGscore= transESGdf[(transESGdf['score']>0.8) & (transESGdf['label']!='None') ].copy()"
      ],
      "metadata": {
        "id": "9cDxuK2JytSD"
      },
      "execution_count": null,
      "outputs": []
    },
    {
      "cell_type": "code",
      "source": [
        "finbert = BertForSequenceClassification.from_pretrained('yiyanghkust/finbert-tone',num_labels=3)\n",
        "tokenizer = BertTokenizer.from_pretrained('yiyanghkust/finbert-tone')"
      ],
      "metadata": {
        "colab": {
          "base_uri": "https://localhost:8080/",
          "height": 113,
          "referenced_widgets": [
            "1aba3230a930427c90ba1c708b15e6d2",
            "b633458940494df6a9eab9593479e89a",
            "587bee37326540f6819cda29816c23e8",
            "fc73ea1efaec400bbae578876c992e23",
            "0985b474c00c4aa2a7887fe557e03ed5",
            "9f849de9db22477cbad6fb6c3da5a6e8",
            "181933c8fd714b259d306d9ea9eef2b9",
            "4d9360d7bd86456ca07c2398f8a247d6",
            "2405abfe470b412d821774bfd229ef35",
            "aca315f4951c41dd9806064c68250dbe",
            "e0302318df3a458cad615e140e99ad6b",
            "e981014c3582419399bea6100576b885",
            "91f590ad3f9049fdb139606b460898ff",
            "c22623ab0237423aa94ad0068da3fb5f",
            "346965be61a64625a703cf12bbeb16dc",
            "c42cfd09ed3f41d8ad4e3a7b91f3b776",
            "8a961c18a60b437ab84fbae565578c26",
            "5a5da692298f4130902089476401e98e",
            "292fdad66fd34764aadc02baaeab3810",
            "ef714e79518241da868446fe829a2ddf",
            "44a9a12bed8c43338b28d2c90d784952",
            "8b58df3cbc124e73b49369310fe50d4b",
            "6a2b79b26d6c436a9540ddf92b4dde91",
            "22e09dfd804c4258ba9d7dbf4a53886e",
            "d94cffd7c70b44de87f287668bf90332",
            "252374200100484fbd28c0e3f513bfcf",
            "4908440a34b24f5ab69994eefa97b5f0",
            "0a9824bd539046e48eeca52e72b33109",
            "35dfcaf348d34fdd879ac3cac0c732d2",
            "b49e742d67cd469284fae5056be5f5d6",
            "85055b1fadb74c17b2b645fb4eadeb43",
            "199ae9f1f47b4e26b7b5f671d08d44f0",
            "7d836b7cf8c346fb85b804f01635dfaf"
          ]
        },
        "id": "OoQj2RWCz7hs",
        "outputId": "07650d9a-ec15-45c4-e906-2d96f7c5e093"
      },
      "execution_count": null,
      "outputs": [
        {
          "output_type": "display_data",
          "data": {
            "text/plain": [
              "Downloading (…)lve/main/config.json:   0%|          | 0.00/533 [00:00<?, ?B/s]"
            ],
            "application/vnd.jupyter.widget-view+json": {
              "version_major": 2,
              "version_minor": 0,
              "model_id": "1aba3230a930427c90ba1c708b15e6d2"
            }
          },
          "metadata": {}
        },
        {
          "output_type": "display_data",
          "data": {
            "text/plain": [
              "Downloading pytorch_model.bin:   0%|          | 0.00/439M [00:00<?, ?B/s]"
            ],
            "application/vnd.jupyter.widget-view+json": {
              "version_major": 2,
              "version_minor": 0,
              "model_id": "e981014c3582419399bea6100576b885"
            }
          },
          "metadata": {}
        },
        {
          "output_type": "display_data",
          "data": {
            "text/plain": [
              "Downloading (…)solve/main/vocab.txt:   0%|          | 0.00/226k [00:00<?, ?B/s]"
            ],
            "application/vnd.jupyter.widget-view+json": {
              "version_major": 2,
              "version_minor": 0,
              "model_id": "6a2b79b26d6c436a9540ddf92b4dde91"
            }
          },
          "metadata": {}
        }
      ]
    },
    {
      "cell_type": "code",
      "source": [
        "nlp = pipeline(\"text-classification\", model=finbert, tokenizer=tokenizer)"
      ],
      "metadata": {
        "id": "5Ir9uzlKz9RY"
      },
      "execution_count": null,
      "outputs": []
    },
    {
      "cell_type": "code",
      "source": [
        "TransESGscore[\"ESG_SCORE\"]=TransESGscore[\"final_text\"].apply(nlp)"
      ],
      "metadata": {
        "id": "vzUjpyWO0Fac"
      },
      "execution_count": null,
      "outputs": []
    },
    {
      "cell_type": "code",
      "source": [
        "tes= TransESGscore[\"ESG_SCORE\"].apply(lambda x: pd.Series(x[0]))"
      ],
      "metadata": {
        "id": "UmiHpsR61ZtF"
      },
      "execution_count": null,
      "outputs": []
    },
    {
      "cell_type": "code",
      "source": [
        "tes.columns= ['label_s','score_s']"
      ],
      "metadata": {
        "id": "75DcbDFD12ZJ"
      },
      "execution_count": null,
      "outputs": []
    },
    {
      "cell_type": "code",
      "source": [
        "TransESGfinal= pd.concat((TransESGscore,tes),axis=1)"
      ],
      "metadata": {
        "id": "vHZi7Yc519FO"
      },
      "execution_count": null,
      "outputs": []
    },
    {
      "cell_type": "code",
      "source": [
        "TransESGfinal.to_pickle(\"final_trans.pkl\")"
      ],
      "metadata": {
        "id": "1iDumV0X2IX1"
      },
      "execution_count": null,
      "outputs": []
    },
    {
      "cell_type": "code",
      "source": [
        "nwESG= pd.read_pickle(\"nw_ESG.pkl\")"
      ],
      "metadata": {
        "id": "Up0p_Xj52kA4"
      },
      "execution_count": null,
      "outputs": []
    },
    {
      "cell_type": "code",
      "source": [
        "nwESG.head(1)"
      ],
      "metadata": {
        "id": "jiTyEFHT5ubI"
      },
      "execution_count": null,
      "outputs": []
    },
    {
      "cell_type": "code",
      "source": [
        "nwESGdf= nwESG[(nwESG['label']!='None')&(nwESG['score']>0.8)].copy()"
      ],
      "metadata": {
        "id": "2e4OmQU72q1s"
      },
      "execution_count": null,
      "outputs": []
    },
    {
      "cell_type": "code",
      "source": [
        "nwESGdf['ESG_score']=nwESGdf['final_processed_text'].apply(nlp)"
      ],
      "metadata": {
        "id": "cc7Yq_0r3ThG"
      },
      "execution_count": null,
      "outputs": []
    },
    {
      "cell_type": "code",
      "source": [
        "nes = nwESGdf['ESG_score'].apply(lambda x: pd.Series(x[0]))"
      ],
      "metadata": {
        "id": "3oy-aSyY3hxU"
      },
      "execution_count": null,
      "outputs": []
    },
    {
      "cell_type": "code",
      "source": [
        "nes.columns= ['label_s','score_s']"
      ],
      "metadata": {
        "id": "Me_2Q08q5Sdn"
      },
      "execution_count": null,
      "outputs": []
    },
    {
      "cell_type": "code",
      "source": [
        "nwESGfinal= pd.concat((nwESGdf, nes),axis=1)"
      ],
      "metadata": {
        "id": "drMyu0o63yBE"
      },
      "execution_count": null,
      "outputs": []
    },
    {
      "cell_type": "code",
      "source": [
        "nwESGfinal.to_pickle('nwESGfinal.pkl')"
      ],
      "metadata": {
        "id": "kXRPO5_i36Cm"
      },
      "execution_count": null,
      "outputs": []
    },
    {
      "cell_type": "code",
      "source": [
        "nwESGfinal.head(1)"
      ],
      "metadata": {
        "colab": {
          "base_uri": "https://localhost:8080/",
          "height": 194
        },
        "id": "rK1LNp3K5n05",
        "outputId": "3963b91e-9e40-45dc-b769-73b88e9d9e24"
      },
      "execution_count": null,
      "outputs": [
        {
          "output_type": "execute_result",
          "data": {
            "text/plain": [
              "   symbol        publishedDate  \\\n",
              "11    APA  2023-03-24 07:56:00   \n",
              "\n",
              "                                                title           site  \\\n",
              "11  Midstream Caught In Middle Of Permian Producer...  Seeking Alpha   \n",
              "\n",
              "                                                 text  \\\n",
              "11  Public and private producers are parting ways ...   \n",
              "\n",
              "                                       processed_text  \\\n",
              "11  [public, private, producers, parting, permian,...   \n",
              "\n",
              "                                 final_processed_text  \\\n",
              "11  public private producers parting permian basin...   \n",
              "\n",
              "                                                  ESG   label     score  \\\n",
              "11  [{'label': 'Social', 'score': 0.86109918355941...  Social  0.861099   \n",
              "\n",
              "                                            ESG_score  label_s   score_s  \n",
              "11  [{'label': 'Neutral', 'score': 0.9998087286949...  Neutral  0.999809  "
            ],
            "text/html": [
              "\n",
              "  <div id=\"df-7985c273-6853-4a00-bc3b-da181265ad57\">\n",
              "    <div class=\"colab-df-container\">\n",
              "      <div>\n",
              "<style scoped>\n",
              "    .dataframe tbody tr th:only-of-type {\n",
              "        vertical-align: middle;\n",
              "    }\n",
              "\n",
              "    .dataframe tbody tr th {\n",
              "        vertical-align: top;\n",
              "    }\n",
              "\n",
              "    .dataframe thead th {\n",
              "        text-align: right;\n",
              "    }\n",
              "</style>\n",
              "<table border=\"1\" class=\"dataframe\">\n",
              "  <thead>\n",
              "    <tr style=\"text-align: right;\">\n",
              "      <th></th>\n",
              "      <th>symbol</th>\n",
              "      <th>publishedDate</th>\n",
              "      <th>title</th>\n",
              "      <th>site</th>\n",
              "      <th>text</th>\n",
              "      <th>processed_text</th>\n",
              "      <th>final_processed_text</th>\n",
              "      <th>ESG</th>\n",
              "      <th>label</th>\n",
              "      <th>score</th>\n",
              "      <th>ESG_score</th>\n",
              "      <th>label_s</th>\n",
              "      <th>score_s</th>\n",
              "    </tr>\n",
              "  </thead>\n",
              "  <tbody>\n",
              "    <tr>\n",
              "      <th>11</th>\n",
              "      <td>APA</td>\n",
              "      <td>2023-03-24 07:56:00</td>\n",
              "      <td>Midstream Caught In Middle Of Permian Producer...</td>\n",
              "      <td>Seeking Alpha</td>\n",
              "      <td>Public and private producers are parting ways ...</td>\n",
              "      <td>[public, private, producers, parting, permian,...</td>\n",
              "      <td>public private producers parting permian basin...</td>\n",
              "      <td>[{'label': 'Social', 'score': 0.86109918355941...</td>\n",
              "      <td>Social</td>\n",
              "      <td>0.861099</td>\n",
              "      <td>[{'label': 'Neutral', 'score': 0.9998087286949...</td>\n",
              "      <td>Neutral</td>\n",
              "      <td>0.999809</td>\n",
              "    </tr>\n",
              "  </tbody>\n",
              "</table>\n",
              "</div>\n",
              "      <button class=\"colab-df-convert\" onclick=\"convertToInteractive('df-7985c273-6853-4a00-bc3b-da181265ad57')\"\n",
              "              title=\"Convert this dataframe to an interactive table.\"\n",
              "              style=\"display:none;\">\n",
              "        \n",
              "  <svg xmlns=\"http://www.w3.org/2000/svg\" height=\"24px\"viewBox=\"0 0 24 24\"\n",
              "       width=\"24px\">\n",
              "    <path d=\"M0 0h24v24H0V0z\" fill=\"none\"/>\n",
              "    <path d=\"M18.56 5.44l.94 2.06.94-2.06 2.06-.94-2.06-.94-.94-2.06-.94 2.06-2.06.94zm-11 1L8.5 8.5l.94-2.06 2.06-.94-2.06-.94L8.5 2.5l-.94 2.06-2.06.94zm10 10l.94 2.06.94-2.06 2.06-.94-2.06-.94-.94-2.06-.94 2.06-2.06.94z\"/><path d=\"M17.41 7.96l-1.37-1.37c-.4-.4-.92-.59-1.43-.59-.52 0-1.04.2-1.43.59L10.3 9.45l-7.72 7.72c-.78.78-.78 2.05 0 2.83L4 21.41c.39.39.9.59 1.41.59.51 0 1.02-.2 1.41-.59l7.78-7.78 2.81-2.81c.8-.78.8-2.07 0-2.86zM5.41 20L4 18.59l7.72-7.72 1.47 1.35L5.41 20z\"/>\n",
              "  </svg>\n",
              "      </button>\n",
              "      \n",
              "  <style>\n",
              "    .colab-df-container {\n",
              "      display:flex;\n",
              "      flex-wrap:wrap;\n",
              "      gap: 12px;\n",
              "    }\n",
              "\n",
              "    .colab-df-convert {\n",
              "      background-color: #E8F0FE;\n",
              "      border: none;\n",
              "      border-radius: 50%;\n",
              "      cursor: pointer;\n",
              "      display: none;\n",
              "      fill: #1967D2;\n",
              "      height: 32px;\n",
              "      padding: 0 0 0 0;\n",
              "      width: 32px;\n",
              "    }\n",
              "\n",
              "    .colab-df-convert:hover {\n",
              "      background-color: #E2EBFA;\n",
              "      box-shadow: 0px 1px 2px rgba(60, 64, 67, 0.3), 0px 1px 3px 1px rgba(60, 64, 67, 0.15);\n",
              "      fill: #174EA6;\n",
              "    }\n",
              "\n",
              "    [theme=dark] .colab-df-convert {\n",
              "      background-color: #3B4455;\n",
              "      fill: #D2E3FC;\n",
              "    }\n",
              "\n",
              "    [theme=dark] .colab-df-convert:hover {\n",
              "      background-color: #434B5C;\n",
              "      box-shadow: 0px 1px 3px 1px rgba(0, 0, 0, 0.15);\n",
              "      filter: drop-shadow(0px 1px 2px rgba(0, 0, 0, 0.3));\n",
              "      fill: #FFFFFF;\n",
              "    }\n",
              "  </style>\n",
              "\n",
              "      <script>\n",
              "        const buttonEl =\n",
              "          document.querySelector('#df-7985c273-6853-4a00-bc3b-da181265ad57 button.colab-df-convert');\n",
              "        buttonEl.style.display =\n",
              "          google.colab.kernel.accessAllowed ? 'block' : 'none';\n",
              "\n",
              "        async function convertToInteractive(key) {\n",
              "          const element = document.querySelector('#df-7985c273-6853-4a00-bc3b-da181265ad57');\n",
              "          const dataTable =\n",
              "            await google.colab.kernel.invokeFunction('convertToInteractive',\n",
              "                                                     [key], {});\n",
              "          if (!dataTable) return;\n",
              "\n",
              "          const docLinkHtml = 'Like what you see? Visit the ' +\n",
              "            '<a target=\"_blank\" href=https://colab.research.google.com/notebooks/data_table.ipynb>data table notebook</a>'\n",
              "            + ' to learn more about interactive tables.';\n",
              "          element.innerHTML = '';\n",
              "          dataTable['output_type'] = 'display_data';\n",
              "          await google.colab.output.renderOutput(dataTable, element);\n",
              "          const docLink = document.createElement('div');\n",
              "          docLink.innerHTML = docLinkHtml;\n",
              "          element.appendChild(docLink);\n",
              "        }\n",
              "      </script>\n",
              "    </div>\n",
              "  </div>\n",
              "  "
            ]
          },
          "metadata": {},
          "execution_count": 427
        }
      ]
    },
    {
      "cell_type": "code",
      "source": [
        "pressESG= pd.read_pickle(\"pressESG.pkl\")"
      ],
      "metadata": {
        "id": "B4xoGkJr4Dkt"
      },
      "execution_count": null,
      "outputs": []
    },
    {
      "cell_type": "code",
      "source": [
        "pressESG.head(1)"
      ],
      "metadata": {
        "colab": {
          "base_uri": "https://localhost:8080/",
          "height": 159
        },
        "id": "72m72-YP4Ulo",
        "outputId": "8d8c0560-7d35-429e-aea2-7d3eea28d536"
      },
      "execution_count": null,
      "outputs": [
        {
          "output_type": "execute_result",
          "data": {
            "text/plain": [
              "  symbol                 date  \\\n",
              "0    APA  2023-05-03 16:15:00   \n",
              "\n",
              "                                               title  \\\n",
              "0  APA CORPORATION ANNOUNCES FIRST-QUARTER 2023 F...   \n",
              "\n",
              "                                                text  \\\n",
              "0  HOUSTON, MAY 03, 2023 (GLOBE NEWSWIRE) -- APA ...   \n",
              "\n",
              "                                      processed_text  \\\n",
              "0  [houston, globe, newswire, corporation, nasdaq...   \n",
              "\n",
              "                                final_processed_text  \\\n",
              "0  houston globe newswire corporation nasdaq toda...   \n",
              "\n",
              "                                                ESG label     score  \n",
              "0  [{'label': 'None', 'score': 0.9842051863670349}]  None  0.984205  "
            ],
            "text/html": [
              "\n",
              "  <div id=\"df-e7c95771-8d63-4c08-b6d1-3b64395f6927\">\n",
              "    <div class=\"colab-df-container\">\n",
              "      <div>\n",
              "<style scoped>\n",
              "    .dataframe tbody tr th:only-of-type {\n",
              "        vertical-align: middle;\n",
              "    }\n",
              "\n",
              "    .dataframe tbody tr th {\n",
              "        vertical-align: top;\n",
              "    }\n",
              "\n",
              "    .dataframe thead th {\n",
              "        text-align: right;\n",
              "    }\n",
              "</style>\n",
              "<table border=\"1\" class=\"dataframe\">\n",
              "  <thead>\n",
              "    <tr style=\"text-align: right;\">\n",
              "      <th></th>\n",
              "      <th>symbol</th>\n",
              "      <th>date</th>\n",
              "      <th>title</th>\n",
              "      <th>text</th>\n",
              "      <th>processed_text</th>\n",
              "      <th>final_processed_text</th>\n",
              "      <th>ESG</th>\n",
              "      <th>label</th>\n",
              "      <th>score</th>\n",
              "    </tr>\n",
              "  </thead>\n",
              "  <tbody>\n",
              "    <tr>\n",
              "      <th>0</th>\n",
              "      <td>APA</td>\n",
              "      <td>2023-05-03 16:15:00</td>\n",
              "      <td>APA CORPORATION ANNOUNCES FIRST-QUARTER 2023 F...</td>\n",
              "      <td>HOUSTON, MAY 03, 2023 (GLOBE NEWSWIRE) -- APA ...</td>\n",
              "      <td>[houston, globe, newswire, corporation, nasdaq...</td>\n",
              "      <td>houston globe newswire corporation nasdaq toda...</td>\n",
              "      <td>[{'label': 'None', 'score': 0.9842051863670349}]</td>\n",
              "      <td>None</td>\n",
              "      <td>0.984205</td>\n",
              "    </tr>\n",
              "  </tbody>\n",
              "</table>\n",
              "</div>\n",
              "      <button class=\"colab-df-convert\" onclick=\"convertToInteractive('df-e7c95771-8d63-4c08-b6d1-3b64395f6927')\"\n",
              "              title=\"Convert this dataframe to an interactive table.\"\n",
              "              style=\"display:none;\">\n",
              "        \n",
              "  <svg xmlns=\"http://www.w3.org/2000/svg\" height=\"24px\"viewBox=\"0 0 24 24\"\n",
              "       width=\"24px\">\n",
              "    <path d=\"M0 0h24v24H0V0z\" fill=\"none\"/>\n",
              "    <path d=\"M18.56 5.44l.94 2.06.94-2.06 2.06-.94-2.06-.94-.94-2.06-.94 2.06-2.06.94zm-11 1L8.5 8.5l.94-2.06 2.06-.94-2.06-.94L8.5 2.5l-.94 2.06-2.06.94zm10 10l.94 2.06.94-2.06 2.06-.94-2.06-.94-.94-2.06-.94 2.06-2.06.94z\"/><path d=\"M17.41 7.96l-1.37-1.37c-.4-.4-.92-.59-1.43-.59-.52 0-1.04.2-1.43.59L10.3 9.45l-7.72 7.72c-.78.78-.78 2.05 0 2.83L4 21.41c.39.39.9.59 1.41.59.51 0 1.02-.2 1.41-.59l7.78-7.78 2.81-2.81c.8-.78.8-2.07 0-2.86zM5.41 20L4 18.59l7.72-7.72 1.47 1.35L5.41 20z\"/>\n",
              "  </svg>\n",
              "      </button>\n",
              "      \n",
              "  <style>\n",
              "    .colab-df-container {\n",
              "      display:flex;\n",
              "      flex-wrap:wrap;\n",
              "      gap: 12px;\n",
              "    }\n",
              "\n",
              "    .colab-df-convert {\n",
              "      background-color: #E8F0FE;\n",
              "      border: none;\n",
              "      border-radius: 50%;\n",
              "      cursor: pointer;\n",
              "      display: none;\n",
              "      fill: #1967D2;\n",
              "      height: 32px;\n",
              "      padding: 0 0 0 0;\n",
              "      width: 32px;\n",
              "    }\n",
              "\n",
              "    .colab-df-convert:hover {\n",
              "      background-color: #E2EBFA;\n",
              "      box-shadow: 0px 1px 2px rgba(60, 64, 67, 0.3), 0px 1px 3px 1px rgba(60, 64, 67, 0.15);\n",
              "      fill: #174EA6;\n",
              "    }\n",
              "\n",
              "    [theme=dark] .colab-df-convert {\n",
              "      background-color: #3B4455;\n",
              "      fill: #D2E3FC;\n",
              "    }\n",
              "\n",
              "    [theme=dark] .colab-df-convert:hover {\n",
              "      background-color: #434B5C;\n",
              "      box-shadow: 0px 1px 3px 1px rgba(0, 0, 0, 0.15);\n",
              "      filter: drop-shadow(0px 1px 2px rgba(0, 0, 0, 0.3));\n",
              "      fill: #FFFFFF;\n",
              "    }\n",
              "  </style>\n",
              "\n",
              "      <script>\n",
              "        const buttonEl =\n",
              "          document.querySelector('#df-e7c95771-8d63-4c08-b6d1-3b64395f6927 button.colab-df-convert');\n",
              "        buttonEl.style.display =\n",
              "          google.colab.kernel.accessAllowed ? 'block' : 'none';\n",
              "\n",
              "        async function convertToInteractive(key) {\n",
              "          const element = document.querySelector('#df-e7c95771-8d63-4c08-b6d1-3b64395f6927');\n",
              "          const dataTable =\n",
              "            await google.colab.kernel.invokeFunction('convertToInteractive',\n",
              "                                                     [key], {});\n",
              "          if (!dataTable) return;\n",
              "\n",
              "          const docLinkHtml = 'Like what you see? Visit the ' +\n",
              "            '<a target=\"_blank\" href=https://colab.research.google.com/notebooks/data_table.ipynb>data table notebook</a>'\n",
              "            + ' to learn more about interactive tables.';\n",
              "          element.innerHTML = '';\n",
              "          dataTable['output_type'] = 'display_data';\n",
              "          await google.colab.output.renderOutput(dataTable, element);\n",
              "          const docLink = document.createElement('div');\n",
              "          docLink.innerHTML = docLinkHtml;\n",
              "          element.appendChild(docLink);\n",
              "        }\n",
              "      </script>\n",
              "    </div>\n",
              "  </div>\n",
              "  "
            ]
          },
          "metadata": {},
          "execution_count": 431
        }
      ]
    },
    {
      "cell_type": "code",
      "source": [
        "pressESGdf = pressESG[(pressESG['label']!='None')&(pressESG['score']>0.8)].copy()"
      ],
      "metadata": {
        "id": "ZUUXx4QU4Nu5"
      },
      "execution_count": null,
      "outputs": []
    },
    {
      "cell_type": "code",
      "source": [
        "pressESGdf['ESG_score']=pressESGdf['final_processed_text'].apply(nlp)"
      ],
      "metadata": {
        "id": "Fa6pUpSP4bh0"
      },
      "execution_count": null,
      "outputs": []
    },
    {
      "cell_type": "code",
      "source": [],
      "metadata": {
        "id": "P9d60KlF48q4"
      },
      "execution_count": null,
      "outputs": []
    },
    {
      "cell_type": "code",
      "source": [
        "pes = pressESGdf['ESG_score'].apply(lambda x: pd.Series(x[0]))"
      ],
      "metadata": {
        "id": "9Xy84cWY4sc6"
      },
      "execution_count": null,
      "outputs": []
    },
    {
      "cell_type": "code",
      "source": [
        "pes.columns= ['label_s','score_s']"
      ],
      "metadata": {
        "id": "ZpiqiQNK5WUh"
      },
      "execution_count": null,
      "outputs": []
    },
    {
      "cell_type": "code",
      "source": [
        "pressESGfinal= pd.concat((pressESGdf, pes),axis=1)"
      ],
      "metadata": {
        "id": "8siaTPro4sut"
      },
      "execution_count": null,
      "outputs": []
    },
    {
      "cell_type": "code",
      "source": [],
      "metadata": {
        "id": "QG0xXIZ5h4Az"
      },
      "execution_count": null,
      "outputs": []
    },
    {
      "cell_type": "code",
      "source": [
        "pressESGfinal.head(1)"
      ],
      "metadata": {
        "colab": {
          "base_uri": "https://localhost:8080/",
          "height": 194
        },
        "id": "do4C_OAS46Co",
        "outputId": "46380586-64b9-4168-9e54-e0b41a723b36"
      },
      "execution_count": null,
      "outputs": [
        {
          "output_type": "execute_result",
          "data": {
            "text/plain": [
              "  symbol                 date                                     title  \\\n",
              "1    APA  2023-03-01 17:05:00  APA CORPORATION ANNOUNCES 2023 ESG GOALS   \n",
              "\n",
              "                                                text  \\\n",
              "1  HOUSTON, MARCH 01, 2023 (GLOBE NEWSWIRE) -- AP...   \n",
              "\n",
              "                                      processed_text  \\\n",
              "1  [houston, march, globe, newswire, corporation,...   \n",
              "\n",
              "                                final_processed_text  \\\n",
              "1  houston march globe newswire corporation nasda...   \n",
              "\n",
              "                                                 ESG          label     score  \\\n",
              "1  [{'label': 'Environmental', 'score': 0.9437037...  Environmental  0.943704   \n",
              "\n",
              "                                           ESG_score   label_s   score_s  \n",
              "1  [{'label': 'Positive', 'score': 0.703463196754...  Positive  0.703463  "
            ],
            "text/html": [
              "\n",
              "  <div id=\"df-a202703f-fb22-4a53-8bbd-563ab993b596\">\n",
              "    <div class=\"colab-df-container\">\n",
              "      <div>\n",
              "<style scoped>\n",
              "    .dataframe tbody tr th:only-of-type {\n",
              "        vertical-align: middle;\n",
              "    }\n",
              "\n",
              "    .dataframe tbody tr th {\n",
              "        vertical-align: top;\n",
              "    }\n",
              "\n",
              "    .dataframe thead th {\n",
              "        text-align: right;\n",
              "    }\n",
              "</style>\n",
              "<table border=\"1\" class=\"dataframe\">\n",
              "  <thead>\n",
              "    <tr style=\"text-align: right;\">\n",
              "      <th></th>\n",
              "      <th>symbol</th>\n",
              "      <th>date</th>\n",
              "      <th>title</th>\n",
              "      <th>text</th>\n",
              "      <th>processed_text</th>\n",
              "      <th>final_processed_text</th>\n",
              "      <th>ESG</th>\n",
              "      <th>label</th>\n",
              "      <th>score</th>\n",
              "      <th>ESG_score</th>\n",
              "      <th>label_s</th>\n",
              "      <th>score_s</th>\n",
              "    </tr>\n",
              "  </thead>\n",
              "  <tbody>\n",
              "    <tr>\n",
              "      <th>1</th>\n",
              "      <td>APA</td>\n",
              "      <td>2023-03-01 17:05:00</td>\n",
              "      <td>APA CORPORATION ANNOUNCES 2023 ESG GOALS</td>\n",
              "      <td>HOUSTON, MARCH 01, 2023 (GLOBE NEWSWIRE) -- AP...</td>\n",
              "      <td>[houston, march, globe, newswire, corporation,...</td>\n",
              "      <td>houston march globe newswire corporation nasda...</td>\n",
              "      <td>[{'label': 'Environmental', 'score': 0.9437037...</td>\n",
              "      <td>Environmental</td>\n",
              "      <td>0.943704</td>\n",
              "      <td>[{'label': 'Positive', 'score': 0.703463196754...</td>\n",
              "      <td>Positive</td>\n",
              "      <td>0.703463</td>\n",
              "    </tr>\n",
              "  </tbody>\n",
              "</table>\n",
              "</div>\n",
              "      <button class=\"colab-df-convert\" onclick=\"convertToInteractive('df-a202703f-fb22-4a53-8bbd-563ab993b596')\"\n",
              "              title=\"Convert this dataframe to an interactive table.\"\n",
              "              style=\"display:none;\">\n",
              "        \n",
              "  <svg xmlns=\"http://www.w3.org/2000/svg\" height=\"24px\"viewBox=\"0 0 24 24\"\n",
              "       width=\"24px\">\n",
              "    <path d=\"M0 0h24v24H0V0z\" fill=\"none\"/>\n",
              "    <path d=\"M18.56 5.44l.94 2.06.94-2.06 2.06-.94-2.06-.94-.94-2.06-.94 2.06-2.06.94zm-11 1L8.5 8.5l.94-2.06 2.06-.94-2.06-.94L8.5 2.5l-.94 2.06-2.06.94zm10 10l.94 2.06.94-2.06 2.06-.94-2.06-.94-.94-2.06-.94 2.06-2.06.94z\"/><path d=\"M17.41 7.96l-1.37-1.37c-.4-.4-.92-.59-1.43-.59-.52 0-1.04.2-1.43.59L10.3 9.45l-7.72 7.72c-.78.78-.78 2.05 0 2.83L4 21.41c.39.39.9.59 1.41.59.51 0 1.02-.2 1.41-.59l7.78-7.78 2.81-2.81c.8-.78.8-2.07 0-2.86zM5.41 20L4 18.59l7.72-7.72 1.47 1.35L5.41 20z\"/>\n",
              "  </svg>\n",
              "      </button>\n",
              "      \n",
              "  <style>\n",
              "    .colab-df-container {\n",
              "      display:flex;\n",
              "      flex-wrap:wrap;\n",
              "      gap: 12px;\n",
              "    }\n",
              "\n",
              "    .colab-df-convert {\n",
              "      background-color: #E8F0FE;\n",
              "      border: none;\n",
              "      border-radius: 50%;\n",
              "      cursor: pointer;\n",
              "      display: none;\n",
              "      fill: #1967D2;\n",
              "      height: 32px;\n",
              "      padding: 0 0 0 0;\n",
              "      width: 32px;\n",
              "    }\n",
              "\n",
              "    .colab-df-convert:hover {\n",
              "      background-color: #E2EBFA;\n",
              "      box-shadow: 0px 1px 2px rgba(60, 64, 67, 0.3), 0px 1px 3px 1px rgba(60, 64, 67, 0.15);\n",
              "      fill: #174EA6;\n",
              "    }\n",
              "\n",
              "    [theme=dark] .colab-df-convert {\n",
              "      background-color: #3B4455;\n",
              "      fill: #D2E3FC;\n",
              "    }\n",
              "\n",
              "    [theme=dark] .colab-df-convert:hover {\n",
              "      background-color: #434B5C;\n",
              "      box-shadow: 0px 1px 3px 1px rgba(0, 0, 0, 0.15);\n",
              "      filter: drop-shadow(0px 1px 2px rgba(0, 0, 0, 0.3));\n",
              "      fill: #FFFFFF;\n",
              "    }\n",
              "  </style>\n",
              "\n",
              "      <script>\n",
              "        const buttonEl =\n",
              "          document.querySelector('#df-a202703f-fb22-4a53-8bbd-563ab993b596 button.colab-df-convert');\n",
              "        buttonEl.style.display =\n",
              "          google.colab.kernel.accessAllowed ? 'block' : 'none';\n",
              "\n",
              "        async function convertToInteractive(key) {\n",
              "          const element = document.querySelector('#df-a202703f-fb22-4a53-8bbd-563ab993b596');\n",
              "          const dataTable =\n",
              "            await google.colab.kernel.invokeFunction('convertToInteractive',\n",
              "                                                     [key], {});\n",
              "          if (!dataTable) return;\n",
              "\n",
              "          const docLinkHtml = 'Like what you see? Visit the ' +\n",
              "            '<a target=\"_blank\" href=https://colab.research.google.com/notebooks/data_table.ipynb>data table notebook</a>'\n",
              "            + ' to learn more about interactive tables.';\n",
              "          element.innerHTML = '';\n",
              "          dataTable['output_type'] = 'display_data';\n",
              "          await google.colab.output.renderOutput(dataTable, element);\n",
              "          const docLink = document.createElement('div');\n",
              "          docLink.innerHTML = docLinkHtml;\n",
              "          element.appendChild(docLink);\n",
              "        }\n",
              "      </script>\n",
              "    </div>\n",
              "  </div>\n",
              "  "
            ]
          },
          "metadata": {},
          "execution_count": 451
        }
      ]
    },
    {
      "cell_type": "code",
      "source": [
        "pressESGfinal.to_pickle(\"pressESGfinal.pkl\")"
      ],
      "metadata": {
        "id": "xH0p4KC76DbF"
      },
      "execution_count": null,
      "outputs": []
    },
    {
      "cell_type": "code",
      "source": [
        "TransESGfinal = pd.read_pickle(\"final_trans.pkl\")"
      ],
      "metadata": {
        "id": "TIH8fndLhK_R"
      },
      "execution_count": null,
      "outputs": []
    },
    {
      "cell_type": "code",
      "source": [
        "TransESGfinal.head(100)[23:24][TransESGfinal.columns[[0,3,8,10,13]]][\"final_text\"].tolist()"
      ],
      "metadata": {
        "colab": {
          "base_uri": "https://localhost:8080/"
        },
        "id": "qBELURejoaH6",
        "outputId": "f54bfc22-06cc-4267-8169-9549bd37f1a3"
      },
      "execution_count": null,
      "outputs": [
        {
          "output_type": "execute_result",
          "data": {
            "text/plain": [
              "[['continue invest develop technology portfolio hydrogen carbon capture clean power']]"
            ]
          },
          "metadata": {},
          "execution_count": 54
        }
      ]
    },
    {
      "cell_type": "code",
      "source": [],
      "metadata": {
        "id": "OK1FzLsMtQA3"
      },
      "execution_count": null,
      "outputs": []
    },
    {
      "cell_type": "code",
      "source": [
        "TransESGfinal.head(100)[23:24][TransESGfinal.columns[[0,3,8,10,13]]]"
      ],
      "metadata": {
        "colab": {
          "base_uri": "https://localhost:8080/",
          "height": 81
        },
        "id": "VtnOeYWI6gQh",
        "outputId": "550a0a25-1285-49bc-9b2f-7018030c5a52"
      },
      "execution_count": null,
      "outputs": [
        {
          "output_type": "execute_result",
          "data": {
            "text/plain": [
              "    symbol                 date  \\\n",
              "337    BKR  2023-04-19 12:18:04   \n",
              "\n",
              "                                            final_text          label  \\\n",
              "337  [continue invest develop technology portfolio ...  Environmental   \n",
              "\n",
              "      label_s  \n",
              "337  Positive  "
            ],
            "text/html": [
              "\n",
              "  <div id=\"df-df12c841-bd07-4079-a473-c138693bfd21\">\n",
              "    <div class=\"colab-df-container\">\n",
              "      <div>\n",
              "<style scoped>\n",
              "    .dataframe tbody tr th:only-of-type {\n",
              "        vertical-align: middle;\n",
              "    }\n",
              "\n",
              "    .dataframe tbody tr th {\n",
              "        vertical-align: top;\n",
              "    }\n",
              "\n",
              "    .dataframe thead th {\n",
              "        text-align: right;\n",
              "    }\n",
              "</style>\n",
              "<table border=\"1\" class=\"dataframe\">\n",
              "  <thead>\n",
              "    <tr style=\"text-align: right;\">\n",
              "      <th></th>\n",
              "      <th>symbol</th>\n",
              "      <th>date</th>\n",
              "      <th>final_text</th>\n",
              "      <th>label</th>\n",
              "      <th>label_s</th>\n",
              "    </tr>\n",
              "  </thead>\n",
              "  <tbody>\n",
              "    <tr>\n",
              "      <th>337</th>\n",
              "      <td>BKR</td>\n",
              "      <td>2023-04-19 12:18:04</td>\n",
              "      <td>[continue invest develop technology portfolio ...</td>\n",
              "      <td>Environmental</td>\n",
              "      <td>Positive</td>\n",
              "    </tr>\n",
              "  </tbody>\n",
              "</table>\n",
              "</div>\n",
              "      <button class=\"colab-df-convert\" onclick=\"convertToInteractive('df-df12c841-bd07-4079-a473-c138693bfd21')\"\n",
              "              title=\"Convert this dataframe to an interactive table.\"\n",
              "              style=\"display:none;\">\n",
              "        \n",
              "  <svg xmlns=\"http://www.w3.org/2000/svg\" height=\"24px\"viewBox=\"0 0 24 24\"\n",
              "       width=\"24px\">\n",
              "    <path d=\"M0 0h24v24H0V0z\" fill=\"none\"/>\n",
              "    <path d=\"M18.56 5.44l.94 2.06.94-2.06 2.06-.94-2.06-.94-.94-2.06-.94 2.06-2.06.94zm-11 1L8.5 8.5l.94-2.06 2.06-.94-2.06-.94L8.5 2.5l-.94 2.06-2.06.94zm10 10l.94 2.06.94-2.06 2.06-.94-2.06-.94-.94-2.06-.94 2.06-2.06.94z\"/><path d=\"M17.41 7.96l-1.37-1.37c-.4-.4-.92-.59-1.43-.59-.52 0-1.04.2-1.43.59L10.3 9.45l-7.72 7.72c-.78.78-.78 2.05 0 2.83L4 21.41c.39.39.9.59 1.41.59.51 0 1.02-.2 1.41-.59l7.78-7.78 2.81-2.81c.8-.78.8-2.07 0-2.86zM5.41 20L4 18.59l7.72-7.72 1.47 1.35L5.41 20z\"/>\n",
              "  </svg>\n",
              "      </button>\n",
              "      \n",
              "  <style>\n",
              "    .colab-df-container {\n",
              "      display:flex;\n",
              "      flex-wrap:wrap;\n",
              "      gap: 12px;\n",
              "    }\n",
              "\n",
              "    .colab-df-convert {\n",
              "      background-color: #E8F0FE;\n",
              "      border: none;\n",
              "      border-radius: 50%;\n",
              "      cursor: pointer;\n",
              "      display: none;\n",
              "      fill: #1967D2;\n",
              "      height: 32px;\n",
              "      padding: 0 0 0 0;\n",
              "      width: 32px;\n",
              "    }\n",
              "\n",
              "    .colab-df-convert:hover {\n",
              "      background-color: #E2EBFA;\n",
              "      box-shadow: 0px 1px 2px rgba(60, 64, 67, 0.3), 0px 1px 3px 1px rgba(60, 64, 67, 0.15);\n",
              "      fill: #174EA6;\n",
              "    }\n",
              "\n",
              "    [theme=dark] .colab-df-convert {\n",
              "      background-color: #3B4455;\n",
              "      fill: #D2E3FC;\n",
              "    }\n",
              "\n",
              "    [theme=dark] .colab-df-convert:hover {\n",
              "      background-color: #434B5C;\n",
              "      box-shadow: 0px 1px 3px 1px rgba(0, 0, 0, 0.15);\n",
              "      filter: drop-shadow(0px 1px 2px rgba(0, 0, 0, 0.3));\n",
              "      fill: #FFFFFF;\n",
              "    }\n",
              "  </style>\n",
              "\n",
              "      <script>\n",
              "        const buttonEl =\n",
              "          document.querySelector('#df-df12c841-bd07-4079-a473-c138693bfd21 button.colab-df-convert');\n",
              "        buttonEl.style.display =\n",
              "          google.colab.kernel.accessAllowed ? 'block' : 'none';\n",
              "\n",
              "        async function convertToInteractive(key) {\n",
              "          const element = document.querySelector('#df-df12c841-bd07-4079-a473-c138693bfd21');\n",
              "          const dataTable =\n",
              "            await google.colab.kernel.invokeFunction('convertToInteractive',\n",
              "                                                     [key], {});\n",
              "          if (!dataTable) return;\n",
              "\n",
              "          const docLinkHtml = 'Like what you see? Visit the ' +\n",
              "            '<a target=\"_blank\" href=https://colab.research.google.com/notebooks/data_table.ipynb>data table notebook</a>'\n",
              "            + ' to learn more about interactive tables.';\n",
              "          element.innerHTML = '';\n",
              "          dataTable['output_type'] = 'display_data';\n",
              "          await google.colab.output.renderOutput(dataTable, element);\n",
              "          const docLink = document.createElement('div');\n",
              "          docLink.innerHTML = docLinkHtml;\n",
              "          element.appendChild(docLink);\n",
              "        }\n",
              "      </script>\n",
              "    </div>\n",
              "  </div>\n",
              "  "
            ]
          },
          "metadata": {},
          "execution_count": 52
        }
      ]
    },
    {
      "cell_type": "code",
      "source": [
        "TransESGfinal_score= TransESGfinal.groupby(['symbol','label','label_s']).agg({\"label\":'count',\"label_s\":'count','score_s': 'mean'})"
      ],
      "metadata": {
        "id": "pV0zifft67jg"
      },
      "execution_count": null,
      "outputs": []
    },
    {
      "cell_type": "code",
      "source": [
        "TransESGfinal_score.columns=  ['label_count','senitiment_count', 'score_s']"
      ],
      "metadata": {
        "id": "Ca77FnHFDLB3"
      },
      "execution_count": null,
      "outputs": []
    },
    {
      "cell_type": "code",
      "source": [
        "pressESGfinal_score= pressESGfinal.groupby(['symbol','label','label_s']).agg({\"label\":'count',\"label_s\":'count','score_s': 'mean'})"
      ],
      "metadata": {
        "id": "W46HC1978H3M"
      },
      "execution_count": null,
      "outputs": []
    },
    {
      "cell_type": "code",
      "source": [
        "pressESGfinal_score.columns= ['label_count','senitiment_count', 'score_s']"
      ],
      "metadata": {
        "id": "cKrkIOxwDZTw"
      },
      "execution_count": null,
      "outputs": []
    },
    {
      "cell_type": "code",
      "source": [
        "pressESGfinal_score= pressESGfinal.groupby(['symbol','label','label_s']).agg({\"label\":'count',\"label_s\":'count','score_s': 'mean'})"
      ],
      "metadata": {
        "id": "Sros3iKU8SYH"
      },
      "execution_count": null,
      "outputs": []
    },
    {
      "cell_type": "code",
      "source": [
        "pressESGfinal_score.columns = ['label_count','senitiment_count', 'score_s']"
      ],
      "metadata": {
        "id": "3PiLJl9S8gqF"
      },
      "execution_count": null,
      "outputs": []
    },
    {
      "cell_type": "code",
      "source": [
        "nwESGfinal_score = nwESGfinal.groupby(['symbol','label','label_s']).agg({\"label\":'count',\"label_s\":'count','score_s': 'mean'})"
      ],
      "metadata": {
        "id": "bzMnkBKuChcl"
      },
      "execution_count": null,
      "outputs": []
    },
    {
      "cell_type": "code",
      "source": [
        "nwESGfinal_score.columns= ['label_count','senitiment_count', 'score_s']"
      ],
      "metadata": {
        "id": "VG14Bv_6EU2C"
      },
      "execution_count": null,
      "outputs": []
    },
    {
      "cell_type": "code",
      "source": [
        "pressESGfinal_score.loc[['COP','XOM']]"
      ],
      "metadata": {
        "colab": {
          "base_uri": "https://localhost:8080/",
          "height": 298
        },
        "id": "oB2RKG86FBoO",
        "outputId": "a403e7d9-d8ea-4d84-932f-85ba1cb42f70"
      },
      "execution_count": null,
      "outputs": [
        {
          "output_type": "execute_result",
          "data": {
            "text/plain": [
              "                               label_count  senitiment_count   score_s\n",
              "symbol label         label_s                                          \n",
              "COP    Environmental Positive            1                 1  0.999067\n",
              "       Social        Neutral             3                 3  0.863043\n",
              "XOM    Environmental Neutral            19                19  0.995695\n",
              "                     Positive            5                 5  0.988097\n",
              "       Governance    Neutral             3                 3  0.999911\n",
              "                     Positive            1                 1  0.999260\n",
              "       Social        Negative            1                 1  0.742412\n",
              "                     Neutral            12                12  0.982514\n",
              "                     Positive            3                 3  0.939571"
            ],
            "text/html": [
              "\n",
              "  <div id=\"df-eace90a4-5a9d-4b2e-8f9e-1bca3110a8b7\">\n",
              "    <div class=\"colab-df-container\">\n",
              "      <div>\n",
              "<style scoped>\n",
              "    .dataframe tbody tr th:only-of-type {\n",
              "        vertical-align: middle;\n",
              "    }\n",
              "\n",
              "    .dataframe tbody tr th {\n",
              "        vertical-align: top;\n",
              "    }\n",
              "\n",
              "    .dataframe thead th {\n",
              "        text-align: right;\n",
              "    }\n",
              "</style>\n",
              "<table border=\"1\" class=\"dataframe\">\n",
              "  <thead>\n",
              "    <tr style=\"text-align: right;\">\n",
              "      <th></th>\n",
              "      <th></th>\n",
              "      <th></th>\n",
              "      <th>label_count</th>\n",
              "      <th>senitiment_count</th>\n",
              "      <th>score_s</th>\n",
              "    </tr>\n",
              "    <tr>\n",
              "      <th>symbol</th>\n",
              "      <th>label</th>\n",
              "      <th>label_s</th>\n",
              "      <th></th>\n",
              "      <th></th>\n",
              "      <th></th>\n",
              "    </tr>\n",
              "  </thead>\n",
              "  <tbody>\n",
              "    <tr>\n",
              "      <th rowspan=\"2\" valign=\"top\">COP</th>\n",
              "      <th>Environmental</th>\n",
              "      <th>Positive</th>\n",
              "      <td>1</td>\n",
              "      <td>1</td>\n",
              "      <td>0.999067</td>\n",
              "    </tr>\n",
              "    <tr>\n",
              "      <th>Social</th>\n",
              "      <th>Neutral</th>\n",
              "      <td>3</td>\n",
              "      <td>3</td>\n",
              "      <td>0.863043</td>\n",
              "    </tr>\n",
              "    <tr>\n",
              "      <th rowspan=\"7\" valign=\"top\">XOM</th>\n",
              "      <th rowspan=\"2\" valign=\"top\">Environmental</th>\n",
              "      <th>Neutral</th>\n",
              "      <td>19</td>\n",
              "      <td>19</td>\n",
              "      <td>0.995695</td>\n",
              "    </tr>\n",
              "    <tr>\n",
              "      <th>Positive</th>\n",
              "      <td>5</td>\n",
              "      <td>5</td>\n",
              "      <td>0.988097</td>\n",
              "    </tr>\n",
              "    <tr>\n",
              "      <th rowspan=\"2\" valign=\"top\">Governance</th>\n",
              "      <th>Neutral</th>\n",
              "      <td>3</td>\n",
              "      <td>3</td>\n",
              "      <td>0.999911</td>\n",
              "    </tr>\n",
              "    <tr>\n",
              "      <th>Positive</th>\n",
              "      <td>1</td>\n",
              "      <td>1</td>\n",
              "      <td>0.999260</td>\n",
              "    </tr>\n",
              "    <tr>\n",
              "      <th rowspan=\"3\" valign=\"top\">Social</th>\n",
              "      <th>Negative</th>\n",
              "      <td>1</td>\n",
              "      <td>1</td>\n",
              "      <td>0.742412</td>\n",
              "    </tr>\n",
              "    <tr>\n",
              "      <th>Neutral</th>\n",
              "      <td>12</td>\n",
              "      <td>12</td>\n",
              "      <td>0.982514</td>\n",
              "    </tr>\n",
              "    <tr>\n",
              "      <th>Positive</th>\n",
              "      <td>3</td>\n",
              "      <td>3</td>\n",
              "      <td>0.939571</td>\n",
              "    </tr>\n",
              "  </tbody>\n",
              "</table>\n",
              "</div>\n",
              "      <button class=\"colab-df-convert\" onclick=\"convertToInteractive('df-eace90a4-5a9d-4b2e-8f9e-1bca3110a8b7')\"\n",
              "              title=\"Convert this dataframe to an interactive table.\"\n",
              "              style=\"display:none;\">\n",
              "        \n",
              "  <svg xmlns=\"http://www.w3.org/2000/svg\" height=\"24px\"viewBox=\"0 0 24 24\"\n",
              "       width=\"24px\">\n",
              "    <path d=\"M0 0h24v24H0V0z\" fill=\"none\"/>\n",
              "    <path d=\"M18.56 5.44l.94 2.06.94-2.06 2.06-.94-2.06-.94-.94-2.06-.94 2.06-2.06.94zm-11 1L8.5 8.5l.94-2.06 2.06-.94-2.06-.94L8.5 2.5l-.94 2.06-2.06.94zm10 10l.94 2.06.94-2.06 2.06-.94-2.06-.94-.94-2.06-.94 2.06-2.06.94z\"/><path d=\"M17.41 7.96l-1.37-1.37c-.4-.4-.92-.59-1.43-.59-.52 0-1.04.2-1.43.59L10.3 9.45l-7.72 7.72c-.78.78-.78 2.05 0 2.83L4 21.41c.39.39.9.59 1.41.59.51 0 1.02-.2 1.41-.59l7.78-7.78 2.81-2.81c.8-.78.8-2.07 0-2.86zM5.41 20L4 18.59l7.72-7.72 1.47 1.35L5.41 20z\"/>\n",
              "  </svg>\n",
              "      </button>\n",
              "      \n",
              "  <style>\n",
              "    .colab-df-container {\n",
              "      display:flex;\n",
              "      flex-wrap:wrap;\n",
              "      gap: 12px;\n",
              "    }\n",
              "\n",
              "    .colab-df-convert {\n",
              "      background-color: #E8F0FE;\n",
              "      border: none;\n",
              "      border-radius: 50%;\n",
              "      cursor: pointer;\n",
              "      display: none;\n",
              "      fill: #1967D2;\n",
              "      height: 32px;\n",
              "      padding: 0 0 0 0;\n",
              "      width: 32px;\n",
              "    }\n",
              "\n",
              "    .colab-df-convert:hover {\n",
              "      background-color: #E2EBFA;\n",
              "      box-shadow: 0px 1px 2px rgba(60, 64, 67, 0.3), 0px 1px 3px 1px rgba(60, 64, 67, 0.15);\n",
              "      fill: #174EA6;\n",
              "    }\n",
              "\n",
              "    [theme=dark] .colab-df-convert {\n",
              "      background-color: #3B4455;\n",
              "      fill: #D2E3FC;\n",
              "    }\n",
              "\n",
              "    [theme=dark] .colab-df-convert:hover {\n",
              "      background-color: #434B5C;\n",
              "      box-shadow: 0px 1px 3px 1px rgba(0, 0, 0, 0.15);\n",
              "      filter: drop-shadow(0px 1px 2px rgba(0, 0, 0, 0.3));\n",
              "      fill: #FFFFFF;\n",
              "    }\n",
              "  </style>\n",
              "\n",
              "      <script>\n",
              "        const buttonEl =\n",
              "          document.querySelector('#df-eace90a4-5a9d-4b2e-8f9e-1bca3110a8b7 button.colab-df-convert');\n",
              "        buttonEl.style.display =\n",
              "          google.colab.kernel.accessAllowed ? 'block' : 'none';\n",
              "\n",
              "        async function convertToInteractive(key) {\n",
              "          const element = document.querySelector('#df-eace90a4-5a9d-4b2e-8f9e-1bca3110a8b7');\n",
              "          const dataTable =\n",
              "            await google.colab.kernel.invokeFunction('convertToInteractive',\n",
              "                                                     [key], {});\n",
              "          if (!dataTable) return;\n",
              "\n",
              "          const docLinkHtml = 'Like what you see? Visit the ' +\n",
              "            '<a target=\"_blank\" href=https://colab.research.google.com/notebooks/data_table.ipynb>data table notebook</a>'\n",
              "            + ' to learn more about interactive tables.';\n",
              "          element.innerHTML = '';\n",
              "          dataTable['output_type'] = 'display_data';\n",
              "          await google.colab.output.renderOutput(dataTable, element);\n",
              "          const docLink = document.createElement('div');\n",
              "          docLink.innerHTML = docLinkHtml;\n",
              "          element.appendChild(docLink);\n",
              "        }\n",
              "      </script>\n",
              "    </div>\n",
              "  </div>\n",
              "  "
            ]
          },
          "metadata": {},
          "execution_count": 498
        }
      ]
    },
    {
      "cell_type": "code",
      "source": [
        "nwESGfinal_score.loc[['COP','XOM']]"
      ],
      "metadata": {
        "colab": {
          "base_uri": "https://localhost:8080/",
          "height": 277
        },
        "id": "zr1KqE22Ea2y",
        "outputId": "8f37bfc3-6c4c-4fe8-d3b1-58baad132355"
      },
      "execution_count": null,
      "outputs": [
        {
          "output_type": "execute_result",
          "data": {
            "text/plain": [
              "                               label_count  senitiment_count   score_s\n",
              "symbol label         label_s                                          \n",
              "COP    Social        Negative            1                 1  0.978692\n",
              "                     Neutral            10                10  0.967055\n",
              "                     Positive            3                 3  0.989896\n",
              "XOM    Environmental Negative            2                 2  0.818651\n",
              "                     Neutral             2                 2  0.960986\n",
              "                     Positive            1                 1  0.999998\n",
              "       Social        Negative            2                 2  0.966253\n",
              "                     Neutral             6                 6  0.996266"
            ],
            "text/html": [
              "\n",
              "  <div id=\"df-a15850ea-4a0a-456c-ae25-9f1bd5191221\">\n",
              "    <div class=\"colab-df-container\">\n",
              "      <div>\n",
              "<style scoped>\n",
              "    .dataframe tbody tr th:only-of-type {\n",
              "        vertical-align: middle;\n",
              "    }\n",
              "\n",
              "    .dataframe tbody tr th {\n",
              "        vertical-align: top;\n",
              "    }\n",
              "\n",
              "    .dataframe thead th {\n",
              "        text-align: right;\n",
              "    }\n",
              "</style>\n",
              "<table border=\"1\" class=\"dataframe\">\n",
              "  <thead>\n",
              "    <tr style=\"text-align: right;\">\n",
              "      <th></th>\n",
              "      <th></th>\n",
              "      <th></th>\n",
              "      <th>label_count</th>\n",
              "      <th>senitiment_count</th>\n",
              "      <th>score_s</th>\n",
              "    </tr>\n",
              "    <tr>\n",
              "      <th>symbol</th>\n",
              "      <th>label</th>\n",
              "      <th>label_s</th>\n",
              "      <th></th>\n",
              "      <th></th>\n",
              "      <th></th>\n",
              "    </tr>\n",
              "  </thead>\n",
              "  <tbody>\n",
              "    <tr>\n",
              "      <th rowspan=\"3\" valign=\"top\">COP</th>\n",
              "      <th rowspan=\"3\" valign=\"top\">Social</th>\n",
              "      <th>Negative</th>\n",
              "      <td>1</td>\n",
              "      <td>1</td>\n",
              "      <td>0.978692</td>\n",
              "    </tr>\n",
              "    <tr>\n",
              "      <th>Neutral</th>\n",
              "      <td>10</td>\n",
              "      <td>10</td>\n",
              "      <td>0.967055</td>\n",
              "    </tr>\n",
              "    <tr>\n",
              "      <th>Positive</th>\n",
              "      <td>3</td>\n",
              "      <td>3</td>\n",
              "      <td>0.989896</td>\n",
              "    </tr>\n",
              "    <tr>\n",
              "      <th rowspan=\"5\" valign=\"top\">XOM</th>\n",
              "      <th rowspan=\"3\" valign=\"top\">Environmental</th>\n",
              "      <th>Negative</th>\n",
              "      <td>2</td>\n",
              "      <td>2</td>\n",
              "      <td>0.818651</td>\n",
              "    </tr>\n",
              "    <tr>\n",
              "      <th>Neutral</th>\n",
              "      <td>2</td>\n",
              "      <td>2</td>\n",
              "      <td>0.960986</td>\n",
              "    </tr>\n",
              "    <tr>\n",
              "      <th>Positive</th>\n",
              "      <td>1</td>\n",
              "      <td>1</td>\n",
              "      <td>0.999998</td>\n",
              "    </tr>\n",
              "    <tr>\n",
              "      <th rowspan=\"2\" valign=\"top\">Social</th>\n",
              "      <th>Negative</th>\n",
              "      <td>2</td>\n",
              "      <td>2</td>\n",
              "      <td>0.966253</td>\n",
              "    </tr>\n",
              "    <tr>\n",
              "      <th>Neutral</th>\n",
              "      <td>6</td>\n",
              "      <td>6</td>\n",
              "      <td>0.996266</td>\n",
              "    </tr>\n",
              "  </tbody>\n",
              "</table>\n",
              "</div>\n",
              "      <button class=\"colab-df-convert\" onclick=\"convertToInteractive('df-a15850ea-4a0a-456c-ae25-9f1bd5191221')\"\n",
              "              title=\"Convert this dataframe to an interactive table.\"\n",
              "              style=\"display:none;\">\n",
              "        \n",
              "  <svg xmlns=\"http://www.w3.org/2000/svg\" height=\"24px\"viewBox=\"0 0 24 24\"\n",
              "       width=\"24px\">\n",
              "    <path d=\"M0 0h24v24H0V0z\" fill=\"none\"/>\n",
              "    <path d=\"M18.56 5.44l.94 2.06.94-2.06 2.06-.94-2.06-.94-.94-2.06-.94 2.06-2.06.94zm-11 1L8.5 8.5l.94-2.06 2.06-.94-2.06-.94L8.5 2.5l-.94 2.06-2.06.94zm10 10l.94 2.06.94-2.06 2.06-.94-2.06-.94-.94-2.06-.94 2.06-2.06.94z\"/><path d=\"M17.41 7.96l-1.37-1.37c-.4-.4-.92-.59-1.43-.59-.52 0-1.04.2-1.43.59L10.3 9.45l-7.72 7.72c-.78.78-.78 2.05 0 2.83L4 21.41c.39.39.9.59 1.41.59.51 0 1.02-.2 1.41-.59l7.78-7.78 2.81-2.81c.8-.78.8-2.07 0-2.86zM5.41 20L4 18.59l7.72-7.72 1.47 1.35L5.41 20z\"/>\n",
              "  </svg>\n",
              "      </button>\n",
              "      \n",
              "  <style>\n",
              "    .colab-df-container {\n",
              "      display:flex;\n",
              "      flex-wrap:wrap;\n",
              "      gap: 12px;\n",
              "    }\n",
              "\n",
              "    .colab-df-convert {\n",
              "      background-color: #E8F0FE;\n",
              "      border: none;\n",
              "      border-radius: 50%;\n",
              "      cursor: pointer;\n",
              "      display: none;\n",
              "      fill: #1967D2;\n",
              "      height: 32px;\n",
              "      padding: 0 0 0 0;\n",
              "      width: 32px;\n",
              "    }\n",
              "\n",
              "    .colab-df-convert:hover {\n",
              "      background-color: #E2EBFA;\n",
              "      box-shadow: 0px 1px 2px rgba(60, 64, 67, 0.3), 0px 1px 3px 1px rgba(60, 64, 67, 0.15);\n",
              "      fill: #174EA6;\n",
              "    }\n",
              "\n",
              "    [theme=dark] .colab-df-convert {\n",
              "      background-color: #3B4455;\n",
              "      fill: #D2E3FC;\n",
              "    }\n",
              "\n",
              "    [theme=dark] .colab-df-convert:hover {\n",
              "      background-color: #434B5C;\n",
              "      box-shadow: 0px 1px 3px 1px rgba(0, 0, 0, 0.15);\n",
              "      filter: drop-shadow(0px 1px 2px rgba(0, 0, 0, 0.3));\n",
              "      fill: #FFFFFF;\n",
              "    }\n",
              "  </style>\n",
              "\n",
              "      <script>\n",
              "        const buttonEl =\n",
              "          document.querySelector('#df-a15850ea-4a0a-456c-ae25-9f1bd5191221 button.colab-df-convert');\n",
              "        buttonEl.style.display =\n",
              "          google.colab.kernel.accessAllowed ? 'block' : 'none';\n",
              "\n",
              "        async function convertToInteractive(key) {\n",
              "          const element = document.querySelector('#df-a15850ea-4a0a-456c-ae25-9f1bd5191221');\n",
              "          const dataTable =\n",
              "            await google.colab.kernel.invokeFunction('convertToInteractive',\n",
              "                                                     [key], {});\n",
              "          if (!dataTable) return;\n",
              "\n",
              "          const docLinkHtml = 'Like what you see? Visit the ' +\n",
              "            '<a target=\"_blank\" href=https://colab.research.google.com/notebooks/data_table.ipynb>data table notebook</a>'\n",
              "            + ' to learn more about interactive tables.';\n",
              "          element.innerHTML = '';\n",
              "          dataTable['output_type'] = 'display_data';\n",
              "          await google.colab.output.renderOutput(dataTable, element);\n",
              "          const docLink = document.createElement('div');\n",
              "          docLink.innerHTML = docLinkHtml;\n",
              "          element.appendChild(docLink);\n",
              "        }\n",
              "      </script>\n",
              "    </div>\n",
              "  </div>\n",
              "  "
            ]
          },
          "metadata": {},
          "execution_count": 499
        }
      ]
    },
    {
      "cell_type": "code",
      "source": [
        "TransESGfinal_score.loc[['XOM']]"
      ],
      "metadata": {
        "colab": {
          "base_uri": "https://localhost:8080/",
          "height": 149
        },
        "id": "boUP6qG1HHQo",
        "outputId": "774e5cf5-9503-47e4-9e3b-ec22aabbd509"
      },
      "execution_count": null,
      "outputs": [
        {
          "output_type": "execute_result",
          "data": {
            "text/plain": [
              "                        label_count  senitiment_count   score_s\n",
              "symbol label  label_s                                          \n",
              "XOM    Social Neutral             1                 1  0.713562\n",
              "              Positive            2                 2  0.997577"
            ],
            "text/html": [
              "\n",
              "  <div id=\"df-dae8e3a8-d187-4bd4-a9e1-fb060e4464c2\">\n",
              "    <div class=\"colab-df-container\">\n",
              "      <div>\n",
              "<style scoped>\n",
              "    .dataframe tbody tr th:only-of-type {\n",
              "        vertical-align: middle;\n",
              "    }\n",
              "\n",
              "    .dataframe tbody tr th {\n",
              "        vertical-align: top;\n",
              "    }\n",
              "\n",
              "    .dataframe thead th {\n",
              "        text-align: right;\n",
              "    }\n",
              "</style>\n",
              "<table border=\"1\" class=\"dataframe\">\n",
              "  <thead>\n",
              "    <tr style=\"text-align: right;\">\n",
              "      <th></th>\n",
              "      <th></th>\n",
              "      <th></th>\n",
              "      <th>label_count</th>\n",
              "      <th>senitiment_count</th>\n",
              "      <th>score_s</th>\n",
              "    </tr>\n",
              "    <tr>\n",
              "      <th>symbol</th>\n",
              "      <th>label</th>\n",
              "      <th>label_s</th>\n",
              "      <th></th>\n",
              "      <th></th>\n",
              "      <th></th>\n",
              "    </tr>\n",
              "  </thead>\n",
              "  <tbody>\n",
              "    <tr>\n",
              "      <th rowspan=\"2\" valign=\"top\">XOM</th>\n",
              "      <th rowspan=\"2\" valign=\"top\">Social</th>\n",
              "      <th>Neutral</th>\n",
              "      <td>1</td>\n",
              "      <td>1</td>\n",
              "      <td>0.713562</td>\n",
              "    </tr>\n",
              "    <tr>\n",
              "      <th>Positive</th>\n",
              "      <td>2</td>\n",
              "      <td>2</td>\n",
              "      <td>0.997577</td>\n",
              "    </tr>\n",
              "  </tbody>\n",
              "</table>\n",
              "</div>\n",
              "      <button class=\"colab-df-convert\" onclick=\"convertToInteractive('df-dae8e3a8-d187-4bd4-a9e1-fb060e4464c2')\"\n",
              "              title=\"Convert this dataframe to an interactive table.\"\n",
              "              style=\"display:none;\">\n",
              "        \n",
              "  <svg xmlns=\"http://www.w3.org/2000/svg\" height=\"24px\"viewBox=\"0 0 24 24\"\n",
              "       width=\"24px\">\n",
              "    <path d=\"M0 0h24v24H0V0z\" fill=\"none\"/>\n",
              "    <path d=\"M18.56 5.44l.94 2.06.94-2.06 2.06-.94-2.06-.94-.94-2.06-.94 2.06-2.06.94zm-11 1L8.5 8.5l.94-2.06 2.06-.94-2.06-.94L8.5 2.5l-.94 2.06-2.06.94zm10 10l.94 2.06.94-2.06 2.06-.94-2.06-.94-.94-2.06-.94 2.06-2.06.94z\"/><path d=\"M17.41 7.96l-1.37-1.37c-.4-.4-.92-.59-1.43-.59-.52 0-1.04.2-1.43.59L10.3 9.45l-7.72 7.72c-.78.78-.78 2.05 0 2.83L4 21.41c.39.39.9.59 1.41.59.51 0 1.02-.2 1.41-.59l7.78-7.78 2.81-2.81c.8-.78.8-2.07 0-2.86zM5.41 20L4 18.59l7.72-7.72 1.47 1.35L5.41 20z\"/>\n",
              "  </svg>\n",
              "      </button>\n",
              "      \n",
              "  <style>\n",
              "    .colab-df-container {\n",
              "      display:flex;\n",
              "      flex-wrap:wrap;\n",
              "      gap: 12px;\n",
              "    }\n",
              "\n",
              "    .colab-df-convert {\n",
              "      background-color: #E8F0FE;\n",
              "      border: none;\n",
              "      border-radius: 50%;\n",
              "      cursor: pointer;\n",
              "      display: none;\n",
              "      fill: #1967D2;\n",
              "      height: 32px;\n",
              "      padding: 0 0 0 0;\n",
              "      width: 32px;\n",
              "    }\n",
              "\n",
              "    .colab-df-convert:hover {\n",
              "      background-color: #E2EBFA;\n",
              "      box-shadow: 0px 1px 2px rgba(60, 64, 67, 0.3), 0px 1px 3px 1px rgba(60, 64, 67, 0.15);\n",
              "      fill: #174EA6;\n",
              "    }\n",
              "\n",
              "    [theme=dark] .colab-df-convert {\n",
              "      background-color: #3B4455;\n",
              "      fill: #D2E3FC;\n",
              "    }\n",
              "\n",
              "    [theme=dark] .colab-df-convert:hover {\n",
              "      background-color: #434B5C;\n",
              "      box-shadow: 0px 1px 3px 1px rgba(0, 0, 0, 0.15);\n",
              "      filter: drop-shadow(0px 1px 2px rgba(0, 0, 0, 0.3));\n",
              "      fill: #FFFFFF;\n",
              "    }\n",
              "  </style>\n",
              "\n",
              "      <script>\n",
              "        const buttonEl =\n",
              "          document.querySelector('#df-dae8e3a8-d187-4bd4-a9e1-fb060e4464c2 button.colab-df-convert');\n",
              "        buttonEl.style.display =\n",
              "          google.colab.kernel.accessAllowed ? 'block' : 'none';\n",
              "\n",
              "        async function convertToInteractive(key) {\n",
              "          const element = document.querySelector('#df-dae8e3a8-d187-4bd4-a9e1-fb060e4464c2');\n",
              "          const dataTable =\n",
              "            await google.colab.kernel.invokeFunction('convertToInteractive',\n",
              "                                                     [key], {});\n",
              "          if (!dataTable) return;\n",
              "\n",
              "          const docLinkHtml = 'Like what you see? Visit the ' +\n",
              "            '<a target=\"_blank\" href=https://colab.research.google.com/notebooks/data_table.ipynb>data table notebook</a>'\n",
              "            + ' to learn more about interactive tables.';\n",
              "          element.innerHTML = '';\n",
              "          dataTable['output_type'] = 'display_data';\n",
              "          await google.colab.output.renderOutput(dataTable, element);\n",
              "          const docLink = document.createElement('div');\n",
              "          docLink.innerHTML = docLinkHtml;\n",
              "          element.appendChild(docLink);\n",
              "        }\n",
              "      </script>\n",
              "    </div>\n",
              "  </div>\n",
              "  "
            ]
          },
          "metadata": {},
          "execution_count": 503
        }
      ]
    },
    {
      "cell_type": "markdown",
      "source": [
        "**calculate ESG score** "
      ],
      "metadata": {
        "id": "50kOq7kBxwTo"
      }
    },
    {
      "cell_type": "code",
      "source": [
        "nwsp500= pd.read_pickle('nwESGfinal_sp500.pkl')"
      ],
      "metadata": {
        "id": "cPn7upskxrNx"
      },
      "execution_count": null,
      "outputs": []
    },
    {
      "cell_type": "code",
      "source": [
        "psp500= pd.read_pickle('pressESGfinal_sp500.pkl')"
      ],
      "metadata": {
        "id": "guhxV18NM9m6"
      },
      "execution_count": null,
      "outputs": []
    },
    {
      "cell_type": "code",
      "source": [
        "tsp500= pd.read_pickle('final_trans.pkl')"
      ],
      "metadata": {
        "id": "NLkL4bqTM9qA"
      },
      "execution_count": null,
      "outputs": []
    },
    {
      "cell_type": "code",
      "source": [
        "tsp500.shape"
      ],
      "metadata": {
        "colab": {
          "base_uri": "https://localhost:8080/"
        },
        "id": "BwbZudgPNT3X",
        "outputId": "e4231810-ee5e-4156-b2d9-35e880a07d5c"
      },
      "execution_count": null,
      "outputs": [
        {
          "output_type": "execute_result",
          "data": {
            "text/plain": [
              "(233, 15)"
            ]
          },
          "metadata": {},
          "execution_count": 45
        }
      ]
    },
    {
      "cell_type": "code",
      "source": [],
      "metadata": {
        "id": "_d1VM434Naaj"
      },
      "execution_count": null,
      "outputs": []
    },
    {
      "cell_type": "code",
      "source": [
        "nwsp500.columns"
      ],
      "metadata": {
        "colab": {
          "base_uri": "https://localhost:8080/"
        },
        "id": "jP3s6Rilyl8o",
        "outputId": "78b0c54d-4121-4f56-e03c-a68c6c27ab9e"
      },
      "execution_count": null,
      "outputs": [
        {
          "output_type": "execute_result",
          "data": {
            "text/plain": [
              "Index(['symbol', 'publishedDate', 'title', 'site', 'text', 'processed_text',\n",
              "       'final_processed_text', 'ESG', 'label', 'score', 'ESG_score', 'label_s',\n",
              "       'score_s'],\n",
              "      dtype='object')"
            ]
          },
          "metadata": {},
          "execution_count": 46
        }
      ]
    },
    {
      "cell_type": "code",
      "source": [
        "psp500[['symbol',  'label', 'score',  'label_s',  'score_s']]"
      ],
      "metadata": {
        "colab": {
          "base_uri": "https://localhost:8080/",
          "height": 423
        },
        "id": "WSPQuhhX4Q5u",
        "outputId": "fd004a1a-ac3d-492d-8269-2641193bb9b8"
      },
      "execution_count": null,
      "outputs": [
        {
          "output_type": "execute_result",
          "data": {
            "text/plain": [
              "   symbol          label     score   label_s   score_s\n",
              "2     MMM  Environmental  0.983147  Positive  0.927325\n",
              "3     MMM  Environmental  0.983382   Neutral  0.811366\n",
              "4     MMM         Social  0.949386  Positive  1.000000\n",
              "7     MMM         Social  0.817901   Neutral  0.969614\n",
              "8     MMM     Governance  0.912281  Positive  0.877227\n",
              "..    ...            ...       ...       ...       ...\n",
              "8    ZBRA         Social  0.891706   Neutral  0.996550\n",
              "9    ZBRA         Social  0.928836  Positive  0.869265\n",
              "2     ZTS         Social  0.987772   Neutral  0.997603\n",
              "3     ZTS         Social  0.954070  Positive  0.512288\n",
              "5     ZTS         Social  0.986919  Positive  0.999755\n",
              "\n",
              "[2517 rows x 5 columns]"
            ],
            "text/html": [
              "\n",
              "  <div id=\"df-13331842-9d12-4b4e-a01b-a255426dd778\">\n",
              "    <div class=\"colab-df-container\">\n",
              "      <div>\n",
              "<style scoped>\n",
              "    .dataframe tbody tr th:only-of-type {\n",
              "        vertical-align: middle;\n",
              "    }\n",
              "\n",
              "    .dataframe tbody tr th {\n",
              "        vertical-align: top;\n",
              "    }\n",
              "\n",
              "    .dataframe thead th {\n",
              "        text-align: right;\n",
              "    }\n",
              "</style>\n",
              "<table border=\"1\" class=\"dataframe\">\n",
              "  <thead>\n",
              "    <tr style=\"text-align: right;\">\n",
              "      <th></th>\n",
              "      <th>symbol</th>\n",
              "      <th>label</th>\n",
              "      <th>score</th>\n",
              "      <th>label_s</th>\n",
              "      <th>score_s</th>\n",
              "    </tr>\n",
              "  </thead>\n",
              "  <tbody>\n",
              "    <tr>\n",
              "      <th>2</th>\n",
              "      <td>MMM</td>\n",
              "      <td>Environmental</td>\n",
              "      <td>0.983147</td>\n",
              "      <td>Positive</td>\n",
              "      <td>0.927325</td>\n",
              "    </tr>\n",
              "    <tr>\n",
              "      <th>3</th>\n",
              "      <td>MMM</td>\n",
              "      <td>Environmental</td>\n",
              "      <td>0.983382</td>\n",
              "      <td>Neutral</td>\n",
              "      <td>0.811366</td>\n",
              "    </tr>\n",
              "    <tr>\n",
              "      <th>4</th>\n",
              "      <td>MMM</td>\n",
              "      <td>Social</td>\n",
              "      <td>0.949386</td>\n",
              "      <td>Positive</td>\n",
              "      <td>1.000000</td>\n",
              "    </tr>\n",
              "    <tr>\n",
              "      <th>7</th>\n",
              "      <td>MMM</td>\n",
              "      <td>Social</td>\n",
              "      <td>0.817901</td>\n",
              "      <td>Neutral</td>\n",
              "      <td>0.969614</td>\n",
              "    </tr>\n",
              "    <tr>\n",
              "      <th>8</th>\n",
              "      <td>MMM</td>\n",
              "      <td>Governance</td>\n",
              "      <td>0.912281</td>\n",
              "      <td>Positive</td>\n",
              "      <td>0.877227</td>\n",
              "    </tr>\n",
              "    <tr>\n",
              "      <th>...</th>\n",
              "      <td>...</td>\n",
              "      <td>...</td>\n",
              "      <td>...</td>\n",
              "      <td>...</td>\n",
              "      <td>...</td>\n",
              "    </tr>\n",
              "    <tr>\n",
              "      <th>8</th>\n",
              "      <td>ZBRA</td>\n",
              "      <td>Social</td>\n",
              "      <td>0.891706</td>\n",
              "      <td>Neutral</td>\n",
              "      <td>0.996550</td>\n",
              "    </tr>\n",
              "    <tr>\n",
              "      <th>9</th>\n",
              "      <td>ZBRA</td>\n",
              "      <td>Social</td>\n",
              "      <td>0.928836</td>\n",
              "      <td>Positive</td>\n",
              "      <td>0.869265</td>\n",
              "    </tr>\n",
              "    <tr>\n",
              "      <th>2</th>\n",
              "      <td>ZTS</td>\n",
              "      <td>Social</td>\n",
              "      <td>0.987772</td>\n",
              "      <td>Neutral</td>\n",
              "      <td>0.997603</td>\n",
              "    </tr>\n",
              "    <tr>\n",
              "      <th>3</th>\n",
              "      <td>ZTS</td>\n",
              "      <td>Social</td>\n",
              "      <td>0.954070</td>\n",
              "      <td>Positive</td>\n",
              "      <td>0.512288</td>\n",
              "    </tr>\n",
              "    <tr>\n",
              "      <th>5</th>\n",
              "      <td>ZTS</td>\n",
              "      <td>Social</td>\n",
              "      <td>0.986919</td>\n",
              "      <td>Positive</td>\n",
              "      <td>0.999755</td>\n",
              "    </tr>\n",
              "  </tbody>\n",
              "</table>\n",
              "<p>2517 rows × 5 columns</p>\n",
              "</div>\n",
              "      <button class=\"colab-df-convert\" onclick=\"convertToInteractive('df-13331842-9d12-4b4e-a01b-a255426dd778')\"\n",
              "              title=\"Convert this dataframe to an interactive table.\"\n",
              "              style=\"display:none;\">\n",
              "        \n",
              "  <svg xmlns=\"http://www.w3.org/2000/svg\" height=\"24px\"viewBox=\"0 0 24 24\"\n",
              "       width=\"24px\">\n",
              "    <path d=\"M0 0h24v24H0V0z\" fill=\"none\"/>\n",
              "    <path d=\"M18.56 5.44l.94 2.06.94-2.06 2.06-.94-2.06-.94-.94-2.06-.94 2.06-2.06.94zm-11 1L8.5 8.5l.94-2.06 2.06-.94-2.06-.94L8.5 2.5l-.94 2.06-2.06.94zm10 10l.94 2.06.94-2.06 2.06-.94-2.06-.94-.94-2.06-.94 2.06-2.06.94z\"/><path d=\"M17.41 7.96l-1.37-1.37c-.4-.4-.92-.59-1.43-.59-.52 0-1.04.2-1.43.59L10.3 9.45l-7.72 7.72c-.78.78-.78 2.05 0 2.83L4 21.41c.39.39.9.59 1.41.59.51 0 1.02-.2 1.41-.59l7.78-7.78 2.81-2.81c.8-.78.8-2.07 0-2.86zM5.41 20L4 18.59l7.72-7.72 1.47 1.35L5.41 20z\"/>\n",
              "  </svg>\n",
              "      </button>\n",
              "      \n",
              "  <style>\n",
              "    .colab-df-container {\n",
              "      display:flex;\n",
              "      flex-wrap:wrap;\n",
              "      gap: 12px;\n",
              "    }\n",
              "\n",
              "    .colab-df-convert {\n",
              "      background-color: #E8F0FE;\n",
              "      border: none;\n",
              "      border-radius: 50%;\n",
              "      cursor: pointer;\n",
              "      display: none;\n",
              "      fill: #1967D2;\n",
              "      height: 32px;\n",
              "      padding: 0 0 0 0;\n",
              "      width: 32px;\n",
              "    }\n",
              "\n",
              "    .colab-df-convert:hover {\n",
              "      background-color: #E2EBFA;\n",
              "      box-shadow: 0px 1px 2px rgba(60, 64, 67, 0.3), 0px 1px 3px 1px rgba(60, 64, 67, 0.15);\n",
              "      fill: #174EA6;\n",
              "    }\n",
              "\n",
              "    [theme=dark] .colab-df-convert {\n",
              "      background-color: #3B4455;\n",
              "      fill: #D2E3FC;\n",
              "    }\n",
              "\n",
              "    [theme=dark] .colab-df-convert:hover {\n",
              "      background-color: #434B5C;\n",
              "      box-shadow: 0px 1px 3px 1px rgba(0, 0, 0, 0.15);\n",
              "      filter: drop-shadow(0px 1px 2px rgba(0, 0, 0, 0.3));\n",
              "      fill: #FFFFFF;\n",
              "    }\n",
              "  </style>\n",
              "\n",
              "      <script>\n",
              "        const buttonEl =\n",
              "          document.querySelector('#df-13331842-9d12-4b4e-a01b-a255426dd778 button.colab-df-convert');\n",
              "        buttonEl.style.display =\n",
              "          google.colab.kernel.accessAllowed ? 'block' : 'none';\n",
              "\n",
              "        async function convertToInteractive(key) {\n",
              "          const element = document.querySelector('#df-13331842-9d12-4b4e-a01b-a255426dd778');\n",
              "          const dataTable =\n",
              "            await google.colab.kernel.invokeFunction('convertToInteractive',\n",
              "                                                     [key], {});\n",
              "          if (!dataTable) return;\n",
              "\n",
              "          const docLinkHtml = 'Like what you see? Visit the ' +\n",
              "            '<a target=\"_blank\" href=https://colab.research.google.com/notebooks/data_table.ipynb>data table notebook</a>'\n",
              "            + ' to learn more about interactive tables.';\n",
              "          element.innerHTML = '';\n",
              "          dataTable['output_type'] = 'display_data';\n",
              "          await google.colab.output.renderOutput(dataTable, element);\n",
              "          const docLink = document.createElement('div');\n",
              "          docLink.innerHTML = docLinkHtml;\n",
              "          element.appendChild(docLink);\n",
              "        }\n",
              "      </script>\n",
              "    </div>\n",
              "  </div>\n",
              "  "
            ]
          },
          "metadata": {},
          "execution_count": 47
        }
      ]
    },
    {
      "cell_type": "code",
      "source": [
        "def comdf(df1,df2,df3):\n",
        "  return pd.concat([df1[['symbol',  'label', 'score',  'label_s',  'score_s']],df2[['symbol',  'label', 'score',  'label_s',  'score_s']], df3[['symbol',  'label', 'score',  'label_s',  'score_s']]],ignore_index=True)"
      ],
      "metadata": {
        "id": "oCdgWD3VQanS"
      },
      "execution_count": null,
      "outputs": []
    },
    {
      "cell_type": "code",
      "source": [
        "allsp500= comdf(psp500,nwsp500,tsp500)"
      ],
      "metadata": {
        "id": "iqTnlB7BRtcK"
      },
      "execution_count": null,
      "outputs": []
    },
    {
      "cell_type": "code",
      "source": [
        "allsp500df= allsp500.groupby(['symbol','label','label_s']).agg( label_count =('label', 'count'),label_S_count=( 'label_s',\"count\")).reset_index().copy()"
      ],
      "metadata": {
        "id": "KTq9DeRERtkj"
      },
      "execution_count": null,
      "outputs": []
    },
    {
      "cell_type": "code",
      "source": [],
      "metadata": {
        "id": "_xM9c-0K42DN"
      },
      "execution_count": null,
      "outputs": []
    },
    {
      "cell_type": "code",
      "source": [
        "def score(nwsp500df):\n",
        "  result = np.select(condlist=[nwsp500df['label_s']=='Positive',nwsp500df['label_s']=='Negative',nwsp500df['label_s']=='Neutral'],\\\n",
        "          choicelist=[nwsp500df['label_S_count']*-1,nwsp500df['label_S_count']*1 ,nwsp500df['label_S_count']*-0.5])\n",
        "  nwsp500df['score'] = result\n",
        "  return nwsp500df"
      ],
      "metadata": {
        "id": "hAY30vsh8o4r"
      },
      "execution_count": null,
      "outputs": []
    },
    {
      "cell_type": "code",
      "source": [
        "score(allsp500df)"
      ],
      "metadata": {
        "colab": {
          "base_uri": "https://localhost:8080/",
          "height": 423
        },
        "id": "M899Jj-PARee",
        "outputId": "ea54f1a5-e74b-4e22-8c6a-86ccc21b3d1b"
      },
      "execution_count": null,
      "outputs": [
        {
          "output_type": "execute_result",
          "data": {
            "text/plain": [
              "     symbol          label   label_s  label_count  label_S_count  score\n",
              "0         A  Environmental  Positive            1              1   -1.0\n",
              "1         A         Social  Negative            1              1    1.0\n",
              "2         A         Social   Neutral            5              5   -2.5\n",
              "3         A         Social  Positive            6              6   -6.0\n",
              "4       AAL  Environmental  Positive            1              1   -1.0\n",
              "...     ...            ...       ...          ...            ...    ...\n",
              "1483   ZION         Social  Negative            2              2    2.0\n",
              "1484   ZION         Social   Neutral            5              5   -2.5\n",
              "1485   ZION         Social  Positive            2              2   -2.0\n",
              "1486    ZTS         Social   Neutral            2              2   -1.0\n",
              "1487    ZTS         Social  Positive            8              8   -8.0\n",
              "\n",
              "[1488 rows x 6 columns]"
            ],
            "text/html": [
              "\n",
              "  <div id=\"df-71ae9e2d-b1de-4f8a-86d3-5b4944dfb47b\">\n",
              "    <div class=\"colab-df-container\">\n",
              "      <div>\n",
              "<style scoped>\n",
              "    .dataframe tbody tr th:only-of-type {\n",
              "        vertical-align: middle;\n",
              "    }\n",
              "\n",
              "    .dataframe tbody tr th {\n",
              "        vertical-align: top;\n",
              "    }\n",
              "\n",
              "    .dataframe thead th {\n",
              "        text-align: right;\n",
              "    }\n",
              "</style>\n",
              "<table border=\"1\" class=\"dataframe\">\n",
              "  <thead>\n",
              "    <tr style=\"text-align: right;\">\n",
              "      <th></th>\n",
              "      <th>symbol</th>\n",
              "      <th>label</th>\n",
              "      <th>label_s</th>\n",
              "      <th>label_count</th>\n",
              "      <th>label_S_count</th>\n",
              "      <th>score</th>\n",
              "    </tr>\n",
              "  </thead>\n",
              "  <tbody>\n",
              "    <tr>\n",
              "      <th>0</th>\n",
              "      <td>A</td>\n",
              "      <td>Environmental</td>\n",
              "      <td>Positive</td>\n",
              "      <td>1</td>\n",
              "      <td>1</td>\n",
              "      <td>-1.0</td>\n",
              "    </tr>\n",
              "    <tr>\n",
              "      <th>1</th>\n",
              "      <td>A</td>\n",
              "      <td>Social</td>\n",
              "      <td>Negative</td>\n",
              "      <td>1</td>\n",
              "      <td>1</td>\n",
              "      <td>1.0</td>\n",
              "    </tr>\n",
              "    <tr>\n",
              "      <th>2</th>\n",
              "      <td>A</td>\n",
              "      <td>Social</td>\n",
              "      <td>Neutral</td>\n",
              "      <td>5</td>\n",
              "      <td>5</td>\n",
              "      <td>-2.5</td>\n",
              "    </tr>\n",
              "    <tr>\n",
              "      <th>3</th>\n",
              "      <td>A</td>\n",
              "      <td>Social</td>\n",
              "      <td>Positive</td>\n",
              "      <td>6</td>\n",
              "      <td>6</td>\n",
              "      <td>-6.0</td>\n",
              "    </tr>\n",
              "    <tr>\n",
              "      <th>4</th>\n",
              "      <td>AAL</td>\n",
              "      <td>Environmental</td>\n",
              "      <td>Positive</td>\n",
              "      <td>1</td>\n",
              "      <td>1</td>\n",
              "      <td>-1.0</td>\n",
              "    </tr>\n",
              "    <tr>\n",
              "      <th>...</th>\n",
              "      <td>...</td>\n",
              "      <td>...</td>\n",
              "      <td>...</td>\n",
              "      <td>...</td>\n",
              "      <td>...</td>\n",
              "      <td>...</td>\n",
              "    </tr>\n",
              "    <tr>\n",
              "      <th>1483</th>\n",
              "      <td>ZION</td>\n",
              "      <td>Social</td>\n",
              "      <td>Negative</td>\n",
              "      <td>2</td>\n",
              "      <td>2</td>\n",
              "      <td>2.0</td>\n",
              "    </tr>\n",
              "    <tr>\n",
              "      <th>1484</th>\n",
              "      <td>ZION</td>\n",
              "      <td>Social</td>\n",
              "      <td>Neutral</td>\n",
              "      <td>5</td>\n",
              "      <td>5</td>\n",
              "      <td>-2.5</td>\n",
              "    </tr>\n",
              "    <tr>\n",
              "      <th>1485</th>\n",
              "      <td>ZION</td>\n",
              "      <td>Social</td>\n",
              "      <td>Positive</td>\n",
              "      <td>2</td>\n",
              "      <td>2</td>\n",
              "      <td>-2.0</td>\n",
              "    </tr>\n",
              "    <tr>\n",
              "      <th>1486</th>\n",
              "      <td>ZTS</td>\n",
              "      <td>Social</td>\n",
              "      <td>Neutral</td>\n",
              "      <td>2</td>\n",
              "      <td>2</td>\n",
              "      <td>-1.0</td>\n",
              "    </tr>\n",
              "    <tr>\n",
              "      <th>1487</th>\n",
              "      <td>ZTS</td>\n",
              "      <td>Social</td>\n",
              "      <td>Positive</td>\n",
              "      <td>8</td>\n",
              "      <td>8</td>\n",
              "      <td>-8.0</td>\n",
              "    </tr>\n",
              "  </tbody>\n",
              "</table>\n",
              "<p>1488 rows × 6 columns</p>\n",
              "</div>\n",
              "      <button class=\"colab-df-convert\" onclick=\"convertToInteractive('df-71ae9e2d-b1de-4f8a-86d3-5b4944dfb47b')\"\n",
              "              title=\"Convert this dataframe to an interactive table.\"\n",
              "              style=\"display:none;\">\n",
              "        \n",
              "  <svg xmlns=\"http://www.w3.org/2000/svg\" height=\"24px\"viewBox=\"0 0 24 24\"\n",
              "       width=\"24px\">\n",
              "    <path d=\"M0 0h24v24H0V0z\" fill=\"none\"/>\n",
              "    <path d=\"M18.56 5.44l.94 2.06.94-2.06 2.06-.94-2.06-.94-.94-2.06-.94 2.06-2.06.94zm-11 1L8.5 8.5l.94-2.06 2.06-.94-2.06-.94L8.5 2.5l-.94 2.06-2.06.94zm10 10l.94 2.06.94-2.06 2.06-.94-2.06-.94-.94-2.06-.94 2.06-2.06.94z\"/><path d=\"M17.41 7.96l-1.37-1.37c-.4-.4-.92-.59-1.43-.59-.52 0-1.04.2-1.43.59L10.3 9.45l-7.72 7.72c-.78.78-.78 2.05 0 2.83L4 21.41c.39.39.9.59 1.41.59.51 0 1.02-.2 1.41-.59l7.78-7.78 2.81-2.81c.8-.78.8-2.07 0-2.86zM5.41 20L4 18.59l7.72-7.72 1.47 1.35L5.41 20z\"/>\n",
              "  </svg>\n",
              "      </button>\n",
              "      \n",
              "  <style>\n",
              "    .colab-df-container {\n",
              "      display:flex;\n",
              "      flex-wrap:wrap;\n",
              "      gap: 12px;\n",
              "    }\n",
              "\n",
              "    .colab-df-convert {\n",
              "      background-color: #E8F0FE;\n",
              "      border: none;\n",
              "      border-radius: 50%;\n",
              "      cursor: pointer;\n",
              "      display: none;\n",
              "      fill: #1967D2;\n",
              "      height: 32px;\n",
              "      padding: 0 0 0 0;\n",
              "      width: 32px;\n",
              "    }\n",
              "\n",
              "    .colab-df-convert:hover {\n",
              "      background-color: #E2EBFA;\n",
              "      box-shadow: 0px 1px 2px rgba(60, 64, 67, 0.3), 0px 1px 3px 1px rgba(60, 64, 67, 0.15);\n",
              "      fill: #174EA6;\n",
              "    }\n",
              "\n",
              "    [theme=dark] .colab-df-convert {\n",
              "      background-color: #3B4455;\n",
              "      fill: #D2E3FC;\n",
              "    }\n",
              "\n",
              "    [theme=dark] .colab-df-convert:hover {\n",
              "      background-color: #434B5C;\n",
              "      box-shadow: 0px 1px 3px 1px rgba(0, 0, 0, 0.15);\n",
              "      filter: drop-shadow(0px 1px 2px rgba(0, 0, 0, 0.3));\n",
              "      fill: #FFFFFF;\n",
              "    }\n",
              "  </style>\n",
              "\n",
              "      <script>\n",
              "        const buttonEl =\n",
              "          document.querySelector('#df-71ae9e2d-b1de-4f8a-86d3-5b4944dfb47b button.colab-df-convert');\n",
              "        buttonEl.style.display =\n",
              "          google.colab.kernel.accessAllowed ? 'block' : 'none';\n",
              "\n",
              "        async function convertToInteractive(key) {\n",
              "          const element = document.querySelector('#df-71ae9e2d-b1de-4f8a-86d3-5b4944dfb47b');\n",
              "          const dataTable =\n",
              "            await google.colab.kernel.invokeFunction('convertToInteractive',\n",
              "                                                     [key], {});\n",
              "          if (!dataTable) return;\n",
              "\n",
              "          const docLinkHtml = 'Like what you see? Visit the ' +\n",
              "            '<a target=\"_blank\" href=https://colab.research.google.com/notebooks/data_table.ipynb>data table notebook</a>'\n",
              "            + ' to learn more about interactive tables.';\n",
              "          element.innerHTML = '';\n",
              "          dataTable['output_type'] = 'display_data';\n",
              "          await google.colab.output.renderOutput(dataTable, element);\n",
              "          const docLink = document.createElement('div');\n",
              "          docLink.innerHTML = docLinkHtml;\n",
              "          element.appendChild(docLink);\n",
              "        }\n",
              "      </script>\n",
              "    </div>\n",
              "  </div>\n",
              "  "
            ]
          },
          "metadata": {},
          "execution_count": 52
        }
      ]
    },
    {
      "cell_type": "code",
      "source": [
        "allsp500df"
      ],
      "metadata": {
        "colab": {
          "base_uri": "https://localhost:8080/",
          "height": 423
        },
        "id": "IoIc8or0EABA",
        "outputId": "8bb6c75d-bd73-4cf2-f035-76375c2e7d9a"
      },
      "execution_count": null,
      "outputs": [
        {
          "output_type": "execute_result",
          "data": {
            "text/plain": [
              "     symbol          label   label_s  label_count  label_S_count  score\n",
              "0         A  Environmental  Positive            1              1   -1.0\n",
              "1         A         Social  Negative            1              1    1.0\n",
              "2         A         Social   Neutral            5              5   -2.5\n",
              "3         A         Social  Positive            6              6   -6.0\n",
              "4       AAL  Environmental  Positive            1              1   -1.0\n",
              "...     ...            ...       ...          ...            ...    ...\n",
              "1483   ZION         Social  Negative            2              2    2.0\n",
              "1484   ZION         Social   Neutral            5              5   -2.5\n",
              "1485   ZION         Social  Positive            2              2   -2.0\n",
              "1486    ZTS         Social   Neutral            2              2   -1.0\n",
              "1487    ZTS         Social  Positive            8              8   -8.0\n",
              "\n",
              "[1488 rows x 6 columns]"
            ],
            "text/html": [
              "\n",
              "  <div id=\"df-db2df20d-2166-4d18-85b9-4c1e54320c03\">\n",
              "    <div class=\"colab-df-container\">\n",
              "      <div>\n",
              "<style scoped>\n",
              "    .dataframe tbody tr th:only-of-type {\n",
              "        vertical-align: middle;\n",
              "    }\n",
              "\n",
              "    .dataframe tbody tr th {\n",
              "        vertical-align: top;\n",
              "    }\n",
              "\n",
              "    .dataframe thead th {\n",
              "        text-align: right;\n",
              "    }\n",
              "</style>\n",
              "<table border=\"1\" class=\"dataframe\">\n",
              "  <thead>\n",
              "    <tr style=\"text-align: right;\">\n",
              "      <th></th>\n",
              "      <th>symbol</th>\n",
              "      <th>label</th>\n",
              "      <th>label_s</th>\n",
              "      <th>label_count</th>\n",
              "      <th>label_S_count</th>\n",
              "      <th>score</th>\n",
              "    </tr>\n",
              "  </thead>\n",
              "  <tbody>\n",
              "    <tr>\n",
              "      <th>0</th>\n",
              "      <td>A</td>\n",
              "      <td>Environmental</td>\n",
              "      <td>Positive</td>\n",
              "      <td>1</td>\n",
              "      <td>1</td>\n",
              "      <td>-1.0</td>\n",
              "    </tr>\n",
              "    <tr>\n",
              "      <th>1</th>\n",
              "      <td>A</td>\n",
              "      <td>Social</td>\n",
              "      <td>Negative</td>\n",
              "      <td>1</td>\n",
              "      <td>1</td>\n",
              "      <td>1.0</td>\n",
              "    </tr>\n",
              "    <tr>\n",
              "      <th>2</th>\n",
              "      <td>A</td>\n",
              "      <td>Social</td>\n",
              "      <td>Neutral</td>\n",
              "      <td>5</td>\n",
              "      <td>5</td>\n",
              "      <td>-2.5</td>\n",
              "    </tr>\n",
              "    <tr>\n",
              "      <th>3</th>\n",
              "      <td>A</td>\n",
              "      <td>Social</td>\n",
              "      <td>Positive</td>\n",
              "      <td>6</td>\n",
              "      <td>6</td>\n",
              "      <td>-6.0</td>\n",
              "    </tr>\n",
              "    <tr>\n",
              "      <th>4</th>\n",
              "      <td>AAL</td>\n",
              "      <td>Environmental</td>\n",
              "      <td>Positive</td>\n",
              "      <td>1</td>\n",
              "      <td>1</td>\n",
              "      <td>-1.0</td>\n",
              "    </tr>\n",
              "    <tr>\n",
              "      <th>...</th>\n",
              "      <td>...</td>\n",
              "      <td>...</td>\n",
              "      <td>...</td>\n",
              "      <td>...</td>\n",
              "      <td>...</td>\n",
              "      <td>...</td>\n",
              "    </tr>\n",
              "    <tr>\n",
              "      <th>1483</th>\n",
              "      <td>ZION</td>\n",
              "      <td>Social</td>\n",
              "      <td>Negative</td>\n",
              "      <td>2</td>\n",
              "      <td>2</td>\n",
              "      <td>2.0</td>\n",
              "    </tr>\n",
              "    <tr>\n",
              "      <th>1484</th>\n",
              "      <td>ZION</td>\n",
              "      <td>Social</td>\n",
              "      <td>Neutral</td>\n",
              "      <td>5</td>\n",
              "      <td>5</td>\n",
              "      <td>-2.5</td>\n",
              "    </tr>\n",
              "    <tr>\n",
              "      <th>1485</th>\n",
              "      <td>ZION</td>\n",
              "      <td>Social</td>\n",
              "      <td>Positive</td>\n",
              "      <td>2</td>\n",
              "      <td>2</td>\n",
              "      <td>-2.0</td>\n",
              "    </tr>\n",
              "    <tr>\n",
              "      <th>1486</th>\n",
              "      <td>ZTS</td>\n",
              "      <td>Social</td>\n",
              "      <td>Neutral</td>\n",
              "      <td>2</td>\n",
              "      <td>2</td>\n",
              "      <td>-1.0</td>\n",
              "    </tr>\n",
              "    <tr>\n",
              "      <th>1487</th>\n",
              "      <td>ZTS</td>\n",
              "      <td>Social</td>\n",
              "      <td>Positive</td>\n",
              "      <td>8</td>\n",
              "      <td>8</td>\n",
              "      <td>-8.0</td>\n",
              "    </tr>\n",
              "  </tbody>\n",
              "</table>\n",
              "<p>1488 rows × 6 columns</p>\n",
              "</div>\n",
              "      <button class=\"colab-df-convert\" onclick=\"convertToInteractive('df-db2df20d-2166-4d18-85b9-4c1e54320c03')\"\n",
              "              title=\"Convert this dataframe to an interactive table.\"\n",
              "              style=\"display:none;\">\n",
              "        \n",
              "  <svg xmlns=\"http://www.w3.org/2000/svg\" height=\"24px\"viewBox=\"0 0 24 24\"\n",
              "       width=\"24px\">\n",
              "    <path d=\"M0 0h24v24H0V0z\" fill=\"none\"/>\n",
              "    <path d=\"M18.56 5.44l.94 2.06.94-2.06 2.06-.94-2.06-.94-.94-2.06-.94 2.06-2.06.94zm-11 1L8.5 8.5l.94-2.06 2.06-.94-2.06-.94L8.5 2.5l-.94 2.06-2.06.94zm10 10l.94 2.06.94-2.06 2.06-.94-2.06-.94-.94-2.06-.94 2.06-2.06.94z\"/><path d=\"M17.41 7.96l-1.37-1.37c-.4-.4-.92-.59-1.43-.59-.52 0-1.04.2-1.43.59L10.3 9.45l-7.72 7.72c-.78.78-.78 2.05 0 2.83L4 21.41c.39.39.9.59 1.41.59.51 0 1.02-.2 1.41-.59l7.78-7.78 2.81-2.81c.8-.78.8-2.07 0-2.86zM5.41 20L4 18.59l7.72-7.72 1.47 1.35L5.41 20z\"/>\n",
              "  </svg>\n",
              "      </button>\n",
              "      \n",
              "  <style>\n",
              "    .colab-df-container {\n",
              "      display:flex;\n",
              "      flex-wrap:wrap;\n",
              "      gap: 12px;\n",
              "    }\n",
              "\n",
              "    .colab-df-convert {\n",
              "      background-color: #E8F0FE;\n",
              "      border: none;\n",
              "      border-radius: 50%;\n",
              "      cursor: pointer;\n",
              "      display: none;\n",
              "      fill: #1967D2;\n",
              "      height: 32px;\n",
              "      padding: 0 0 0 0;\n",
              "      width: 32px;\n",
              "    }\n",
              "\n",
              "    .colab-df-convert:hover {\n",
              "      background-color: #E2EBFA;\n",
              "      box-shadow: 0px 1px 2px rgba(60, 64, 67, 0.3), 0px 1px 3px 1px rgba(60, 64, 67, 0.15);\n",
              "      fill: #174EA6;\n",
              "    }\n",
              "\n",
              "    [theme=dark] .colab-df-convert {\n",
              "      background-color: #3B4455;\n",
              "      fill: #D2E3FC;\n",
              "    }\n",
              "\n",
              "    [theme=dark] .colab-df-convert:hover {\n",
              "      background-color: #434B5C;\n",
              "      box-shadow: 0px 1px 3px 1px rgba(0, 0, 0, 0.15);\n",
              "      filter: drop-shadow(0px 1px 2px rgba(0, 0, 0, 0.3));\n",
              "      fill: #FFFFFF;\n",
              "    }\n",
              "  </style>\n",
              "\n",
              "      <script>\n",
              "        const buttonEl =\n",
              "          document.querySelector('#df-db2df20d-2166-4d18-85b9-4c1e54320c03 button.colab-df-convert');\n",
              "        buttonEl.style.display =\n",
              "          google.colab.kernel.accessAllowed ? 'block' : 'none';\n",
              "\n",
              "        async function convertToInteractive(key) {\n",
              "          const element = document.querySelector('#df-db2df20d-2166-4d18-85b9-4c1e54320c03');\n",
              "          const dataTable =\n",
              "            await google.colab.kernel.invokeFunction('convertToInteractive',\n",
              "                                                     [key], {});\n",
              "          if (!dataTable) return;\n",
              "\n",
              "          const docLinkHtml = 'Like what you see? Visit the ' +\n",
              "            '<a target=\"_blank\" href=https://colab.research.google.com/notebooks/data_table.ipynb>data table notebook</a>'\n",
              "            + ' to learn more about interactive tables.';\n",
              "          element.innerHTML = '';\n",
              "          dataTable['output_type'] = 'display_data';\n",
              "          await google.colab.output.renderOutput(dataTable, element);\n",
              "          const docLink = document.createElement('div');\n",
              "          docLink.innerHTML = docLinkHtml;\n",
              "          element.appendChild(docLink);\n",
              "        }\n",
              "      </script>\n",
              "    </div>\n",
              "  </div>\n",
              "  "
            ]
          },
          "metadata": {},
          "execution_count": 53
        }
      ]
    },
    {
      "cell_type": "code",
      "source": [
        "def agg_score(nwsp500df):\n",
        "  return nwsp500df.groupby(['symbol','label']).agg(agg_score=('score',\"sum\"))*1/3"
      ],
      "metadata": {
        "id": "kiKnkKQDCPhW"
      },
      "execution_count": null,
      "outputs": []
    },
    {
      "cell_type": "code",
      "source": [
        "allsp500df = agg_score(allsp500df)"
      ],
      "metadata": {
        "id": "aXtkp5XyColk"
      },
      "execution_count": null,
      "outputs": []
    },
    {
      "cell_type": "code",
      "source": [
        "def total_score(nwsp500df):\n",
        "  return nwsp500df.groupby('symbol').agg(total_score=('agg_score',\"sum\"))"
      ],
      "metadata": {
        "id": "EX1pVjPEGVu1"
      },
      "execution_count": null,
      "outputs": []
    },
    {
      "cell_type": "code",
      "source": [
        "allsp500df= total_score(allsp500df)"
      ],
      "metadata": {
        "id": "UBBJqtLAG2Sg"
      },
      "execution_count": null,
      "outputs": []
    },
    {
      "cell_type": "code",
      "source": [
        "allsp500df"
      ],
      "metadata": {
        "colab": {
          "base_uri": "https://localhost:8080/",
          "height": 455
        },
        "id": "4xw4TOtTFzdy",
        "outputId": "e3765ac8-482f-44b0-f859-677649d8c20b"
      },
      "execution_count": null,
      "outputs": [
        {
          "output_type": "execute_result",
          "data": {
            "text/plain": [
              "        total_score\n",
              "symbol             \n",
              "A         -2.833333\n",
              "AAL       -1.333333\n",
              "AAP       -1.333333\n",
              "AAPL      -2.666667\n",
              "ABBV      -5.000000\n",
              "...             ...\n",
              "YUM       -0.833333\n",
              "ZBH        0.000000\n",
              "ZBRA      -1.666667\n",
              "ZION      -1.000000\n",
              "ZTS       -3.000000\n",
              "\n",
              "[493 rows x 1 columns]"
            ],
            "text/html": [
              "\n",
              "  <div id=\"df-cef96c68-5435-4772-acac-ac0ae9a10f21\">\n",
              "    <div class=\"colab-df-container\">\n",
              "      <div>\n",
              "<style scoped>\n",
              "    .dataframe tbody tr th:only-of-type {\n",
              "        vertical-align: middle;\n",
              "    }\n",
              "\n",
              "    .dataframe tbody tr th {\n",
              "        vertical-align: top;\n",
              "    }\n",
              "\n",
              "    .dataframe thead th {\n",
              "        text-align: right;\n",
              "    }\n",
              "</style>\n",
              "<table border=\"1\" class=\"dataframe\">\n",
              "  <thead>\n",
              "    <tr style=\"text-align: right;\">\n",
              "      <th></th>\n",
              "      <th>total_score</th>\n",
              "    </tr>\n",
              "    <tr>\n",
              "      <th>symbol</th>\n",
              "      <th></th>\n",
              "    </tr>\n",
              "  </thead>\n",
              "  <tbody>\n",
              "    <tr>\n",
              "      <th>A</th>\n",
              "      <td>-2.833333</td>\n",
              "    </tr>\n",
              "    <tr>\n",
              "      <th>AAL</th>\n",
              "      <td>-1.333333</td>\n",
              "    </tr>\n",
              "    <tr>\n",
              "      <th>AAP</th>\n",
              "      <td>-1.333333</td>\n",
              "    </tr>\n",
              "    <tr>\n",
              "      <th>AAPL</th>\n",
              "      <td>-2.666667</td>\n",
              "    </tr>\n",
              "    <tr>\n",
              "      <th>ABBV</th>\n",
              "      <td>-5.000000</td>\n",
              "    </tr>\n",
              "    <tr>\n",
              "      <th>...</th>\n",
              "      <td>...</td>\n",
              "    </tr>\n",
              "    <tr>\n",
              "      <th>YUM</th>\n",
              "      <td>-0.833333</td>\n",
              "    </tr>\n",
              "    <tr>\n",
              "      <th>ZBH</th>\n",
              "      <td>0.000000</td>\n",
              "    </tr>\n",
              "    <tr>\n",
              "      <th>ZBRA</th>\n",
              "      <td>-1.666667</td>\n",
              "    </tr>\n",
              "    <tr>\n",
              "      <th>ZION</th>\n",
              "      <td>-1.000000</td>\n",
              "    </tr>\n",
              "    <tr>\n",
              "      <th>ZTS</th>\n",
              "      <td>-3.000000</td>\n",
              "    </tr>\n",
              "  </tbody>\n",
              "</table>\n",
              "<p>493 rows × 1 columns</p>\n",
              "</div>\n",
              "      <button class=\"colab-df-convert\" onclick=\"convertToInteractive('df-cef96c68-5435-4772-acac-ac0ae9a10f21')\"\n",
              "              title=\"Convert this dataframe to an interactive table.\"\n",
              "              style=\"display:none;\">\n",
              "        \n",
              "  <svg xmlns=\"http://www.w3.org/2000/svg\" height=\"24px\"viewBox=\"0 0 24 24\"\n",
              "       width=\"24px\">\n",
              "    <path d=\"M0 0h24v24H0V0z\" fill=\"none\"/>\n",
              "    <path d=\"M18.56 5.44l.94 2.06.94-2.06 2.06-.94-2.06-.94-.94-2.06-.94 2.06-2.06.94zm-11 1L8.5 8.5l.94-2.06 2.06-.94-2.06-.94L8.5 2.5l-.94 2.06-2.06.94zm10 10l.94 2.06.94-2.06 2.06-.94-2.06-.94-.94-2.06-.94 2.06-2.06.94z\"/><path d=\"M17.41 7.96l-1.37-1.37c-.4-.4-.92-.59-1.43-.59-.52 0-1.04.2-1.43.59L10.3 9.45l-7.72 7.72c-.78.78-.78 2.05 0 2.83L4 21.41c.39.39.9.59 1.41.59.51 0 1.02-.2 1.41-.59l7.78-7.78 2.81-2.81c.8-.78.8-2.07 0-2.86zM5.41 20L4 18.59l7.72-7.72 1.47 1.35L5.41 20z\"/>\n",
              "  </svg>\n",
              "      </button>\n",
              "      \n",
              "  <style>\n",
              "    .colab-df-container {\n",
              "      display:flex;\n",
              "      flex-wrap:wrap;\n",
              "      gap: 12px;\n",
              "    }\n",
              "\n",
              "    .colab-df-convert {\n",
              "      background-color: #E8F0FE;\n",
              "      border: none;\n",
              "      border-radius: 50%;\n",
              "      cursor: pointer;\n",
              "      display: none;\n",
              "      fill: #1967D2;\n",
              "      height: 32px;\n",
              "      padding: 0 0 0 0;\n",
              "      width: 32px;\n",
              "    }\n",
              "\n",
              "    .colab-df-convert:hover {\n",
              "      background-color: #E2EBFA;\n",
              "      box-shadow: 0px 1px 2px rgba(60, 64, 67, 0.3), 0px 1px 3px 1px rgba(60, 64, 67, 0.15);\n",
              "      fill: #174EA6;\n",
              "    }\n",
              "\n",
              "    [theme=dark] .colab-df-convert {\n",
              "      background-color: #3B4455;\n",
              "      fill: #D2E3FC;\n",
              "    }\n",
              "\n",
              "    [theme=dark] .colab-df-convert:hover {\n",
              "      background-color: #434B5C;\n",
              "      box-shadow: 0px 1px 3px 1px rgba(0, 0, 0, 0.15);\n",
              "      filter: drop-shadow(0px 1px 2px rgba(0, 0, 0, 0.3));\n",
              "      fill: #FFFFFF;\n",
              "    }\n",
              "  </style>\n",
              "\n",
              "      <script>\n",
              "        const buttonEl =\n",
              "          document.querySelector('#df-cef96c68-5435-4772-acac-ac0ae9a10f21 button.colab-df-convert');\n",
              "        buttonEl.style.display =\n",
              "          google.colab.kernel.accessAllowed ? 'block' : 'none';\n",
              "\n",
              "        async function convertToInteractive(key) {\n",
              "          const element = document.querySelector('#df-cef96c68-5435-4772-acac-ac0ae9a10f21');\n",
              "          const dataTable =\n",
              "            await google.colab.kernel.invokeFunction('convertToInteractive',\n",
              "                                                     [key], {});\n",
              "          if (!dataTable) return;\n",
              "\n",
              "          const docLinkHtml = 'Like what you see? Visit the ' +\n",
              "            '<a target=\"_blank\" href=https://colab.research.google.com/notebooks/data_table.ipynb>data table notebook</a>'\n",
              "            + ' to learn more about interactive tables.';\n",
              "          element.innerHTML = '';\n",
              "          dataTable['output_type'] = 'display_data';\n",
              "          await google.colab.output.renderOutput(dataTable, element);\n",
              "          const docLink = document.createElement('div');\n",
              "          docLink.innerHTML = docLinkHtml;\n",
              "          element.appendChild(docLink);\n",
              "        }\n",
              "      </script>\n",
              "    </div>\n",
              "  </div>\n",
              "  "
            ]
          },
          "metadata": {},
          "execution_count": 40
        }
      ]
    },
    {
      "cell_type": "code",
      "source": [
        "from urllib.request import urlopen, Request\n",
        "\n",
        "import requests\n",
        "\n",
        "# To extract fundamental data\n",
        "from bs4 import BeautifulSoup\n",
        "\n",
        "demo= '97591392fd6d2255da9db4d2b086bac5'\n",
        "sp_500= requests.get(f'https://financialmodelingprep.com/api/v3/sp500_constituent?apikey={demo}').json()\n",
        "sp_500df= pd.DataFrame(sp_500)"
      ],
      "metadata": {
        "id": "Xgouz93wHG5p"
      },
      "execution_count": null,
      "outputs": []
    },
    {
      "cell_type": "code",
      "source": [
        "nwdf = pd.merge(sp_500df,allsp500df, on='symbol')"
      ],
      "metadata": {
        "colab": {
          "base_uri": "https://localhost:8080/",
          "height": 165
        },
        "id": "diixlx1bHOy6",
        "outputId": "e745c7df-5551-4b9c-cb56-81498e545651"
      },
      "execution_count": null,
      "outputs": [
        {
          "output_type": "error",
          "ename": "NameError",
          "evalue": "ignored",
          "traceback": [
            "\u001b[0;31m---------------------------------------------------------------------------\u001b[0m",
            "\u001b[0;31mNameError\u001b[0m                                 Traceback (most recent call last)",
            "\u001b[0;32m<ipython-input-41-abc8c9042f2a>\u001b[0m in \u001b[0;36m<cell line: 1>\u001b[0;34m()\u001b[0m\n\u001b[0;32m----> 1\u001b[0;31m \u001b[0mnwdf\u001b[0m \u001b[0;34m=\u001b[0m \u001b[0mpd\u001b[0m\u001b[0;34m.\u001b[0m\u001b[0mmerge\u001b[0m\u001b[0;34m(\u001b[0m\u001b[0msp_500df\u001b[0m\u001b[0;34m,\u001b[0m\u001b[0mallsp500df\u001b[0m\u001b[0;34m,\u001b[0m \u001b[0mon\u001b[0m\u001b[0;34m=\u001b[0m\u001b[0;34m'symbol'\u001b[0m\u001b[0;34m)\u001b[0m\u001b[0;34m\u001b[0m\u001b[0;34m\u001b[0m\u001b[0m\n\u001b[0m",
            "\u001b[0;31mNameError\u001b[0m: name 'sp_500df' is not defined"
          ]
        }
      ]
    },
    {
      "cell_type": "code",
      "source": [
        "#nwdf.iloc[nwdf.groupby('sector')['total_score'].rank(pct=True).index]"
      ],
      "metadata": {
        "id": "fONEsz6YIOyW"
      },
      "execution_count": null,
      "outputs": []
    },
    {
      "cell_type": "code",
      "source": [
        "def esg_rank(nwdf):\n",
        "  nwdf['ESG_score']= nwdf.groupby('sector', as_index=False)['total_score'].rank(pct=True, ascending=False)"
      ],
      "metadata": {
        "id": "qU7WOMKZKSZB"
      },
      "execution_count": null,
      "outputs": []
    },
    {
      "cell_type": "code",
      "source": [
        "esg_rank(nwdf)"
      ],
      "metadata": {
        "id": "FKbXObRELN5c"
      },
      "execution_count": null,
      "outputs": []
    },
    {
      "cell_type": "code",
      "source": [
        "nwdf.to_pickle(\"alldf.pkl\")"
      ],
      "metadata": {
        "id": "vOV7_gY4MkQI"
      },
      "execution_count": null,
      "outputs": []
    },
    {
      "cell_type": "code",
      "source": [
        "import pandas as pd\n",
        "import numpy as np"
      ],
      "metadata": {
        "id": "dE6Wv1KmUuIx"
      },
      "execution_count": null,
      "outputs": []
    },
    {
      "cell_type": "code",
      "source": [
        "score=pd.read_pickle(\"alldf.pkl\")"
      ],
      "metadata": {
        "id": "WwdH_52XYGnx"
      },
      "execution_count": null,
      "outputs": []
    },
    {
      "cell_type": "code",
      "source": [
        "  df= score[score.columns[[0,1,2,8,9]]]"
      ],
      "metadata": {
        "id": "w84-34O8Yt4u"
      },
      "execution_count": null,
      "outputs": []
    },
    {
      "cell_type": "code",
      "source": [],
      "metadata": {
        "id": "NhD5mMjJ_jmy"
      },
      "execution_count": null,
      "outputs": []
    },
    {
      "cell_type": "code",
      "source": [
        "df.columns = ['symbol', 'name', 'sector', 'Total_mean_score', 'ESG_score/Percentile_rank']"
      ],
      "metadata": {
        "id": "XuoVgZyqtSUJ"
      },
      "execution_count": null,
      "outputs": []
    },
    {
      "cell_type": "code",
      "source": [
        "df[\"Total_mean_score\"]= df[\"Total_mean_score\"]*-1"
      ],
      "metadata": {
        "colab": {
          "base_uri": "https://localhost:8080/"
        },
        "id": "xFJIVNHkAgzr",
        "outputId": "b38ef4e9-5f4d-44d0-e68b-ca8f507708cd"
      },
      "execution_count": null,
      "outputs": [
        {
          "output_type": "stream",
          "name": "stderr",
          "text": [
            "<ipython-input-20-768a2d32bf84>:1: SettingWithCopyWarning: \n",
            "A value is trying to be set on a copy of a slice from a DataFrame.\n",
            "Try using .loc[row_indexer,col_indexer] = value instead\n",
            "\n",
            "See the caveats in the documentation: https://pandas.pydata.org/pandas-docs/stable/user_guide/indexing.html#returning-a-view-versus-a-copy\n",
            "  df[\"Total_mean_score\"]= df[\"Total_mean_score\"]*-1\n"
          ]
        }
      ]
    },
    {
      "cell_type": "code",
      "source": [
        "df[df['sector']=='Communication Services']"
      ],
      "metadata": {
        "colab": {
          "base_uri": "https://localhost:8080/",
          "height": 802
        },
        "id": "dfXMuekKAwMk",
        "outputId": "ec520a2b-609d-425a-c51a-667d1e4b5d3f"
      },
      "execution_count": null,
      "outputs": [
        {
          "output_type": "execute_result",
          "data": {
            "text/plain": [
              "    symbol                                  name                  sector  \\\n",
              "5     ATVI                   Activision Blizzard  Communication Services   \n",
              "22   GOOGL               Alphabet Inc. (Class A)  Communication Services   \n",
              "23    GOOG               Alphabet Inc. (Class C)  Communication Services   \n",
              "50       T                                  AT&T  Communication Services   \n",
              "104   CHTR                Charter Communications  Communication Services   \n",
              "121  CMCSA                               Comcast  Communication Services   \n",
              "151   DISH                          Dish Network  Communication Services   \n",
              "152    DIS                                Disney  Communication Services   \n",
              "169     EA                       Electronic Arts  Communication Services   \n",
              "207   FOXA             Fox Corporation (Class A)  Communication Services   \n",
              "208    FOX             Fox Corporation (Class B)  Communication Services   \n",
              "257    IPG  Interpublic Group of Companies (The)  Communication Services   \n",
              "289    LYV             Live Nation Entertainment  Communication Services   \n",
              "303   MTCH                           Match Group  Communication Services   \n",
              "309   META                        Meta Platforms  Communication Services   \n",
              "329   NFLX                               Netflix  Communication Services   \n",
              "332   NWSA                   News Corp (Class A)  Communication Services   \n",
              "333    NWS                   News Corp (Class B)  Communication Services   \n",
              "350    OMC                         Omnicom Group  Communication Services   \n",
              "358   PARA                      Paramount Global  Communication Services   \n",
              "427   TMUS                           T-Mobile US  Communication Services   \n",
              "429   TTWO                  Take-Two Interactive  Communication Services   \n",
              "463     VZ                               Verizon  Communication Services   \n",
              "472    WBD                Warner Bros. Discovery  Communication Services   \n",
              "\n",
              "     Total_mean_score  ESG_score/Percentile_rank  \n",
              "5            1.833333                   0.395833  \n",
              "22           5.166667                   0.916667  \n",
              "23           5.500000                   0.958333  \n",
              "50           1.333333                   0.250000  \n",
              "104          2.333333                   0.500000  \n",
              "121          3.666667                   0.729167  \n",
              "151         -1.166667                   0.041667  \n",
              "152          4.500000                   0.854167  \n",
              "169          3.500000                   0.666667  \n",
              "207          1.833333                   0.395833  \n",
              "208          3.666667                   0.729167  \n",
              "257          2.500000                   0.583333  \n",
              "289          2.500000                   0.583333  \n",
              "303          2.166667                   0.458333  \n",
              "309         -0.333333                   0.083333  \n",
              "329          1.666667                   0.333333  \n",
              "332          1.500000                   0.291667  \n",
              "333          1.333333                   0.208333  \n",
              "350          4.333333                   0.791667  \n",
              "358          2.500000                   0.583333  \n",
              "427          4.500000                   0.854167  \n",
              "429          1.000000                   0.166667  \n",
              "463          8.000000                   1.000000  \n",
              "472          0.833333                   0.125000  "
            ],
            "text/html": [
              "\n",
              "  <div id=\"df-54a00830-1448-46d9-a39c-85c7d2357814\">\n",
              "    <div class=\"colab-df-container\">\n",
              "      <div>\n",
              "<style scoped>\n",
              "    .dataframe tbody tr th:only-of-type {\n",
              "        vertical-align: middle;\n",
              "    }\n",
              "\n",
              "    .dataframe tbody tr th {\n",
              "        vertical-align: top;\n",
              "    }\n",
              "\n",
              "    .dataframe thead th {\n",
              "        text-align: right;\n",
              "    }\n",
              "</style>\n",
              "<table border=\"1\" class=\"dataframe\">\n",
              "  <thead>\n",
              "    <tr style=\"text-align: right;\">\n",
              "      <th></th>\n",
              "      <th>symbol</th>\n",
              "      <th>name</th>\n",
              "      <th>sector</th>\n",
              "      <th>Total_mean_score</th>\n",
              "      <th>ESG_score/Percentile_rank</th>\n",
              "    </tr>\n",
              "  </thead>\n",
              "  <tbody>\n",
              "    <tr>\n",
              "      <th>5</th>\n",
              "      <td>ATVI</td>\n",
              "      <td>Activision Blizzard</td>\n",
              "      <td>Communication Services</td>\n",
              "      <td>1.833333</td>\n",
              "      <td>0.395833</td>\n",
              "    </tr>\n",
              "    <tr>\n",
              "      <th>22</th>\n",
              "      <td>GOOGL</td>\n",
              "      <td>Alphabet Inc. (Class A)</td>\n",
              "      <td>Communication Services</td>\n",
              "      <td>5.166667</td>\n",
              "      <td>0.916667</td>\n",
              "    </tr>\n",
              "    <tr>\n",
              "      <th>23</th>\n",
              "      <td>GOOG</td>\n",
              "      <td>Alphabet Inc. (Class C)</td>\n",
              "      <td>Communication Services</td>\n",
              "      <td>5.500000</td>\n",
              "      <td>0.958333</td>\n",
              "    </tr>\n",
              "    <tr>\n",
              "      <th>50</th>\n",
              "      <td>T</td>\n",
              "      <td>AT&amp;T</td>\n",
              "      <td>Communication Services</td>\n",
              "      <td>1.333333</td>\n",
              "      <td>0.250000</td>\n",
              "    </tr>\n",
              "    <tr>\n",
              "      <th>104</th>\n",
              "      <td>CHTR</td>\n",
              "      <td>Charter Communications</td>\n",
              "      <td>Communication Services</td>\n",
              "      <td>2.333333</td>\n",
              "      <td>0.500000</td>\n",
              "    </tr>\n",
              "    <tr>\n",
              "      <th>121</th>\n",
              "      <td>CMCSA</td>\n",
              "      <td>Comcast</td>\n",
              "      <td>Communication Services</td>\n",
              "      <td>3.666667</td>\n",
              "      <td>0.729167</td>\n",
              "    </tr>\n",
              "    <tr>\n",
              "      <th>151</th>\n",
              "      <td>DISH</td>\n",
              "      <td>Dish Network</td>\n",
              "      <td>Communication Services</td>\n",
              "      <td>-1.166667</td>\n",
              "      <td>0.041667</td>\n",
              "    </tr>\n",
              "    <tr>\n",
              "      <th>152</th>\n",
              "      <td>DIS</td>\n",
              "      <td>Disney</td>\n",
              "      <td>Communication Services</td>\n",
              "      <td>4.500000</td>\n",
              "      <td>0.854167</td>\n",
              "    </tr>\n",
              "    <tr>\n",
              "      <th>169</th>\n",
              "      <td>EA</td>\n",
              "      <td>Electronic Arts</td>\n",
              "      <td>Communication Services</td>\n",
              "      <td>3.500000</td>\n",
              "      <td>0.666667</td>\n",
              "    </tr>\n",
              "    <tr>\n",
              "      <th>207</th>\n",
              "      <td>FOXA</td>\n",
              "      <td>Fox Corporation (Class A)</td>\n",
              "      <td>Communication Services</td>\n",
              "      <td>1.833333</td>\n",
              "      <td>0.395833</td>\n",
              "    </tr>\n",
              "    <tr>\n",
              "      <th>208</th>\n",
              "      <td>FOX</td>\n",
              "      <td>Fox Corporation (Class B)</td>\n",
              "      <td>Communication Services</td>\n",
              "      <td>3.666667</td>\n",
              "      <td>0.729167</td>\n",
              "    </tr>\n",
              "    <tr>\n",
              "      <th>257</th>\n",
              "      <td>IPG</td>\n",
              "      <td>Interpublic Group of Companies (The)</td>\n",
              "      <td>Communication Services</td>\n",
              "      <td>2.500000</td>\n",
              "      <td>0.583333</td>\n",
              "    </tr>\n",
              "    <tr>\n",
              "      <th>289</th>\n",
              "      <td>LYV</td>\n",
              "      <td>Live Nation Entertainment</td>\n",
              "      <td>Communication Services</td>\n",
              "      <td>2.500000</td>\n",
              "      <td>0.583333</td>\n",
              "    </tr>\n",
              "    <tr>\n",
              "      <th>303</th>\n",
              "      <td>MTCH</td>\n",
              "      <td>Match Group</td>\n",
              "      <td>Communication Services</td>\n",
              "      <td>2.166667</td>\n",
              "      <td>0.458333</td>\n",
              "    </tr>\n",
              "    <tr>\n",
              "      <th>309</th>\n",
              "      <td>META</td>\n",
              "      <td>Meta Platforms</td>\n",
              "      <td>Communication Services</td>\n",
              "      <td>-0.333333</td>\n",
              "      <td>0.083333</td>\n",
              "    </tr>\n",
              "    <tr>\n",
              "      <th>329</th>\n",
              "      <td>NFLX</td>\n",
              "      <td>Netflix</td>\n",
              "      <td>Communication Services</td>\n",
              "      <td>1.666667</td>\n",
              "      <td>0.333333</td>\n",
              "    </tr>\n",
              "    <tr>\n",
              "      <th>332</th>\n",
              "      <td>NWSA</td>\n",
              "      <td>News Corp (Class A)</td>\n",
              "      <td>Communication Services</td>\n",
              "      <td>1.500000</td>\n",
              "      <td>0.291667</td>\n",
              "    </tr>\n",
              "    <tr>\n",
              "      <th>333</th>\n",
              "      <td>NWS</td>\n",
              "      <td>News Corp (Class B)</td>\n",
              "      <td>Communication Services</td>\n",
              "      <td>1.333333</td>\n",
              "      <td>0.208333</td>\n",
              "    </tr>\n",
              "    <tr>\n",
              "      <th>350</th>\n",
              "      <td>OMC</td>\n",
              "      <td>Omnicom Group</td>\n",
              "      <td>Communication Services</td>\n",
              "      <td>4.333333</td>\n",
              "      <td>0.791667</td>\n",
              "    </tr>\n",
              "    <tr>\n",
              "      <th>358</th>\n",
              "      <td>PARA</td>\n",
              "      <td>Paramount Global</td>\n",
              "      <td>Communication Services</td>\n",
              "      <td>2.500000</td>\n",
              "      <td>0.583333</td>\n",
              "    </tr>\n",
              "    <tr>\n",
              "      <th>427</th>\n",
              "      <td>TMUS</td>\n",
              "      <td>T-Mobile US</td>\n",
              "      <td>Communication Services</td>\n",
              "      <td>4.500000</td>\n",
              "      <td>0.854167</td>\n",
              "    </tr>\n",
              "    <tr>\n",
              "      <th>429</th>\n",
              "      <td>TTWO</td>\n",
              "      <td>Take-Two Interactive</td>\n",
              "      <td>Communication Services</td>\n",
              "      <td>1.000000</td>\n",
              "      <td>0.166667</td>\n",
              "    </tr>\n",
              "    <tr>\n",
              "      <th>463</th>\n",
              "      <td>VZ</td>\n",
              "      <td>Verizon</td>\n",
              "      <td>Communication Services</td>\n",
              "      <td>8.000000</td>\n",
              "      <td>1.000000</td>\n",
              "    </tr>\n",
              "    <tr>\n",
              "      <th>472</th>\n",
              "      <td>WBD</td>\n",
              "      <td>Warner Bros. Discovery</td>\n",
              "      <td>Communication Services</td>\n",
              "      <td>0.833333</td>\n",
              "      <td>0.125000</td>\n",
              "    </tr>\n",
              "  </tbody>\n",
              "</table>\n",
              "</div>\n",
              "      <button class=\"colab-df-convert\" onclick=\"convertToInteractive('df-54a00830-1448-46d9-a39c-85c7d2357814')\"\n",
              "              title=\"Convert this dataframe to an interactive table.\"\n",
              "              style=\"display:none;\">\n",
              "        \n",
              "  <svg xmlns=\"http://www.w3.org/2000/svg\" height=\"24px\"viewBox=\"0 0 24 24\"\n",
              "       width=\"24px\">\n",
              "    <path d=\"M0 0h24v24H0V0z\" fill=\"none\"/>\n",
              "    <path d=\"M18.56 5.44l.94 2.06.94-2.06 2.06-.94-2.06-.94-.94-2.06-.94 2.06-2.06.94zm-11 1L8.5 8.5l.94-2.06 2.06-.94-2.06-.94L8.5 2.5l-.94 2.06-2.06.94zm10 10l.94 2.06.94-2.06 2.06-.94-2.06-.94-.94-2.06-.94 2.06-2.06.94z\"/><path d=\"M17.41 7.96l-1.37-1.37c-.4-.4-.92-.59-1.43-.59-.52 0-1.04.2-1.43.59L10.3 9.45l-7.72 7.72c-.78.78-.78 2.05 0 2.83L4 21.41c.39.39.9.59 1.41.59.51 0 1.02-.2 1.41-.59l7.78-7.78 2.81-2.81c.8-.78.8-2.07 0-2.86zM5.41 20L4 18.59l7.72-7.72 1.47 1.35L5.41 20z\"/>\n",
              "  </svg>\n",
              "      </button>\n",
              "      \n",
              "  <style>\n",
              "    .colab-df-container {\n",
              "      display:flex;\n",
              "      flex-wrap:wrap;\n",
              "      gap: 12px;\n",
              "    }\n",
              "\n",
              "    .colab-df-convert {\n",
              "      background-color: #E8F0FE;\n",
              "      border: none;\n",
              "      border-radius: 50%;\n",
              "      cursor: pointer;\n",
              "      display: none;\n",
              "      fill: #1967D2;\n",
              "      height: 32px;\n",
              "      padding: 0 0 0 0;\n",
              "      width: 32px;\n",
              "    }\n",
              "\n",
              "    .colab-df-convert:hover {\n",
              "      background-color: #E2EBFA;\n",
              "      box-shadow: 0px 1px 2px rgba(60, 64, 67, 0.3), 0px 1px 3px 1px rgba(60, 64, 67, 0.15);\n",
              "      fill: #174EA6;\n",
              "    }\n",
              "\n",
              "    [theme=dark] .colab-df-convert {\n",
              "      background-color: #3B4455;\n",
              "      fill: #D2E3FC;\n",
              "    }\n",
              "\n",
              "    [theme=dark] .colab-df-convert:hover {\n",
              "      background-color: #434B5C;\n",
              "      box-shadow: 0px 1px 3px 1px rgba(0, 0, 0, 0.15);\n",
              "      filter: drop-shadow(0px 1px 2px rgba(0, 0, 0, 0.3));\n",
              "      fill: #FFFFFF;\n",
              "    }\n",
              "  </style>\n",
              "\n",
              "      <script>\n",
              "        const buttonEl =\n",
              "          document.querySelector('#df-54a00830-1448-46d9-a39c-85c7d2357814 button.colab-df-convert');\n",
              "        buttonEl.style.display =\n",
              "          google.colab.kernel.accessAllowed ? 'block' : 'none';\n",
              "\n",
              "        async function convertToInteractive(key) {\n",
              "          const element = document.querySelector('#df-54a00830-1448-46d9-a39c-85c7d2357814');\n",
              "          const dataTable =\n",
              "            await google.colab.kernel.invokeFunction('convertToInteractive',\n",
              "                                                     [key], {});\n",
              "          if (!dataTable) return;\n",
              "\n",
              "          const docLinkHtml = 'Like what you see? Visit the ' +\n",
              "            '<a target=\"_blank\" href=https://colab.research.google.com/notebooks/data_table.ipynb>data table notebook</a>'\n",
              "            + ' to learn more about interactive tables.';\n",
              "          element.innerHTML = '';\n",
              "          dataTable['output_type'] = 'display_data';\n",
              "          await google.colab.output.renderOutput(dataTable, element);\n",
              "          const docLink = document.createElement('div');\n",
              "          docLink.innerHTML = docLinkHtml;\n",
              "          element.appendChild(docLink);\n",
              "        }\n",
              "      </script>\n",
              "    </div>\n",
              "  </div>\n",
              "  "
            ]
          },
          "metadata": {},
          "execution_count": 21
        }
      ]
    },
    {
      "cell_type": "code",
      "source": [
        "with pd.option_context('display.max_rows', 100,\n",
        "                       'display.max_columns', None,\n",
        "                       'display.width', 1000,\n",
        "                       'display.precision', 3,\n",
        "                       'display.colheader_justify', 'center'):\n",
        "    display(df[df['sector']=='Communication Services'])"
      ],
      "metadata": {
        "colab": {
          "base_uri": "https://localhost:8080/",
          "height": 802
        },
        "id": "TJFGeMA1BBkq",
        "outputId": "9e29c867-5599-40b3-b33f-8ef629517948"
      },
      "execution_count": null,
      "outputs": [
        {
          "output_type": "display_data",
          "data": {
            "text/plain": [
              "    symbol                  name                          sector          Total_mean_score  ESG_score/Percentile_rank\n",
              "5     ATVI                   Activision Blizzard  Communication Services        1.833                 0.396          \n",
              "22   GOOGL               Alphabet Inc. (Class A)  Communication Services        5.167                 0.917          \n",
              "23    GOOG               Alphabet Inc. (Class C)  Communication Services        5.500                 0.958          \n",
              "50       T                                  AT&T  Communication Services        1.333                 0.250          \n",
              "104   CHTR                Charter Communications  Communication Services        2.333                 0.500          \n",
              "121  CMCSA                               Comcast  Communication Services        3.667                 0.729          \n",
              "151   DISH                          Dish Network  Communication Services       -1.167                 0.042          \n",
              "152    DIS                                Disney  Communication Services        4.500                 0.854          \n",
              "169     EA                       Electronic Arts  Communication Services        3.500                 0.667          \n",
              "207   FOXA             Fox Corporation (Class A)  Communication Services        1.833                 0.396          \n",
              "208    FOX             Fox Corporation (Class B)  Communication Services        3.667                 0.729          \n",
              "257    IPG  Interpublic Group of Companies (The)  Communication Services        2.500                 0.583          \n",
              "289    LYV             Live Nation Entertainment  Communication Services        2.500                 0.583          \n",
              "303   MTCH                           Match Group  Communication Services        2.167                 0.458          \n",
              "309   META                        Meta Platforms  Communication Services       -0.333                 0.083          \n",
              "329   NFLX                               Netflix  Communication Services        1.667                 0.333          \n",
              "332   NWSA                   News Corp (Class A)  Communication Services        1.500                 0.292          \n",
              "333    NWS                   News Corp (Class B)  Communication Services        1.333                 0.208          \n",
              "350    OMC                         Omnicom Group  Communication Services        4.333                 0.792          \n",
              "358   PARA                      Paramount Global  Communication Services        2.500                 0.583          \n",
              "427   TMUS                           T-Mobile US  Communication Services        4.500                 0.854          \n",
              "429   TTWO                  Take-Two Interactive  Communication Services        1.000                 0.167          \n",
              "463     VZ                               Verizon  Communication Services        8.000                 1.000          \n",
              "472    WBD                Warner Bros. Discovery  Communication Services        0.833                 0.125          "
            ],
            "text/html": [
              "\n",
              "  <div id=\"df-3440c4c5-44c4-41df-a098-516c7551487b\">\n",
              "    <div class=\"colab-df-container\">\n",
              "      <div>\n",
              "<style scoped>\n",
              "    .dataframe tbody tr th:only-of-type {\n",
              "        vertical-align: middle;\n",
              "    }\n",
              "\n",
              "    .dataframe tbody tr th {\n",
              "        vertical-align: top;\n",
              "    }\n",
              "\n",
              "    .dataframe thead th {\n",
              "        text-align: right;\n",
              "    }\n",
              "</style>\n",
              "<table border=\"1\" class=\"dataframe\">\n",
              "  <thead>\n",
              "    <tr style=\"text-align: center;\">\n",
              "      <th></th>\n",
              "      <th>symbol</th>\n",
              "      <th>name</th>\n",
              "      <th>sector</th>\n",
              "      <th>Total_mean_score</th>\n",
              "      <th>ESG_score/Percentile_rank</th>\n",
              "    </tr>\n",
              "  </thead>\n",
              "  <tbody>\n",
              "    <tr>\n",
              "      <th>5</th>\n",
              "      <td>ATVI</td>\n",
              "      <td>Activision Blizzard</td>\n",
              "      <td>Communication Services</td>\n",
              "      <td>1.833</td>\n",
              "      <td>0.396</td>\n",
              "    </tr>\n",
              "    <tr>\n",
              "      <th>22</th>\n",
              "      <td>GOOGL</td>\n",
              "      <td>Alphabet Inc. (Class A)</td>\n",
              "      <td>Communication Services</td>\n",
              "      <td>5.167</td>\n",
              "      <td>0.917</td>\n",
              "    </tr>\n",
              "    <tr>\n",
              "      <th>23</th>\n",
              "      <td>GOOG</td>\n",
              "      <td>Alphabet Inc. (Class C)</td>\n",
              "      <td>Communication Services</td>\n",
              "      <td>5.500</td>\n",
              "      <td>0.958</td>\n",
              "    </tr>\n",
              "    <tr>\n",
              "      <th>50</th>\n",
              "      <td>T</td>\n",
              "      <td>AT&amp;T</td>\n",
              "      <td>Communication Services</td>\n",
              "      <td>1.333</td>\n",
              "      <td>0.250</td>\n",
              "    </tr>\n",
              "    <tr>\n",
              "      <th>104</th>\n",
              "      <td>CHTR</td>\n",
              "      <td>Charter Communications</td>\n",
              "      <td>Communication Services</td>\n",
              "      <td>2.333</td>\n",
              "      <td>0.500</td>\n",
              "    </tr>\n",
              "    <tr>\n",
              "      <th>121</th>\n",
              "      <td>CMCSA</td>\n",
              "      <td>Comcast</td>\n",
              "      <td>Communication Services</td>\n",
              "      <td>3.667</td>\n",
              "      <td>0.729</td>\n",
              "    </tr>\n",
              "    <tr>\n",
              "      <th>151</th>\n",
              "      <td>DISH</td>\n",
              "      <td>Dish Network</td>\n",
              "      <td>Communication Services</td>\n",
              "      <td>-1.167</td>\n",
              "      <td>0.042</td>\n",
              "    </tr>\n",
              "    <tr>\n",
              "      <th>152</th>\n",
              "      <td>DIS</td>\n",
              "      <td>Disney</td>\n",
              "      <td>Communication Services</td>\n",
              "      <td>4.500</td>\n",
              "      <td>0.854</td>\n",
              "    </tr>\n",
              "    <tr>\n",
              "      <th>169</th>\n",
              "      <td>EA</td>\n",
              "      <td>Electronic Arts</td>\n",
              "      <td>Communication Services</td>\n",
              "      <td>3.500</td>\n",
              "      <td>0.667</td>\n",
              "    </tr>\n",
              "    <tr>\n",
              "      <th>207</th>\n",
              "      <td>FOXA</td>\n",
              "      <td>Fox Corporation (Class A)</td>\n",
              "      <td>Communication Services</td>\n",
              "      <td>1.833</td>\n",
              "      <td>0.396</td>\n",
              "    </tr>\n",
              "    <tr>\n",
              "      <th>208</th>\n",
              "      <td>FOX</td>\n",
              "      <td>Fox Corporation (Class B)</td>\n",
              "      <td>Communication Services</td>\n",
              "      <td>3.667</td>\n",
              "      <td>0.729</td>\n",
              "    </tr>\n",
              "    <tr>\n",
              "      <th>257</th>\n",
              "      <td>IPG</td>\n",
              "      <td>Interpublic Group of Companies (The)</td>\n",
              "      <td>Communication Services</td>\n",
              "      <td>2.500</td>\n",
              "      <td>0.583</td>\n",
              "    </tr>\n",
              "    <tr>\n",
              "      <th>289</th>\n",
              "      <td>LYV</td>\n",
              "      <td>Live Nation Entertainment</td>\n",
              "      <td>Communication Services</td>\n",
              "      <td>2.500</td>\n",
              "      <td>0.583</td>\n",
              "    </tr>\n",
              "    <tr>\n",
              "      <th>303</th>\n",
              "      <td>MTCH</td>\n",
              "      <td>Match Group</td>\n",
              "      <td>Communication Services</td>\n",
              "      <td>2.167</td>\n",
              "      <td>0.458</td>\n",
              "    </tr>\n",
              "    <tr>\n",
              "      <th>309</th>\n",
              "      <td>META</td>\n",
              "      <td>Meta Platforms</td>\n",
              "      <td>Communication Services</td>\n",
              "      <td>-0.333</td>\n",
              "      <td>0.083</td>\n",
              "    </tr>\n",
              "    <tr>\n",
              "      <th>329</th>\n",
              "      <td>NFLX</td>\n",
              "      <td>Netflix</td>\n",
              "      <td>Communication Services</td>\n",
              "      <td>1.667</td>\n",
              "      <td>0.333</td>\n",
              "    </tr>\n",
              "    <tr>\n",
              "      <th>332</th>\n",
              "      <td>NWSA</td>\n",
              "      <td>News Corp (Class A)</td>\n",
              "      <td>Communication Services</td>\n",
              "      <td>1.500</td>\n",
              "      <td>0.292</td>\n",
              "    </tr>\n",
              "    <tr>\n",
              "      <th>333</th>\n",
              "      <td>NWS</td>\n",
              "      <td>News Corp (Class B)</td>\n",
              "      <td>Communication Services</td>\n",
              "      <td>1.333</td>\n",
              "      <td>0.208</td>\n",
              "    </tr>\n",
              "    <tr>\n",
              "      <th>350</th>\n",
              "      <td>OMC</td>\n",
              "      <td>Omnicom Group</td>\n",
              "      <td>Communication Services</td>\n",
              "      <td>4.333</td>\n",
              "      <td>0.792</td>\n",
              "    </tr>\n",
              "    <tr>\n",
              "      <th>358</th>\n",
              "      <td>PARA</td>\n",
              "      <td>Paramount Global</td>\n",
              "      <td>Communication Services</td>\n",
              "      <td>2.500</td>\n",
              "      <td>0.583</td>\n",
              "    </tr>\n",
              "    <tr>\n",
              "      <th>427</th>\n",
              "      <td>TMUS</td>\n",
              "      <td>T-Mobile US</td>\n",
              "      <td>Communication Services</td>\n",
              "      <td>4.500</td>\n",
              "      <td>0.854</td>\n",
              "    </tr>\n",
              "    <tr>\n",
              "      <th>429</th>\n",
              "      <td>TTWO</td>\n",
              "      <td>Take-Two Interactive</td>\n",
              "      <td>Communication Services</td>\n",
              "      <td>1.000</td>\n",
              "      <td>0.167</td>\n",
              "    </tr>\n",
              "    <tr>\n",
              "      <th>463</th>\n",
              "      <td>VZ</td>\n",
              "      <td>Verizon</td>\n",
              "      <td>Communication Services</td>\n",
              "      <td>8.000</td>\n",
              "      <td>1.000</td>\n",
              "    </tr>\n",
              "    <tr>\n",
              "      <th>472</th>\n",
              "      <td>WBD</td>\n",
              "      <td>Warner Bros. Discovery</td>\n",
              "      <td>Communication Services</td>\n",
              "      <td>0.833</td>\n",
              "      <td>0.125</td>\n",
              "    </tr>\n",
              "  </tbody>\n",
              "</table>\n",
              "</div>\n",
              "      <button class=\"colab-df-convert\" onclick=\"convertToInteractive('df-3440c4c5-44c4-41df-a098-516c7551487b')\"\n",
              "              title=\"Convert this dataframe to an interactive table.\"\n",
              "              style=\"display:none;\">\n",
              "        \n",
              "  <svg xmlns=\"http://www.w3.org/2000/svg\" height=\"24px\"viewBox=\"0 0 24 24\"\n",
              "       width=\"24px\">\n",
              "    <path d=\"M0 0h24v24H0V0z\" fill=\"none\"/>\n",
              "    <path d=\"M18.56 5.44l.94 2.06.94-2.06 2.06-.94-2.06-.94-.94-2.06-.94 2.06-2.06.94zm-11 1L8.5 8.5l.94-2.06 2.06-.94-2.06-.94L8.5 2.5l-.94 2.06-2.06.94zm10 10l.94 2.06.94-2.06 2.06-.94-2.06-.94-.94-2.06-.94 2.06-2.06.94z\"/><path d=\"M17.41 7.96l-1.37-1.37c-.4-.4-.92-.59-1.43-.59-.52 0-1.04.2-1.43.59L10.3 9.45l-7.72 7.72c-.78.78-.78 2.05 0 2.83L4 21.41c.39.39.9.59 1.41.59.51 0 1.02-.2 1.41-.59l7.78-7.78 2.81-2.81c.8-.78.8-2.07 0-2.86zM5.41 20L4 18.59l7.72-7.72 1.47 1.35L5.41 20z\"/>\n",
              "  </svg>\n",
              "      </button>\n",
              "      \n",
              "  <style>\n",
              "    .colab-df-container {\n",
              "      display:flex;\n",
              "      flex-wrap:wrap;\n",
              "      gap: 12px;\n",
              "    }\n",
              "\n",
              "    .colab-df-convert {\n",
              "      background-color: #E8F0FE;\n",
              "      border: none;\n",
              "      border-radius: 50%;\n",
              "      cursor: pointer;\n",
              "      display: none;\n",
              "      fill: #1967D2;\n",
              "      height: 32px;\n",
              "      padding: 0 0 0 0;\n",
              "      width: 32px;\n",
              "    }\n",
              "\n",
              "    .colab-df-convert:hover {\n",
              "      background-color: #E2EBFA;\n",
              "      box-shadow: 0px 1px 2px rgba(60, 64, 67, 0.3), 0px 1px 3px 1px rgba(60, 64, 67, 0.15);\n",
              "      fill: #174EA6;\n",
              "    }\n",
              "\n",
              "    [theme=dark] .colab-df-convert {\n",
              "      background-color: #3B4455;\n",
              "      fill: #D2E3FC;\n",
              "    }\n",
              "\n",
              "    [theme=dark] .colab-df-convert:hover {\n",
              "      background-color: #434B5C;\n",
              "      box-shadow: 0px 1px 3px 1px rgba(0, 0, 0, 0.15);\n",
              "      filter: drop-shadow(0px 1px 2px rgba(0, 0, 0, 0.3));\n",
              "      fill: #FFFFFF;\n",
              "    }\n",
              "  </style>\n",
              "\n",
              "      <script>\n",
              "        const buttonEl =\n",
              "          document.querySelector('#df-3440c4c5-44c4-41df-a098-516c7551487b button.colab-df-convert');\n",
              "        buttonEl.style.display =\n",
              "          google.colab.kernel.accessAllowed ? 'block' : 'none';\n",
              "\n",
              "        async function convertToInteractive(key) {\n",
              "          const element = document.querySelector('#df-3440c4c5-44c4-41df-a098-516c7551487b');\n",
              "          const dataTable =\n",
              "            await google.colab.kernel.invokeFunction('convertToInteractive',\n",
              "                                                     [key], {});\n",
              "          if (!dataTable) return;\n",
              "\n",
              "          const docLinkHtml = 'Like what you see? Visit the ' +\n",
              "            '<a target=\"_blank\" href=https://colab.research.google.com/notebooks/data_table.ipynb>data table notebook</a>'\n",
              "            + ' to learn more about interactive tables.';\n",
              "          element.innerHTML = '';\n",
              "          dataTable['output_type'] = 'display_data';\n",
              "          await google.colab.output.renderOutput(dataTable, element);\n",
              "          const docLink = document.createElement('div');\n",
              "          docLink.innerHTML = docLinkHtml;\n",
              "          element.appendChild(docLink);\n",
              "        }\n",
              "      </script>\n",
              "    </div>\n",
              "  </div>\n",
              "  "
            ]
          },
          "metadata": {}
        }
      ]
    },
    {
      "cell_type": "code",
      "source": [
        "dff= df[df['sector']=='Communication Services'][['symbol','sector']].merge(allsp500df, on='symbol')"
      ],
      "metadata": {
        "id": "OhF_ONeHGasY"
      },
      "execution_count": null,
      "outputs": []
    },
    {
      "cell_type": "code",
      "source": [
        "dff.columns= ['symbol', 'sector', 'label_class', 'label_sentiment', 'sentiment_count', 'label_Sentiment_count','score']"
      ],
      "metadata": {
        "id": "rOqlncEbG71j"
      },
      "execution_count": null,
      "outputs": []
    },
    {
      "cell_type": "code",
      "source": [
        "dff['score']= dff['score']*-1"
      ],
      "metadata": {
        "id": "U25i8_DNHn8Y"
      },
      "execution_count": null,
      "outputs": []
    },
    {
      "cell_type": "code",
      "source": [
        "dff.head(16)[['symbol', 'sector', 'label_class', 'label_sentiment', 'sentiment_count', 'score']]"
      ],
      "metadata": {
        "colab": {
          "base_uri": "https://localhost:8080/",
          "height": 551
        },
        "id": "702sF-d_HIqg",
        "outputId": "3585ddbe-c5bc-4b91-86b7-afba749f0383"
      },
      "execution_count": null,
      "outputs": [
        {
          "output_type": "execute_result",
          "data": {
            "text/plain": [
              "   symbol                  sector    label_class label_sentiment  \\\n",
              "0    ATVI  Communication Services  Environmental        Negative   \n",
              "1    ATVI  Communication Services         Social        Negative   \n",
              "2    ATVI  Communication Services         Social         Neutral   \n",
              "3    ATVI  Communication Services         Social        Positive   \n",
              "4   GOOGL  Communication Services         Social        Negative   \n",
              "5   GOOGL  Communication Services         Social         Neutral   \n",
              "6   GOOGL  Communication Services         Social        Positive   \n",
              "7    GOOG  Communication Services         Social        Negative   \n",
              "8    GOOG  Communication Services         Social         Neutral   \n",
              "9    GOOG  Communication Services         Social        Positive   \n",
              "10      T  Communication Services  Environmental         Neutral   \n",
              "11      T  Communication Services         Social         Neutral   \n",
              "12      T  Communication Services         Social        Positive   \n",
              "13   CHTR  Communication Services     Governance         Neutral   \n",
              "14   CHTR  Communication Services         Social         Neutral   \n",
              "15   CHTR  Communication Services         Social        Positive   \n",
              "\n",
              "    sentiment_count  score  \n",
              "0                 1   -1.0  \n",
              "1                 2   -2.0  \n",
              "2                15    7.5  \n",
              "3                 1    1.0  \n",
              "4                 2   -2.0  \n",
              "5                21   10.5  \n",
              "6                 7    7.0  \n",
              "7                 1   -1.0  \n",
              "8                21   10.5  \n",
              "9                 7    7.0  \n",
              "10                1    0.5  \n",
              "11                5    2.5  \n",
              "12                1    1.0  \n",
              "13                1    0.5  \n",
              "14                5    2.5  \n",
              "15                4    4.0  "
            ],
            "text/html": [
              "\n",
              "  <div id=\"df-cf8c4b4f-fc1c-45a2-b411-9e3ecbd2fe98\">\n",
              "    <div class=\"colab-df-container\">\n",
              "      <div>\n",
              "<style scoped>\n",
              "    .dataframe tbody tr th:only-of-type {\n",
              "        vertical-align: middle;\n",
              "    }\n",
              "\n",
              "    .dataframe tbody tr th {\n",
              "        vertical-align: top;\n",
              "    }\n",
              "\n",
              "    .dataframe thead th {\n",
              "        text-align: right;\n",
              "    }\n",
              "</style>\n",
              "<table border=\"1\" class=\"dataframe\">\n",
              "  <thead>\n",
              "    <tr style=\"text-align: right;\">\n",
              "      <th></th>\n",
              "      <th>symbol</th>\n",
              "      <th>sector</th>\n",
              "      <th>label_class</th>\n",
              "      <th>label_sentiment</th>\n",
              "      <th>sentiment_count</th>\n",
              "      <th>score</th>\n",
              "    </tr>\n",
              "  </thead>\n",
              "  <tbody>\n",
              "    <tr>\n",
              "      <th>0</th>\n",
              "      <td>ATVI</td>\n",
              "      <td>Communication Services</td>\n",
              "      <td>Environmental</td>\n",
              "      <td>Negative</td>\n",
              "      <td>1</td>\n",
              "      <td>-1.0</td>\n",
              "    </tr>\n",
              "    <tr>\n",
              "      <th>1</th>\n",
              "      <td>ATVI</td>\n",
              "      <td>Communication Services</td>\n",
              "      <td>Social</td>\n",
              "      <td>Negative</td>\n",
              "      <td>2</td>\n",
              "      <td>-2.0</td>\n",
              "    </tr>\n",
              "    <tr>\n",
              "      <th>2</th>\n",
              "      <td>ATVI</td>\n",
              "      <td>Communication Services</td>\n",
              "      <td>Social</td>\n",
              "      <td>Neutral</td>\n",
              "      <td>15</td>\n",
              "      <td>7.5</td>\n",
              "    </tr>\n",
              "    <tr>\n",
              "      <th>3</th>\n",
              "      <td>ATVI</td>\n",
              "      <td>Communication Services</td>\n",
              "      <td>Social</td>\n",
              "      <td>Positive</td>\n",
              "      <td>1</td>\n",
              "      <td>1.0</td>\n",
              "    </tr>\n",
              "    <tr>\n",
              "      <th>4</th>\n",
              "      <td>GOOGL</td>\n",
              "      <td>Communication Services</td>\n",
              "      <td>Social</td>\n",
              "      <td>Negative</td>\n",
              "      <td>2</td>\n",
              "      <td>-2.0</td>\n",
              "    </tr>\n",
              "    <tr>\n",
              "      <th>5</th>\n",
              "      <td>GOOGL</td>\n",
              "      <td>Communication Services</td>\n",
              "      <td>Social</td>\n",
              "      <td>Neutral</td>\n",
              "      <td>21</td>\n",
              "      <td>10.5</td>\n",
              "    </tr>\n",
              "    <tr>\n",
              "      <th>6</th>\n",
              "      <td>GOOGL</td>\n",
              "      <td>Communication Services</td>\n",
              "      <td>Social</td>\n",
              "      <td>Positive</td>\n",
              "      <td>7</td>\n",
              "      <td>7.0</td>\n",
              "    </tr>\n",
              "    <tr>\n",
              "      <th>7</th>\n",
              "      <td>GOOG</td>\n",
              "      <td>Communication Services</td>\n",
              "      <td>Social</td>\n",
              "      <td>Negative</td>\n",
              "      <td>1</td>\n",
              "      <td>-1.0</td>\n",
              "    </tr>\n",
              "    <tr>\n",
              "      <th>8</th>\n",
              "      <td>GOOG</td>\n",
              "      <td>Communication Services</td>\n",
              "      <td>Social</td>\n",
              "      <td>Neutral</td>\n",
              "      <td>21</td>\n",
              "      <td>10.5</td>\n",
              "    </tr>\n",
              "    <tr>\n",
              "      <th>9</th>\n",
              "      <td>GOOG</td>\n",
              "      <td>Communication Services</td>\n",
              "      <td>Social</td>\n",
              "      <td>Positive</td>\n",
              "      <td>7</td>\n",
              "      <td>7.0</td>\n",
              "    </tr>\n",
              "    <tr>\n",
              "      <th>10</th>\n",
              "      <td>T</td>\n",
              "      <td>Communication Services</td>\n",
              "      <td>Environmental</td>\n",
              "      <td>Neutral</td>\n",
              "      <td>1</td>\n",
              "      <td>0.5</td>\n",
              "    </tr>\n",
              "    <tr>\n",
              "      <th>11</th>\n",
              "      <td>T</td>\n",
              "      <td>Communication Services</td>\n",
              "      <td>Social</td>\n",
              "      <td>Neutral</td>\n",
              "      <td>5</td>\n",
              "      <td>2.5</td>\n",
              "    </tr>\n",
              "    <tr>\n",
              "      <th>12</th>\n",
              "      <td>T</td>\n",
              "      <td>Communication Services</td>\n",
              "      <td>Social</td>\n",
              "      <td>Positive</td>\n",
              "      <td>1</td>\n",
              "      <td>1.0</td>\n",
              "    </tr>\n",
              "    <tr>\n",
              "      <th>13</th>\n",
              "      <td>CHTR</td>\n",
              "      <td>Communication Services</td>\n",
              "      <td>Governance</td>\n",
              "      <td>Neutral</td>\n",
              "      <td>1</td>\n",
              "      <td>0.5</td>\n",
              "    </tr>\n",
              "    <tr>\n",
              "      <th>14</th>\n",
              "      <td>CHTR</td>\n",
              "      <td>Communication Services</td>\n",
              "      <td>Social</td>\n",
              "      <td>Neutral</td>\n",
              "      <td>5</td>\n",
              "      <td>2.5</td>\n",
              "    </tr>\n",
              "    <tr>\n",
              "      <th>15</th>\n",
              "      <td>CHTR</td>\n",
              "      <td>Communication Services</td>\n",
              "      <td>Social</td>\n",
              "      <td>Positive</td>\n",
              "      <td>4</td>\n",
              "      <td>4.0</td>\n",
              "    </tr>\n",
              "  </tbody>\n",
              "</table>\n",
              "</div>\n",
              "      <button class=\"colab-df-convert\" onclick=\"convertToInteractive('df-cf8c4b4f-fc1c-45a2-b411-9e3ecbd2fe98')\"\n",
              "              title=\"Convert this dataframe to an interactive table.\"\n",
              "              style=\"display:none;\">\n",
              "        \n",
              "  <svg xmlns=\"http://www.w3.org/2000/svg\" height=\"24px\"viewBox=\"0 0 24 24\"\n",
              "       width=\"24px\">\n",
              "    <path d=\"M0 0h24v24H0V0z\" fill=\"none\"/>\n",
              "    <path d=\"M18.56 5.44l.94 2.06.94-2.06 2.06-.94-2.06-.94-.94-2.06-.94 2.06-2.06.94zm-11 1L8.5 8.5l.94-2.06 2.06-.94-2.06-.94L8.5 2.5l-.94 2.06-2.06.94zm10 10l.94 2.06.94-2.06 2.06-.94-2.06-.94-.94-2.06-.94 2.06-2.06.94z\"/><path d=\"M17.41 7.96l-1.37-1.37c-.4-.4-.92-.59-1.43-.59-.52 0-1.04.2-1.43.59L10.3 9.45l-7.72 7.72c-.78.78-.78 2.05 0 2.83L4 21.41c.39.39.9.59 1.41.59.51 0 1.02-.2 1.41-.59l7.78-7.78 2.81-2.81c.8-.78.8-2.07 0-2.86zM5.41 20L4 18.59l7.72-7.72 1.47 1.35L5.41 20z\"/>\n",
              "  </svg>\n",
              "      </button>\n",
              "      \n",
              "  <style>\n",
              "    .colab-df-container {\n",
              "      display:flex;\n",
              "      flex-wrap:wrap;\n",
              "      gap: 12px;\n",
              "    }\n",
              "\n",
              "    .colab-df-convert {\n",
              "      background-color: #E8F0FE;\n",
              "      border: none;\n",
              "      border-radius: 50%;\n",
              "      cursor: pointer;\n",
              "      display: none;\n",
              "      fill: #1967D2;\n",
              "      height: 32px;\n",
              "      padding: 0 0 0 0;\n",
              "      width: 32px;\n",
              "    }\n",
              "\n",
              "    .colab-df-convert:hover {\n",
              "      background-color: #E2EBFA;\n",
              "      box-shadow: 0px 1px 2px rgba(60, 64, 67, 0.3), 0px 1px 3px 1px rgba(60, 64, 67, 0.15);\n",
              "      fill: #174EA6;\n",
              "    }\n",
              "\n",
              "    [theme=dark] .colab-df-convert {\n",
              "      background-color: #3B4455;\n",
              "      fill: #D2E3FC;\n",
              "    }\n",
              "\n",
              "    [theme=dark] .colab-df-convert:hover {\n",
              "      background-color: #434B5C;\n",
              "      box-shadow: 0px 1px 3px 1px rgba(0, 0, 0, 0.15);\n",
              "      filter: drop-shadow(0px 1px 2px rgba(0, 0, 0, 0.3));\n",
              "      fill: #FFFFFF;\n",
              "    }\n",
              "  </style>\n",
              "\n",
              "      <script>\n",
              "        const buttonEl =\n",
              "          document.querySelector('#df-cf8c4b4f-fc1c-45a2-b411-9e3ecbd2fe98 button.colab-df-convert');\n",
              "        buttonEl.style.display =\n",
              "          google.colab.kernel.accessAllowed ? 'block' : 'none';\n",
              "\n",
              "        async function convertToInteractive(key) {\n",
              "          const element = document.querySelector('#df-cf8c4b4f-fc1c-45a2-b411-9e3ecbd2fe98');\n",
              "          const dataTable =\n",
              "            await google.colab.kernel.invokeFunction('convertToInteractive',\n",
              "                                                     [key], {});\n",
              "          if (!dataTable) return;\n",
              "\n",
              "          const docLinkHtml = 'Like what you see? Visit the ' +\n",
              "            '<a target=\"_blank\" href=https://colab.research.google.com/notebooks/data_table.ipynb>data table notebook</a>'\n",
              "            + ' to learn more about interactive tables.';\n",
              "          element.innerHTML = '';\n",
              "          dataTable['output_type'] = 'display_data';\n",
              "          await google.colab.output.renderOutput(dataTable, element);\n",
              "          const docLink = document.createElement('div');\n",
              "          docLink.innerHTML = docLinkHtml;\n",
              "          element.appendChild(docLink);\n",
              "        }\n",
              "      </script>\n",
              "    </div>\n",
              "  </div>\n",
              "  "
            ]
          },
          "metadata": {},
          "execution_count": 74
        }
      ]
    },
    {
      "cell_type": "code",
      "source": [],
      "metadata": {
        "id": "CjBLwdwBH_UB"
      },
      "execution_count": null,
      "outputs": []
    }
  ]
}