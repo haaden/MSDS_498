{
  "nbformat": 4,
  "nbformat_minor": 0,
  "metadata": {
    "colab": {
      "provenance": [],
      "mount_file_id": "1MfCscXnR2tCr79NbrlLs31PRnVlxc7p6",
      "authorship_tag": "ABX9TyN+1CG2Xu1sPbHCcS5/ckIv",
      "include_colab_link": true
    },
    "kernelspec": {
      "name": "python3",
      "display_name": "Python 3"
    },
    "language_info": {
      "name": "python"
    }
  },
  "cells": [
    {
      "cell_type": "markdown",
      "metadata": {
        "id": "view-in-github",
        "colab_type": "text"
      },
      "source": [
        "<a href=\"https://colab.research.google.com/github/haaden/MSDS_498/blob/main/MSDS498_news_press_transcripts.ipynb\" target=\"_parent\"><img src=\"https://colab.research.google.com/assets/colab-badge.svg\" alt=\"Open In Colab\"/></a>"
      ]
    },
    {
      "cell_type": "code",
      "execution_count": null,
      "metadata": {
        "id": "tFOJpStxezMB"
      },
      "outputs": [],
      "source": [
        "import numpy as np\n",
        "\n",
        "import pandas as pd"
      ]
    },
    {
      "cell_type": "code",
      "source": [
        "import os\n",
        "import random\n",
        "\n",
        "import pickle \n",
        "import re,string\n",
        "\n",
        "import nltk\n",
        "from nltk.corpus import stopwords\n",
        "from nltk.stem import PorterStemmer\n",
        "\n",
        "from sklearn.feature_extraction.text import TfidfVectorizer\n",
        "from sklearn.cluster import KMeans, AgglomerativeClustering\n",
        "from sklearn.metrics.pairwise import cosine_similarity\n",
        "from sklearn.decomposition import TruncatedSVD, LatentDirichletAllocation\n",
        "from sklearn.svm import SVC\n",
        "from sklearn.preprocessing import LabelEncoder, OneHotEncoder\n",
        "from sklearn.ensemble import RandomForestClassifier\n",
        "from sklearn.metrics import roc_auc_score, accuracy_score, confusion_matrix\n",
        "from sklearn.model_selection import cross_val_score, StratifiedKFold\n",
        "from sklearn.tree import DecisionTreeClassifier\n",
        "from sklearn.naive_bayes import MultinomialNB\n",
        "from sklearn.linear_model import LogisticRegression\n",
        "from sklearn.ensemble import RandomForestClassifier\n",
        "from sklearn.metrics import accuracy_score\n",
        "from sklearn.model_selection import train_test_split, KFold\n",
        "from sklearn.manifold import MDS\n",
        "from sklearn.metrics.pairwise import cosine_similarity\n",
        "\n",
        "import seaborn as sns\n",
        "import matplotlib.pyplot as plt\n",
        "\n",
        "import gensim\n",
        "from gensim.models import Word2Vec,LdaMulticore, TfidfModel, CoherenceModel\n",
        "from gensim import corpora\n",
        "from gensim import similarities\n",
        "from gensim.models.doc2vec import Doc2Vec, TaggedDocument\n",
        "from gensim import corpora\n",
        "from gensim.models import LsiModel,LdaModel"
      ],
      "metadata": {
        "id": "b4qFpzOff_SF"
      },
      "execution_count": null,
      "outputs": []
    },
    {
      "cell_type": "code",
      "source": [
        "nltk.download('stopwords')"
      ],
      "metadata": {
        "colab": {
          "base_uri": "https://localhost:8080/"
        },
        "id": "KpG2xKbJf_U_",
        "outputId": "f2adbaa6-a04d-4ff1-9a94-786c3dde86df"
      },
      "execution_count": null,
      "outputs": [
        {
          "output_type": "stream",
          "name": "stderr",
          "text": [
            "[nltk_data] Downloading package stopwords to /root/nltk_data...\n",
            "[nltk_data]   Unzipping corpora/stopwords.zip.\n"
          ]
        },
        {
          "output_type": "execute_result",
          "data": {
            "text/plain": [
              "True"
            ]
          },
          "metadata": {},
          "execution_count": 3
        }
      ]
    },
    {
      "cell_type": "code",
      "source": [
        "def clean_doc(doc): \n",
        "    #split document into individual words\n",
        "    tokens=doc.split()\n",
        "    re_punc = re.compile('[%s]' % re.escape(string.punctuation))\n",
        "    # remove punctuation from each word\n",
        "    tokens = [re_punc.sub('', w) for w in tokens]\n",
        "    # remove remaining tokens that are not alphabetic\n",
        "    tokens = [word for word in tokens if word.isalpha()]\n",
        "    # filter out short tokens\n",
        "    tokens = [word for word in tokens if len(word) > 4]\n",
        "    #lowercase all words\n",
        "    tokens = [word.lower() for word in tokens]\n",
        "    # filter out stop words\n",
        "    stop_words = set(stopwords.words('english'))\n",
        "    tokens = [w for w in tokens if not w in stop_words]         \n",
        "    # word stemming    \n",
        "    # ps=PorterStemmer()\n",
        "    # tokens=[ps.stem(word) for word in tokens]\n",
        "    return tokens\n",
        "\n",
        "def final_processed_text(doc):\n",
        "    #this is a function to join the processed text back\n",
        "    ' '.join(doc)\n",
        "    return doc"
      ],
      "metadata": {
        "id": "ZXjA4WdZf_c-"
      },
      "execution_count": null,
      "outputs": []
    },
    {
      "cell_type": "code",
      "source": [],
      "metadata": {
        "id": "X1lgUMq8f_f5"
      },
      "execution_count": null,
      "outputs": []
    },
    {
      "cell_type": "markdown",
      "source": [
        "download data\n"
      ],
      "metadata": {
        "id": "PYhu4ZSmxueQ"
      }
    },
    {
      "cell_type": "markdown",
      "source": [],
      "metadata": {
        "id": "eU4f8Ud9xurP"
      }
    },
    {
      "cell_type": "code",
      "source": [],
      "metadata": {
        "id": "dQbVlNnOyHYo"
      },
      "execution_count": null,
      "outputs": []
    },
    {
      "cell_type": "code",
      "source": [
        "\n",
        "\n",
        "from urllib.request import urlopen, Request\n",
        "\n",
        "import requests\n",
        "\n",
        "# To extract fundamental data\n",
        "from bs4 import BeautifulSoup\n",
        "\n",
        "demo= '97591392fd6d2255da9db4d2b086bac5'\n",
        "\n"
      ],
      "metadata": {
        "id": "Ai20EyRRAgzO"
      },
      "execution_count": null,
      "outputs": []
    },
    {
      "cell_type": "code",
      "source": [
        "sp_500= requests.get(f'https://financialmodelingprep.com/api/v3/sp500_constituent?apikey={demo}').json()"
      ],
      "metadata": {
        "id": "o-I39MqVA1Cq"
      },
      "execution_count": null,
      "outputs": []
    },
    {
      "cell_type": "code",
      "source": [
        "sp_500df= pd.DataFrame(sp_500)"
      ],
      "metadata": {
        "id": "VoC9d5zQA1Vg"
      },
      "execution_count": null,
      "outputs": []
    },
    {
      "cell_type": "code",
      "source": [
        "#sp_500df_energy = sp_500df[sp_500df['sector']=='Energy']"
      ],
      "metadata": {
        "id": "xSI_waGNY2Oc"
      },
      "execution_count": null,
      "outputs": []
    },
    {
      "cell_type": "code",
      "source": [
        "#sp_500_energy_lst= sp_500df[sp_500df['sector']=='Energy']['symbol'].tolist()"
      ],
      "metadata": {
        "id": "40YUsIrMB7VA"
      },
      "execution_count": null,
      "outputs": []
    },
    {
      "cell_type": "code",
      "source": [
        "sp_500_tickers= sp_500df['symbol'].tolist()"
      ],
      "metadata": {
        "id": "6LSVntaVCYcV"
      },
      "execution_count": null,
      "outputs": []
    },
    {
      "cell_type": "code",
      "source": [],
      "metadata": {
        "id": "iq4bYkJ_ymXb"
      },
      "execution_count": null,
      "outputs": []
    },
    {
      "cell_type": "code",
      "source": [
        "no_data = []\n",
        "transcripts_all= []\n",
        "\n",
        "for company in sp_500_tickers:\n",
        "  transcript = requests.get(f'https://financialmodelingprep.com/api/v3/earning_call_transcript/{company}?quarter=1&year=2023&apikey={demo}').json()\n",
        "  if transcript:\n",
        "    try:\n",
        "      transcript = pd.DataFrame(transcript)\n",
        "      transcripts_all.append(transcript)\n",
        "    except:\n",
        "      next\n",
        "#press= requests.get(f\"https://financialmodelingprep.com/api/v3/press-releases/{company}?&apikey={demo}\").json()\n",
        "#news= requests.get(f\"https://financialmodelingprep.com/api/v3/stock_news?{company}?&apikey={demo}\").json()\n",
        "\n"
      ],
      "metadata": {
        "id": "BR-dtStWCExP"
      },
      "execution_count": null,
      "outputs": []
    },
    {
      "cell_type": "code",
      "source": [
        "transcriptdf= pd.concat(transcripts_all)"
      ],
      "metadata": {
        "id": "7w2gp_YqIGhK"
      },
      "execution_count": null,
      "outputs": []
    },
    {
      "cell_type": "code",
      "source": [
        "transcriptdf.head(1)"
      ],
      "metadata": {
        "id": "ex69D8hFzqTU"
      },
      "execution_count": null,
      "outputs": []
    },
    {
      "cell_type": "code",
      "source": [
        "press_release = []\n",
        "for company in sp_500_tickers:\n",
        "  press = requests.get(f\"https://financialmodelingprep.com/api/v3/press-releases/{company}?&apikey={demo}\").json()\n",
        "  if press:\n",
        "    try:\n",
        "      press = pd.DataFrame(press)\n",
        "      press_release.append(press )\n",
        "    except:\n",
        "      next\n"
      ],
      "metadata": {
        "id": "wb1k2LQnBZuH"
      },
      "execution_count": null,
      "outputs": []
    },
    {
      "cell_type": "code",
      "source": [
        "pressdf= pd.concat(press_release)"
      ],
      "metadata": {
        "id": "E-VaRPbdE1nQ"
      },
      "execution_count": null,
      "outputs": []
    },
    {
      "cell_type": "code",
      "source": [
        "news = []\n",
        "for company in sp_500_tickers:\n",
        "  nw = requests.get(f\"https://financialmodelingprep.com/api/v3/stock_news?tickers={company}&limit=50?&apikey={demo}\").json()\n",
        "\n",
        "  if nw:\n",
        "    try:\n",
        "      nw = pd.DataFrame(nw)\n",
        "      news.append(nw )\n",
        "    except:\n",
        "      next"
      ],
      "metadata": {
        "id": "kOZqQoKeBZ9U"
      },
      "execution_count": null,
      "outputs": []
    },
    {
      "cell_type": "code",
      "source": [
        "newsdf= pd.concat(news)\n"
      ],
      "metadata": {
        "id": "Dclo7MhECEcO"
      },
      "execution_count": null,
      "outputs": []
    },
    {
      "cell_type": "code",
      "source": [
        "newsdf.shape"
      ],
      "metadata": {
        "colab": {
          "base_uri": "https://localhost:8080/"
        },
        "id": "NZHITbSzLlxa",
        "outputId": "26578643-5cb0-4c6b-ba74-7d33bf2e9b32"
      },
      "execution_count": null,
      "outputs": [
        {
          "output_type": "execute_result",
          "data": {
            "text/plain": [
              "(25037, 7)"
            ]
          },
          "metadata": {},
          "execution_count": 47
        }
      ]
    },
    {
      "cell_type": "code",
      "source": [
        "transcriptdf.to_pickle(\"transcriptdf_sp500.pkl\")\n",
        "newsdf.to_pickle('newsdf_sp500.pkl')\n",
        "pressdf.to_pickle('pressdf_sp500.pkl')"
      ],
      "metadata": {
        "id": "OjI7P6unIN_w"
      },
      "execution_count": null,
      "outputs": []
    },
    {
      "cell_type": "code",
      "source": [
        "nw = newsdf.copy()"
      ],
      "metadata": {
        "id": "tkrboiW9f_lE"
      },
      "execution_count": null,
      "outputs": []
    },
    {
      "cell_type": "code",
      "source": [
        "nw.columns"
      ],
      "metadata": {
        "colab": {
          "base_uri": "https://localhost:8080/"
        },
        "id": "92q-SXpBiUh7",
        "outputId": "8a456ebb-fd24-4bf9-da2d-06a24e5a56d4"
      },
      "execution_count": null,
      "outputs": [
        {
          "output_type": "execute_result",
          "data": {
            "text/plain": [
              "Index(['symbol', 'publishedDate', 'title', 'image', 'site', 'text', 'url'], dtype='object')"
            ]
          },
          "metadata": {},
          "execution_count": 49
        }
      ]
    },
    {
      "cell_type": "code",
      "source": [
        "nw = nw.drop(['image','url'], axis=1)"
      ],
      "metadata": {
        "id": "Thl9qIFHg_tj"
      },
      "execution_count": null,
      "outputs": []
    },
    {
      "cell_type": "code",
      "source": [
        "nw= nw[nw['publishedDate']>='2022-12-31']"
      ],
      "metadata": {
        "id": "KZ01dg_n8VnR"
      },
      "execution_count": null,
      "outputs": []
    },
    {
      "cell_type": "code",
      "source": [],
      "metadata": {
        "id": "K919CHFM8Vuy"
      },
      "execution_count": null,
      "outputs": []
    },
    {
      "cell_type": "code",
      "source": [
        "pressdf= pressdf.copy()"
      ],
      "metadata": {
        "id": "a4t4-JnVhb-6"
      },
      "execution_count": null,
      "outputs": []
    },
    {
      "cell_type": "code",
      "source": [
        "pressdf= pressdf[pressdf['date']>'2022-12-31']"
      ],
      "metadata": {
        "id": "zTw1CdboiWOc"
      },
      "execution_count": null,
      "outputs": []
    },
    {
      "cell_type": "code",
      "source": [
        "transdf = transcriptdf.copy()"
      ],
      "metadata": {
        "id": "p527dij6g_zC"
      },
      "execution_count": null,
      "outputs": []
    },
    {
      "cell_type": "code",
      "source": [
        "transdf.columns"
      ],
      "metadata": {
        "colab": {
          "base_uri": "https://localhost:8080/"
        },
        "id": "R5RSXHoUiYi7",
        "outputId": "1576dbfd-e306-4893-cecf-aad5d671fbd0"
      },
      "execution_count": null,
      "outputs": [
        {
          "output_type": "execute_result",
          "data": {
            "text/plain": [
              "Index(['symbol', 'quarter', 'year', 'date', 'content'], dtype='object')"
            ]
          },
          "metadata": {},
          "execution_count": 55
        }
      ]
    },
    {
      "cell_type": "code",
      "source": [],
      "metadata": {
        "id": "RKvGF0Ya_g2a"
      },
      "execution_count": null,
      "outputs": []
    },
    {
      "cell_type": "code",
      "source": [
        "#data= data[data[\"Movie Title\"]==\"Frozen_2\"]\n",
        "#adding two columns to the dataframe to store the processed text and tokenized text\n",
        "nw['processed_text'] = nw['text'].apply(lambda x: clean_doc(x))\n",
        "\n",
        "#creating final processed text variables for matrix creation\n",
        "nw['final_processed_text'] = [' '.join(x) for x in nw['processed_text']]"
      ],
      "metadata": {
        "id": "JL5msc-Wh58T"
      },
      "execution_count": null,
      "outputs": []
    },
    {
      "cell_type": "code",
      "source": [
        "len(pressdf['text'].tolist())"
      ],
      "metadata": {
        "colab": {
          "base_uri": "https://localhost:8080/"
        },
        "id": "tMbTNFH0g_4y",
        "outputId": "d9e3a684-ffee-4565-e288-4fbdd7f14e58"
      },
      "execution_count": null,
      "outputs": [
        {
          "output_type": "execute_result",
          "data": {
            "text/plain": [
              "7353"
            ]
          },
          "metadata": {},
          "execution_count": 57
        }
      ]
    },
    {
      "cell_type": "code",
      "source": [
        "#data= data[data[\"Movie Title\"]==\"Frozen_2\"]\n",
        "#adding two columns to the dataframe to store the processed text and tokenized text\n",
        "pressdf['processed_text'] = pressdf['text'].apply(lambda x: clean_doc(x))\n",
        "\n",
        "#creating final processed text variables for matrix creation\n",
        "pressdf['final_processed_text'] = [' '.join(x) for x in pressdf['processed_text']]"
      ],
      "metadata": {
        "id": "EXnDQoelg_72"
      },
      "execution_count": null,
      "outputs": []
    },
    {
      "cell_type": "code",
      "source": [
        "# cleaning transcripts"
      ],
      "metadata": {
        "id": "ty5D9jPA_LDE"
      },
      "execution_count": null,
      "outputs": []
    },
    {
      "cell_type": "code",
      "source": [
        "translist = transdf.content.str.split(\"\\n\").tolist()"
      ],
      "metadata": {
        "id": "FrWwi9Wdg_-D"
      },
      "execution_count": null,
      "outputs": []
    },
    {
      "cell_type": "code",
      "source": [
        "transdf.head(1)"
      ],
      "metadata": {
        "id": "Uwrvtyl28WQG",
        "colab": {
          "base_uri": "https://localhost:8080/",
          "height": 80
        },
        "outputId": "e701b451-1422-437c-efda-85030f738da0"
      },
      "execution_count": null,
      "outputs": [
        {
          "output_type": "execute_result",
          "data": {
            "text/plain": [
              "  symbol  quarter  year                 date  \\\n",
              "0    MMM        1  2023  2023-04-25 14:20:17   \n",
              "\n",
              "                                             content  \n",
              "0  Operator: Ladies and gentlemen, thank you for ...  "
            ],
            "text/html": [
              "\n",
              "  <div id=\"df-7a068a94-02fb-4d33-8471-5c7379dc2ef4\">\n",
              "    <div class=\"colab-df-container\">\n",
              "      <div>\n",
              "<style scoped>\n",
              "    .dataframe tbody tr th:only-of-type {\n",
              "        vertical-align: middle;\n",
              "    }\n",
              "\n",
              "    .dataframe tbody tr th {\n",
              "        vertical-align: top;\n",
              "    }\n",
              "\n",
              "    .dataframe thead th {\n",
              "        text-align: right;\n",
              "    }\n",
              "</style>\n",
              "<table border=\"1\" class=\"dataframe\">\n",
              "  <thead>\n",
              "    <tr style=\"text-align: right;\">\n",
              "      <th></th>\n",
              "      <th>symbol</th>\n",
              "      <th>quarter</th>\n",
              "      <th>year</th>\n",
              "      <th>date</th>\n",
              "      <th>content</th>\n",
              "    </tr>\n",
              "  </thead>\n",
              "  <tbody>\n",
              "    <tr>\n",
              "      <th>0</th>\n",
              "      <td>MMM</td>\n",
              "      <td>1</td>\n",
              "      <td>2023</td>\n",
              "      <td>2023-04-25 14:20:17</td>\n",
              "      <td>Operator: Ladies and gentlemen, thank you for ...</td>\n",
              "    </tr>\n",
              "  </tbody>\n",
              "</table>\n",
              "</div>\n",
              "      <button class=\"colab-df-convert\" onclick=\"convertToInteractive('df-7a068a94-02fb-4d33-8471-5c7379dc2ef4')\"\n",
              "              title=\"Convert this dataframe to an interactive table.\"\n",
              "              style=\"display:none;\">\n",
              "        \n",
              "  <svg xmlns=\"http://www.w3.org/2000/svg\" height=\"24px\"viewBox=\"0 0 24 24\"\n",
              "       width=\"24px\">\n",
              "    <path d=\"M0 0h24v24H0V0z\" fill=\"none\"/>\n",
              "    <path d=\"M18.56 5.44l.94 2.06.94-2.06 2.06-.94-2.06-.94-.94-2.06-.94 2.06-2.06.94zm-11 1L8.5 8.5l.94-2.06 2.06-.94-2.06-.94L8.5 2.5l-.94 2.06-2.06.94zm10 10l.94 2.06.94-2.06 2.06-.94-2.06-.94-.94-2.06-.94 2.06-2.06.94z\"/><path d=\"M17.41 7.96l-1.37-1.37c-.4-.4-.92-.59-1.43-.59-.52 0-1.04.2-1.43.59L10.3 9.45l-7.72 7.72c-.78.78-.78 2.05 0 2.83L4 21.41c.39.39.9.59 1.41.59.51 0 1.02-.2 1.41-.59l7.78-7.78 2.81-2.81c.8-.78.8-2.07 0-2.86zM5.41 20L4 18.59l7.72-7.72 1.47 1.35L5.41 20z\"/>\n",
              "  </svg>\n",
              "      </button>\n",
              "      \n",
              "  <style>\n",
              "    .colab-df-container {\n",
              "      display:flex;\n",
              "      flex-wrap:wrap;\n",
              "      gap: 12px;\n",
              "    }\n",
              "\n",
              "    .colab-df-convert {\n",
              "      background-color: #E8F0FE;\n",
              "      border: none;\n",
              "      border-radius: 50%;\n",
              "      cursor: pointer;\n",
              "      display: none;\n",
              "      fill: #1967D2;\n",
              "      height: 32px;\n",
              "      padding: 0 0 0 0;\n",
              "      width: 32px;\n",
              "    }\n",
              "\n",
              "    .colab-df-convert:hover {\n",
              "      background-color: #E2EBFA;\n",
              "      box-shadow: 0px 1px 2px rgba(60, 64, 67, 0.3), 0px 1px 3px 1px rgba(60, 64, 67, 0.15);\n",
              "      fill: #174EA6;\n",
              "    }\n",
              "\n",
              "    [theme=dark] .colab-df-convert {\n",
              "      background-color: #3B4455;\n",
              "      fill: #D2E3FC;\n",
              "    }\n",
              "\n",
              "    [theme=dark] .colab-df-convert:hover {\n",
              "      background-color: #434B5C;\n",
              "      box-shadow: 0px 1px 3px 1px rgba(0, 0, 0, 0.15);\n",
              "      filter: drop-shadow(0px 1px 2px rgba(0, 0, 0, 0.3));\n",
              "      fill: #FFFFFF;\n",
              "    }\n",
              "  </style>\n",
              "\n",
              "      <script>\n",
              "        const buttonEl =\n",
              "          document.querySelector('#df-7a068a94-02fb-4d33-8471-5c7379dc2ef4 button.colab-df-convert');\n",
              "        buttonEl.style.display =\n",
              "          google.colab.kernel.accessAllowed ? 'block' : 'none';\n",
              "\n",
              "        async function convertToInteractive(key) {\n",
              "          const element = document.querySelector('#df-7a068a94-02fb-4d33-8471-5c7379dc2ef4');\n",
              "          const dataTable =\n",
              "            await google.colab.kernel.invokeFunction('convertToInteractive',\n",
              "                                                     [key], {});\n",
              "          if (!dataTable) return;\n",
              "\n",
              "          const docLinkHtml = 'Like what you see? Visit the ' +\n",
              "            '<a target=\"_blank\" href=https://colab.research.google.com/notebooks/data_table.ipynb>data table notebook</a>'\n",
              "            + ' to learn more about interactive tables.';\n",
              "          element.innerHTML = '';\n",
              "          dataTable['output_type'] = 'display_data';\n",
              "          await google.colab.output.renderOutput(dataTable, element);\n",
              "          const docLink = document.createElement('div');\n",
              "          docLink.innerHTML = docLinkHtml;\n",
              "          element.appendChild(docLink);\n",
              "        }\n",
              "      </script>\n",
              "    </div>\n",
              "  </div>\n",
              "  "
            ]
          },
          "metadata": {},
          "execution_count": 60
        }
      ]
    },
    {
      "cell_type": "code",
      "source": [
        "#transdf['text_clean'].apply(lambda x: [''.join(a) for a in x]).tolist()"
      ],
      "metadata": {
        "id": "DJmWxQuu_50a"
      },
      "execution_count": null,
      "outputs": []
    },
    {
      "cell_type": "code",
      "source": [
        "#transdf['final_processed_text']= [' '.join(x) for x in transdf['text_clean']]"
      ],
      "metadata": {
        "id": "evmu9NKsAqnZ"
      },
      "execution_count": null,
      "outputs": []
    },
    {
      "cell_type": "code",
      "source": [
        "#transdf= transdf.drop('final_processed_text',axis=1)"
      ],
      "metadata": {
        "id": "7FBy_X-eAqvW"
      },
      "execution_count": null,
      "outputs": []
    },
    {
      "cell_type": "code",
      "source": [],
      "metadata": {
        "id": "iIn3LszH8bHt"
      },
      "execution_count": null,
      "outputs": []
    },
    {
      "cell_type": "code",
      "source": [
        "clean_text= []\n",
        "for i in translist:\n",
        "  txt= []\n",
        "  for a in i:\n",
        "    doc= clean_doc(a)\n",
        "    if len(doc)>512:\n",
        "      docsplit = a.split(\".\")\n",
        "      #print(docsplit)\n",
        "      for c in docsplit:\n",
        "        #print(c)\n",
        "        if len(c)>512:\n",
        "           doc_split= c.split(\",\")\n",
        "           for d in doc_split:\n",
        "              doc = clean_doc(d)\n",
        "              txt.append(doc)\n",
        "        else:    \n",
        "            doc= clean_doc(c)\n",
        "            txt.append(doc)\n",
        "    else:\n",
        "      txt.append(doc)\n",
        "    \n",
        "  clean_text.append(txt)"
      ],
      "metadata": {
        "id": "m93kq7x_DYCC"
      },
      "execution_count": null,
      "outputs": []
    },
    {
      "cell_type": "code",
      "source": [],
      "metadata": {
        "id": "H43937ITUU-j"
      },
      "execution_count": null,
      "outputs": []
    },
    {
      "cell_type": "code",
      "source": [
        "final_text=[]\n",
        "for i in range(len(clean_text)):\n",
        "  txt=[]\n",
        "  for a in range(len(clean_text[i])):\n",
        "    #print(clean_text[i])\n",
        "    txt.append([' '.join(clean_text[i][a])])  #(x) for x in clean_text[i]])\n",
        "  final_text.append(txt)"
      ],
      "metadata": {
        "id": "XlNdzJIWKk12"
      },
      "execution_count": null,
      "outputs": []
    },
    {
      "cell_type": "code",
      "source": [
        "len(final_text)"
      ],
      "metadata": {
        "colab": {
          "base_uri": "https://localhost:8080/"
        },
        "id": "s20VMS_eGOiy",
        "outputId": "4f8d271d-e056-48ee-c0fe-66ddd28a94cd"
      },
      "execution_count": null,
      "outputs": [
        {
          "output_type": "execute_result",
          "data": {
            "text/plain": [
              "481"
            ]
          },
          "metadata": {},
          "execution_count": 66
        }
      ]
    },
    {
      "cell_type": "code",
      "source": [
        "for i in translist[22]:\n",
        "  print(len(i))\n",
        "  if len(i)>512:\n",
        "    print(i.split(\".\"))"
      ],
      "metadata": {
        "id": "EaFOyg4r82si"
      },
      "execution_count": null,
      "outputs": []
    },
    {
      "cell_type": "code",
      "source": [],
      "metadata": {
        "id": "37m3v8VUhAAp"
      },
      "execution_count": null,
      "outputs": []
    },
    {
      "cell_type": "code",
      "source": [],
      "metadata": {
        "id": "TF_PQ6u2f_pZ"
      },
      "execution_count": null,
      "outputs": []
    },
    {
      "cell_type": "code",
      "source": [
        "!pip install transformers"
      ],
      "metadata": {
        "id": "Zt3eeBO7fNfI"
      },
      "execution_count": null,
      "outputs": []
    },
    {
      "cell_type": "code",
      "source": [
        "from transformers import BertTokenizer, BertForSequenceClassification, pipeline"
      ],
      "metadata": {
        "id": "I-nfZ-F3e6w2"
      },
      "execution_count": null,
      "outputs": []
    },
    {
      "cell_type": "code",
      "source": [
        "# tested in transformers==4.18.0 \n",
        "import transformers\n",
        "transformers.__version__"
      ],
      "metadata": {
        "colab": {
          "base_uri": "https://localhost:8080/",
          "height": 35
        },
        "id": "rFN0RMcYe9hV",
        "outputId": "c97c3445-f7dd-4298-a11d-2035f9df4a11"
      },
      "execution_count": null,
      "outputs": [
        {
          "output_type": "execute_result",
          "data": {
            "text/plain": [
              "'4.29.2'"
            ],
            "application/vnd.google.colaboratory.intrinsic+json": {
              "type": "string"
            }
          },
          "metadata": {},
          "execution_count": 69
        }
      ]
    },
    {
      "cell_type": "code",
      "source": [
        "finbert = BertForSequenceClassification.from_pretrained('yiyanghkust/finbert-esg',num_labels=4)\n",
        "tokenizer = BertTokenizer.from_pretrained('yiyanghkust/finbert-esg',truncation=True, max_length=512)"
      ],
      "metadata": {
        "id": "gt5oYq4UjGYh",
        "colab": {
          "base_uri": "https://localhost:8080/",
          "height": 34,
          "referenced_widgets": [
            "1e0210f095ae4ec5980b0e7d8b1ee88d"
          ]
        },
        "outputId": "07325bfa-6cd6-4f0f-becb-227e9528762a"
      },
      "execution_count": null,
      "outputs": [
        {
          "output_type": "display_data",
          "data": {
            "text/plain": [
              "Downloading (…)solve/main/vocab.txt:   0%|          | 0.00/226k [00:00<?, ?B/s]"
            ],
            "application/vnd.jupyter.widget-view+json": {
              "version_major": 2,
              "version_minor": 0,
              "model_id": "1e0210f095ae4ec5980b0e7d8b1ee88d"
            }
          },
          "metadata": {}
        }
      ]
    },
    {
      "cell_type": "code",
      "source": [
        "nlp = pipeline(\"text-classification\", model=finbert, tokenizer=tokenizer, truncation=True, max_length=512)"
      ],
      "metadata": {
        "id": "r0wDOSgTjKAz",
        "colab": {
          "base_uri": "https://localhost:8080/"
        },
        "outputId": "7be6fb27-817b-4257-a51e-3684ccf73212"
      },
      "execution_count": null,
      "outputs": [
        {
          "output_type": "stream",
          "name": "stderr",
          "text": [
            "Xformers is not installed correctly. If you want to use memorry_efficient_attention to accelerate training use the following command to install Xformers\n",
            "pip install xformers.\n"
          ]
        }
      ]
    },
    {
      "cell_type": "code",
      "source": [
        "pip install xformers"
      ],
      "metadata": {
        "id": "59g8CsTUjSXw"
      },
      "execution_count": null,
      "outputs": []
    },
    {
      "cell_type": "code",
      "source": [
        "# only Q1 news\n",
        "#nw= nw[nw['publishedDate']>'2022-12-31'].copy()"
      ],
      "metadata": {
        "id": "oJWSDbWou_ha"
      },
      "execution_count": null,
      "outputs": []
    },
    {
      "cell_type": "code",
      "source": [
        "nw.shape"
      ],
      "metadata": {
        "colab": {
          "base_uri": "https://localhost:8080/"
        },
        "id": "PvNxMszp0rJ2",
        "outputId": "d5fe059a-e833-41e9-a119-02a7cdaf76e3"
      },
      "execution_count": null,
      "outputs": [
        {
          "output_type": "execute_result",
          "data": {
            "text/plain": [
              "(1048, 7)"
            ]
          },
          "metadata": {},
          "execution_count": 149
        }
      ]
    },
    {
      "cell_type": "code",
      "source": [
        "nw[\"ESG\"]= nw['final_processed_text'].apply(nlp)"
      ],
      "metadata": {
        "id": "iYd6Eb0ajdeV"
      },
      "execution_count": null,
      "outputs": []
    },
    {
      "cell_type": "code",
      "source": [
        "ls= nw['ESG'].apply(lambda x: x[0]).apply(pd.Series)"
      ],
      "metadata": {
        "id": "PmZNWYldp3YW"
      },
      "execution_count": null,
      "outputs": []
    },
    {
      "cell_type": "code",
      "source": [
        "ls.head(1)"
      ],
      "metadata": {
        "id": "atvI5FeLzyor",
        "colab": {
          "base_uri": "https://localhost:8080/",
          "height": 80
        },
        "outputId": "3e06fd72-51e0-4c79-924d-675263f952d9"
      },
      "execution_count": null,
      "outputs": [
        {
          "output_type": "execute_result",
          "data": {
            "text/plain": [
              "  label    score\n",
              "0  None  0.93525"
            ],
            "text/html": [
              "\n",
              "  <div id=\"df-dc3b6a1f-8577-4e83-9e7a-ef844053fa31\">\n",
              "    <div class=\"colab-df-container\">\n",
              "      <div>\n",
              "<style scoped>\n",
              "    .dataframe tbody tr th:only-of-type {\n",
              "        vertical-align: middle;\n",
              "    }\n",
              "\n",
              "    .dataframe tbody tr th {\n",
              "        vertical-align: top;\n",
              "    }\n",
              "\n",
              "    .dataframe thead th {\n",
              "        text-align: right;\n",
              "    }\n",
              "</style>\n",
              "<table border=\"1\" class=\"dataframe\">\n",
              "  <thead>\n",
              "    <tr style=\"text-align: right;\">\n",
              "      <th></th>\n",
              "      <th>label</th>\n",
              "      <th>score</th>\n",
              "    </tr>\n",
              "  </thead>\n",
              "  <tbody>\n",
              "    <tr>\n",
              "      <th>0</th>\n",
              "      <td>None</td>\n",
              "      <td>0.93525</td>\n",
              "    </tr>\n",
              "  </tbody>\n",
              "</table>\n",
              "</div>\n",
              "      <button class=\"colab-df-convert\" onclick=\"convertToInteractive('df-dc3b6a1f-8577-4e83-9e7a-ef844053fa31')\"\n",
              "              title=\"Convert this dataframe to an interactive table.\"\n",
              "              style=\"display:none;\">\n",
              "        \n",
              "  <svg xmlns=\"http://www.w3.org/2000/svg\" height=\"24px\"viewBox=\"0 0 24 24\"\n",
              "       width=\"24px\">\n",
              "    <path d=\"M0 0h24v24H0V0z\" fill=\"none\"/>\n",
              "    <path d=\"M18.56 5.44l.94 2.06.94-2.06 2.06-.94-2.06-.94-.94-2.06-.94 2.06-2.06.94zm-11 1L8.5 8.5l.94-2.06 2.06-.94-2.06-.94L8.5 2.5l-.94 2.06-2.06.94zm10 10l.94 2.06.94-2.06 2.06-.94-2.06-.94-.94-2.06-.94 2.06-2.06.94z\"/><path d=\"M17.41 7.96l-1.37-1.37c-.4-.4-.92-.59-1.43-.59-.52 0-1.04.2-1.43.59L10.3 9.45l-7.72 7.72c-.78.78-.78 2.05 0 2.83L4 21.41c.39.39.9.59 1.41.59.51 0 1.02-.2 1.41-.59l7.78-7.78 2.81-2.81c.8-.78.8-2.07 0-2.86zM5.41 20L4 18.59l7.72-7.72 1.47 1.35L5.41 20z\"/>\n",
              "  </svg>\n",
              "      </button>\n",
              "      \n",
              "  <style>\n",
              "    .colab-df-container {\n",
              "      display:flex;\n",
              "      flex-wrap:wrap;\n",
              "      gap: 12px;\n",
              "    }\n",
              "\n",
              "    .colab-df-convert {\n",
              "      background-color: #E8F0FE;\n",
              "      border: none;\n",
              "      border-radius: 50%;\n",
              "      cursor: pointer;\n",
              "      display: none;\n",
              "      fill: #1967D2;\n",
              "      height: 32px;\n",
              "      padding: 0 0 0 0;\n",
              "      width: 32px;\n",
              "    }\n",
              "\n",
              "    .colab-df-convert:hover {\n",
              "      background-color: #E2EBFA;\n",
              "      box-shadow: 0px 1px 2px rgba(60, 64, 67, 0.3), 0px 1px 3px 1px rgba(60, 64, 67, 0.15);\n",
              "      fill: #174EA6;\n",
              "    }\n",
              "\n",
              "    [theme=dark] .colab-df-convert {\n",
              "      background-color: #3B4455;\n",
              "      fill: #D2E3FC;\n",
              "    }\n",
              "\n",
              "    [theme=dark] .colab-df-convert:hover {\n",
              "      background-color: #434B5C;\n",
              "      box-shadow: 0px 1px 3px 1px rgba(0, 0, 0, 0.15);\n",
              "      filter: drop-shadow(0px 1px 2px rgba(0, 0, 0, 0.3));\n",
              "      fill: #FFFFFF;\n",
              "    }\n",
              "  </style>\n",
              "\n",
              "      <script>\n",
              "        const buttonEl =\n",
              "          document.querySelector('#df-dc3b6a1f-8577-4e83-9e7a-ef844053fa31 button.colab-df-convert');\n",
              "        buttonEl.style.display =\n",
              "          google.colab.kernel.accessAllowed ? 'block' : 'none';\n",
              "\n",
              "        async function convertToInteractive(key) {\n",
              "          const element = document.querySelector('#df-dc3b6a1f-8577-4e83-9e7a-ef844053fa31');\n",
              "          const dataTable =\n",
              "            await google.colab.kernel.invokeFunction('convertToInteractive',\n",
              "                                                     [key], {});\n",
              "          if (!dataTable) return;\n",
              "\n",
              "          const docLinkHtml = 'Like what you see? Visit the ' +\n",
              "            '<a target=\"_blank\" href=https://colab.research.google.com/notebooks/data_table.ipynb>data table notebook</a>'\n",
              "            + ' to learn more about interactive tables.';\n",
              "          element.innerHTML = '';\n",
              "          dataTable['output_type'] = 'display_data';\n",
              "          await google.colab.output.renderOutput(dataTable, element);\n",
              "          const docLink = document.createElement('div');\n",
              "          docLink.innerHTML = docLinkHtml;\n",
              "          element.appendChild(docLink);\n",
              "        }\n",
              "      </script>\n",
              "    </div>\n",
              "  </div>\n",
              "  "
            ]
          },
          "metadata": {},
          "execution_count": 75
        }
      ]
    },
    {
      "cell_type": "code",
      "source": [
        "nw = pd.concat((nw,ls ), axis=1 )"
      ],
      "metadata": {
        "id": "EtX8ljqZsaru"
      },
      "execution_count": null,
      "outputs": []
    },
    {
      "cell_type": "code",
      "source": [
        "nw.to_pickle(\"nw_ESG_ps500.pkl\")"
      ],
      "metadata": {
        "id": "vMrKAFu70MCL"
      },
      "execution_count": null,
      "outputs": []
    },
    {
      "cell_type": "code",
      "source": [
        "from google.colab import files\n",
        "files.download(\"nw_ESG_ps500.pkl\")"
      ],
      "metadata": {
        "colab": {
          "base_uri": "https://localhost:8080/",
          "height": 17
        },
        "id": "CMX0nVUAVvcP",
        "outputId": "0bf32517-f4f9-4306-b58f-98477deca638"
      },
      "execution_count": null,
      "outputs": [
        {
          "output_type": "display_data",
          "data": {
            "text/plain": [
              "<IPython.core.display.Javascript object>"
            ],
            "application/javascript": [
              "\n",
              "    async function download(id, filename, size) {\n",
              "      if (!google.colab.kernel.accessAllowed) {\n",
              "        return;\n",
              "      }\n",
              "      const div = document.createElement('div');\n",
              "      const label = document.createElement('label');\n",
              "      label.textContent = `Downloading \"${filename}\": `;\n",
              "      div.appendChild(label);\n",
              "      const progress = document.createElement('progress');\n",
              "      progress.max = size;\n",
              "      div.appendChild(progress);\n",
              "      document.body.appendChild(div);\n",
              "\n",
              "      const buffers = [];\n",
              "      let downloaded = 0;\n",
              "\n",
              "      const channel = await google.colab.kernel.comms.open(id);\n",
              "      // Send a message to notify the kernel that we're ready.\n",
              "      channel.send({})\n",
              "\n",
              "      for await (const message of channel.messages) {\n",
              "        // Send a message to notify the kernel that we're ready.\n",
              "        channel.send({})\n",
              "        if (message.buffers) {\n",
              "          for (const buffer of message.buffers) {\n",
              "            buffers.push(buffer);\n",
              "            downloaded += buffer.byteLength;\n",
              "            progress.value = downloaded;\n",
              "          }\n",
              "        }\n",
              "      }\n",
              "      const blob = new Blob(buffers, {type: 'application/binary'});\n",
              "      const a = document.createElement('a');\n",
              "      a.href = window.URL.createObjectURL(blob);\n",
              "      a.download = filename;\n",
              "      div.appendChild(a);\n",
              "      a.click();\n",
              "      div.remove();\n",
              "    }\n",
              "  "
            ]
          },
          "metadata": {}
        },
        {
          "output_type": "display_data",
          "data": {
            "text/plain": [
              "<IPython.core.display.Javascript object>"
            ],
            "application/javascript": [
              "download(\"download_01d714c6-30db-43ad-9ad5-624f5ed603b2\", \"nw_ESG_ps500.pkl\", 12753875)"
            ]
          },
          "metadata": {}
        }
      ]
    },
    {
      "cell_type": "code",
      "source": [
        "#pressdf"
      ],
      "metadata": {
        "colab": {
          "base_uri": "https://localhost:8080/"
        },
        "id": "VDJmHv8hswcU",
        "outputId": "e1d81192-dba3-4e6c-876f-a409d29f80b1"
      },
      "execution_count": null,
      "outputs": [
        {
          "output_type": "execute_result",
          "data": {
            "text/plain": [
              "Index(['symbol', 'date', 'title', 'text'], dtype='object')"
            ]
          },
          "metadata": {},
          "execution_count": 136
        }
      ]
    },
    {
      "cell_type": "code",
      "source": [
        "pressdf[\"ESG\"]= pressdf['final_processed_text'].apply(nlp)"
      ],
      "metadata": {
        "id": "k2svN6-_23nJ"
      },
      "execution_count": null,
      "outputs": []
    },
    {
      "cell_type": "code",
      "source": [
        "pls= pressdf['ESG'].apply(lambda x: x[0]).apply(pd.Series)"
      ],
      "metadata": {
        "id": "GWxtLzKj4pED"
      },
      "execution_count": null,
      "outputs": []
    },
    {
      "cell_type": "code",
      "source": [
        "pressdf= pd.concat((pressdf,pls ), axis=1 )"
      ],
      "metadata": {
        "id": "NVE6sjG04yEh"
      },
      "execution_count": null,
      "outputs": []
    },
    {
      "cell_type": "code",
      "source": [
        "pressdf.to_pickle('pressESG_sp500.pkl')"
      ],
      "metadata": {
        "id": "nAHzvTM24-1f"
      },
      "execution_count": null,
      "outputs": []
    },
    {
      "cell_type": "code",
      "source": [
        "from google.colab import files\n",
        " \n",
        "files.download('pressESG_sp500.pkl')"
      ],
      "metadata": {
        "colab": {
          "base_uri": "https://localhost:8080/",
          "height": 17
        },
        "id": "__XPQofJSCmd",
        "outputId": "9b0ff006-fc75-4923-d3de-0d9b1ab72d27"
      },
      "execution_count": null,
      "outputs": [
        {
          "output_type": "display_data",
          "data": {
            "text/plain": [
              "<IPython.core.display.Javascript object>"
            ],
            "application/javascript": [
              "\n",
              "    async function download(id, filename, size) {\n",
              "      if (!google.colab.kernel.accessAllowed) {\n",
              "        return;\n",
              "      }\n",
              "      const div = document.createElement('div');\n",
              "      const label = document.createElement('label');\n",
              "      label.textContent = `Downloading \"${filename}\": `;\n",
              "      div.appendChild(label);\n",
              "      const progress = document.createElement('progress');\n",
              "      progress.max = size;\n",
              "      div.appendChild(progress);\n",
              "      document.body.appendChild(div);\n",
              "\n",
              "      const buffers = [];\n",
              "      let downloaded = 0;\n",
              "\n",
              "      const channel = await google.colab.kernel.comms.open(id);\n",
              "      // Send a message to notify the kernel that we're ready.\n",
              "      channel.send({})\n",
              "\n",
              "      for await (const message of channel.messages) {\n",
              "        // Send a message to notify the kernel that we're ready.\n",
              "        channel.send({})\n",
              "        if (message.buffers) {\n",
              "          for (const buffer of message.buffers) {\n",
              "            buffers.push(buffer);\n",
              "            downloaded += buffer.byteLength;\n",
              "            progress.value = downloaded;\n",
              "          }\n",
              "        }\n",
              "      }\n",
              "      const blob = new Blob(buffers, {type: 'application/binary'});\n",
              "      const a = document.createElement('a');\n",
              "      a.href = window.URL.createObjectURL(blob);\n",
              "      a.download = filename;\n",
              "      div.appendChild(a);\n",
              "      a.click();\n",
              "      div.remove();\n",
              "    }\n",
              "  "
            ]
          },
          "metadata": {}
        },
        {
          "output_type": "display_data",
          "data": {
            "text/plain": [
              "<IPython.core.display.Javascript object>"
            ],
            "application/javascript": [
              "download(\"download_29831e13-4537-4a54-9f2f-0b71790c40c1\", \"pressESG_sp500.pkl\", 8750709)"
            ]
          },
          "metadata": {}
        }
      ]
    },
    {
      "cell_type": "code",
      "source": [
        "final_text[22][3]"
      ],
      "metadata": {
        "id": "D8Kcklvp_d7D"
      },
      "execution_count": null,
      "outputs": []
    },
    {
      "cell_type": "code",
      "source": [
        "ESG=[]\n",
        "\n",
        "for i in range(len(clean_text)):\n",
        "  esg=[]\n",
        "  for a in clean_text[i]:\n",
        "    print(len(a))\n",
        "    if len(a)<=512:\n",
        "      doc = ' '.join(a)\n",
        "      esg.append(nlp(doc))\n",
        "    else:\n",
        "      a= a[0:512]\n",
        "      doc = ' '.join(a)\n",
        "      esg.append(nlp(doc))\n",
        "  ESG.append(esg)\n"
      ],
      "metadata": {
        "id": "7Kj4H8ob6jsH"
      },
      "execution_count": null,
      "outputs": []
    },
    {
      "cell_type": "code",
      "source": [
        "pd.DataFrame(ESG).T.to_pickle(\"TransESG.pkl\")"
      ],
      "metadata": {
        "id": "ZuQsOOpt7vwH"
      },
      "execution_count": null,
      "outputs": []
    },
    {
      "cell_type": "code",
      "source": [
        "pd.DataFrame(final_text).T.to_pickle(\"final_text.pkl\")"
      ],
      "metadata": {
        "id": "9pMW4RcQiQcV"
      },
      "execution_count": null,
      "outputs": []
    },
    {
      "cell_type": "code",
      "source": [
        "files.download(\"TransESG.pkl\")\n",
        "files.download(\"final_text.pkl\")"
      ],
      "metadata": {
        "id": "iZ-QEEyejlZq",
        "colab": {
          "base_uri": "https://localhost:8080/",
          "height": 17
        },
        "outputId": "9650765a-d336-4e96-bbbf-4ea5a4c00446"
      },
      "execution_count": null,
      "outputs": [
        {
          "output_type": "display_data",
          "data": {
            "text/plain": [
              "<IPython.core.display.Javascript object>"
            ],
            "application/javascript": [
              "\n",
              "    async function download(id, filename, size) {\n",
              "      if (!google.colab.kernel.accessAllowed) {\n",
              "        return;\n",
              "      }\n",
              "      const div = document.createElement('div');\n",
              "      const label = document.createElement('label');\n",
              "      label.textContent = `Downloading \"${filename}\": `;\n",
              "      div.appendChild(label);\n",
              "      const progress = document.createElement('progress');\n",
              "      progress.max = size;\n",
              "      div.appendChild(progress);\n",
              "      document.body.appendChild(div);\n",
              "\n",
              "      const buffers = [];\n",
              "      let downloaded = 0;\n",
              "\n",
              "      const channel = await google.colab.kernel.comms.open(id);\n",
              "      // Send a message to notify the kernel that we're ready.\n",
              "      channel.send({})\n",
              "\n",
              "      for await (const message of channel.messages) {\n",
              "        // Send a message to notify the kernel that we're ready.\n",
              "        channel.send({})\n",
              "        if (message.buffers) {\n",
              "          for (const buffer of message.buffers) {\n",
              "            buffers.push(buffer);\n",
              "            downloaded += buffer.byteLength;\n",
              "            progress.value = downloaded;\n",
              "          }\n",
              "        }\n",
              "      }\n",
              "      const blob = new Blob(buffers, {type: 'application/binary'});\n",
              "      const a = document.createElement('a');\n",
              "      a.href = window.URL.createObjectURL(blob);\n",
              "      a.download = filename;\n",
              "      div.appendChild(a);\n",
              "      a.click();\n",
              "      div.remove();\n",
              "    }\n",
              "  "
            ]
          },
          "metadata": {}
        },
        {
          "output_type": "display_data",
          "data": {
            "text/plain": [
              "<IPython.core.display.Javascript object>"
            ],
            "application/javascript": [
              "download(\"download_3a81e85f-97b9-4a2a-88be-9d1528e52d7b\", \"TransESG.pkl\", 2309189)"
            ]
          },
          "metadata": {}
        },
        {
          "output_type": "display_data",
          "data": {
            "text/plain": [
              "<IPython.core.display.Javascript object>"
            ],
            "application/javascript": [
              "\n",
              "    async function download(id, filename, size) {\n",
              "      if (!google.colab.kernel.accessAllowed) {\n",
              "        return;\n",
              "      }\n",
              "      const div = document.createElement('div');\n",
              "      const label = document.createElement('label');\n",
              "      label.textContent = `Downloading \"${filename}\": `;\n",
              "      div.appendChild(label);\n",
              "      const progress = document.createElement('progress');\n",
              "      progress.max = size;\n",
              "      div.appendChild(progress);\n",
              "      document.body.appendChild(div);\n",
              "\n",
              "      const buffers = [];\n",
              "      let downloaded = 0;\n",
              "\n",
              "      const channel = await google.colab.kernel.comms.open(id);\n",
              "      // Send a message to notify the kernel that we're ready.\n",
              "      channel.send({})\n",
              "\n",
              "      for await (const message of channel.messages) {\n",
              "        // Send a message to notify the kernel that we're ready.\n",
              "        channel.send({})\n",
              "        if (message.buffers) {\n",
              "          for (const buffer of message.buffers) {\n",
              "            buffers.push(buffer);\n",
              "            downloaded += buffer.byteLength;\n",
              "            progress.value = downloaded;\n",
              "          }\n",
              "        }\n",
              "      }\n",
              "      const blob = new Blob(buffers, {type: 'application/binary'});\n",
              "      const a = document.createElement('a');\n",
              "      a.href = window.URL.createObjectURL(blob);\n",
              "      a.download = filename;\n",
              "      div.appendChild(a);\n",
              "      a.click();\n",
              "      div.remove();\n",
              "    }\n",
              "  "
            ]
          },
          "metadata": {}
        },
        {
          "output_type": "display_data",
          "data": {
            "text/plain": [
              "<IPython.core.display.Javascript object>"
            ],
            "application/javascript": [
              "download(\"download_794ca4ee-6880-41f2-b7b5-5018305fb0c9\", \"final_text.pkl\", 13629519)"
            ]
          },
          "metadata": {}
        }
      ]
    },
    {
      "cell_type": "code",
      "source": [
        "for i in clean_text:\n",
        "  for a in i:\n",
        "    if len(a)==488:\n",
        "      doc= ' '.join(a)\n",
        "      print(doc)\n",
        "      #nlp(doc)"
      ],
      "metadata": {
        "colab": {
          "base_uri": "https://localhost:8080/"
        },
        "id": "2cxc-kC7-gFy",
        "outputId": "023e3025-d103-4c21-bf6c-fe4d21535ed1"
      },
      "execution_count": null,
      "outputs": [
        {
          "output_type": "stream",
          "name": "stdout",
          "text": [
            "thank morning welcome first quarter conference today discuss continued progress executing strategy cover operations rielly review financial results believe offers unique value proposition investors strategy deliver highreturn resource growth supply industryleading growth maintain industry leadership environmental social governance performance disclosure terms resource growth multiple phases guyana developments coming online robust inventory highreturn drilling locations bakken deliver highly profitable production growth annually stabroek block guyana currently sight floating production storage floating vessels fpsos gross production capacity million barrels terms supply resource continues expand steadily curve forecast costs decline approximately portfolio achieve breakeven brent price approximately barrel sanctioned developments stabroek block breakeven brent price approximately barrel terms growth industryleading change story industryleading duration story providing highly differentiated value proposition based brent price barrel barrel forecast increase approximately annually twice topline growth balance sheet continue strengthen recent debttoebitdax ratio approximately onetime successful execution strategy uniquely positioned company deliver significant value shareholders years growing intrinsic value growing returns financial priorities allocate capital highreturn lowcost investment opportunities maintain strong balance sheet position ensure worldclass investment opportunities guyana bakken allocated capital budget return annual shareholders dividend increases share repurchases return capital framework march increased annual dividend share looking ahead continue increasing regular dividend level attractive income oriented investors sustainable price environment generation steadily increases future years share repurchases expected represent growing proportion return capital manage price volatility hedged barrels barrels barrel options barrels barrel brent options positions shareholders protected downside fully benefiting upside strategy guyana industrys largest province discovered decade interest exxonmobil operator since discoveries block including since start fangtooth underpinning gross discovered recoverable resource estimate billion barrels equivalent multibillion barrels exploration potential remaining potential fpsos develop discovered resources block phase phase developments produced average approximately gross barrels first quarter third sanctioned development payara arrived stabroek block earlier month ahead schedule targeted start early fourth quarter gross production capacity approximately fourth sanction development yellowtail expected online gross production capacity approximately barrels government regulatory approvals expected hopefully fifth development gross production capacity approximately barrels development sixth development whiptail expected submitted government regulatory government approvals later turning bakken continue operating fourrig program enable production approximately barrels equivalent lower fully optimize infrastructure generate significant levels continue outstanding applying manufacturing principles build culture innovation improve efficiency mitigate inflationary pressures execute company strategy continue guided longstanding commitment sustainability proud industry leader earlier month announced million donation years institute harnessing plants initiative potential changer tackling global challenge climate change developing plants crops wetlands natural ability capture store potentially billions carbon atmosphere proud received rating latest environmental social governance rating assessment mscis highest rating designates company leader managing industryspecific risks relative peers received first rating earning ratings consecutive years february earned place bloomberg gender equality index fourth consecutive summary continue successfully execute strategy offers unique value proposition industry growing intrinsic value returns multiple phases lowcost developments coming online guyana robust inventory highreturn drilling locations bakken portfolio positioned become increasingly positive continue prioritize return capital shareholders dividend increases share repurchases operational update\n"
          ]
        }
      ]
    },
    {
      "cell_type": "code",
      "source": [
        "t= 'thank morning welcome first quarter conference today discuss continued progress executing strategy cover operations rielly review financial results believe offers unique value proposition investors strategy deliver highreturn resource growth supply industryleading growth maintain industry leadership environmental social governance performance disclosure terms resource growth multiple phases guyana developments coming online robust inventory highreturn drilling locations bakken deliver highly profitable production growth annually stabroek block guyana currently sight floating production storage floating vessels fpsos gross production capacity million barrels terms supply resource continues expand steadily curve forecast costs decline approximately portfolio achieve breakeven brent price approximately barrel sanctioned developments stabroek block breakeven brent price approximately barrel terms growth industryleading change story industryleading duration story providing highly differentiated value proposition based brent price barrel barrel forecast increase approximately annually twice topline growth balance sheet continue strengthen recent debttoebitdax ratio approximately onetime successful execution strategy uniquely positioned company deliver significant value shareholders years growing intrinsic value growing returns financial priorities allocate capital highreturn lowcost investment opportunities maintain strong balance sheet position ensure worldclass investment opportunities guyana bakken allocated capital budget return annual shareholders dividend increases share repurchases return capital framework march increased annual dividend share looking ahead continue increasing regular dividend level attractive income oriented investors sustainable price environment generation steadily increases future years share repurchases expected represent growing proportion return capital manage price volatility hedged barrels barrels barrel options barrels barrel brent options positions shareholders protected downside fully benefiting upside strategy guyana industrys largest province discovered decade interest exxonmobil operator since discoveries block including since start fangtooth underpinning gross discovered recoverable resource estimate billion barrels equivalent multibillion barrels exploration potential remaining potential fpsos develop discovered resources block phase phase developments produced average approximately gross barrels first quarter third sanctioned development payara arrived stabroek block earlier month ahead schedule targeted start early fourth quarter gross production capacity approximately fourth sanction development yellowtail expected online gross production capacity approximately barrels government regulatory approvals expected hopefully fifth development gross production capacity approximately barrels development sixth development whiptail expected submitted government regulatory government approvals later turning bakken continue operating fourrig program enable production approximately barrels equivalent lower fully optimize infrastructure generate significant levels continue outstanding applying manufacturing principles build culture innovation improve efficiency mitigate inflationary pressures execute company strategy continue guided longstanding commitment sustainability proud industry leader earlier month announced million donation years institute harnessing plants initiative potential changer tackling global challenge climate change developing plants crops wetlands natural ability capture store potentially billions carbon atmosphere proud received rating latest environmental social governance rating assessment mscis highest rating designates company leader managing industryspecific risks relative peers received first rating earning ratings consecutive years february earned place bloomberg gender equality index fourth consecutive summary continue successfully execute strategy offers unique value proposition industry growing intrinsic value returns multiple phases lowcost developments coming online guyana robust inventory highreturn drilling locations bakken portfolio positioned become increasingly positive continue prioritize return capital shareholders dividend increases share repurchases operational update'"
      ],
      "metadata": {
        "id": "0nbdCFJIbiel"
      },
      "execution_count": null,
      "outputs": []
    },
    {
      "cell_type": "code",
      "source": [
        "transdf"
      ],
      "metadata": {
        "id": "q_eDQWGJbmoQ"
      },
      "execution_count": null,
      "outputs": []
    },
    {
      "cell_type": "code",
      "source": [
        "tESG= pd.DataFrame(ESG).T#.columns= transdf['symbol'].tolist()"
      ],
      "metadata": {
        "id": "bTV7-Jl-j5rM"
      },
      "execution_count": null,
      "outputs": []
    },
    {
      "cell_type": "code",
      "source": [
        "tESG.columns=transdf['symbol'].tolist()"
      ],
      "metadata": {
        "id": "xS91pRObk96o"
      },
      "execution_count": null,
      "outputs": []
    },
    {
      "cell_type": "code",
      "source": [
        "tESG=tESG.T.reset_index(names='symbol')"
      ],
      "metadata": {
        "id": "op0-O4zHpjvA"
      },
      "execution_count": null,
      "outputs": []
    },
    {
      "cell_type": "code",
      "source": [
        "#tESG= tESG.stack()#.reset_index()#.drop('level_0', axis=1)"
      ],
      "metadata": {
        "id": "go9xQHV6lM14"
      },
      "execution_count": null,
      "outputs": []
    },
    {
      "cell_type": "code",
      "source": [],
      "metadata": {
        "id": "4hn8WmSFqr_K"
      },
      "execution_count": null,
      "outputs": []
    },
    {
      "cell_type": "code",
      "source": [
        "tESG= pd.melt(tESG, id_vars=[\"symbol\"], \n",
        "                   value_name=\"Value\")"
      ],
      "metadata": {
        "id": "QTV1N_t6oLot"
      },
      "execution_count": null,
      "outputs": []
    },
    {
      "cell_type": "code",
      "source": [
        "tESG.columns = ['symbol', 'variable', 'ESG']"
      ],
      "metadata": {
        "id": "jr0RV1K8l2XC"
      },
      "execution_count": null,
      "outputs": []
    },
    {
      "cell_type": "code",
      "source": [
        "tESG = tESG.dropna()"
      ],
      "metadata": {
        "id": "xJSO5GiurUNv"
      },
      "execution_count": null,
      "outputs": []
    },
    {
      "cell_type": "code",
      "source": [
        "tls= tESG['ESG'].apply(lambda x: x[0]).apply(pd.Series)"
      ],
      "metadata": {
        "id": "fGlukW6joCDp"
      },
      "execution_count": null,
      "outputs": []
    },
    {
      "cell_type": "code",
      "source": [
        "tESGdf= pd.concat((tESG,tls),axis=1) "
      ],
      "metadata": {
        "id": "dHB8nKwrtsKy"
      },
      "execution_count": null,
      "outputs": []
    },
    {
      "cell_type": "code",
      "source": [
        "tESGdf.columns= ['symbol', 'number', 'ESG', 'label', 'score']"
      ],
      "metadata": {
        "id": "YdJTG_DZuWoQ"
      },
      "execution_count": null,
      "outputs": []
    },
    {
      "cell_type": "code",
      "source": [],
      "metadata": {
        "id": "taRM8lPQtUpk"
      },
      "execution_count": null,
      "outputs": []
    },
    {
      "cell_type": "code",
      "source": [],
      "metadata": {
        "id": "K2GgO1bplsoW"
      },
      "execution_count": null,
      "outputs": []
    },
    {
      "cell_type": "markdown",
      "source": [],
      "metadata": {
        "id": "I1PT9OrLk8Ob"
      }
    },
    {
      "cell_type": "code",
      "source": [
        "ftxt= pd.DataFrame(final_text).T"
      ],
      "metadata": {
        "id": "FxENr1BPkdnI"
      },
      "execution_count": null,
      "outputs": []
    },
    {
      "cell_type": "code",
      "source": [
        "ftxt.columns=transdf['symbol'].tolist()"
      ],
      "metadata": {
        "id": "25gY1MdHlexq"
      },
      "execution_count": null,
      "outputs": []
    },
    {
      "cell_type": "code",
      "source": [
        "ftxt= ftxt.T.reset_index(names='symbol')"
      ],
      "metadata": {
        "id": "juxRo8viljfV"
      },
      "execution_count": null,
      "outputs": []
    },
    {
      "cell_type": "code",
      "source": [
        "ftxt= pd.melt(ftxt, id_vars=[\"symbol\"], \n",
        "                   value_name=\"Value\")"
      ],
      "metadata": {
        "id": "FzaqQAmWlpwI"
      },
      "execution_count": null,
      "outputs": []
    },
    {
      "cell_type": "code",
      "source": [
        "ftxt.columns= ['symbol',\"number\",\"final_text\"]"
      ],
      "metadata": {
        "id": "3AF5W1dPr6Sa"
      },
      "execution_count": null,
      "outputs": []
    },
    {
      "cell_type": "code",
      "source": [
        "ftxt= ftxt.dropna()"
      ],
      "metadata": {
        "id": "thCupCIAr_YG"
      },
      "execution_count": null,
      "outputs": []
    },
    {
      "cell_type": "code",
      "source": [
        "ftxt.shape"
      ],
      "metadata": {
        "colab": {
          "base_uri": "https://localhost:8080/"
        },
        "id": "J1CC9YgDuxbm",
        "outputId": "ec51b3b2-e60d-4a7d-ceac-ec8e7c8b62c5"
      },
      "execution_count": null,
      "outputs": [
        {
          "output_type": "execute_result",
          "data": {
            "text/plain": [
              "(91532, 3)"
            ]
          },
          "metadata": {},
          "execution_count": 113
        }
      ]
    },
    {
      "cell_type": "code",
      "source": [
        "tESGdf.shape"
      ],
      "metadata": {
        "colab": {
          "base_uri": "https://localhost:8080/"
        },
        "id": "nZ1SQnGQu0Q6",
        "outputId": "3485068b-9187-455a-dadd-e8ef5b2cecff"
      },
      "execution_count": null,
      "outputs": [
        {
          "output_type": "execute_result",
          "data": {
            "text/plain": [
              "(91532, 5)"
            ]
          },
          "metadata": {},
          "execution_count": 114
        }
      ]
    },
    {
      "cell_type": "code",
      "source": [
        "transtxtESG= ftxt.merge(tESGdf, on=['symbol','number'])"
      ],
      "metadata": {
        "id": "-aQ3mbtPugWE"
      },
      "execution_count": null,
      "outputs": []
    },
    {
      "cell_type": "code",
      "source": [
        "transESGdf= transdf.merge(transtxtESG, on='symbol')"
      ],
      "metadata": {
        "id": "ags5fiCGvBiT"
      },
      "execution_count": null,
      "outputs": []
    },
    {
      "cell_type": "code",
      "source": [
        "transESGdf.to_pickle(\"transESGdf_sp500.pkl\")"
      ],
      "metadata": {
        "id": "msb95OJmvglk"
      },
      "execution_count": null,
      "outputs": []
    },
    {
      "cell_type": "code",
      "source": [
        "files.download(\"transESGdf_sp500.pkl\")"
      ],
      "metadata": {
        "colab": {
          "base_uri": "https://localhost:8080/",
          "height": 17
        },
        "id": "V0fItQBcNCcV",
        "outputId": "6efcf2dc-8b0a-4e0e-c813-c4fb3c6dd23f"
      },
      "execution_count": null,
      "outputs": [
        {
          "output_type": "display_data",
          "data": {
            "text/plain": [
              "<IPython.core.display.Javascript object>"
            ],
            "application/javascript": [
              "\n",
              "    async function download(id, filename, size) {\n",
              "      if (!google.colab.kernel.accessAllowed) {\n",
              "        return;\n",
              "      }\n",
              "      const div = document.createElement('div');\n",
              "      const label = document.createElement('label');\n",
              "      label.textContent = `Downloading \"${filename}\": `;\n",
              "      div.appendChild(label);\n",
              "      const progress = document.createElement('progress');\n",
              "      progress.max = size;\n",
              "      div.appendChild(progress);\n",
              "      document.body.appendChild(div);\n",
              "\n",
              "      const buffers = [];\n",
              "      let downloaded = 0;\n",
              "\n",
              "      const channel = await google.colab.kernel.comms.open(id);\n",
              "      // Send a message to notify the kernel that we're ready.\n",
              "      channel.send({})\n",
              "\n",
              "      for await (const message of channel.messages) {\n",
              "        // Send a message to notify the kernel that we're ready.\n",
              "        channel.send({})\n",
              "        if (message.buffers) {\n",
              "          for (const buffer of message.buffers) {\n",
              "            buffers.push(buffer);\n",
              "            downloaded += buffer.byteLength;\n",
              "            progress.value = downloaded;\n",
              "          }\n",
              "        }\n",
              "      }\n",
              "      const blob = new Blob(buffers, {type: 'application/binary'});\n",
              "      const a = document.createElement('a');\n",
              "      a.href = window.URL.createObjectURL(blob);\n",
              "      a.download = filename;\n",
              "      div.appendChild(a);\n",
              "      a.click();\n",
              "      div.remove();\n",
              "    }\n",
              "  "
            ]
          },
          "metadata": {}
        },
        {
          "output_type": "display_data",
          "data": {
            "text/plain": [
              "<IPython.core.display.Javascript object>"
            ],
            "application/javascript": [
              "download(\"download_efd6e3e6-0dd5-4751-b479-03c8e01c73e1\", \"transESGdf_sp500.pkl\", 44321373)"
            ]
          },
          "metadata": {}
        }
      ]
    },
    {
      "cell_type": "code",
      "source": [
        "transESGdf"
      ],
      "metadata": {
        "id": "IYDhmNVUzled"
      },
      "execution_count": null,
      "outputs": []
    },
    {
      "cell_type": "code",
      "source": [
        "TransESGscore= transESGdf[(transESGdf['score']>0.8) & (transESGdf['label']!='None') ].copy()"
      ],
      "metadata": {
        "id": "9cDxuK2JytSD"
      },
      "execution_count": null,
      "outputs": []
    },
    {
      "cell_type": "code",
      "source": [
        "finbert = BertForSequenceClassification.from_pretrained('yiyanghkust/finbert-tone',num_labels=3)\n",
        "tokenizer = BertTokenizer.from_pretrained('yiyanghkust/finbert-tone',truncation=True, max_length=512)"
      ],
      "metadata": {
        "id": "OoQj2RWCz7hs"
      },
      "execution_count": null,
      "outputs": []
    },
    {
      "cell_type": "code",
      "source": [
        "nlp = pipeline(\"text-classification\", model=finbert, tokenizer=tokenizer,truncation=True, max_length=512)"
      ],
      "metadata": {
        "id": "5Ir9uzlKz9RY"
      },
      "execution_count": null,
      "outputs": []
    },
    {
      "cell_type": "code",
      "source": [
        "TransESGscore[\"ESG_SCORE\"]=TransESGscore[\"final_text\"].apply(nlp)"
      ],
      "metadata": {
        "id": "vzUjpyWO0Fac"
      },
      "execution_count": null,
      "outputs": []
    },
    {
      "cell_type": "code",
      "source": [
        "tes= TransESGscore[\"ESG_SCORE\"].apply(lambda x: pd.Series(x[0]))"
      ],
      "metadata": {
        "id": "UmiHpsR61ZtF"
      },
      "execution_count": null,
      "outputs": []
    },
    {
      "cell_type": "code",
      "source": [
        "tes.columns= ['label_s','score_s']"
      ],
      "metadata": {
        "id": "75DcbDFD12ZJ"
      },
      "execution_count": null,
      "outputs": []
    },
    {
      "cell_type": "code",
      "source": [
        "TransESGfinal= pd.concat((TransESGscore,tes),axis=1)"
      ],
      "metadata": {
        "id": "vHZi7Yc519FO"
      },
      "execution_count": null,
      "outputs": []
    },
    {
      "cell_type": "code",
      "source": [
        "TransESGfinal.to_pickle(\"final_trans_500.pkl\")"
      ],
      "metadata": {
        "id": "1iDumV0X2IX1"
      },
      "execution_count": null,
      "outputs": []
    },
    {
      "cell_type": "code",
      "source": [],
      "metadata": {
        "id": "mCcsfE3RsLOD"
      },
      "execution_count": null,
      "outputs": []
    },
    {
      "cell_type": "code",
      "source": [
        "files.download(\"transESGdf_sp500.pkl\")"
      ],
      "metadata": {
        "id": "jiTyEFHT5ubI",
        "colab": {
          "base_uri": "https://localhost:8080/",
          "height": 34
        },
        "outputId": "a9fe33e9-7c27-4d69-a2db-7eb1b589e372"
      },
      "execution_count": null,
      "outputs": [
        {
          "output_type": "display_data",
          "data": {
            "text/plain": [
              "<IPython.core.display.Javascript object>"
            ],
            "application/javascript": [
              "\n",
              "    async function download(id, filename, size) {\n",
              "      if (!google.colab.kernel.accessAllowed) {\n",
              "        return;\n",
              "      }\n",
              "      const div = document.createElement('div');\n",
              "      const label = document.createElement('label');\n",
              "      label.textContent = `Downloading \"${filename}\": `;\n",
              "      div.appendChild(label);\n",
              "      const progress = document.createElement('progress');\n",
              "      progress.max = size;\n",
              "      div.appendChild(progress);\n",
              "      document.body.appendChild(div);\n",
              "\n",
              "      const buffers = [];\n",
              "      let downloaded = 0;\n",
              "\n",
              "      const channel = await google.colab.kernel.comms.open(id);\n",
              "      // Send a message to notify the kernel that we're ready.\n",
              "      channel.send({})\n",
              "\n",
              "      for await (const message of channel.messages) {\n",
              "        // Send a message to notify the kernel that we're ready.\n",
              "        channel.send({})\n",
              "        if (message.buffers) {\n",
              "          for (const buffer of message.buffers) {\n",
              "            buffers.push(buffer);\n",
              "            downloaded += buffer.byteLength;\n",
              "            progress.value = downloaded;\n",
              "          }\n",
              "        }\n",
              "      }\n",
              "      const blob = new Blob(buffers, {type: 'application/binary'});\n",
              "      const a = document.createElement('a');\n",
              "      a.href = window.URL.createObjectURL(blob);\n",
              "      a.download = filename;\n",
              "      div.appendChild(a);\n",
              "      a.click();\n",
              "      div.remove();\n",
              "    }\n",
              "  "
            ]
          },
          "metadata": {}
        },
        {
          "output_type": "display_data",
          "data": {
            "text/plain": [
              "<IPython.core.display.Javascript object>"
            ],
            "application/javascript": [
              "download(\"download_67bebd1c-8970-44b6-aad6-de2bc3db6712\", \"transESGdf.pkl\", 44303834)"
            ]
          },
          "metadata": {}
        }
      ]
    },
    {
      "cell_type": "code",
      "source": [
        "nwESG= pd.read_pickle(\"nw_ESG_ps500.pkl\")"
      ],
      "metadata": {
        "id": "Up0p_Xj52kA4"
      },
      "execution_count": null,
      "outputs": []
    },
    {
      "cell_type": "code",
      "source": [
        "nwESGdf= nwESG[(nwESG['label']!='None')&(nwESG['score']>0.8)].copy()"
      ],
      "metadata": {
        "id": "2e4OmQU72q1s"
      },
      "execution_count": null,
      "outputs": []
    },
    {
      "cell_type": "code",
      "source": [
        "nwESGdf['ESG_score']=nwESGdf['final_processed_text'].apply(nlp)"
      ],
      "metadata": {
        "id": "cc7Yq_0r3ThG"
      },
      "execution_count": null,
      "outputs": []
    },
    {
      "cell_type": "code",
      "source": [
        "nes = nwESGdf['ESG_score'].apply(lambda x: pd.Series(x[0]))"
      ],
      "metadata": {
        "id": "3oy-aSyY3hxU"
      },
      "execution_count": null,
      "outputs": []
    },
    {
      "cell_type": "code",
      "source": [
        "nes.columns= ['label_s','score_s']"
      ],
      "metadata": {
        "id": "Me_2Q08q5Sdn"
      },
      "execution_count": null,
      "outputs": []
    },
    {
      "cell_type": "code",
      "source": [
        "nwESGfinal= pd.concat((nwESGdf, nes),axis=1)"
      ],
      "metadata": {
        "id": "drMyu0o63yBE"
      },
      "execution_count": null,
      "outputs": []
    },
    {
      "cell_type": "code",
      "source": [
        "nwESGfinal.to_pickle('nwESGfinal_sp500.pkl')"
      ],
      "metadata": {
        "id": "kXRPO5_i36Cm"
      },
      "execution_count": null,
      "outputs": []
    },
    {
      "cell_type": "code",
      "source": [
        "files.download('nwESGfinal_sp500.pkl')"
      ],
      "metadata": {
        "colab": {
          "base_uri": "https://localhost:8080/",
          "height": 17
        },
        "id": "kd8twN_hsyrW",
        "outputId": "eff151d9-9a22-4827-e653-fa0760397632"
      },
      "execution_count": null,
      "outputs": [
        {
          "output_type": "display_data",
          "data": {
            "text/plain": [
              "<IPython.core.display.Javascript object>"
            ],
            "application/javascript": [
              "\n",
              "    async function download(id, filename, size) {\n",
              "      if (!google.colab.kernel.accessAllowed) {\n",
              "        return;\n",
              "      }\n",
              "      const div = document.createElement('div');\n",
              "      const label = document.createElement('label');\n",
              "      label.textContent = `Downloading \"${filename}\": `;\n",
              "      div.appendChild(label);\n",
              "      const progress = document.createElement('progress');\n",
              "      progress.max = size;\n",
              "      div.appendChild(progress);\n",
              "      document.body.appendChild(div);\n",
              "\n",
              "      const buffers = [];\n",
              "      let downloaded = 0;\n",
              "\n",
              "      const channel = await google.colab.kernel.comms.open(id);\n",
              "      // Send a message to notify the kernel that we're ready.\n",
              "      channel.send({})\n",
              "\n",
              "      for await (const message of channel.messages) {\n",
              "        // Send a message to notify the kernel that we're ready.\n",
              "        channel.send({})\n",
              "        if (message.buffers) {\n",
              "          for (const buffer of message.buffers) {\n",
              "            buffers.push(buffer);\n",
              "            downloaded += buffer.byteLength;\n",
              "            progress.value = downloaded;\n",
              "          }\n",
              "        }\n",
              "      }\n",
              "      const blob = new Blob(buffers, {type: 'application/binary'});\n",
              "      const a = document.createElement('a');\n",
              "      a.href = window.URL.createObjectURL(blob);\n",
              "      a.download = filename;\n",
              "      div.appendChild(a);\n",
              "      a.click();\n",
              "      div.remove();\n",
              "    }\n",
              "  "
            ]
          },
          "metadata": {}
        },
        {
          "output_type": "display_data",
          "data": {
            "text/plain": [
              "<IPython.core.display.Javascript object>"
            ],
            "application/javascript": [
              "download(\"download_98bbae6f-4532-4bc6-8118-82ffc55f63b9\", \"nwESGfinal_sp500.pkl\", 2298349)"
            ]
          },
          "metadata": {}
        }
      ]
    },
    {
      "cell_type": "code",
      "source": [
        "nwESGfinal.head(1)"
      ],
      "metadata": {
        "colab": {
          "base_uri": "https://localhost:8080/",
          "height": 249
        },
        "id": "rK1LNp3K5n05",
        "outputId": "3963b91e-9e40-45dc-b769-73b88e9d9e24"
      },
      "execution_count": null,
      "outputs": [
        {
          "output_type": "execute_result",
          "data": {
            "text/plain": [
              "   symbol        publishedDate  \\\n",
              "11    APA  2023-03-24 07:56:00   \n",
              "\n",
              "                                                title           site  \\\n",
              "11  Midstream Caught In Middle Of Permian Producer...  Seeking Alpha   \n",
              "\n",
              "                                                 text  \\\n",
              "11  Public and private producers are parting ways ...   \n",
              "\n",
              "                                       processed_text  \\\n",
              "11  [public, private, producers, parting, permian,...   \n",
              "\n",
              "                                 final_processed_text  \\\n",
              "11  public private producers parting permian basin...   \n",
              "\n",
              "                                                  ESG   label     score  \\\n",
              "11  [{'label': 'Social', 'score': 0.86109918355941...  Social  0.861099   \n",
              "\n",
              "                                            ESG_score  label_s   score_s  \n",
              "11  [{'label': 'Neutral', 'score': 0.9998087286949...  Neutral  0.999809  "
            ],
            "text/html": [
              "\n",
              "  <div id=\"df-7985c273-6853-4a00-bc3b-da181265ad57\">\n",
              "    <div class=\"colab-df-container\">\n",
              "      <div>\n",
              "<style scoped>\n",
              "    .dataframe tbody tr th:only-of-type {\n",
              "        vertical-align: middle;\n",
              "    }\n",
              "\n",
              "    .dataframe tbody tr th {\n",
              "        vertical-align: top;\n",
              "    }\n",
              "\n",
              "    .dataframe thead th {\n",
              "        text-align: right;\n",
              "    }\n",
              "</style>\n",
              "<table border=\"1\" class=\"dataframe\">\n",
              "  <thead>\n",
              "    <tr style=\"text-align: right;\">\n",
              "      <th></th>\n",
              "      <th>symbol</th>\n",
              "      <th>publishedDate</th>\n",
              "      <th>title</th>\n",
              "      <th>site</th>\n",
              "      <th>text</th>\n",
              "      <th>processed_text</th>\n",
              "      <th>final_processed_text</th>\n",
              "      <th>ESG</th>\n",
              "      <th>label</th>\n",
              "      <th>score</th>\n",
              "      <th>ESG_score</th>\n",
              "      <th>label_s</th>\n",
              "      <th>score_s</th>\n",
              "    </tr>\n",
              "  </thead>\n",
              "  <tbody>\n",
              "    <tr>\n",
              "      <th>11</th>\n",
              "      <td>APA</td>\n",
              "      <td>2023-03-24 07:56:00</td>\n",
              "      <td>Midstream Caught In Middle Of Permian Producer...</td>\n",
              "      <td>Seeking Alpha</td>\n",
              "      <td>Public and private producers are parting ways ...</td>\n",
              "      <td>[public, private, producers, parting, permian,...</td>\n",
              "      <td>public private producers parting permian basin...</td>\n",
              "      <td>[{'label': 'Social', 'score': 0.86109918355941...</td>\n",
              "      <td>Social</td>\n",
              "      <td>0.861099</td>\n",
              "      <td>[{'label': 'Neutral', 'score': 0.9998087286949...</td>\n",
              "      <td>Neutral</td>\n",
              "      <td>0.999809</td>\n",
              "    </tr>\n",
              "  </tbody>\n",
              "</table>\n",
              "</div>\n",
              "      <button class=\"colab-df-convert\" onclick=\"convertToInteractive('df-7985c273-6853-4a00-bc3b-da181265ad57')\"\n",
              "              title=\"Convert this dataframe to an interactive table.\"\n",
              "              style=\"display:none;\">\n",
              "        \n",
              "  <svg xmlns=\"http://www.w3.org/2000/svg\" height=\"24px\"viewBox=\"0 0 24 24\"\n",
              "       width=\"24px\">\n",
              "    <path d=\"M0 0h24v24H0V0z\" fill=\"none\"/>\n",
              "    <path d=\"M18.56 5.44l.94 2.06.94-2.06 2.06-.94-2.06-.94-.94-2.06-.94 2.06-2.06.94zm-11 1L8.5 8.5l.94-2.06 2.06-.94-2.06-.94L8.5 2.5l-.94 2.06-2.06.94zm10 10l.94 2.06.94-2.06 2.06-.94-2.06-.94-.94-2.06-.94 2.06-2.06.94z\"/><path d=\"M17.41 7.96l-1.37-1.37c-.4-.4-.92-.59-1.43-.59-.52 0-1.04.2-1.43.59L10.3 9.45l-7.72 7.72c-.78.78-.78 2.05 0 2.83L4 21.41c.39.39.9.59 1.41.59.51 0 1.02-.2 1.41-.59l7.78-7.78 2.81-2.81c.8-.78.8-2.07 0-2.86zM5.41 20L4 18.59l7.72-7.72 1.47 1.35L5.41 20z\"/>\n",
              "  </svg>\n",
              "      </button>\n",
              "      \n",
              "  <style>\n",
              "    .colab-df-container {\n",
              "      display:flex;\n",
              "      flex-wrap:wrap;\n",
              "      gap: 12px;\n",
              "    }\n",
              "\n",
              "    .colab-df-convert {\n",
              "      background-color: #E8F0FE;\n",
              "      border: none;\n",
              "      border-radius: 50%;\n",
              "      cursor: pointer;\n",
              "      display: none;\n",
              "      fill: #1967D2;\n",
              "      height: 32px;\n",
              "      padding: 0 0 0 0;\n",
              "      width: 32px;\n",
              "    }\n",
              "\n",
              "    .colab-df-convert:hover {\n",
              "      background-color: #E2EBFA;\n",
              "      box-shadow: 0px 1px 2px rgba(60, 64, 67, 0.3), 0px 1px 3px 1px rgba(60, 64, 67, 0.15);\n",
              "      fill: #174EA6;\n",
              "    }\n",
              "\n",
              "    [theme=dark] .colab-df-convert {\n",
              "      background-color: #3B4455;\n",
              "      fill: #D2E3FC;\n",
              "    }\n",
              "\n",
              "    [theme=dark] .colab-df-convert:hover {\n",
              "      background-color: #434B5C;\n",
              "      box-shadow: 0px 1px 3px 1px rgba(0, 0, 0, 0.15);\n",
              "      filter: drop-shadow(0px 1px 2px rgba(0, 0, 0, 0.3));\n",
              "      fill: #FFFFFF;\n",
              "    }\n",
              "  </style>\n",
              "\n",
              "      <script>\n",
              "        const buttonEl =\n",
              "          document.querySelector('#df-7985c273-6853-4a00-bc3b-da181265ad57 button.colab-df-convert');\n",
              "        buttonEl.style.display =\n",
              "          google.colab.kernel.accessAllowed ? 'block' : 'none';\n",
              "\n",
              "        async function convertToInteractive(key) {\n",
              "          const element = document.querySelector('#df-7985c273-6853-4a00-bc3b-da181265ad57');\n",
              "          const dataTable =\n",
              "            await google.colab.kernel.invokeFunction('convertToInteractive',\n",
              "                                                     [key], {});\n",
              "          if (!dataTable) return;\n",
              "\n",
              "          const docLinkHtml = 'Like what you see? Visit the ' +\n",
              "            '<a target=\"_blank\" href=https://colab.research.google.com/notebooks/data_table.ipynb>data table notebook</a>'\n",
              "            + ' to learn more about interactive tables.';\n",
              "          element.innerHTML = '';\n",
              "          dataTable['output_type'] = 'display_data';\n",
              "          await google.colab.output.renderOutput(dataTable, element);\n",
              "          const docLink = document.createElement('div');\n",
              "          docLink.innerHTML = docLinkHtml;\n",
              "          element.appendChild(docLink);\n",
              "        }\n",
              "      </script>\n",
              "    </div>\n",
              "  </div>\n",
              "  "
            ]
          },
          "metadata": {},
          "execution_count": 427
        }
      ]
    },
    {
      "cell_type": "code",
      "source": [
        "pressESG= pd.read_pickle(\"pressESG_sp500.pkl\")"
      ],
      "metadata": {
        "id": "B4xoGkJr4Dkt"
      },
      "execution_count": null,
      "outputs": []
    },
    {
      "cell_type": "code",
      "source": [
        "pressESG.head(1)"
      ],
      "metadata": {
        "colab": {
          "base_uri": "https://localhost:8080/",
          "height": 194
        },
        "id": "72m72-YP4Ulo",
        "outputId": "8d8c0560-7d35-429e-aea2-7d3eea28d536"
      },
      "execution_count": null,
      "outputs": [
        {
          "output_type": "execute_result",
          "data": {
            "text/plain": [
              "  symbol                 date  \\\n",
              "0    APA  2023-05-03 16:15:00   \n",
              "\n",
              "                                               title  \\\n",
              "0  APA CORPORATION ANNOUNCES FIRST-QUARTER 2023 F...   \n",
              "\n",
              "                                                text  \\\n",
              "0  HOUSTON, MAY 03, 2023 (GLOBE NEWSWIRE) -- APA ...   \n",
              "\n",
              "                                      processed_text  \\\n",
              "0  [houston, globe, newswire, corporation, nasdaq...   \n",
              "\n",
              "                                final_processed_text  \\\n",
              "0  houston globe newswire corporation nasdaq toda...   \n",
              "\n",
              "                                                ESG label     score  \n",
              "0  [{'label': 'None', 'score': 0.9842051863670349}]  None  0.984205  "
            ],
            "text/html": [
              "\n",
              "  <div id=\"df-e7c95771-8d63-4c08-b6d1-3b64395f6927\">\n",
              "    <div class=\"colab-df-container\">\n",
              "      <div>\n",
              "<style scoped>\n",
              "    .dataframe tbody tr th:only-of-type {\n",
              "        vertical-align: middle;\n",
              "    }\n",
              "\n",
              "    .dataframe tbody tr th {\n",
              "        vertical-align: top;\n",
              "    }\n",
              "\n",
              "    .dataframe thead th {\n",
              "        text-align: right;\n",
              "    }\n",
              "</style>\n",
              "<table border=\"1\" class=\"dataframe\">\n",
              "  <thead>\n",
              "    <tr style=\"text-align: right;\">\n",
              "      <th></th>\n",
              "      <th>symbol</th>\n",
              "      <th>date</th>\n",
              "      <th>title</th>\n",
              "      <th>text</th>\n",
              "      <th>processed_text</th>\n",
              "      <th>final_processed_text</th>\n",
              "      <th>ESG</th>\n",
              "      <th>label</th>\n",
              "      <th>score</th>\n",
              "    </tr>\n",
              "  </thead>\n",
              "  <tbody>\n",
              "    <tr>\n",
              "      <th>0</th>\n",
              "      <td>APA</td>\n",
              "      <td>2023-05-03 16:15:00</td>\n",
              "      <td>APA CORPORATION ANNOUNCES FIRST-QUARTER 2023 F...</td>\n",
              "      <td>HOUSTON, MAY 03, 2023 (GLOBE NEWSWIRE) -- APA ...</td>\n",
              "      <td>[houston, globe, newswire, corporation, nasdaq...</td>\n",
              "      <td>houston globe newswire corporation nasdaq toda...</td>\n",
              "      <td>[{'label': 'None', 'score': 0.9842051863670349}]</td>\n",
              "      <td>None</td>\n",
              "      <td>0.984205</td>\n",
              "    </tr>\n",
              "  </tbody>\n",
              "</table>\n",
              "</div>\n",
              "      <button class=\"colab-df-convert\" onclick=\"convertToInteractive('df-e7c95771-8d63-4c08-b6d1-3b64395f6927')\"\n",
              "              title=\"Convert this dataframe to an interactive table.\"\n",
              "              style=\"display:none;\">\n",
              "        \n",
              "  <svg xmlns=\"http://www.w3.org/2000/svg\" height=\"24px\"viewBox=\"0 0 24 24\"\n",
              "       width=\"24px\">\n",
              "    <path d=\"M0 0h24v24H0V0z\" fill=\"none\"/>\n",
              "    <path d=\"M18.56 5.44l.94 2.06.94-2.06 2.06-.94-2.06-.94-.94-2.06-.94 2.06-2.06.94zm-11 1L8.5 8.5l.94-2.06 2.06-.94-2.06-.94L8.5 2.5l-.94 2.06-2.06.94zm10 10l.94 2.06.94-2.06 2.06-.94-2.06-.94-.94-2.06-.94 2.06-2.06.94z\"/><path d=\"M17.41 7.96l-1.37-1.37c-.4-.4-.92-.59-1.43-.59-.52 0-1.04.2-1.43.59L10.3 9.45l-7.72 7.72c-.78.78-.78 2.05 0 2.83L4 21.41c.39.39.9.59 1.41.59.51 0 1.02-.2 1.41-.59l7.78-7.78 2.81-2.81c.8-.78.8-2.07 0-2.86zM5.41 20L4 18.59l7.72-7.72 1.47 1.35L5.41 20z\"/>\n",
              "  </svg>\n",
              "      </button>\n",
              "      \n",
              "  <style>\n",
              "    .colab-df-container {\n",
              "      display:flex;\n",
              "      flex-wrap:wrap;\n",
              "      gap: 12px;\n",
              "    }\n",
              "\n",
              "    .colab-df-convert {\n",
              "      background-color: #E8F0FE;\n",
              "      border: none;\n",
              "      border-radius: 50%;\n",
              "      cursor: pointer;\n",
              "      display: none;\n",
              "      fill: #1967D2;\n",
              "      height: 32px;\n",
              "      padding: 0 0 0 0;\n",
              "      width: 32px;\n",
              "    }\n",
              "\n",
              "    .colab-df-convert:hover {\n",
              "      background-color: #E2EBFA;\n",
              "      box-shadow: 0px 1px 2px rgba(60, 64, 67, 0.3), 0px 1px 3px 1px rgba(60, 64, 67, 0.15);\n",
              "      fill: #174EA6;\n",
              "    }\n",
              "\n",
              "    [theme=dark] .colab-df-convert {\n",
              "      background-color: #3B4455;\n",
              "      fill: #D2E3FC;\n",
              "    }\n",
              "\n",
              "    [theme=dark] .colab-df-convert:hover {\n",
              "      background-color: #434B5C;\n",
              "      box-shadow: 0px 1px 3px 1px rgba(0, 0, 0, 0.15);\n",
              "      filter: drop-shadow(0px 1px 2px rgba(0, 0, 0, 0.3));\n",
              "      fill: #FFFFFF;\n",
              "    }\n",
              "  </style>\n",
              "\n",
              "      <script>\n",
              "        const buttonEl =\n",
              "          document.querySelector('#df-e7c95771-8d63-4c08-b6d1-3b64395f6927 button.colab-df-convert');\n",
              "        buttonEl.style.display =\n",
              "          google.colab.kernel.accessAllowed ? 'block' : 'none';\n",
              "\n",
              "        async function convertToInteractive(key) {\n",
              "          const element = document.querySelector('#df-e7c95771-8d63-4c08-b6d1-3b64395f6927');\n",
              "          const dataTable =\n",
              "            await google.colab.kernel.invokeFunction('convertToInteractive',\n",
              "                                                     [key], {});\n",
              "          if (!dataTable) return;\n",
              "\n",
              "          const docLinkHtml = 'Like what you see? Visit the ' +\n",
              "            '<a target=\"_blank\" href=https://colab.research.google.com/notebooks/data_table.ipynb>data table notebook</a>'\n",
              "            + ' to learn more about interactive tables.';\n",
              "          element.innerHTML = '';\n",
              "          dataTable['output_type'] = 'display_data';\n",
              "          await google.colab.output.renderOutput(dataTable, element);\n",
              "          const docLink = document.createElement('div');\n",
              "          docLink.innerHTML = docLinkHtml;\n",
              "          element.appendChild(docLink);\n",
              "        }\n",
              "      </script>\n",
              "    </div>\n",
              "  </div>\n",
              "  "
            ]
          },
          "metadata": {},
          "execution_count": 431
        }
      ]
    },
    {
      "cell_type": "code",
      "source": [
        "pressESGdf = pressESG[(pressESG['label']!='None')&(pressESG['score']>0.8)].copy()"
      ],
      "metadata": {
        "id": "ZUUXx4QU4Nu5"
      },
      "execution_count": null,
      "outputs": []
    },
    {
      "cell_type": "code",
      "source": [
        "pressESGdf['ESG_score']=pressESGdf['final_processed_text'].apply(nlp)"
      ],
      "metadata": {
        "id": "Fa6pUpSP4bh0"
      },
      "execution_count": null,
      "outputs": []
    },
    {
      "cell_type": "code",
      "source": [],
      "metadata": {
        "id": "P9d60KlF48q4"
      },
      "execution_count": null,
      "outputs": []
    },
    {
      "cell_type": "code",
      "source": [
        "pes = pressESGdf['ESG_score'].apply(lambda x: pd.Series(x[0]))"
      ],
      "metadata": {
        "id": "9Xy84cWY4sc6"
      },
      "execution_count": null,
      "outputs": []
    },
    {
      "cell_type": "code",
      "source": [
        "pes.columns= ['label_s','score_s']"
      ],
      "metadata": {
        "id": "ZpiqiQNK5WUh"
      },
      "execution_count": null,
      "outputs": []
    },
    {
      "cell_type": "code",
      "source": [
        "pressESGfinal= pd.concat((pressESGdf, pes),axis=1)"
      ],
      "metadata": {
        "id": "8siaTPro4sut"
      },
      "execution_count": null,
      "outputs": []
    },
    {
      "cell_type": "code",
      "source": [
        "pressESGfinal.head(1)"
      ],
      "metadata": {
        "colab": {
          "base_uri": "https://localhost:8080/",
          "height": 231
        },
        "id": "do4C_OAS46Co",
        "outputId": "46380586-64b9-4168-9e54-e0b41a723b36"
      },
      "execution_count": null,
      "outputs": [
        {
          "output_type": "execute_result",
          "data": {
            "text/plain": [
              "  symbol                 date                                     title  \\\n",
              "1    APA  2023-03-01 17:05:00  APA CORPORATION ANNOUNCES 2023 ESG GOALS   \n",
              "\n",
              "                                                text  \\\n",
              "1  HOUSTON, MARCH 01, 2023 (GLOBE NEWSWIRE) -- AP...   \n",
              "\n",
              "                                      processed_text  \\\n",
              "1  [houston, march, globe, newswire, corporation,...   \n",
              "\n",
              "                                final_processed_text  \\\n",
              "1  houston march globe newswire corporation nasda...   \n",
              "\n",
              "                                                 ESG          label     score  \\\n",
              "1  [{'label': 'Environmental', 'score': 0.9437037...  Environmental  0.943704   \n",
              "\n",
              "                                           ESG_score   label_s   score_s  \n",
              "1  [{'label': 'Positive', 'score': 0.703463196754...  Positive  0.703463  "
            ],
            "text/html": [
              "\n",
              "  <div id=\"df-a202703f-fb22-4a53-8bbd-563ab993b596\">\n",
              "    <div class=\"colab-df-container\">\n",
              "      <div>\n",
              "<style scoped>\n",
              "    .dataframe tbody tr th:only-of-type {\n",
              "        vertical-align: middle;\n",
              "    }\n",
              "\n",
              "    .dataframe tbody tr th {\n",
              "        vertical-align: top;\n",
              "    }\n",
              "\n",
              "    .dataframe thead th {\n",
              "        text-align: right;\n",
              "    }\n",
              "</style>\n",
              "<table border=\"1\" class=\"dataframe\">\n",
              "  <thead>\n",
              "    <tr style=\"text-align: right;\">\n",
              "      <th></th>\n",
              "      <th>symbol</th>\n",
              "      <th>date</th>\n",
              "      <th>title</th>\n",
              "      <th>text</th>\n",
              "      <th>processed_text</th>\n",
              "      <th>final_processed_text</th>\n",
              "      <th>ESG</th>\n",
              "      <th>label</th>\n",
              "      <th>score</th>\n",
              "      <th>ESG_score</th>\n",
              "      <th>label_s</th>\n",
              "      <th>score_s</th>\n",
              "    </tr>\n",
              "  </thead>\n",
              "  <tbody>\n",
              "    <tr>\n",
              "      <th>1</th>\n",
              "      <td>APA</td>\n",
              "      <td>2023-03-01 17:05:00</td>\n",
              "      <td>APA CORPORATION ANNOUNCES 2023 ESG GOALS</td>\n",
              "      <td>HOUSTON, MARCH 01, 2023 (GLOBE NEWSWIRE) -- AP...</td>\n",
              "      <td>[houston, march, globe, newswire, corporation,...</td>\n",
              "      <td>houston march globe newswire corporation nasda...</td>\n",
              "      <td>[{'label': 'Environmental', 'score': 0.9437037...</td>\n",
              "      <td>Environmental</td>\n",
              "      <td>0.943704</td>\n",
              "      <td>[{'label': 'Positive', 'score': 0.703463196754...</td>\n",
              "      <td>Positive</td>\n",
              "      <td>0.703463</td>\n",
              "    </tr>\n",
              "  </tbody>\n",
              "</table>\n",
              "</div>\n",
              "      <button class=\"colab-df-convert\" onclick=\"convertToInteractive('df-a202703f-fb22-4a53-8bbd-563ab993b596')\"\n",
              "              title=\"Convert this dataframe to an interactive table.\"\n",
              "              style=\"display:none;\">\n",
              "        \n",
              "  <svg xmlns=\"http://www.w3.org/2000/svg\" height=\"24px\"viewBox=\"0 0 24 24\"\n",
              "       width=\"24px\">\n",
              "    <path d=\"M0 0h24v24H0V0z\" fill=\"none\"/>\n",
              "    <path d=\"M18.56 5.44l.94 2.06.94-2.06 2.06-.94-2.06-.94-.94-2.06-.94 2.06-2.06.94zm-11 1L8.5 8.5l.94-2.06 2.06-.94-2.06-.94L8.5 2.5l-.94 2.06-2.06.94zm10 10l.94 2.06.94-2.06 2.06-.94-2.06-.94-.94-2.06-.94 2.06-2.06.94z\"/><path d=\"M17.41 7.96l-1.37-1.37c-.4-.4-.92-.59-1.43-.59-.52 0-1.04.2-1.43.59L10.3 9.45l-7.72 7.72c-.78.78-.78 2.05 0 2.83L4 21.41c.39.39.9.59 1.41.59.51 0 1.02-.2 1.41-.59l7.78-7.78 2.81-2.81c.8-.78.8-2.07 0-2.86zM5.41 20L4 18.59l7.72-7.72 1.47 1.35L5.41 20z\"/>\n",
              "  </svg>\n",
              "      </button>\n",
              "      \n",
              "  <style>\n",
              "    .colab-df-container {\n",
              "      display:flex;\n",
              "      flex-wrap:wrap;\n",
              "      gap: 12px;\n",
              "    }\n",
              "\n",
              "    .colab-df-convert {\n",
              "      background-color: #E8F0FE;\n",
              "      border: none;\n",
              "      border-radius: 50%;\n",
              "      cursor: pointer;\n",
              "      display: none;\n",
              "      fill: #1967D2;\n",
              "      height: 32px;\n",
              "      padding: 0 0 0 0;\n",
              "      width: 32px;\n",
              "    }\n",
              "\n",
              "    .colab-df-convert:hover {\n",
              "      background-color: #E2EBFA;\n",
              "      box-shadow: 0px 1px 2px rgba(60, 64, 67, 0.3), 0px 1px 3px 1px rgba(60, 64, 67, 0.15);\n",
              "      fill: #174EA6;\n",
              "    }\n",
              "\n",
              "    [theme=dark] .colab-df-convert {\n",
              "      background-color: #3B4455;\n",
              "      fill: #D2E3FC;\n",
              "    }\n",
              "\n",
              "    [theme=dark] .colab-df-convert:hover {\n",
              "      background-color: #434B5C;\n",
              "      box-shadow: 0px 1px 3px 1px rgba(0, 0, 0, 0.15);\n",
              "      filter: drop-shadow(0px 1px 2px rgba(0, 0, 0, 0.3));\n",
              "      fill: #FFFFFF;\n",
              "    }\n",
              "  </style>\n",
              "\n",
              "      <script>\n",
              "        const buttonEl =\n",
              "          document.querySelector('#df-a202703f-fb22-4a53-8bbd-563ab993b596 button.colab-df-convert');\n",
              "        buttonEl.style.display =\n",
              "          google.colab.kernel.accessAllowed ? 'block' : 'none';\n",
              "\n",
              "        async function convertToInteractive(key) {\n",
              "          const element = document.querySelector('#df-a202703f-fb22-4a53-8bbd-563ab993b596');\n",
              "          const dataTable =\n",
              "            await google.colab.kernel.invokeFunction('convertToInteractive',\n",
              "                                                     [key], {});\n",
              "          if (!dataTable) return;\n",
              "\n",
              "          const docLinkHtml = 'Like what you see? Visit the ' +\n",
              "            '<a target=\"_blank\" href=https://colab.research.google.com/notebooks/data_table.ipynb>data table notebook</a>'\n",
              "            + ' to learn more about interactive tables.';\n",
              "          element.innerHTML = '';\n",
              "          dataTable['output_type'] = 'display_data';\n",
              "          await google.colab.output.renderOutput(dataTable, element);\n",
              "          const docLink = document.createElement('div');\n",
              "          docLink.innerHTML = docLinkHtml;\n",
              "          element.appendChild(docLink);\n",
              "        }\n",
              "      </script>\n",
              "    </div>\n",
              "  </div>\n",
              "  "
            ]
          },
          "metadata": {},
          "execution_count": 451
        }
      ]
    },
    {
      "cell_type": "code",
      "source": [
        "pressESGfinal.to_pickle('pressESGfinal_sp500.pkl')"
      ],
      "metadata": {
        "id": "xH0p4KC76DbF"
      },
      "execution_count": null,
      "outputs": []
    },
    {
      "cell_type": "code",
      "source": [
        "files.download('pressESGfinal_sp500.pkl')"
      ],
      "metadata": {
        "colab": {
          "base_uri": "https://localhost:8080/",
          "height": 17
        },
        "id": "B8eD-lPztAK_",
        "outputId": "0b42c40a-dafd-4bc9-f2d3-70afad6330d0"
      },
      "execution_count": null,
      "outputs": [
        {
          "output_type": "display_data",
          "data": {
            "text/plain": [
              "<IPython.core.display.Javascript object>"
            ],
            "application/javascript": [
              "\n",
              "    async function download(id, filename, size) {\n",
              "      if (!google.colab.kernel.accessAllowed) {\n",
              "        return;\n",
              "      }\n",
              "      const div = document.createElement('div');\n",
              "      const label = document.createElement('label');\n",
              "      label.textContent = `Downloading \"${filename}\": `;\n",
              "      div.appendChild(label);\n",
              "      const progress = document.createElement('progress');\n",
              "      progress.max = size;\n",
              "      div.appendChild(progress);\n",
              "      document.body.appendChild(div);\n",
              "\n",
              "      const buffers = [];\n",
              "      let downloaded = 0;\n",
              "\n",
              "      const channel = await google.colab.kernel.comms.open(id);\n",
              "      // Send a message to notify the kernel that we're ready.\n",
              "      channel.send({})\n",
              "\n",
              "      for await (const message of channel.messages) {\n",
              "        // Send a message to notify the kernel that we're ready.\n",
              "        channel.send({})\n",
              "        if (message.buffers) {\n",
              "          for (const buffer of message.buffers) {\n",
              "            buffers.push(buffer);\n",
              "            downloaded += buffer.byteLength;\n",
              "            progress.value = downloaded;\n",
              "          }\n",
              "        }\n",
              "      }\n",
              "      const blob = new Blob(buffers, {type: 'application/binary'});\n",
              "      const a = document.createElement('a');\n",
              "      a.href = window.URL.createObjectURL(blob);\n",
              "      a.download = filename;\n",
              "      div.appendChild(a);\n",
              "      a.click();\n",
              "      div.remove();\n",
              "    }\n",
              "  "
            ]
          },
          "metadata": {}
        },
        {
          "output_type": "display_data",
          "data": {
            "text/plain": [
              "<IPython.core.display.Javascript object>"
            ],
            "application/javascript": [
              "download(\"download_eabd681f-d343-4b10-b311-743466e214ae\", \"pressESGfinal_sp500.pkl\", 3151725)"
            ]
          },
          "metadata": {}
        }
      ]
    },
    {
      "cell_type": "code",
      "source": [
        "TransESGfinal.head(1)"
      ],
      "metadata": {
        "colab": {
          "base_uri": "https://localhost:8080/",
          "height": 231
        },
        "id": "VtnOeYWI6gQh",
        "outputId": "d58d185b-9f85-43b1-f7d8-38f4cc3e452b"
      },
      "execution_count": null,
      "outputs": [
        {
          "output_type": "execute_result",
          "data": {
            "text/plain": [
              "   symbol  quarter  year                 date  \\\n",
              "14    APA        1  2023  2023-05-04 15:41:06   \n",
              "\n",
              "                                              content  \\\n",
              "14  Operator: Good day, and thank you for standing...   \n",
              "\n",
              "                                               textsp  \\\n",
              "14  [Operator: Good day, and thank you for standin...   \n",
              "\n",
              "                                           text_clean number  \\\n",
              "14  [operator, thank, standing, welcome, conferenc...     14   \n",
              "\n",
              "                                           final_text  \\\n",
              "14  [christmann egypt couple minutes country almos...   \n",
              "\n",
              "                                                  ESG   label     score  \\\n",
              "14  [{'label': 'Social', 'score': 0.94956123828887...  Social  0.949561   \n",
              "\n",
              "                                            ESG_SCORE   label_s   score_s  \n",
              "14  [{'label': 'Positive', 'score': 0.999994874000...  Positive  0.999995  "
            ],
            "text/html": [
              "\n",
              "  <div id=\"df-46de660a-7986-4576-b4e3-404a93acf5e3\">\n",
              "    <div class=\"colab-df-container\">\n",
              "      <div>\n",
              "<style scoped>\n",
              "    .dataframe tbody tr th:only-of-type {\n",
              "        vertical-align: middle;\n",
              "    }\n",
              "\n",
              "    .dataframe tbody tr th {\n",
              "        vertical-align: top;\n",
              "    }\n",
              "\n",
              "    .dataframe thead th {\n",
              "        text-align: right;\n",
              "    }\n",
              "</style>\n",
              "<table border=\"1\" class=\"dataframe\">\n",
              "  <thead>\n",
              "    <tr style=\"text-align: right;\">\n",
              "      <th></th>\n",
              "      <th>symbol</th>\n",
              "      <th>quarter</th>\n",
              "      <th>year</th>\n",
              "      <th>date</th>\n",
              "      <th>content</th>\n",
              "      <th>textsp</th>\n",
              "      <th>text_clean</th>\n",
              "      <th>number</th>\n",
              "      <th>final_text</th>\n",
              "      <th>ESG</th>\n",
              "      <th>label</th>\n",
              "      <th>score</th>\n",
              "      <th>ESG_SCORE</th>\n",
              "      <th>label_s</th>\n",
              "      <th>score_s</th>\n",
              "    </tr>\n",
              "  </thead>\n",
              "  <tbody>\n",
              "    <tr>\n",
              "      <th>14</th>\n",
              "      <td>APA</td>\n",
              "      <td>1</td>\n",
              "      <td>2023</td>\n",
              "      <td>2023-05-04 15:41:06</td>\n",
              "      <td>Operator: Good day, and thank you for standing...</td>\n",
              "      <td>[Operator: Good day, and thank you for standin...</td>\n",
              "      <td>[operator, thank, standing, welcome, conferenc...</td>\n",
              "      <td>14</td>\n",
              "      <td>[christmann egypt couple minutes country almos...</td>\n",
              "      <td>[{'label': 'Social', 'score': 0.94956123828887...</td>\n",
              "      <td>Social</td>\n",
              "      <td>0.949561</td>\n",
              "      <td>[{'label': 'Positive', 'score': 0.999994874000...</td>\n",
              "      <td>Positive</td>\n",
              "      <td>0.999995</td>\n",
              "    </tr>\n",
              "  </tbody>\n",
              "</table>\n",
              "</div>\n",
              "      <button class=\"colab-df-convert\" onclick=\"convertToInteractive('df-46de660a-7986-4576-b4e3-404a93acf5e3')\"\n",
              "              title=\"Convert this dataframe to an interactive table.\"\n",
              "              style=\"display:none;\">\n",
              "        \n",
              "  <svg xmlns=\"http://www.w3.org/2000/svg\" height=\"24px\"viewBox=\"0 0 24 24\"\n",
              "       width=\"24px\">\n",
              "    <path d=\"M0 0h24v24H0V0z\" fill=\"none\"/>\n",
              "    <path d=\"M18.56 5.44l.94 2.06.94-2.06 2.06-.94-2.06-.94-.94-2.06-.94 2.06-2.06.94zm-11 1L8.5 8.5l.94-2.06 2.06-.94-2.06-.94L8.5 2.5l-.94 2.06-2.06.94zm10 10l.94 2.06.94-2.06 2.06-.94-2.06-.94-.94-2.06-.94 2.06-2.06.94z\"/><path d=\"M17.41 7.96l-1.37-1.37c-.4-.4-.92-.59-1.43-.59-.52 0-1.04.2-1.43.59L10.3 9.45l-7.72 7.72c-.78.78-.78 2.05 0 2.83L4 21.41c.39.39.9.59 1.41.59.51 0 1.02-.2 1.41-.59l7.78-7.78 2.81-2.81c.8-.78.8-2.07 0-2.86zM5.41 20L4 18.59l7.72-7.72 1.47 1.35L5.41 20z\"/>\n",
              "  </svg>\n",
              "      </button>\n",
              "      \n",
              "  <style>\n",
              "    .colab-df-container {\n",
              "      display:flex;\n",
              "      flex-wrap:wrap;\n",
              "      gap: 12px;\n",
              "    }\n",
              "\n",
              "    .colab-df-convert {\n",
              "      background-color: #E8F0FE;\n",
              "      border: none;\n",
              "      border-radius: 50%;\n",
              "      cursor: pointer;\n",
              "      display: none;\n",
              "      fill: #1967D2;\n",
              "      height: 32px;\n",
              "      padding: 0 0 0 0;\n",
              "      width: 32px;\n",
              "    }\n",
              "\n",
              "    .colab-df-convert:hover {\n",
              "      background-color: #E2EBFA;\n",
              "      box-shadow: 0px 1px 2px rgba(60, 64, 67, 0.3), 0px 1px 3px 1px rgba(60, 64, 67, 0.15);\n",
              "      fill: #174EA6;\n",
              "    }\n",
              "\n",
              "    [theme=dark] .colab-df-convert {\n",
              "      background-color: #3B4455;\n",
              "      fill: #D2E3FC;\n",
              "    }\n",
              "\n",
              "    [theme=dark] .colab-df-convert:hover {\n",
              "      background-color: #434B5C;\n",
              "      box-shadow: 0px 1px 3px 1px rgba(0, 0, 0, 0.15);\n",
              "      filter: drop-shadow(0px 1px 2px rgba(0, 0, 0, 0.3));\n",
              "      fill: #FFFFFF;\n",
              "    }\n",
              "  </style>\n",
              "\n",
              "      <script>\n",
              "        const buttonEl =\n",
              "          document.querySelector('#df-46de660a-7986-4576-b4e3-404a93acf5e3 button.colab-df-convert');\n",
              "        buttonEl.style.display =\n",
              "          google.colab.kernel.accessAllowed ? 'block' : 'none';\n",
              "\n",
              "        async function convertToInteractive(key) {\n",
              "          const element = document.querySelector('#df-46de660a-7986-4576-b4e3-404a93acf5e3');\n",
              "          const dataTable =\n",
              "            await google.colab.kernel.invokeFunction('convertToInteractive',\n",
              "                                                     [key], {});\n",
              "          if (!dataTable) return;\n",
              "\n",
              "          const docLinkHtml = 'Like what you see? Visit the ' +\n",
              "            '<a target=\"_blank\" href=https://colab.research.google.com/notebooks/data_table.ipynb>data table notebook</a>'\n",
              "            + ' to learn more about interactive tables.';\n",
              "          element.innerHTML = '';\n",
              "          dataTable['output_type'] = 'display_data';\n",
              "          await google.colab.output.renderOutput(dataTable, element);\n",
              "          const docLink = document.createElement('div');\n",
              "          docLink.innerHTML = docLinkHtml;\n",
              "          element.appendChild(docLink);\n",
              "        }\n",
              "      </script>\n",
              "    </div>\n",
              "  </div>\n",
              "  "
            ]
          },
          "metadata": {},
          "execution_count": 441
        }
      ]
    },
    {
      "cell_type": "code",
      "source": [
        "TransESGfinal_score= TransESGfinal.groupby(['symbol','label','label_s']).agg({\"label\":'count',\"label_s\":'count','score_s': 'mean'})"
      ],
      "metadata": {
        "id": "pV0zifft67jg"
      },
      "execution_count": null,
      "outputs": []
    },
    {
      "cell_type": "code",
      "source": [
        "TransESGfinal_score.columns=  ['label_count','senitiment_count', 'score_s']"
      ],
      "metadata": {
        "id": "Ca77FnHFDLB3"
      },
      "execution_count": null,
      "outputs": []
    },
    {
      "cell_type": "code",
      "source": [
        "pressESGfinal_score= pressESGfinal.groupby(['symbol','label','label_s']).agg({\"label\":'count',\"label_s\":'count','score_s': 'mean'})"
      ],
      "metadata": {
        "id": "W46HC1978H3M"
      },
      "execution_count": null,
      "outputs": []
    },
    {
      "cell_type": "code",
      "source": [
        "pressESGfinal_score.columns= ['label_count','senitiment_count', 'score_s']"
      ],
      "metadata": {
        "id": "cKrkIOxwDZTw"
      },
      "execution_count": null,
      "outputs": []
    },
    {
      "cell_type": "code",
      "source": [
        "pressESGfinal_score= pressESGfinal.groupby(['symbol','label','label_s']).agg({\"label\":'count',\"label_s\":'count','score_s': 'mean'})"
      ],
      "metadata": {
        "id": "Sros3iKU8SYH"
      },
      "execution_count": null,
      "outputs": []
    },
    {
      "cell_type": "code",
      "source": [
        "pressESGfinal_score.columns = ['label_count','senitiment_count', 'score_s']"
      ],
      "metadata": {
        "id": "3PiLJl9S8gqF"
      },
      "execution_count": null,
      "outputs": []
    },
    {
      "cell_type": "code",
      "source": [
        "nwESGfinal_score = nwESGfinal.groupby(['symbol','label','label_s']).agg({\"label\":'count',\"label_s\":'count','score_s': 'mean'})"
      ],
      "metadata": {
        "id": "bzMnkBKuChcl"
      },
      "execution_count": null,
      "outputs": []
    },
    {
      "cell_type": "code",
      "source": [
        "nwESGfinal_score.columns= ['label_count','senitiment_count', 'score_s']"
      ],
      "metadata": {
        "id": "VG14Bv_6EU2C"
      },
      "execution_count": null,
      "outputs": []
    },
    {
      "cell_type": "code",
      "source": [
        "pressESGfinal_score.loc[['COP','XOM']]"
      ],
      "metadata": {
        "colab": {
          "base_uri": "https://localhost:8080/",
          "height": 295
        },
        "id": "oB2RKG86FBoO",
        "outputId": "a403e7d9-d8ea-4d84-932f-85ba1cb42f70"
      },
      "execution_count": null,
      "outputs": [
        {
          "output_type": "execute_result",
          "data": {
            "text/plain": [
              "                               label_count  senitiment_count   score_s\n",
              "symbol label         label_s                                          \n",
              "COP    Environmental Positive            1                 1  0.999067\n",
              "       Social        Neutral             3                 3  0.863043\n",
              "XOM    Environmental Neutral            19                19  0.995695\n",
              "                     Positive            5                 5  0.988097\n",
              "       Governance    Neutral             3                 3  0.999911\n",
              "                     Positive            1                 1  0.999260\n",
              "       Social        Negative            1                 1  0.742412\n",
              "                     Neutral            12                12  0.982514\n",
              "                     Positive            3                 3  0.939571"
            ],
            "text/html": [
              "\n",
              "  <div id=\"df-eace90a4-5a9d-4b2e-8f9e-1bca3110a8b7\">\n",
              "    <div class=\"colab-df-container\">\n",
              "      <div>\n",
              "<style scoped>\n",
              "    .dataframe tbody tr th:only-of-type {\n",
              "        vertical-align: middle;\n",
              "    }\n",
              "\n",
              "    .dataframe tbody tr th {\n",
              "        vertical-align: top;\n",
              "    }\n",
              "\n",
              "    .dataframe thead th {\n",
              "        text-align: right;\n",
              "    }\n",
              "</style>\n",
              "<table border=\"1\" class=\"dataframe\">\n",
              "  <thead>\n",
              "    <tr style=\"text-align: right;\">\n",
              "      <th></th>\n",
              "      <th></th>\n",
              "      <th></th>\n",
              "      <th>label_count</th>\n",
              "      <th>senitiment_count</th>\n",
              "      <th>score_s</th>\n",
              "    </tr>\n",
              "    <tr>\n",
              "      <th>symbol</th>\n",
              "      <th>label</th>\n",
              "      <th>label_s</th>\n",
              "      <th></th>\n",
              "      <th></th>\n",
              "      <th></th>\n",
              "    </tr>\n",
              "  </thead>\n",
              "  <tbody>\n",
              "    <tr>\n",
              "      <th rowspan=\"2\" valign=\"top\">COP</th>\n",
              "      <th>Environmental</th>\n",
              "      <th>Positive</th>\n",
              "      <td>1</td>\n",
              "      <td>1</td>\n",
              "      <td>0.999067</td>\n",
              "    </tr>\n",
              "    <tr>\n",
              "      <th>Social</th>\n",
              "      <th>Neutral</th>\n",
              "      <td>3</td>\n",
              "      <td>3</td>\n",
              "      <td>0.863043</td>\n",
              "    </tr>\n",
              "    <tr>\n",
              "      <th rowspan=\"7\" valign=\"top\">XOM</th>\n",
              "      <th rowspan=\"2\" valign=\"top\">Environmental</th>\n",
              "      <th>Neutral</th>\n",
              "      <td>19</td>\n",
              "      <td>19</td>\n",
              "      <td>0.995695</td>\n",
              "    </tr>\n",
              "    <tr>\n",
              "      <th>Positive</th>\n",
              "      <td>5</td>\n",
              "      <td>5</td>\n",
              "      <td>0.988097</td>\n",
              "    </tr>\n",
              "    <tr>\n",
              "      <th rowspan=\"2\" valign=\"top\">Governance</th>\n",
              "      <th>Neutral</th>\n",
              "      <td>3</td>\n",
              "      <td>3</td>\n",
              "      <td>0.999911</td>\n",
              "    </tr>\n",
              "    <tr>\n",
              "      <th>Positive</th>\n",
              "      <td>1</td>\n",
              "      <td>1</td>\n",
              "      <td>0.999260</td>\n",
              "    </tr>\n",
              "    <tr>\n",
              "      <th rowspan=\"3\" valign=\"top\">Social</th>\n",
              "      <th>Negative</th>\n",
              "      <td>1</td>\n",
              "      <td>1</td>\n",
              "      <td>0.742412</td>\n",
              "    </tr>\n",
              "    <tr>\n",
              "      <th>Neutral</th>\n",
              "      <td>12</td>\n",
              "      <td>12</td>\n",
              "      <td>0.982514</td>\n",
              "    </tr>\n",
              "    <tr>\n",
              "      <th>Positive</th>\n",
              "      <td>3</td>\n",
              "      <td>3</td>\n",
              "      <td>0.939571</td>\n",
              "    </tr>\n",
              "  </tbody>\n",
              "</table>\n",
              "</div>\n",
              "      <button class=\"colab-df-convert\" onclick=\"convertToInteractive('df-eace90a4-5a9d-4b2e-8f9e-1bca3110a8b7')\"\n",
              "              title=\"Convert this dataframe to an interactive table.\"\n",
              "              style=\"display:none;\">\n",
              "        \n",
              "  <svg xmlns=\"http://www.w3.org/2000/svg\" height=\"24px\"viewBox=\"0 0 24 24\"\n",
              "       width=\"24px\">\n",
              "    <path d=\"M0 0h24v24H0V0z\" fill=\"none\"/>\n",
              "    <path d=\"M18.56 5.44l.94 2.06.94-2.06 2.06-.94-2.06-.94-.94-2.06-.94 2.06-2.06.94zm-11 1L8.5 8.5l.94-2.06 2.06-.94-2.06-.94L8.5 2.5l-.94 2.06-2.06.94zm10 10l.94 2.06.94-2.06 2.06-.94-2.06-.94-.94-2.06-.94 2.06-2.06.94z\"/><path d=\"M17.41 7.96l-1.37-1.37c-.4-.4-.92-.59-1.43-.59-.52 0-1.04.2-1.43.59L10.3 9.45l-7.72 7.72c-.78.78-.78 2.05 0 2.83L4 21.41c.39.39.9.59 1.41.59.51 0 1.02-.2 1.41-.59l7.78-7.78 2.81-2.81c.8-.78.8-2.07 0-2.86zM5.41 20L4 18.59l7.72-7.72 1.47 1.35L5.41 20z\"/>\n",
              "  </svg>\n",
              "      </button>\n",
              "      \n",
              "  <style>\n",
              "    .colab-df-container {\n",
              "      display:flex;\n",
              "      flex-wrap:wrap;\n",
              "      gap: 12px;\n",
              "    }\n",
              "\n",
              "    .colab-df-convert {\n",
              "      background-color: #E8F0FE;\n",
              "      border: none;\n",
              "      border-radius: 50%;\n",
              "      cursor: pointer;\n",
              "      display: none;\n",
              "      fill: #1967D2;\n",
              "      height: 32px;\n",
              "      padding: 0 0 0 0;\n",
              "      width: 32px;\n",
              "    }\n",
              "\n",
              "    .colab-df-convert:hover {\n",
              "      background-color: #E2EBFA;\n",
              "      box-shadow: 0px 1px 2px rgba(60, 64, 67, 0.3), 0px 1px 3px 1px rgba(60, 64, 67, 0.15);\n",
              "      fill: #174EA6;\n",
              "    }\n",
              "\n",
              "    [theme=dark] .colab-df-convert {\n",
              "      background-color: #3B4455;\n",
              "      fill: #D2E3FC;\n",
              "    }\n",
              "\n",
              "    [theme=dark] .colab-df-convert:hover {\n",
              "      background-color: #434B5C;\n",
              "      box-shadow: 0px 1px 3px 1px rgba(0, 0, 0, 0.15);\n",
              "      filter: drop-shadow(0px 1px 2px rgba(0, 0, 0, 0.3));\n",
              "      fill: #FFFFFF;\n",
              "    }\n",
              "  </style>\n",
              "\n",
              "      <script>\n",
              "        const buttonEl =\n",
              "          document.querySelector('#df-eace90a4-5a9d-4b2e-8f9e-1bca3110a8b7 button.colab-df-convert');\n",
              "        buttonEl.style.display =\n",
              "          google.colab.kernel.accessAllowed ? 'block' : 'none';\n",
              "\n",
              "        async function convertToInteractive(key) {\n",
              "          const element = document.querySelector('#df-eace90a4-5a9d-4b2e-8f9e-1bca3110a8b7');\n",
              "          const dataTable =\n",
              "            await google.colab.kernel.invokeFunction('convertToInteractive',\n",
              "                                                     [key], {});\n",
              "          if (!dataTable) return;\n",
              "\n",
              "          const docLinkHtml = 'Like what you see? Visit the ' +\n",
              "            '<a target=\"_blank\" href=https://colab.research.google.com/notebooks/data_table.ipynb>data table notebook</a>'\n",
              "            + ' to learn more about interactive tables.';\n",
              "          element.innerHTML = '';\n",
              "          dataTable['output_type'] = 'display_data';\n",
              "          await google.colab.output.renderOutput(dataTable, element);\n",
              "          const docLink = document.createElement('div');\n",
              "          docLink.innerHTML = docLinkHtml;\n",
              "          element.appendChild(docLink);\n",
              "        }\n",
              "      </script>\n",
              "    </div>\n",
              "  </div>\n",
              "  "
            ]
          },
          "metadata": {},
          "execution_count": 498
        }
      ]
    },
    {
      "cell_type": "code",
      "source": [
        "nwESGfinal_score.loc[['COP','XOM']]"
      ],
      "metadata": {
        "colab": {
          "base_uri": "https://localhost:8080/",
          "height": 274
        },
        "id": "zr1KqE22Ea2y",
        "outputId": "8f37bfc3-6c4c-4fe8-d3b1-58baad132355"
      },
      "execution_count": null,
      "outputs": [
        {
          "output_type": "execute_result",
          "data": {
            "text/plain": [
              "                               label_count  senitiment_count   score_s\n",
              "symbol label         label_s                                          \n",
              "COP    Social        Negative            1                 1  0.978692\n",
              "                     Neutral            10                10  0.967055\n",
              "                     Positive            3                 3  0.989896\n",
              "XOM    Environmental Negative            2                 2  0.818651\n",
              "                     Neutral             2                 2  0.960986\n",
              "                     Positive            1                 1  0.999998\n",
              "       Social        Negative            2                 2  0.966253\n",
              "                     Neutral             6                 6  0.996266"
            ],
            "text/html": [
              "\n",
              "  <div id=\"df-a15850ea-4a0a-456c-ae25-9f1bd5191221\">\n",
              "    <div class=\"colab-df-container\">\n",
              "      <div>\n",
              "<style scoped>\n",
              "    .dataframe tbody tr th:only-of-type {\n",
              "        vertical-align: middle;\n",
              "    }\n",
              "\n",
              "    .dataframe tbody tr th {\n",
              "        vertical-align: top;\n",
              "    }\n",
              "\n",
              "    .dataframe thead th {\n",
              "        text-align: right;\n",
              "    }\n",
              "</style>\n",
              "<table border=\"1\" class=\"dataframe\">\n",
              "  <thead>\n",
              "    <tr style=\"text-align: right;\">\n",
              "      <th></th>\n",
              "      <th></th>\n",
              "      <th></th>\n",
              "      <th>label_count</th>\n",
              "      <th>senitiment_count</th>\n",
              "      <th>score_s</th>\n",
              "    </tr>\n",
              "    <tr>\n",
              "      <th>symbol</th>\n",
              "      <th>label</th>\n",
              "      <th>label_s</th>\n",
              "      <th></th>\n",
              "      <th></th>\n",
              "      <th></th>\n",
              "    </tr>\n",
              "  </thead>\n",
              "  <tbody>\n",
              "    <tr>\n",
              "      <th rowspan=\"3\" valign=\"top\">COP</th>\n",
              "      <th rowspan=\"3\" valign=\"top\">Social</th>\n",
              "      <th>Negative</th>\n",
              "      <td>1</td>\n",
              "      <td>1</td>\n",
              "      <td>0.978692</td>\n",
              "    </tr>\n",
              "    <tr>\n",
              "      <th>Neutral</th>\n",
              "      <td>10</td>\n",
              "      <td>10</td>\n",
              "      <td>0.967055</td>\n",
              "    </tr>\n",
              "    <tr>\n",
              "      <th>Positive</th>\n",
              "      <td>3</td>\n",
              "      <td>3</td>\n",
              "      <td>0.989896</td>\n",
              "    </tr>\n",
              "    <tr>\n",
              "      <th rowspan=\"5\" valign=\"top\">XOM</th>\n",
              "      <th rowspan=\"3\" valign=\"top\">Environmental</th>\n",
              "      <th>Negative</th>\n",
              "      <td>2</td>\n",
              "      <td>2</td>\n",
              "      <td>0.818651</td>\n",
              "    </tr>\n",
              "    <tr>\n",
              "      <th>Neutral</th>\n",
              "      <td>2</td>\n",
              "      <td>2</td>\n",
              "      <td>0.960986</td>\n",
              "    </tr>\n",
              "    <tr>\n",
              "      <th>Positive</th>\n",
              "      <td>1</td>\n",
              "      <td>1</td>\n",
              "      <td>0.999998</td>\n",
              "    </tr>\n",
              "    <tr>\n",
              "      <th rowspan=\"2\" valign=\"top\">Social</th>\n",
              "      <th>Negative</th>\n",
              "      <td>2</td>\n",
              "      <td>2</td>\n",
              "      <td>0.966253</td>\n",
              "    </tr>\n",
              "    <tr>\n",
              "      <th>Neutral</th>\n",
              "      <td>6</td>\n",
              "      <td>6</td>\n",
              "      <td>0.996266</td>\n",
              "    </tr>\n",
              "  </tbody>\n",
              "</table>\n",
              "</div>\n",
              "      <button class=\"colab-df-convert\" onclick=\"convertToInteractive('df-a15850ea-4a0a-456c-ae25-9f1bd5191221')\"\n",
              "              title=\"Convert this dataframe to an interactive table.\"\n",
              "              style=\"display:none;\">\n",
              "        \n",
              "  <svg xmlns=\"http://www.w3.org/2000/svg\" height=\"24px\"viewBox=\"0 0 24 24\"\n",
              "       width=\"24px\">\n",
              "    <path d=\"M0 0h24v24H0V0z\" fill=\"none\"/>\n",
              "    <path d=\"M18.56 5.44l.94 2.06.94-2.06 2.06-.94-2.06-.94-.94-2.06-.94 2.06-2.06.94zm-11 1L8.5 8.5l.94-2.06 2.06-.94-2.06-.94L8.5 2.5l-.94 2.06-2.06.94zm10 10l.94 2.06.94-2.06 2.06-.94-2.06-.94-.94-2.06-.94 2.06-2.06.94z\"/><path d=\"M17.41 7.96l-1.37-1.37c-.4-.4-.92-.59-1.43-.59-.52 0-1.04.2-1.43.59L10.3 9.45l-7.72 7.72c-.78.78-.78 2.05 0 2.83L4 21.41c.39.39.9.59 1.41.59.51 0 1.02-.2 1.41-.59l7.78-7.78 2.81-2.81c.8-.78.8-2.07 0-2.86zM5.41 20L4 18.59l7.72-7.72 1.47 1.35L5.41 20z\"/>\n",
              "  </svg>\n",
              "      </button>\n",
              "      \n",
              "  <style>\n",
              "    .colab-df-container {\n",
              "      display:flex;\n",
              "      flex-wrap:wrap;\n",
              "      gap: 12px;\n",
              "    }\n",
              "\n",
              "    .colab-df-convert {\n",
              "      background-color: #E8F0FE;\n",
              "      border: none;\n",
              "      border-radius: 50%;\n",
              "      cursor: pointer;\n",
              "      display: none;\n",
              "      fill: #1967D2;\n",
              "      height: 32px;\n",
              "      padding: 0 0 0 0;\n",
              "      width: 32px;\n",
              "    }\n",
              "\n",
              "    .colab-df-convert:hover {\n",
              "      background-color: #E2EBFA;\n",
              "      box-shadow: 0px 1px 2px rgba(60, 64, 67, 0.3), 0px 1px 3px 1px rgba(60, 64, 67, 0.15);\n",
              "      fill: #174EA6;\n",
              "    }\n",
              "\n",
              "    [theme=dark] .colab-df-convert {\n",
              "      background-color: #3B4455;\n",
              "      fill: #D2E3FC;\n",
              "    }\n",
              "\n",
              "    [theme=dark] .colab-df-convert:hover {\n",
              "      background-color: #434B5C;\n",
              "      box-shadow: 0px 1px 3px 1px rgba(0, 0, 0, 0.15);\n",
              "      filter: drop-shadow(0px 1px 2px rgba(0, 0, 0, 0.3));\n",
              "      fill: #FFFFFF;\n",
              "    }\n",
              "  </style>\n",
              "\n",
              "      <script>\n",
              "        const buttonEl =\n",
              "          document.querySelector('#df-a15850ea-4a0a-456c-ae25-9f1bd5191221 button.colab-df-convert');\n",
              "        buttonEl.style.display =\n",
              "          google.colab.kernel.accessAllowed ? 'block' : 'none';\n",
              "\n",
              "        async function convertToInteractive(key) {\n",
              "          const element = document.querySelector('#df-a15850ea-4a0a-456c-ae25-9f1bd5191221');\n",
              "          const dataTable =\n",
              "            await google.colab.kernel.invokeFunction('convertToInteractive',\n",
              "                                                     [key], {});\n",
              "          if (!dataTable) return;\n",
              "\n",
              "          const docLinkHtml = 'Like what you see? Visit the ' +\n",
              "            '<a target=\"_blank\" href=https://colab.research.google.com/notebooks/data_table.ipynb>data table notebook</a>'\n",
              "            + ' to learn more about interactive tables.';\n",
              "          element.innerHTML = '';\n",
              "          dataTable['output_type'] = 'display_data';\n",
              "          await google.colab.output.renderOutput(dataTable, element);\n",
              "          const docLink = document.createElement('div');\n",
              "          docLink.innerHTML = docLinkHtml;\n",
              "          element.appendChild(docLink);\n",
              "        }\n",
              "      </script>\n",
              "    </div>\n",
              "  </div>\n",
              "  "
            ]
          },
          "metadata": {},
          "execution_count": 499
        }
      ]
    },
    {
      "cell_type": "code",
      "source": [
        "TransESGfinal_score.loc[['XOM']]"
      ],
      "metadata": {
        "colab": {
          "base_uri": "https://localhost:8080/",
          "height": 147
        },
        "id": "boUP6qG1HHQo",
        "outputId": "774e5cf5-9503-47e4-9e3b-ec22aabbd509"
      },
      "execution_count": null,
      "outputs": [
        {
          "output_type": "execute_result",
          "data": {
            "text/plain": [
              "                        label_count  senitiment_count   score_s\n",
              "symbol label  label_s                                          \n",
              "XOM    Social Neutral             1                 1  0.713562\n",
              "              Positive            2                 2  0.997577"
            ],
            "text/html": [
              "\n",
              "  <div id=\"df-dae8e3a8-d187-4bd4-a9e1-fb060e4464c2\">\n",
              "    <div class=\"colab-df-container\">\n",
              "      <div>\n",
              "<style scoped>\n",
              "    .dataframe tbody tr th:only-of-type {\n",
              "        vertical-align: middle;\n",
              "    }\n",
              "\n",
              "    .dataframe tbody tr th {\n",
              "        vertical-align: top;\n",
              "    }\n",
              "\n",
              "    .dataframe thead th {\n",
              "        text-align: right;\n",
              "    }\n",
              "</style>\n",
              "<table border=\"1\" class=\"dataframe\">\n",
              "  <thead>\n",
              "    <tr style=\"text-align: right;\">\n",
              "      <th></th>\n",
              "      <th></th>\n",
              "      <th></th>\n",
              "      <th>label_count</th>\n",
              "      <th>senitiment_count</th>\n",
              "      <th>score_s</th>\n",
              "    </tr>\n",
              "    <tr>\n",
              "      <th>symbol</th>\n",
              "      <th>label</th>\n",
              "      <th>label_s</th>\n",
              "      <th></th>\n",
              "      <th></th>\n",
              "      <th></th>\n",
              "    </tr>\n",
              "  </thead>\n",
              "  <tbody>\n",
              "    <tr>\n",
              "      <th rowspan=\"2\" valign=\"top\">XOM</th>\n",
              "      <th rowspan=\"2\" valign=\"top\">Social</th>\n",
              "      <th>Neutral</th>\n",
              "      <td>1</td>\n",
              "      <td>1</td>\n",
              "      <td>0.713562</td>\n",
              "    </tr>\n",
              "    <tr>\n",
              "      <th>Positive</th>\n",
              "      <td>2</td>\n",
              "      <td>2</td>\n",
              "      <td>0.997577</td>\n",
              "    </tr>\n",
              "  </tbody>\n",
              "</table>\n",
              "</div>\n",
              "      <button class=\"colab-df-convert\" onclick=\"convertToInteractive('df-dae8e3a8-d187-4bd4-a9e1-fb060e4464c2')\"\n",
              "              title=\"Convert this dataframe to an interactive table.\"\n",
              "              style=\"display:none;\">\n",
              "        \n",
              "  <svg xmlns=\"http://www.w3.org/2000/svg\" height=\"24px\"viewBox=\"0 0 24 24\"\n",
              "       width=\"24px\">\n",
              "    <path d=\"M0 0h24v24H0V0z\" fill=\"none\"/>\n",
              "    <path d=\"M18.56 5.44l.94 2.06.94-2.06 2.06-.94-2.06-.94-.94-2.06-.94 2.06-2.06.94zm-11 1L8.5 8.5l.94-2.06 2.06-.94-2.06-.94L8.5 2.5l-.94 2.06-2.06.94zm10 10l.94 2.06.94-2.06 2.06-.94-2.06-.94-.94-2.06-.94 2.06-2.06.94z\"/><path d=\"M17.41 7.96l-1.37-1.37c-.4-.4-.92-.59-1.43-.59-.52 0-1.04.2-1.43.59L10.3 9.45l-7.72 7.72c-.78.78-.78 2.05 0 2.83L4 21.41c.39.39.9.59 1.41.59.51 0 1.02-.2 1.41-.59l7.78-7.78 2.81-2.81c.8-.78.8-2.07 0-2.86zM5.41 20L4 18.59l7.72-7.72 1.47 1.35L5.41 20z\"/>\n",
              "  </svg>\n",
              "      </button>\n",
              "      \n",
              "  <style>\n",
              "    .colab-df-container {\n",
              "      display:flex;\n",
              "      flex-wrap:wrap;\n",
              "      gap: 12px;\n",
              "    }\n",
              "\n",
              "    .colab-df-convert {\n",
              "      background-color: #E8F0FE;\n",
              "      border: none;\n",
              "      border-radius: 50%;\n",
              "      cursor: pointer;\n",
              "      display: none;\n",
              "      fill: #1967D2;\n",
              "      height: 32px;\n",
              "      padding: 0 0 0 0;\n",
              "      width: 32px;\n",
              "    }\n",
              "\n",
              "    .colab-df-convert:hover {\n",
              "      background-color: #E2EBFA;\n",
              "      box-shadow: 0px 1px 2px rgba(60, 64, 67, 0.3), 0px 1px 3px 1px rgba(60, 64, 67, 0.15);\n",
              "      fill: #174EA6;\n",
              "    }\n",
              "\n",
              "    [theme=dark] .colab-df-convert {\n",
              "      background-color: #3B4455;\n",
              "      fill: #D2E3FC;\n",
              "    }\n",
              "\n",
              "    [theme=dark] .colab-df-convert:hover {\n",
              "      background-color: #434B5C;\n",
              "      box-shadow: 0px 1px 3px 1px rgba(0, 0, 0, 0.15);\n",
              "      filter: drop-shadow(0px 1px 2px rgba(0, 0, 0, 0.3));\n",
              "      fill: #FFFFFF;\n",
              "    }\n",
              "  </style>\n",
              "\n",
              "      <script>\n",
              "        const buttonEl =\n",
              "          document.querySelector('#df-dae8e3a8-d187-4bd4-a9e1-fb060e4464c2 button.colab-df-convert');\n",
              "        buttonEl.style.display =\n",
              "          google.colab.kernel.accessAllowed ? 'block' : 'none';\n",
              "\n",
              "        async function convertToInteractive(key) {\n",
              "          const element = document.querySelector('#df-dae8e3a8-d187-4bd4-a9e1-fb060e4464c2');\n",
              "          const dataTable =\n",
              "            await google.colab.kernel.invokeFunction('convertToInteractive',\n",
              "                                                     [key], {});\n",
              "          if (!dataTable) return;\n",
              "\n",
              "          const docLinkHtml = 'Like what you see? Visit the ' +\n",
              "            '<a target=\"_blank\" href=https://colab.research.google.com/notebooks/data_table.ipynb>data table notebook</a>'\n",
              "            + ' to learn more about interactive tables.';\n",
              "          element.innerHTML = '';\n",
              "          dataTable['output_type'] = 'display_data';\n",
              "          await google.colab.output.renderOutput(dataTable, element);\n",
              "          const docLink = document.createElement('div');\n",
              "          docLink.innerHTML = docLinkHtml;\n",
              "          element.appendChild(docLink);\n",
              "        }\n",
              "      </script>\n",
              "    </div>\n",
              "  </div>\n",
              "  "
            ]
          },
          "metadata": {},
          "execution_count": 503
        }
      ]
    }
  ]
}